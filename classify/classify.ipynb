{
 "cells": [
  {
   "cell_type": "code",
   "execution_count": 1,
   "metadata": {
    "collapsed": true
   },
   "outputs": [],
   "source": [
    "import pandas as pd\n",
    "import numpy as np\n",
    "from class_standard import *"
   ]
  },
  {
   "cell_type": "code",
   "execution_count": 2,
   "outputs": [
    {
     "data": {
      "text/plain": "       score\n0   4.009119\n1   4.009119\n2   6.040984\n3   5.206687\n4   5.356557\n..       ...\n75  5.356557\n76  4.495902\n77  5.340164\n78  5.676230\n79  6.594262\n\n[80 rows x 1 columns]",
      "text/html": "<div>\n<style scoped>\n    .dataframe tbody tr th:only-of-type {\n        vertical-align: middle;\n    }\n\n    .dataframe tbody tr th {\n        vertical-align: top;\n    }\n\n    .dataframe thead th {\n        text-align: right;\n    }\n</style>\n<table border=\"1\" class=\"dataframe\">\n  <thead>\n    <tr style=\"text-align: right;\">\n      <th></th>\n      <th>score</th>\n    </tr>\n  </thead>\n  <tbody>\n    <tr>\n      <th>0</th>\n      <td>4.009119</td>\n    </tr>\n    <tr>\n      <th>1</th>\n      <td>4.009119</td>\n    </tr>\n    <tr>\n      <th>2</th>\n      <td>6.040984</td>\n    </tr>\n    <tr>\n      <th>3</th>\n      <td>5.206687</td>\n    </tr>\n    <tr>\n      <th>4</th>\n      <td>5.356557</td>\n    </tr>\n    <tr>\n      <th>...</th>\n      <td>...</td>\n    </tr>\n    <tr>\n      <th>75</th>\n      <td>5.356557</td>\n    </tr>\n    <tr>\n      <th>76</th>\n      <td>4.495902</td>\n    </tr>\n    <tr>\n      <th>77</th>\n      <td>5.340164</td>\n    </tr>\n    <tr>\n      <th>78</th>\n      <td>5.676230</td>\n    </tr>\n    <tr>\n      <th>79</th>\n      <td>6.594262</td>\n    </tr>\n  </tbody>\n</table>\n<p>80 rows × 1 columns</p>\n</div>"
     },
     "execution_count": 2,
     "metadata": {},
     "output_type": "execute_result"
    }
   ],
   "source": [
    "score_path = r'./input/validation/score.csv'\n",
    "score = pd.read_csv(score_path)\n",
    "score"
   ],
   "metadata": {
    "collapsed": false,
    "pycharm": {
     "name": "#%%\n"
    }
   }
  },
  {
   "cell_type": "code",
   "execution_count": 12,
   "outputs": [],
   "source": [
    "category = []\n",
    "for i in range(len(score)):\n",
    "    kind = classify(score.iloc[i].values)\n",
    "    category.append(kind)"
   ],
   "metadata": {
    "collapsed": false,
    "pycharm": {
     "name": "#%%\n"
    }
   }
  },
  {
   "cell_type": "code",
   "execution_count": 13,
   "outputs": [
    {
     "data": {
      "text/plain": "[3,\n 3,\n 1,\n 2,\n 2,\n 2,\n 3,\n 4,\n 3,\n 2,\n 3,\n 4,\n 1,\n 1,\n 3,\n 4,\n 1,\n 3,\n 3,\n 1,\n 1,\n 3,\n 3,\n 1,\n 2,\n 1,\n 4,\n 1,\n 1,\n 4,\n 3,\n 4,\n 4,\n 4,\n 4,\n 2,\n 4,\n 1,\n 1,\n 2,\n 2,\n 4,\n 2,\n 4,\n 3,\n 2,\n 2,\n 4,\n 3,\n 2,\n 2,\n 2,\n 3,\n 2,\n 3,\n 4,\n 4,\n 3,\n 2,\n 2,\n 2,\n 3,\n 3,\n 3,\n 4,\n 2,\n 4,\n 4,\n 3,\n 4,\n 3,\n 3,\n 2,\n 3,\n 2,\n 2,\n 3,\n 2,\n 2,\n 1]"
     },
     "execution_count": 13,
     "metadata": {},
     "output_type": "execute_result"
    }
   ],
   "source": [
    "category"
   ],
   "metadata": {
    "collapsed": false,
    "pycharm": {
     "name": "#%%\n"
    }
   }
  },
  {
   "cell_type": "code",
   "execution_count": 14,
   "outputs": [],
   "source": [
    "score['class'] = category"
   ],
   "metadata": {
    "collapsed": false,
    "pycharm": {
     "name": "#%%\n"
    }
   }
  },
  {
   "cell_type": "code",
   "execution_count": 15,
   "outputs": [
    {
     "data": {
      "text/plain": "       score  class\n0   4.009119      3\n1   4.009119      3\n2   6.040984      1\n3   5.206687      2\n4   5.356557      2\n..       ...    ...\n75  5.356557      2\n76  4.495902      3\n77  5.340164      2\n78  5.676230      2\n79  6.594262      1\n\n[80 rows x 2 columns]",
      "text/html": "<div>\n<style scoped>\n    .dataframe tbody tr th:only-of-type {\n        vertical-align: middle;\n    }\n\n    .dataframe tbody tr th {\n        vertical-align: top;\n    }\n\n    .dataframe thead th {\n        text-align: right;\n    }\n</style>\n<table border=\"1\" class=\"dataframe\">\n  <thead>\n    <tr style=\"text-align: right;\">\n      <th></th>\n      <th>score</th>\n      <th>class</th>\n    </tr>\n  </thead>\n  <tbody>\n    <tr>\n      <th>0</th>\n      <td>4.009119</td>\n      <td>3</td>\n    </tr>\n    <tr>\n      <th>1</th>\n      <td>4.009119</td>\n      <td>3</td>\n    </tr>\n    <tr>\n      <th>2</th>\n      <td>6.040984</td>\n      <td>1</td>\n    </tr>\n    <tr>\n      <th>3</th>\n      <td>5.206687</td>\n      <td>2</td>\n    </tr>\n    <tr>\n      <th>4</th>\n      <td>5.356557</td>\n      <td>2</td>\n    </tr>\n    <tr>\n      <th>...</th>\n      <td>...</td>\n      <td>...</td>\n    </tr>\n    <tr>\n      <th>75</th>\n      <td>5.356557</td>\n      <td>2</td>\n    </tr>\n    <tr>\n      <th>76</th>\n      <td>4.495902</td>\n      <td>3</td>\n    </tr>\n    <tr>\n      <th>77</th>\n      <td>5.340164</td>\n      <td>2</td>\n    </tr>\n    <tr>\n      <th>78</th>\n      <td>5.676230</td>\n      <td>2</td>\n    </tr>\n    <tr>\n      <th>79</th>\n      <td>6.594262</td>\n      <td>1</td>\n    </tr>\n  </tbody>\n</table>\n<p>80 rows × 2 columns</p>\n</div>"
     },
     "execution_count": 15,
     "metadata": {},
     "output_type": "execute_result"
    }
   ],
   "source": [
    "score"
   ],
   "metadata": {
    "collapsed": false,
    "pycharm": {
     "name": "#%%\n"
    }
   }
  },
  {
   "cell_type": "code",
   "execution_count": 16,
   "outputs": [],
   "source": [
    "score.to_csv(r'./output/validation/score_class.csv')"
   ],
   "metadata": {
    "collapsed": false,
    "pycharm": {
     "name": "#%%\n"
    }
   }
  },
  {
   "cell_type": "code",
   "execution_count": null,
   "outputs": [],
   "source": [],
   "metadata": {
    "collapsed": false,
    "pycharm": {
     "name": "#%%\n"
    }
   }
  }
 ],
 "metadata": {
  "kernelspec": {
   "display_name": "Python 3",
   "language": "python",
   "name": "python3"
  },
  "language_info": {
   "codemirror_mode": {
    "name": "ipython",
    "version": 2
   },
   "file_extension": ".py",
   "mimetype": "text/x-python",
   "name": "python",
   "nbconvert_exporter": "python",
   "pygments_lexer": "ipython2",
   "version": "2.7.6"
  }
 },
 "nbformat": 4,
 "nbformat_minor": 0
}
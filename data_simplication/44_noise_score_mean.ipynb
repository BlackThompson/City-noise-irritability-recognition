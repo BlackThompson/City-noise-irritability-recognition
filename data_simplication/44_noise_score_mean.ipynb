{
 "cells": [
  {
   "cell_type": "code",
   "execution_count": 18,
   "metadata": {
    "collapsed": true
   },
   "outputs": [
    {
     "data": {
      "text/plain": "       声音类别  吵闹度\n0        42    4\n1        43    5\n2        20    5\n3        38    4\n4        14    3\n...     ...  ...\n14416    13    5\n14417     9    6\n14418    20    8\n14419    10    5\n14420    12    6\n\n[14421 rows x 2 columns]",
      "text/html": "<div>\n<style scoped>\n    .dataframe tbody tr th:only-of-type {\n        vertical-align: middle;\n    }\n\n    .dataframe tbody tr th {\n        vertical-align: top;\n    }\n\n    .dataframe thead th {\n        text-align: right;\n    }\n</style>\n<table border=\"1\" class=\"dataframe\">\n  <thead>\n    <tr style=\"text-align: right;\">\n      <th></th>\n      <th>声音类别</th>\n      <th>吵闹度</th>\n    </tr>\n  </thead>\n  <tbody>\n    <tr>\n      <th>0</th>\n      <td>42</td>\n      <td>4</td>\n    </tr>\n    <tr>\n      <th>1</th>\n      <td>43</td>\n      <td>5</td>\n    </tr>\n    <tr>\n      <th>2</th>\n      <td>20</td>\n      <td>5</td>\n    </tr>\n    <tr>\n      <th>3</th>\n      <td>38</td>\n      <td>4</td>\n    </tr>\n    <tr>\n      <th>4</th>\n      <td>14</td>\n      <td>3</td>\n    </tr>\n    <tr>\n      <th>...</th>\n      <td>...</td>\n      <td>...</td>\n    </tr>\n    <tr>\n      <th>14416</th>\n      <td>13</td>\n      <td>5</td>\n    </tr>\n    <tr>\n      <th>14417</th>\n      <td>9</td>\n      <td>6</td>\n    </tr>\n    <tr>\n      <th>14418</th>\n      <td>20</td>\n      <td>8</td>\n    </tr>\n    <tr>\n      <th>14419</th>\n      <td>10</td>\n      <td>5</td>\n    </tr>\n    <tr>\n      <th>14420</th>\n      <td>12</td>\n      <td>6</td>\n    </tr>\n  </tbody>\n</table>\n<p>14421 rows × 2 columns</p>\n</div>"
     },
     "execution_count": 18,
     "metadata": {},
     "output_type": "execute_result"
    }
   ],
   "source": [
    "import pandas as pd\n",
    "import numpy as np\n",
    "\n",
    "data_44_path = r'.\\input\\score_44.csv'\n",
    "data_44 = pd.read_csv(data_44_path)\n",
    "use_col = ['声音类别', '吵闹度']\n",
    "data_44_use = data_44[use_col]\n",
    "data_44_use"
   ]
  },
  {
   "cell_type": "code",
   "execution_count": 19,
   "outputs": [
    {
     "data": {
      "text/plain": "array([[42,  4],\n       [43,  5],\n       [20,  5],\n       ...,\n       [20,  8],\n       [10,  5],\n       [12,  6]], dtype=int64)"
     },
     "execution_count": 19,
     "metadata": {},
     "output_type": "execute_result"
    }
   ],
   "source": [
    "# dataframe -> array np.array(df)\n",
    "# array -> dataframe pd.dataframe(array)\n",
    "data_44_array = np.array(data_44_use)\n",
    "data_44_array"
   ],
   "metadata": {
    "collapsed": false,
    "pycharm": {
     "name": "#%%\n"
    }
   }
  },
  {
   "cell_type": "code",
   "execution_count": 20,
   "outputs": [
    {
     "data": {
      "text/plain": "array([[0., 0.],\n       [0., 0.],\n       [0., 0.],\n       [0., 0.],\n       [0., 0.],\n       [0., 0.],\n       [0., 0.],\n       [0., 0.],\n       [0., 0.],\n       [0., 0.],\n       [0., 0.],\n       [0., 0.],\n       [0., 0.],\n       [0., 0.],\n       [0., 0.],\n       [0., 0.],\n       [0., 0.],\n       [0., 0.],\n       [0., 0.],\n       [0., 0.],\n       [0., 0.],\n       [0., 0.],\n       [0., 0.],\n       [0., 0.],\n       [0., 0.],\n       [0., 0.],\n       [0., 0.],\n       [0., 0.],\n       [0., 0.],\n       [0., 0.],\n       [0., 0.],\n       [0., 0.],\n       [0., 0.],\n       [0., 0.],\n       [0., 0.],\n       [0., 0.],\n       [0., 0.],\n       [0., 0.],\n       [0., 0.],\n       [0., 0.],\n       [0., 0.],\n       [0., 0.],\n       [0., 0.],\n       [0., 0.]])"
     },
     "execution_count": 20,
     "metadata": {},
     "output_type": "execute_result"
    }
   ],
   "source": [
    "noise_mean_score = np.zeros((44, 2))\n",
    "noise_mean_score"
   ],
   "metadata": {
    "collapsed": false,
    "pycharm": {
     "name": "#%%\n"
    }
   }
  },
  {
   "cell_type": "code",
   "execution_count": 21,
   "outputs": [
    {
     "data": {
      "text/plain": "array([[ 1.        ,  5.75987842],\n       [ 2.        ,  5.65957447],\n       [ 3.        ,  6.56534954],\n       [ 4.        ,  5.7993921 ],\n       [ 5.        ,  6.07033639],\n       [ 6.        ,  6.03658537],\n       [ 7.        ,  4.52777778],\n       [ 8.        ,  5.81230769],\n       [ 9.        ,  5.27134146],\n       [10.        ,  3.96024465],\n       [11.        ,  5.45288754],\n       [12.        ,  4.97230769],\n       [13.        ,  3.77675841],\n       [14.        ,  3.82874618],\n       [15.        ,  4.96923077],\n       [16.        ,  3.37386018],\n       [17.        ,  4.27217125],\n       [18.        ,  4.52134146],\n       [19.        ,  4.59270517],\n       [20.        ,  4.11419753],\n       [21.        ,  3.3768997 ],\n       [22.        ,  4.63190184],\n       [23.        ,  4.3768997 ],\n       [24.        ,  4.00911854],\n       [25.        ,  5.20183486],\n       [26.        ,  4.36170213],\n       [27.        ,  4.57186544],\n       [28.        ,  4.61398176],\n       [29.        ,  4.3902439 ],\n       [30.        ,  2.60909091],\n       [31.        ,  4.2887538 ],\n       [32.        ,  3.90519878],\n       [33.        ,  3.90769231],\n       [34.        ,  4.38719512],\n       [35.        ,  3.71036585],\n       [36.        ,  3.84802432],\n       [37.        ,  2.76452599],\n       [38.        ,  4.12765957],\n       [39.        ,  4.87116564],\n       [40.        ,  3.99392097],\n       [41.        ,  5.20668693],\n       [42.        ,  2.54103343],\n       [43.        ,  4.09756098],\n       [44.        ,  3.05454545]])"
     },
     "execution_count": 21,
     "metadata": {},
     "output_type": "execute_result"
    }
   ],
   "source": [
    "for i in range(1, 45):\n",
    "    score_sum = 0\n",
    "    people_num = 0\n",
    "    for j in range(len(data_44_array)):\n",
    "        if data_44_array[j, 0] == i:\n",
    "            score_sum += data_44_array[j, 1]\n",
    "            people_num += 1\n",
    "\n",
    "    mean_score = score_sum / people_num\n",
    "    noise_mean_score[i - 1, 0] = int(i)\n",
    "    noise_mean_score[i - 1, 1] = mean_score\n",
    "\n",
    "noise_mean_score"
   ],
   "metadata": {
    "collapsed": false,
    "pycharm": {
     "name": "#%%\n"
    }
   }
  },
  {
   "cell_type": "code",
   "execution_count": 22,
   "outputs": [
    {
     "data": {
      "text/plain": "       0         1\n0    1.0  5.759878\n1    2.0  5.659574\n2    3.0  6.565350\n3    4.0  5.799392\n4    5.0  6.070336\n5    6.0  6.036585\n6    7.0  4.527778\n7    8.0  5.812308\n8    9.0  5.271341\n9   10.0  3.960245\n10  11.0  5.452888\n11  12.0  4.972308\n12  13.0  3.776758\n13  14.0  3.828746\n14  15.0  4.969231\n15  16.0  3.373860\n16  17.0  4.272171\n17  18.0  4.521341\n18  19.0  4.592705\n19  20.0  4.114198\n20  21.0  3.376900\n21  22.0  4.631902\n22  23.0  4.376900\n23  24.0  4.009119\n24  25.0  5.201835\n25  26.0  4.361702\n26  27.0  4.571865\n27  28.0  4.613982\n28  29.0  4.390244\n29  30.0  2.609091\n30  31.0  4.288754\n31  32.0  3.905199\n32  33.0  3.907692\n33  34.0  4.387195\n34  35.0  3.710366\n35  36.0  3.848024\n36  37.0  2.764526\n37  38.0  4.127660\n38  39.0  4.871166\n39  40.0  3.993921\n40  41.0  5.206687\n41  42.0  2.541033\n42  43.0  4.097561\n43  44.0  3.054545",
      "text/html": "<div>\n<style scoped>\n    .dataframe tbody tr th:only-of-type {\n        vertical-align: middle;\n    }\n\n    .dataframe tbody tr th {\n        vertical-align: top;\n    }\n\n    .dataframe thead th {\n        text-align: right;\n    }\n</style>\n<table border=\"1\" class=\"dataframe\">\n  <thead>\n    <tr style=\"text-align: right;\">\n      <th></th>\n      <th>0</th>\n      <th>1</th>\n    </tr>\n  </thead>\n  <tbody>\n    <tr>\n      <th>0</th>\n      <td>1.0</td>\n      <td>5.759878</td>\n    </tr>\n    <tr>\n      <th>1</th>\n      <td>2.0</td>\n      <td>5.659574</td>\n    </tr>\n    <tr>\n      <th>2</th>\n      <td>3.0</td>\n      <td>6.565350</td>\n    </tr>\n    <tr>\n      <th>3</th>\n      <td>4.0</td>\n      <td>5.799392</td>\n    </tr>\n    <tr>\n      <th>4</th>\n      <td>5.0</td>\n      <td>6.070336</td>\n    </tr>\n    <tr>\n      <th>5</th>\n      <td>6.0</td>\n      <td>6.036585</td>\n    </tr>\n    <tr>\n      <th>6</th>\n      <td>7.0</td>\n      <td>4.527778</td>\n    </tr>\n    <tr>\n      <th>7</th>\n      <td>8.0</td>\n      <td>5.812308</td>\n    </tr>\n    <tr>\n      <th>8</th>\n      <td>9.0</td>\n      <td>5.271341</td>\n    </tr>\n    <tr>\n      <th>9</th>\n      <td>10.0</td>\n      <td>3.960245</td>\n    </tr>\n    <tr>\n      <th>10</th>\n      <td>11.0</td>\n      <td>5.452888</td>\n    </tr>\n    <tr>\n      <th>11</th>\n      <td>12.0</td>\n      <td>4.972308</td>\n    </tr>\n    <tr>\n      <th>12</th>\n      <td>13.0</td>\n      <td>3.776758</td>\n    </tr>\n    <tr>\n      <th>13</th>\n      <td>14.0</td>\n      <td>3.828746</td>\n    </tr>\n    <tr>\n      <th>14</th>\n      <td>15.0</td>\n      <td>4.969231</td>\n    </tr>\n    <tr>\n      <th>15</th>\n      <td>16.0</td>\n      <td>3.373860</td>\n    </tr>\n    <tr>\n      <th>16</th>\n      <td>17.0</td>\n      <td>4.272171</td>\n    </tr>\n    <tr>\n      <th>17</th>\n      <td>18.0</td>\n      <td>4.521341</td>\n    </tr>\n    <tr>\n      <th>18</th>\n      <td>19.0</td>\n      <td>4.592705</td>\n    </tr>\n    <tr>\n      <th>19</th>\n      <td>20.0</td>\n      <td>4.114198</td>\n    </tr>\n    <tr>\n      <th>20</th>\n      <td>21.0</td>\n      <td>3.376900</td>\n    </tr>\n    <tr>\n      <th>21</th>\n      <td>22.0</td>\n      <td>4.631902</td>\n    </tr>\n    <tr>\n      <th>22</th>\n      <td>23.0</td>\n      <td>4.376900</td>\n    </tr>\n    <tr>\n      <th>23</th>\n      <td>24.0</td>\n      <td>4.009119</td>\n    </tr>\n    <tr>\n      <th>24</th>\n      <td>25.0</td>\n      <td>5.201835</td>\n    </tr>\n    <tr>\n      <th>25</th>\n      <td>26.0</td>\n      <td>4.361702</td>\n    </tr>\n    <tr>\n      <th>26</th>\n      <td>27.0</td>\n      <td>4.571865</td>\n    </tr>\n    <tr>\n      <th>27</th>\n      <td>28.0</td>\n      <td>4.613982</td>\n    </tr>\n    <tr>\n      <th>28</th>\n      <td>29.0</td>\n      <td>4.390244</td>\n    </tr>\n    <tr>\n      <th>29</th>\n      <td>30.0</td>\n      <td>2.609091</td>\n    </tr>\n    <tr>\n      <th>30</th>\n      <td>31.0</td>\n      <td>4.288754</td>\n    </tr>\n    <tr>\n      <th>31</th>\n      <td>32.0</td>\n      <td>3.905199</td>\n    </tr>\n    <tr>\n      <th>32</th>\n      <td>33.0</td>\n      <td>3.907692</td>\n    </tr>\n    <tr>\n      <th>33</th>\n      <td>34.0</td>\n      <td>4.387195</td>\n    </tr>\n    <tr>\n      <th>34</th>\n      <td>35.0</td>\n      <td>3.710366</td>\n    </tr>\n    <tr>\n      <th>35</th>\n      <td>36.0</td>\n      <td>3.848024</td>\n    </tr>\n    <tr>\n      <th>36</th>\n      <td>37.0</td>\n      <td>2.764526</td>\n    </tr>\n    <tr>\n      <th>37</th>\n      <td>38.0</td>\n      <td>4.127660</td>\n    </tr>\n    <tr>\n      <th>38</th>\n      <td>39.0</td>\n      <td>4.871166</td>\n    </tr>\n    <tr>\n      <th>39</th>\n      <td>40.0</td>\n      <td>3.993921</td>\n    </tr>\n    <tr>\n      <th>40</th>\n      <td>41.0</td>\n      <td>5.206687</td>\n    </tr>\n    <tr>\n      <th>41</th>\n      <td>42.0</td>\n      <td>2.541033</td>\n    </tr>\n    <tr>\n      <th>42</th>\n      <td>43.0</td>\n      <td>4.097561</td>\n    </tr>\n    <tr>\n      <th>43</th>\n      <td>44.0</td>\n      <td>3.054545</td>\n    </tr>\n  </tbody>\n</table>\n</div>"
     },
     "execution_count": 22,
     "metadata": {},
     "output_type": "execute_result"
    }
   ],
   "source": [
    "noise_mean_score = pd.DataFrame(noise_mean_score)\n",
    "noise_mean_score"
   ],
   "metadata": {
    "collapsed": false,
    "pycharm": {
     "name": "#%%\n"
    }
   }
  },
  {
   "cell_type": "code",
   "execution_count": 23,
   "outputs": [
    {
     "data": {
      "text/plain": "    category  noise_score\n0        1.0     5.759878\n1        2.0     5.659574\n2        3.0     6.565350\n3        4.0     5.799392\n4        5.0     6.070336\n5        6.0     6.036585\n6        7.0     4.527778\n7        8.0     5.812308\n8        9.0     5.271341\n9       10.0     3.960245\n10      11.0     5.452888\n11      12.0     4.972308\n12      13.0     3.776758\n13      14.0     3.828746\n14      15.0     4.969231\n15      16.0     3.373860\n16      17.0     4.272171\n17      18.0     4.521341\n18      19.0     4.592705\n19      20.0     4.114198\n20      21.0     3.376900\n21      22.0     4.631902\n22      23.0     4.376900\n23      24.0     4.009119\n24      25.0     5.201835\n25      26.0     4.361702\n26      27.0     4.571865\n27      28.0     4.613982\n28      29.0     4.390244\n29      30.0     2.609091\n30      31.0     4.288754\n31      32.0     3.905199\n32      33.0     3.907692\n33      34.0     4.387195\n34      35.0     3.710366\n35      36.0     3.848024\n36      37.0     2.764526\n37      38.0     4.127660\n38      39.0     4.871166\n39      40.0     3.993921\n40      41.0     5.206687\n41      42.0     2.541033\n42      43.0     4.097561\n43      44.0     3.054545",
      "text/html": "<div>\n<style scoped>\n    .dataframe tbody tr th:only-of-type {\n        vertical-align: middle;\n    }\n\n    .dataframe tbody tr th {\n        vertical-align: top;\n    }\n\n    .dataframe thead th {\n        text-align: right;\n    }\n</style>\n<table border=\"1\" class=\"dataframe\">\n  <thead>\n    <tr style=\"text-align: right;\">\n      <th></th>\n      <th>category</th>\n      <th>noise_score</th>\n    </tr>\n  </thead>\n  <tbody>\n    <tr>\n      <th>0</th>\n      <td>1.0</td>\n      <td>5.759878</td>\n    </tr>\n    <tr>\n      <th>1</th>\n      <td>2.0</td>\n      <td>5.659574</td>\n    </tr>\n    <tr>\n      <th>2</th>\n      <td>3.0</td>\n      <td>6.565350</td>\n    </tr>\n    <tr>\n      <th>3</th>\n      <td>4.0</td>\n      <td>5.799392</td>\n    </tr>\n    <tr>\n      <th>4</th>\n      <td>5.0</td>\n      <td>6.070336</td>\n    </tr>\n    <tr>\n      <th>5</th>\n      <td>6.0</td>\n      <td>6.036585</td>\n    </tr>\n    <tr>\n      <th>6</th>\n      <td>7.0</td>\n      <td>4.527778</td>\n    </tr>\n    <tr>\n      <th>7</th>\n      <td>8.0</td>\n      <td>5.812308</td>\n    </tr>\n    <tr>\n      <th>8</th>\n      <td>9.0</td>\n      <td>5.271341</td>\n    </tr>\n    <tr>\n      <th>9</th>\n      <td>10.0</td>\n      <td>3.960245</td>\n    </tr>\n    <tr>\n      <th>10</th>\n      <td>11.0</td>\n      <td>5.452888</td>\n    </tr>\n    <tr>\n      <th>11</th>\n      <td>12.0</td>\n      <td>4.972308</td>\n    </tr>\n    <tr>\n      <th>12</th>\n      <td>13.0</td>\n      <td>3.776758</td>\n    </tr>\n    <tr>\n      <th>13</th>\n      <td>14.0</td>\n      <td>3.828746</td>\n    </tr>\n    <tr>\n      <th>14</th>\n      <td>15.0</td>\n      <td>4.969231</td>\n    </tr>\n    <tr>\n      <th>15</th>\n      <td>16.0</td>\n      <td>3.373860</td>\n    </tr>\n    <tr>\n      <th>16</th>\n      <td>17.0</td>\n      <td>4.272171</td>\n    </tr>\n    <tr>\n      <th>17</th>\n      <td>18.0</td>\n      <td>4.521341</td>\n    </tr>\n    <tr>\n      <th>18</th>\n      <td>19.0</td>\n      <td>4.592705</td>\n    </tr>\n    <tr>\n      <th>19</th>\n      <td>20.0</td>\n      <td>4.114198</td>\n    </tr>\n    <tr>\n      <th>20</th>\n      <td>21.0</td>\n      <td>3.376900</td>\n    </tr>\n    <tr>\n      <th>21</th>\n      <td>22.0</td>\n      <td>4.631902</td>\n    </tr>\n    <tr>\n      <th>22</th>\n      <td>23.0</td>\n      <td>4.376900</td>\n    </tr>\n    <tr>\n      <th>23</th>\n      <td>24.0</td>\n      <td>4.009119</td>\n    </tr>\n    <tr>\n      <th>24</th>\n      <td>25.0</td>\n      <td>5.201835</td>\n    </tr>\n    <tr>\n      <th>25</th>\n      <td>26.0</td>\n      <td>4.361702</td>\n    </tr>\n    <tr>\n      <th>26</th>\n      <td>27.0</td>\n      <td>4.571865</td>\n    </tr>\n    <tr>\n      <th>27</th>\n      <td>28.0</td>\n      <td>4.613982</td>\n    </tr>\n    <tr>\n      <th>28</th>\n      <td>29.0</td>\n      <td>4.390244</td>\n    </tr>\n    <tr>\n      <th>29</th>\n      <td>30.0</td>\n      <td>2.609091</td>\n    </tr>\n    <tr>\n      <th>30</th>\n      <td>31.0</td>\n      <td>4.288754</td>\n    </tr>\n    <tr>\n      <th>31</th>\n      <td>32.0</td>\n      <td>3.905199</td>\n    </tr>\n    <tr>\n      <th>32</th>\n      <td>33.0</td>\n      <td>3.907692</td>\n    </tr>\n    <tr>\n      <th>33</th>\n      <td>34.0</td>\n      <td>4.387195</td>\n    </tr>\n    <tr>\n      <th>34</th>\n      <td>35.0</td>\n      <td>3.710366</td>\n    </tr>\n    <tr>\n      <th>35</th>\n      <td>36.0</td>\n      <td>3.848024</td>\n    </tr>\n    <tr>\n      <th>36</th>\n      <td>37.0</td>\n      <td>2.764526</td>\n    </tr>\n    <tr>\n      <th>37</th>\n      <td>38.0</td>\n      <td>4.127660</td>\n    </tr>\n    <tr>\n      <th>38</th>\n      <td>39.0</td>\n      <td>4.871166</td>\n    </tr>\n    <tr>\n      <th>39</th>\n      <td>40.0</td>\n      <td>3.993921</td>\n    </tr>\n    <tr>\n      <th>40</th>\n      <td>41.0</td>\n      <td>5.206687</td>\n    </tr>\n    <tr>\n      <th>41</th>\n      <td>42.0</td>\n      <td>2.541033</td>\n    </tr>\n    <tr>\n      <th>42</th>\n      <td>43.0</td>\n      <td>4.097561</td>\n    </tr>\n    <tr>\n      <th>43</th>\n      <td>44.0</td>\n      <td>3.054545</td>\n    </tr>\n  </tbody>\n</table>\n</div>"
     },
     "execution_count": 23,
     "metadata": {},
     "output_type": "execute_result"
    }
   ],
   "source": [
    "noise_mean_score.columns = ['category', 'noise_score']\n",
    "noise_mean_score"
   ],
   "metadata": {
    "collapsed": false,
    "pycharm": {
     "name": "#%%\n"
    }
   }
  },
  {
   "cell_type": "code",
   "execution_count": 24,
   "outputs": [],
   "source": [
    "output_path = r'.\\output\\44_noise_score_mean.csv'\n",
    "noise_mean_score.to_csv(output_path, index=None)"
   ],
   "metadata": {
    "collapsed": false,
    "pycharm": {
     "name": "#%%\n"
    }
   }
  },
  {
   "cell_type": "code",
   "execution_count": null,
   "outputs": [],
   "source": [],
   "metadata": {
    "collapsed": false,
    "pycharm": {
     "name": "#%%\n"
    }
   }
  }
 ],
 "metadata": {
  "kernelspec": {
   "display_name": "Python 3",
   "language": "python",
   "name": "python3"
  },
  "language_info": {
   "codemirror_mode": {
    "name": "ipython",
    "version": 2
   },
   "file_extension": ".py",
   "mimetype": "text/x-python",
   "name": "python",
   "nbconvert_exporter": "python",
   "pygments_lexer": "ipython2",
   "version": "2.7.6"
  }
 },
 "nbformat": 4,
 "nbformat_minor": 0
}
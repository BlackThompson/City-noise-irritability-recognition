{
 "cells": [
  {
   "cell_type": "code",
   "execution_count": 1,
   "metadata": {
    "collapsed": true
   },
   "outputs": [],
   "source": [
    "import pandas as pd\n",
    "import numpy as np\n",
    "\n",
    "path_1 = r'./simplication/feature_birds.csv'\n",
    "path_2 = r'./simplication/feature_birds.csv'\n",
    "path_3 = r'./simplication/feature_birds.csv'"
   ]
  },
  {
   "cell_type": "code",
   "execution_count": 2,
   "outputs": [
    {
     "data": {
      "text/plain": "Index(['Unnamed: 0', 'leq_mean', 'leq_var', 'leq_std', 'leq_max', 'leq_10',\n       'leq_25', 'leq_median', 'leq_75', 'leq_90', 'leq_10_90',\n       'loudness_mean', 'loudness_var', 'loudness_std', 'loudness_max',\n       'loudness_10', 'loudness_25', 'loudness_median', 'loudness_75',\n       'loudness_90', 'loudness_10_90', 'roughness_mean', 'roughness_var',\n       'roughness_std', 'roughness_max', 'roughness_10', 'roughness_25',\n       'roughness_median', 'roughness_75', 'roughness_90', 'roughness_10_90',\n       'sharpness_mean', 'sharpness_var', 'sharpness_std', 'sharpness_max',\n       'sharpness_10', 'sharpness_25', 'sharpness_median', 'sharpness_75',\n       'sharpness_90', 'sharpness_10_90', 'fluct_mean', 'fluct_var',\n       'fluct_std', 'fluct_max', 'fluct_10', 'fluct_25', 'fluct_median',\n       'fluct_75', 'fluct_90', 'fluct_10_90', 'tonality_mean', 'tonality_var',\n       'tonality_std', 'tonality_max', 'tonality_10', 'tonality_25',\n       'tonality_median', 'tonality_75', 'tonality_90', 'tonality_10_90',\n       '声音内容'],\n      dtype='object')"
     },
     "execution_count": 2,
     "metadata": {},
     "output_type": "execute_result"
    }
   ],
   "source": [
    "data = pd.read_csv(path_1)\n",
    "data.columns"
   ],
   "metadata": {
    "collapsed": false,
    "pycharm": {
     "name": "#%%\n"
    }
   }
  },
  {
   "cell_type": "code",
   "execution_count": null,
   "outputs": [],
   "source": [],
   "metadata": {
    "collapsed": false,
    "pycharm": {
     "name": "#%%\n"
    }
   }
  }
 ],
 "metadata": {
  "kernelspec": {
   "display_name": "Python 3",
   "language": "python",
   "name": "python3"
  },
  "language_info": {
   "codemirror_mode": {
    "name": "ipython",
    "version": 2
   },
   "file_extension": ".py",
   "mimetype": "text/x-python",
   "name": "python",
   "nbconvert_exporter": "python",
   "pygments_lexer": "ipython2",
   "version": "2.7.6"
  }
 },
 "nbformat": 4,
 "nbformat_minor": 0
}
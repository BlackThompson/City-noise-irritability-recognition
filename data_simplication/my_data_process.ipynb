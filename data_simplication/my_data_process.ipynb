{
 "cells": [
  {
   "cell_type": "code",
   "execution_count": 1,
   "id": "8395c6e2",
   "metadata": {},
   "outputs": [],
   "source": [
    "import pandas as pd\n",
    "import numpy as np\n",
    "\n",
    "data = pd.read_excel(r'./input/原始数据242.xlsx')"
   ]
  },
  {
   "cell_type": "code",
   "execution_count": 2,
   "id": "6e64c474",
   "metadata": {},
   "outputs": [],
   "source": [
    "list(data)\n",
    "new_columns = ['声音类别', '姓名', '年龄', '职业', '学历', '性别', '最喜欢的声音类别', '最讨厌的声音类别', '心情', '感觉听到的声音类别','吵闹度', '烦躁度', '安静度']"
   ]
  },
  {
   "cell_type": "code",
   "execution_count": 3,
   "id": "44571960",
   "metadata": {},
   "outputs": [
    {
     "data": {
      "text/plain": "['声音类别',\n '姓名',\n '年龄',\n '职业',\n '学历',\n '性别',\n '最喜欢的声音类别',\n '最讨厌的声音类别',\n '心情',\n '感觉听到的声音类别',\n '吵闹度',\n '烦躁度',\n '安静度']"
     },
     "execution_count": 3,
     "metadata": {},
     "output_type": "execute_result"
    }
   ],
   "source": [
    "new_columns"
   ]
  },
  {
   "cell_type": "code",
   "execution_count": 4,
   "id": "ef6723cc",
   "metadata": {},
   "outputs": [
    {
     "ename": "KeyError",
     "evalue": "'5 (鸟鸣虫叫)'",
     "output_type": "error",
     "traceback": [
      "\u001B[1;31m---------------------------------------------------------------------------\u001B[0m",
      "\u001B[1;31mKeyError\u001B[0m                                  Traceback (most recent call last)",
      "File \u001B[1;32mE:\\Python\\Anaconda\\lib\\site-packages\\pandas\\core\\indexes\\base.py:3080\u001B[0m, in \u001B[0;36mIndex.get_loc\u001B[1;34m(self, key, method, tolerance)\u001B[0m\n\u001B[0;32m   3079\u001B[0m \u001B[38;5;28;01mtry\u001B[39;00m:\n\u001B[1;32m-> 3080\u001B[0m     \u001B[38;5;28;01mreturn\u001B[39;00m \u001B[38;5;28;43mself\u001B[39;49m\u001B[38;5;241;43m.\u001B[39;49m\u001B[43m_engine\u001B[49m\u001B[38;5;241;43m.\u001B[39;49m\u001B[43mget_loc\u001B[49m\u001B[43m(\u001B[49m\u001B[43mcasted_key\u001B[49m\u001B[43m)\u001B[49m\n\u001B[0;32m   3081\u001B[0m \u001B[38;5;28;01mexcept\u001B[39;00m \u001B[38;5;167;01mKeyError\u001B[39;00m \u001B[38;5;28;01mas\u001B[39;00m err:\n",
      "File \u001B[1;32mpandas\\_libs\\index.pyx:70\u001B[0m, in \u001B[0;36mpandas._libs.index.IndexEngine.get_loc\u001B[1;34m()\u001B[0m\n",
      "File \u001B[1;32mpandas\\_libs\\index.pyx:101\u001B[0m, in \u001B[0;36mpandas._libs.index.IndexEngine.get_loc\u001B[1;34m()\u001B[0m\n",
      "File \u001B[1;32mpandas\\_libs\\hashtable_class_helper.pxi:4554\u001B[0m, in \u001B[0;36mpandas._libs.hashtable.PyObjectHashTable.get_item\u001B[1;34m()\u001B[0m\n",
      "File \u001B[1;32mpandas\\_libs\\hashtable_class_helper.pxi:4562\u001B[0m, in \u001B[0;36mpandas._libs.hashtable.PyObjectHashTable.get_item\u001B[1;34m()\u001B[0m\n",
      "\u001B[1;31mKeyError\u001B[0m: '5 (鸟鸣虫叫)'",
      "\nThe above exception was the direct cause of the following exception:\n",
      "\u001B[1;31mKeyError\u001B[0m                                  Traceback (most recent call last)",
      "Input \u001B[1;32mIn [4]\u001B[0m, in \u001B[0;36m<cell line: 19>\u001B[1;34m()\u001B[0m\n\u001B[0;32m     19\u001B[0m \u001B[38;5;28;01mfor\u001B[39;00m j \u001B[38;5;129;01min\u001B[39;00m \u001B[38;5;28mrange\u001B[39m(\u001B[38;5;241m0\u001B[39m, \u001B[38;5;28mlen\u001B[39m(like_sound)):\n\u001B[0;32m     20\u001B[0m     num \u001B[38;5;241m=\u001B[39m j \u001B[38;5;241m+\u001B[39m \u001B[38;5;241m1\u001B[39m\n\u001B[1;32m---> 21\u001B[0m     flag \u001B[38;5;241m=\u001B[39m \u001B[43mdata\u001B[49m\u001B[38;5;241;43m.\u001B[39;49m\u001B[43mloc\u001B[49m\u001B[43m[\u001B[49m\u001B[38;5;241;43m0\u001B[39;49m\u001B[43m,\u001B[49m\u001B[43m \u001B[49m\u001B[43mlike_sound\u001B[49m\u001B[43m[\u001B[49m\u001B[43mj\u001B[49m\u001B[43m]\u001B[49m\u001B[43m]\u001B[49m\n\u001B[0;32m     22\u001B[0m     \u001B[38;5;28;01mif\u001B[39;00m (flag \u001B[38;5;241m==\u001B[39m \u001B[38;5;241m1\u001B[39m) \u001B[38;5;241m&\u001B[39m (like_content \u001B[38;5;241m==\u001B[39m \u001B[38;5;124m'\u001B[39m\u001B[38;5;124m'\u001B[39m):\n\u001B[0;32m     23\u001B[0m         like_content \u001B[38;5;241m=\u001B[39m \u001B[38;5;28mstr\u001B[39m(num) \n",
      "File \u001B[1;32mE:\\Python\\Anaconda\\lib\\site-packages\\pandas\\core\\indexing.py:889\u001B[0m, in \u001B[0;36m_LocationIndexer.__getitem__\u001B[1;34m(self, key)\u001B[0m\n\u001B[0;32m    886\u001B[0m         \u001B[38;5;28;01mwith\u001B[39;00m suppress(\u001B[38;5;167;01mKeyError\u001B[39;00m, \u001B[38;5;167;01mIndexError\u001B[39;00m, \u001B[38;5;167;01mAttributeError\u001B[39;00m):\n\u001B[0;32m    887\u001B[0m             \u001B[38;5;66;03m# AttributeError for IntervalTree get_value\u001B[39;00m\n\u001B[0;32m    888\u001B[0m             \u001B[38;5;28;01mreturn\u001B[39;00m \u001B[38;5;28mself\u001B[39m\u001B[38;5;241m.\u001B[39mobj\u001B[38;5;241m.\u001B[39m_get_value(\u001B[38;5;241m*\u001B[39mkey, takeable\u001B[38;5;241m=\u001B[39m\u001B[38;5;28mself\u001B[39m\u001B[38;5;241m.\u001B[39m_takeable)\n\u001B[1;32m--> 889\u001B[0m     \u001B[38;5;28;01mreturn\u001B[39;00m \u001B[38;5;28;43mself\u001B[39;49m\u001B[38;5;241;43m.\u001B[39;49m\u001B[43m_getitem_tuple\u001B[49m\u001B[43m(\u001B[49m\u001B[43mkey\u001B[49m\u001B[43m)\u001B[49m\n\u001B[0;32m    890\u001B[0m \u001B[38;5;28;01melse\u001B[39;00m:\n\u001B[0;32m    891\u001B[0m     \u001B[38;5;66;03m# we by definition only have the 0th axis\u001B[39;00m\n\u001B[0;32m    892\u001B[0m     axis \u001B[38;5;241m=\u001B[39m \u001B[38;5;28mself\u001B[39m\u001B[38;5;241m.\u001B[39maxis \u001B[38;5;129;01mor\u001B[39;00m \u001B[38;5;241m0\u001B[39m\n",
      "File \u001B[1;32mE:\\Python\\Anaconda\\lib\\site-packages\\pandas\\core\\indexing.py:1060\u001B[0m, in \u001B[0;36m_LocIndexer._getitem_tuple\u001B[1;34m(self, tup)\u001B[0m\n\u001B[0;32m   1058\u001B[0m \u001B[38;5;28;01mdef\u001B[39;00m \u001B[38;5;21m_getitem_tuple\u001B[39m(\u001B[38;5;28mself\u001B[39m, tup: Tuple):\n\u001B[0;32m   1059\u001B[0m     \u001B[38;5;28;01mwith\u001B[39;00m suppress(IndexingError):\n\u001B[1;32m-> 1060\u001B[0m         \u001B[38;5;28;01mreturn\u001B[39;00m \u001B[38;5;28;43mself\u001B[39;49m\u001B[38;5;241;43m.\u001B[39;49m\u001B[43m_getitem_lowerdim\u001B[49m\u001B[43m(\u001B[49m\u001B[43mtup\u001B[49m\u001B[43m)\u001B[49m\n\u001B[0;32m   1062\u001B[0m     \u001B[38;5;66;03m# no multi-index, so validate all of the indexers\u001B[39;00m\n\u001B[0;32m   1063\u001B[0m     \u001B[38;5;28mself\u001B[39m\u001B[38;5;241m.\u001B[39m_has_valid_tuple(tup)\n",
      "File \u001B[1;32mE:\\Python\\Anaconda\\lib\\site-packages\\pandas\\core\\indexing.py:831\u001B[0m, in \u001B[0;36m_LocationIndexer._getitem_lowerdim\u001B[1;34m(self, tup)\u001B[0m\n\u001B[0;32m    829\u001B[0m             \u001B[38;5;28;01mreturn\u001B[39;00m section\n\u001B[0;32m    830\u001B[0m         \u001B[38;5;66;03m# This is an elided recursive call to iloc/loc\u001B[39;00m\n\u001B[1;32m--> 831\u001B[0m         \u001B[38;5;28;01mreturn\u001B[39;00m \u001B[38;5;28;43mgetattr\u001B[39;49m\u001B[43m(\u001B[49m\u001B[43msection\u001B[49m\u001B[43m,\u001B[49m\u001B[43m \u001B[49m\u001B[38;5;28;43mself\u001B[39;49m\u001B[38;5;241;43m.\u001B[39;49m\u001B[43mname\u001B[49m\u001B[43m)\u001B[49m\u001B[43m[\u001B[49m\u001B[43mnew_key\u001B[49m\u001B[43m]\u001B[49m\n\u001B[0;32m    833\u001B[0m \u001B[38;5;28;01mraise\u001B[39;00m IndexingError(\u001B[38;5;124m\"\u001B[39m\u001B[38;5;124mnot applicable\u001B[39m\u001B[38;5;124m\"\u001B[39m)\n",
      "File \u001B[1;32mE:\\Python\\Anaconda\\lib\\site-packages\\pandas\\core\\indexing.py:895\u001B[0m, in \u001B[0;36m_LocationIndexer.__getitem__\u001B[1;34m(self, key)\u001B[0m\n\u001B[0;32m    892\u001B[0m axis \u001B[38;5;241m=\u001B[39m \u001B[38;5;28mself\u001B[39m\u001B[38;5;241m.\u001B[39maxis \u001B[38;5;129;01mor\u001B[39;00m \u001B[38;5;241m0\u001B[39m\n\u001B[0;32m    894\u001B[0m maybe_callable \u001B[38;5;241m=\u001B[39m com\u001B[38;5;241m.\u001B[39mapply_if_callable(key, \u001B[38;5;28mself\u001B[39m\u001B[38;5;241m.\u001B[39mobj)\n\u001B[1;32m--> 895\u001B[0m \u001B[38;5;28;01mreturn\u001B[39;00m \u001B[38;5;28;43mself\u001B[39;49m\u001B[38;5;241;43m.\u001B[39;49m\u001B[43m_getitem_axis\u001B[49m\u001B[43m(\u001B[49m\u001B[43mmaybe_callable\u001B[49m\u001B[43m,\u001B[49m\u001B[43m \u001B[49m\u001B[43maxis\u001B[49m\u001B[38;5;241;43m=\u001B[39;49m\u001B[43maxis\u001B[49m\u001B[43m)\u001B[49m\n",
      "File \u001B[1;32mE:\\Python\\Anaconda\\lib\\site-packages\\pandas\\core\\indexing.py:1124\u001B[0m, in \u001B[0;36m_LocIndexer._getitem_axis\u001B[1;34m(self, key, axis)\u001B[0m\n\u001B[0;32m   1122\u001B[0m \u001B[38;5;66;03m# fall thru to straight lookup\u001B[39;00m\n\u001B[0;32m   1123\u001B[0m \u001B[38;5;28mself\u001B[39m\u001B[38;5;241m.\u001B[39m_validate_key(key, axis)\n\u001B[1;32m-> 1124\u001B[0m \u001B[38;5;28;01mreturn\u001B[39;00m \u001B[38;5;28;43mself\u001B[39;49m\u001B[38;5;241;43m.\u001B[39;49m\u001B[43m_get_label\u001B[49m\u001B[43m(\u001B[49m\u001B[43mkey\u001B[49m\u001B[43m,\u001B[49m\u001B[43m \u001B[49m\u001B[43maxis\u001B[49m\u001B[38;5;241;43m=\u001B[39;49m\u001B[43maxis\u001B[49m\u001B[43m)\u001B[49m\n",
      "File \u001B[1;32mE:\\Python\\Anaconda\\lib\\site-packages\\pandas\\core\\indexing.py:1073\u001B[0m, in \u001B[0;36m_LocIndexer._get_label\u001B[1;34m(self, label, axis)\u001B[0m\n\u001B[0;32m   1071\u001B[0m \u001B[38;5;28;01mdef\u001B[39;00m \u001B[38;5;21m_get_label\u001B[39m(\u001B[38;5;28mself\u001B[39m, label, axis: \u001B[38;5;28mint\u001B[39m):\n\u001B[0;32m   1072\u001B[0m     \u001B[38;5;66;03m# GH#5667 this will fail if the label is not present in the axis.\u001B[39;00m\n\u001B[1;32m-> 1073\u001B[0m     \u001B[38;5;28;01mreturn\u001B[39;00m \u001B[38;5;28;43mself\u001B[39;49m\u001B[38;5;241;43m.\u001B[39;49m\u001B[43mobj\u001B[49m\u001B[38;5;241;43m.\u001B[39;49m\u001B[43mxs\u001B[49m\u001B[43m(\u001B[49m\u001B[43mlabel\u001B[49m\u001B[43m,\u001B[49m\u001B[43m \u001B[49m\u001B[43maxis\u001B[49m\u001B[38;5;241;43m=\u001B[39;49m\u001B[43maxis\u001B[49m\u001B[43m)\u001B[49m\n",
      "File \u001B[1;32mE:\\Python\\Anaconda\\lib\\site-packages\\pandas\\core\\generic.py:3739\u001B[0m, in \u001B[0;36mNDFrame.xs\u001B[1;34m(self, key, axis, level, drop_level)\u001B[0m\n\u001B[0;32m   3737\u001B[0m         \u001B[38;5;28;01mraise\u001B[39;00m \u001B[38;5;167;01mTypeError\u001B[39;00m(\u001B[38;5;124mf\u001B[39m\u001B[38;5;124m\"\u001B[39m\u001B[38;5;124mExpected label or tuple of labels, got \u001B[39m\u001B[38;5;132;01m{\u001B[39;00mkey\u001B[38;5;132;01m}\u001B[39;00m\u001B[38;5;124m\"\u001B[39m) \u001B[38;5;28;01mfrom\u001B[39;00m \u001B[38;5;21;01me\u001B[39;00m\n\u001B[0;32m   3738\u001B[0m \u001B[38;5;28;01melse\u001B[39;00m:\n\u001B[1;32m-> 3739\u001B[0m     loc \u001B[38;5;241m=\u001B[39m \u001B[43mindex\u001B[49m\u001B[38;5;241;43m.\u001B[39;49m\u001B[43mget_loc\u001B[49m\u001B[43m(\u001B[49m\u001B[43mkey\u001B[49m\u001B[43m)\u001B[49m\n\u001B[0;32m   3741\u001B[0m     \u001B[38;5;28;01mif\u001B[39;00m \u001B[38;5;28misinstance\u001B[39m(loc, np\u001B[38;5;241m.\u001B[39mndarray):\n\u001B[0;32m   3742\u001B[0m         \u001B[38;5;28;01mif\u001B[39;00m loc\u001B[38;5;241m.\u001B[39mdtype \u001B[38;5;241m==\u001B[39m np\u001B[38;5;241m.\u001B[39mbool_:\n",
      "File \u001B[1;32mE:\\Python\\Anaconda\\lib\\site-packages\\pandas\\core\\indexes\\base.py:3082\u001B[0m, in \u001B[0;36mIndex.get_loc\u001B[1;34m(self, key, method, tolerance)\u001B[0m\n\u001B[0;32m   3080\u001B[0m         \u001B[38;5;28;01mreturn\u001B[39;00m \u001B[38;5;28mself\u001B[39m\u001B[38;5;241m.\u001B[39m_engine\u001B[38;5;241m.\u001B[39mget_loc(casted_key)\n\u001B[0;32m   3081\u001B[0m     \u001B[38;5;28;01mexcept\u001B[39;00m \u001B[38;5;167;01mKeyError\u001B[39;00m \u001B[38;5;28;01mas\u001B[39;00m err:\n\u001B[1;32m-> 3082\u001B[0m         \u001B[38;5;28;01mraise\u001B[39;00m \u001B[38;5;167;01mKeyError\u001B[39;00m(key) \u001B[38;5;28;01mfrom\u001B[39;00m \u001B[38;5;21;01merr\u001B[39;00m\n\u001B[0;32m   3084\u001B[0m \u001B[38;5;28;01mif\u001B[39;00m tolerance \u001B[38;5;129;01mis\u001B[39;00m \u001B[38;5;129;01mnot\u001B[39;00m \u001B[38;5;28;01mNone\u001B[39;00m:\n\u001B[0;32m   3085\u001B[0m     tolerance \u001B[38;5;241m=\u001B[39m \u001B[38;5;28mself\u001B[39m\u001B[38;5;241m.\u001B[39m_convert_tolerance(tolerance, np\u001B[38;5;241m.\u001B[39masarray(key))\n",
      "\u001B[1;31mKeyError\u001B[0m: '5 (鸟鸣虫叫)'"
     ]
    }
   ],
   "source": [
    "# test\n",
    "\n",
    "num_person = data.shape[0]\n",
    "num_person\n",
    "\n",
    "like_content = ''\n",
    "dislike_content = ''\n",
    "\n",
    "\n",
    "like_sound = ['5 (鸟鸣虫叫)', '5 (海浪流水)', '5 (风雨)', \n",
    "              '5 (生活、运动、交谈)', '5 (汽车声)', '5 (室外广播音乐)',\n",
    "              '5 (机器施工声)', '5 (其他)']\n",
    "\n",
    "dislike_sound = ['6 (鸟鸣虫叫)', '6 (海浪流水)', '6 (风雨)', \n",
    "              '6 (生活、运动、交谈)', '6 (汽车声)', '6 (室外广播音乐)',\n",
    "              '6 (机器施工声)', '6 (其他)']\n",
    "\n",
    "\n",
    "for j in range(0, len(like_sound)):\n",
    "    num = j + 1\n",
    "    flag = data.loc[0, like_sound[j]]\n",
    "    if (flag == 1) & (like_content == ''):\n",
    "        like_content = str(num) \n",
    "    elif (flag == 1) & (like_content != ''):\n",
    "        like_content = like_content + ',' + str(num)\n",
    "        \n",
    "for j in range(0, len(dislike_sound)):\n",
    "    num = j + 1\n",
    "    flag = data.loc[0, dislike_sound[j]]\n",
    "    if (flag == 1) & (dislike_content == ''):\n",
    "        dislike_content = str(num) \n",
    "    elif (flag == 1) & (dislike_content != ''):\n",
    "        dislike_content = dislike_content + ',' + str(num)\n",
    "\n",
    "test = data.iloc[:, 28:]\n",
    "test.drop(test.columns[[-1,]], axis=1, inplace=True)\n",
    "\n",
    "test_list = list(test)\n",
    "len(test_list)\n",
    "    \n",
    "# data.loc[0, '您的姓名：']\n",
    "# data.loc[0, '1. 您的年龄']"
   ]
  },
  {
   "cell_type": "code",
   "execution_count": null,
   "id": "752ba742",
   "metadata": {},
   "outputs": [],
   "source": [
    "# test_list\n",
    "\n",
    "# sound_processing = test.iloc[0, ((1 - 1) * 12): 1 * 12]\n",
    "# len(sound_processing)\n",
    "\n",
    "# listen_content = ''\n",
    "\n",
    "# for j in range(0, 9):\n",
    "#     num = j + 1\n",
    "#     flag = sound_processing[j]\n",
    "#     if (flag == 1) & (listen_content == ''):\n",
    "#         listen_content = str(num) \n",
    "#     elif (flag == 1) & (listen_content != ''):\n",
    "#         listen_content = listen_content + ',' + str(num)     \n",
    "\n",
    "# processed_data = pd.DataFrame(columns=new_columns)\n",
    "# processed_data\n",
    "\n",
    "# a = [1, 1, 1, 1, 1, 1, 1, 1, 1, 2, 1, 2, 'aaa' ]\n",
    "\n",
    "# processed_data.loc[len(processed_data)] = a\n",
    "# processed_data"
   ]
  },
  {
   "cell_type": "code",
   "execution_count": null,
   "id": "b59ba4db",
   "metadata": {},
   "outputs": [],
   "source": [
    "processed_data = pd.DataFrame(columns=new_columns)\n",
    "\n",
    "for i in range(0, num_person):    \n",
    "    like_content = ''\n",
    "    dislike_content = ''\n",
    "\n",
    "    name = data.loc[i, '您的姓名：']\n",
    "    age = data.loc[i, '1. 您的年龄']\n",
    "    job = data.loc[i, '2.您的职业']\n",
    "    edu = data.loc[i, '3.您的学历']\n",
    "    gender = data.loc[i, '4.您的性别']\n",
    "    mood = data.loc[i, '7.您的心情如何？']\n",
    "    \n",
    "    for j in range(0, len(like_sound)):\n",
    "        num = j + 1\n",
    "        flag = data.loc[i, like_sound[j]]\n",
    "        if (flag == 1) & (like_content == ''):\n",
    "            like_content = str(num) \n",
    "        elif (flag == 1) & (like_content != ''):\n",
    "            like_content = like_content + ',' + str(num)\n",
    "            \n",
    "    for j in range(0, len(dislike_sound)):\n",
    "        num = j + 1\n",
    "        flag = data.loc[i, dislike_sound[j]]\n",
    "        if (flag == 1) & (dislike_content == ''):\n",
    "            dislike_content = str(num) \n",
    "        elif (flag == 1) & (dislike_content != ''):\n",
    "            dislike_content = dislike_content + ',' + str(num)\n",
    "    \n",
    "    for k in range(1, 84):\n",
    "        listen_content = ''\n",
    "        \n",
    "        # sound_category = (k // 12) + 1\n",
    "        sound_category = k\n",
    "        \n",
    "        sound_processing = test.iloc[i, ((k - 1) * 12): k * 12]       \n",
    "                \n",
    "        for j in range(0, 9):\n",
    "            num = j + 1\n",
    "            flag = sound_processing[j]\n",
    "            if (flag == 1) & (listen_content == ''):\n",
    "                listen_content = str(num) \n",
    "            elif (flag == 1) & (listen_content != ''):\n",
    "                listen_content = listen_content + ',' + str(num)\n",
    "        # 吵闹度\n",
    "        noise = sound_processing[9]\n",
    "        # 烦躁度\n",
    "        anl = sound_processing[10]\n",
    "        # 安静度\n",
    "        quiet = sound_processing[11]\n",
    "        # new_columns = ['声音类别', '姓名', '年龄', '职业', '学历', '性别', \n",
    "        # '最喜欢的声音类别', '最讨厌的声音类别', '心情', '感觉听到的声音类别','吵闹度', '烦躁度', '安静度']\n",
    "        temp = [sound_category, name, age, job, edu, gender, like_content, dislike_content,\n",
    "                mood, listen_content, noise, anl, quiet]\n",
    "        \n",
    "        processed_data.loc[len(processed_data)] = temp"
   ]
  },
  {
   "cell_type": "code",
   "execution_count": null,
   "id": "f8435479",
   "metadata": {},
   "outputs": [],
   "source": [
    "processed_data"
   ]
  },
  {
   "cell_type": "code",
   "execution_count": null,
   "id": "b9f0ff1f",
   "metadata": {},
   "outputs": [],
   "source": [
    "writer = pd.ExcelWriter(r'./output/处理后数据242_完整版.xlsx')\n",
    "processed_data.to_excel(writer)\n",
    "writer.save()\n",
    "writer.close()"
   ]
  },
  {
   "cell_type": "code",
   "execution_count": null,
   "id": "a2bfb411",
   "metadata": {},
   "outputs": [],
   "source": []
  }
 ],
 "metadata": {
  "kernelspec": {
   "display_name": "Python 3 (ipykernel)",
   "language": "python",
   "name": "python3"
  },
  "language_info": {
   "codemirror_mode": {
    "name": "ipython",
    "version": 3
   },
   "file_extension": ".py",
   "mimetype": "text/x-python",
   "name": "python",
   "nbconvert_exporter": "python",
   "pygments_lexer": "ipython3",
   "version": "3.9.12"
  },
  "vscode": {
   "interpreter": {
    "hash": "cf8b08f5ab85e7c0fc5d10dd2633a4d50f51dec650140fc8f8406da16eba4529"
   }
  }
 },
 "nbformat": 4,
 "nbformat_minor": 5
}
{
 "cells": [
  {
   "cell_type": "code",
   "execution_count": 1,
   "metadata": {
    "collapsed": true
   },
   "outputs": [
    {
     "data": {
      "text/plain": "       Unnamed: 0  声音类别   姓名  年龄  职业  学历  性别 最喜欢的声音类别 最讨厌的声音类别  心情 感觉听到的声音类别  \\\n0               0     1  丁珂渴   3   1   3   2      1,2        7   3       2,4   \n1               1     2  丁珂渴   3   1   3   2      1,2        7   3       1,8   \n2               2     3  丁珂渴   3   1   3   2      1,2        7   3       5,7   \n3               3     4  丁珂渴   3   1   3   2      1,2        7   3       5,6   \n4               4     5  丁珂渴   3   1   3   2      1,2        7   3       1,5   \n...           ...   ...  ...  ..  ..  ..  ..      ...      ...  ..       ...   \n20247       20247    79   徐勇   6   4   3   1      1,3        7   3       1,8   \n20248       20248    80   徐勇   6   4   3   1      1,3        7   3       1,2   \n20249       20249    81   徐勇   6   4   3   1      1,3        7   3         8   \n20250       20250    82   徐勇   6   4   3   1      1,3        7   3     2,7,8   \n20251       20251    83   徐勇   6   4   3   1      1,3        7   3       2,8   \n\n       吵闹度  烦躁度  安静度  \n0        4    4    4  \n1        4    4    4  \n2        4    4    4  \n3        5    5    5  \n4        6    6    6  \n...    ...  ...  ...  \n20247    4    4    3  \n20248    6    7    7  \n20249    4    3    4  \n20250    3    3    3  \n20251    5    5    5  \n\n[20252 rows x 14 columns]",
      "text/html": "<div>\n<style scoped>\n    .dataframe tbody tr th:only-of-type {\n        vertical-align: middle;\n    }\n\n    .dataframe tbody tr th {\n        vertical-align: top;\n    }\n\n    .dataframe thead th {\n        text-align: right;\n    }\n</style>\n<table border=\"1\" class=\"dataframe\">\n  <thead>\n    <tr style=\"text-align: right;\">\n      <th></th>\n      <th>Unnamed: 0</th>\n      <th>声音类别</th>\n      <th>姓名</th>\n      <th>年龄</th>\n      <th>职业</th>\n      <th>学历</th>\n      <th>性别</th>\n      <th>最喜欢的声音类别</th>\n      <th>最讨厌的声音类别</th>\n      <th>心情</th>\n      <th>感觉听到的声音类别</th>\n      <th>吵闹度</th>\n      <th>烦躁度</th>\n      <th>安静度</th>\n    </tr>\n  </thead>\n  <tbody>\n    <tr>\n      <th>0</th>\n      <td>0</td>\n      <td>1</td>\n      <td>丁珂渴</td>\n      <td>3</td>\n      <td>1</td>\n      <td>3</td>\n      <td>2</td>\n      <td>1,2</td>\n      <td>7</td>\n      <td>3</td>\n      <td>2,4</td>\n      <td>4</td>\n      <td>4</td>\n      <td>4</td>\n    </tr>\n    <tr>\n      <th>1</th>\n      <td>1</td>\n      <td>2</td>\n      <td>丁珂渴</td>\n      <td>3</td>\n      <td>1</td>\n      <td>3</td>\n      <td>2</td>\n      <td>1,2</td>\n      <td>7</td>\n      <td>3</td>\n      <td>1,8</td>\n      <td>4</td>\n      <td>4</td>\n      <td>4</td>\n    </tr>\n    <tr>\n      <th>2</th>\n      <td>2</td>\n      <td>3</td>\n      <td>丁珂渴</td>\n      <td>3</td>\n      <td>1</td>\n      <td>3</td>\n      <td>2</td>\n      <td>1,2</td>\n      <td>7</td>\n      <td>3</td>\n      <td>5,7</td>\n      <td>4</td>\n      <td>4</td>\n      <td>4</td>\n    </tr>\n    <tr>\n      <th>3</th>\n      <td>3</td>\n      <td>4</td>\n      <td>丁珂渴</td>\n      <td>3</td>\n      <td>1</td>\n      <td>3</td>\n      <td>2</td>\n      <td>1,2</td>\n      <td>7</td>\n      <td>3</td>\n      <td>5,6</td>\n      <td>5</td>\n      <td>5</td>\n      <td>5</td>\n    </tr>\n    <tr>\n      <th>4</th>\n      <td>4</td>\n      <td>5</td>\n      <td>丁珂渴</td>\n      <td>3</td>\n      <td>1</td>\n      <td>3</td>\n      <td>2</td>\n      <td>1,2</td>\n      <td>7</td>\n      <td>3</td>\n      <td>1,5</td>\n      <td>6</td>\n      <td>6</td>\n      <td>6</td>\n    </tr>\n    <tr>\n      <th>...</th>\n      <td>...</td>\n      <td>...</td>\n      <td>...</td>\n      <td>...</td>\n      <td>...</td>\n      <td>...</td>\n      <td>...</td>\n      <td>...</td>\n      <td>...</td>\n      <td>...</td>\n      <td>...</td>\n      <td>...</td>\n      <td>...</td>\n      <td>...</td>\n    </tr>\n    <tr>\n      <th>20247</th>\n      <td>20247</td>\n      <td>79</td>\n      <td>徐勇</td>\n      <td>6</td>\n      <td>4</td>\n      <td>3</td>\n      <td>1</td>\n      <td>1,3</td>\n      <td>7</td>\n      <td>3</td>\n      <td>1,8</td>\n      <td>4</td>\n      <td>4</td>\n      <td>3</td>\n    </tr>\n    <tr>\n      <th>20248</th>\n      <td>20248</td>\n      <td>80</td>\n      <td>徐勇</td>\n      <td>6</td>\n      <td>4</td>\n      <td>3</td>\n      <td>1</td>\n      <td>1,3</td>\n      <td>7</td>\n      <td>3</td>\n      <td>1,2</td>\n      <td>6</td>\n      <td>7</td>\n      <td>7</td>\n    </tr>\n    <tr>\n      <th>20249</th>\n      <td>20249</td>\n      <td>81</td>\n      <td>徐勇</td>\n      <td>6</td>\n      <td>4</td>\n      <td>3</td>\n      <td>1</td>\n      <td>1,3</td>\n      <td>7</td>\n      <td>3</td>\n      <td>8</td>\n      <td>4</td>\n      <td>3</td>\n      <td>4</td>\n    </tr>\n    <tr>\n      <th>20250</th>\n      <td>20250</td>\n      <td>82</td>\n      <td>徐勇</td>\n      <td>6</td>\n      <td>4</td>\n      <td>3</td>\n      <td>1</td>\n      <td>1,3</td>\n      <td>7</td>\n      <td>3</td>\n      <td>2,7,8</td>\n      <td>3</td>\n      <td>3</td>\n      <td>3</td>\n    </tr>\n    <tr>\n      <th>20251</th>\n      <td>20251</td>\n      <td>83</td>\n      <td>徐勇</td>\n      <td>6</td>\n      <td>4</td>\n      <td>3</td>\n      <td>1</td>\n      <td>1,3</td>\n      <td>7</td>\n      <td>3</td>\n      <td>2,8</td>\n      <td>5</td>\n      <td>5</td>\n      <td>5</td>\n    </tr>\n  </tbody>\n</table>\n<p>20252 rows × 14 columns</p>\n</div>"
     },
     "execution_count": 1,
     "metadata": {},
     "output_type": "execute_result"
    }
   ],
   "source": [
    "import pandas as pd\n",
    "import numpy as np\n",
    "\n",
    "score_83 = pd.read_csv(r'./input/score_83.csv',encoding='utf-8')\n",
    "feature_83 = pd.read_csv(r'./input/feature_83.csv',encoding='utf-8')\n",
    "\n",
    "score_83"
   ]
  },
  {
   "cell_type": "code",
   "execution_count": 2,
   "outputs": [],
   "source": [
    "# on 指定表的主键\n",
    "all_data_83 = pd.merge(score_83, feature_83, on='声音类别')"
   ],
   "metadata": {
    "collapsed": false,
    "pycharm": {
     "name": "#%%\n"
    }
   }
  },
  {
   "cell_type": "code",
   "execution_count": 3,
   "outputs": [
    {
     "data": {
      "text/plain": "       Unnamed: 0_x  声音类别   姓名  年龄  职业  学历  性别 最喜欢的声音类别 最讨厌的声音类别  心情  ...  \\\n0                 0     1  丁珂渴   3   1   3   2      1,2        7   3  ...   \n1                83     1  门红邑   3   1   3   2      2,3      4,6   4  ...   \n2               166     1  段佳慧   3   1   2   2      1,2      5,7   4  ...   \n3               249     1   杨凡   3   1   3   1        2      5,7   3  ...   \n4               332     1  刘瑞萌   3   1   3   2      2,3      5,7   4  ...   \n...             ...   ...  ...  ..  ..  ..  ..      ...      ...  ..  ...   \n20247         19919    83   赵超   3   3   3   1        4        1   3  ...   \n20248         20002    83   危奎   6   3   2   1      2,3      5,7   4  ...   \n20249         20085    83  李跃飞   3   3   2   1        1        5   5  ...   \n20250         20168    83   温婷   5   4   3   2      2,3      5,7   4  ...   \n20251         20251    83   徐勇   6   4   3   1      1,3        7   3  ...   \n\n      tonality_mean  tonality_var  tonality_std  tonality_max  tonality_10  \\\n0           0.05675       0.00173       0.04170       0.18551          0.0   \n1           0.05675       0.00173       0.04170       0.18551          0.0   \n2           0.05675       0.00173       0.04170       0.18551          0.0   \n3           0.05675       0.00173       0.04170       0.18551          0.0   \n4           0.05675       0.00173       0.04170       0.18551          0.0   \n...             ...           ...           ...           ...          ...   \n20247       0.02446       0.00070       0.02661       0.11094          0.0   \n20248       0.02446       0.00070       0.02661       0.11094          0.0   \n20249       0.02446       0.00070       0.02661       0.11094          0.0   \n20250       0.02446       0.00070       0.02661       0.11094          0.0   \n20251       0.02446       0.00070       0.02661       0.11094          0.0   \n\n       tonality_25  tonality_median  tonality_75  tonality_90  tonality_10_90  \n0          0.02823          0.05316      0.08016      0.11041         0.11041  \n1          0.02823          0.05316      0.08016      0.11041         0.11041  \n2          0.02823          0.05316      0.08016      0.11041         0.11041  \n3          0.02823          0.05316      0.08016      0.11041         0.11041  \n4          0.02823          0.05316      0.08016      0.11041         0.11041  \n...            ...              ...          ...          ...             ...  \n20247      0.00000          0.02622      0.04394      0.05603         0.05603  \n20248      0.00000          0.02622      0.04394      0.05603         0.05603  \n20249      0.00000          0.02622      0.04394      0.05603         0.05603  \n20250      0.00000          0.02622      0.04394      0.05603         0.05603  \n20251      0.00000          0.02622      0.04394      0.05603         0.05603  \n\n[20252 rows x 75 columns]",
      "text/html": "<div>\n<style scoped>\n    .dataframe tbody tr th:only-of-type {\n        vertical-align: middle;\n    }\n\n    .dataframe tbody tr th {\n        vertical-align: top;\n    }\n\n    .dataframe thead th {\n        text-align: right;\n    }\n</style>\n<table border=\"1\" class=\"dataframe\">\n  <thead>\n    <tr style=\"text-align: right;\">\n      <th></th>\n      <th>Unnamed: 0_x</th>\n      <th>声音类别</th>\n      <th>姓名</th>\n      <th>年龄</th>\n      <th>职业</th>\n      <th>学历</th>\n      <th>性别</th>\n      <th>最喜欢的声音类别</th>\n      <th>最讨厌的声音类别</th>\n      <th>心情</th>\n      <th>...</th>\n      <th>tonality_mean</th>\n      <th>tonality_var</th>\n      <th>tonality_std</th>\n      <th>tonality_max</th>\n      <th>tonality_10</th>\n      <th>tonality_25</th>\n      <th>tonality_median</th>\n      <th>tonality_75</th>\n      <th>tonality_90</th>\n      <th>tonality_10_90</th>\n    </tr>\n  </thead>\n  <tbody>\n    <tr>\n      <th>0</th>\n      <td>0</td>\n      <td>1</td>\n      <td>丁珂渴</td>\n      <td>3</td>\n      <td>1</td>\n      <td>3</td>\n      <td>2</td>\n      <td>1,2</td>\n      <td>7</td>\n      <td>3</td>\n      <td>...</td>\n      <td>0.05675</td>\n      <td>0.00173</td>\n      <td>0.04170</td>\n      <td>0.18551</td>\n      <td>0.0</td>\n      <td>0.02823</td>\n      <td>0.05316</td>\n      <td>0.08016</td>\n      <td>0.11041</td>\n      <td>0.11041</td>\n    </tr>\n    <tr>\n      <th>1</th>\n      <td>83</td>\n      <td>1</td>\n      <td>门红邑</td>\n      <td>3</td>\n      <td>1</td>\n      <td>3</td>\n      <td>2</td>\n      <td>2,3</td>\n      <td>4,6</td>\n      <td>4</td>\n      <td>...</td>\n      <td>0.05675</td>\n      <td>0.00173</td>\n      <td>0.04170</td>\n      <td>0.18551</td>\n      <td>0.0</td>\n      <td>0.02823</td>\n      <td>0.05316</td>\n      <td>0.08016</td>\n      <td>0.11041</td>\n      <td>0.11041</td>\n    </tr>\n    <tr>\n      <th>2</th>\n      <td>166</td>\n      <td>1</td>\n      <td>段佳慧</td>\n      <td>3</td>\n      <td>1</td>\n      <td>2</td>\n      <td>2</td>\n      <td>1,2</td>\n      <td>5,7</td>\n      <td>4</td>\n      <td>...</td>\n      <td>0.05675</td>\n      <td>0.00173</td>\n      <td>0.04170</td>\n      <td>0.18551</td>\n      <td>0.0</td>\n      <td>0.02823</td>\n      <td>0.05316</td>\n      <td>0.08016</td>\n      <td>0.11041</td>\n      <td>0.11041</td>\n    </tr>\n    <tr>\n      <th>3</th>\n      <td>249</td>\n      <td>1</td>\n      <td>杨凡</td>\n      <td>3</td>\n      <td>1</td>\n      <td>3</td>\n      <td>1</td>\n      <td>2</td>\n      <td>5,7</td>\n      <td>3</td>\n      <td>...</td>\n      <td>0.05675</td>\n      <td>0.00173</td>\n      <td>0.04170</td>\n      <td>0.18551</td>\n      <td>0.0</td>\n      <td>0.02823</td>\n      <td>0.05316</td>\n      <td>0.08016</td>\n      <td>0.11041</td>\n      <td>0.11041</td>\n    </tr>\n    <tr>\n      <th>4</th>\n      <td>332</td>\n      <td>1</td>\n      <td>刘瑞萌</td>\n      <td>3</td>\n      <td>1</td>\n      <td>3</td>\n      <td>2</td>\n      <td>2,3</td>\n      <td>5,7</td>\n      <td>4</td>\n      <td>...</td>\n      <td>0.05675</td>\n      <td>0.00173</td>\n      <td>0.04170</td>\n      <td>0.18551</td>\n      <td>0.0</td>\n      <td>0.02823</td>\n      <td>0.05316</td>\n      <td>0.08016</td>\n      <td>0.11041</td>\n      <td>0.11041</td>\n    </tr>\n    <tr>\n      <th>...</th>\n      <td>...</td>\n      <td>...</td>\n      <td>...</td>\n      <td>...</td>\n      <td>...</td>\n      <td>...</td>\n      <td>...</td>\n      <td>...</td>\n      <td>...</td>\n      <td>...</td>\n      <td>...</td>\n      <td>...</td>\n      <td>...</td>\n      <td>...</td>\n      <td>...</td>\n      <td>...</td>\n      <td>...</td>\n      <td>...</td>\n      <td>...</td>\n      <td>...</td>\n      <td>...</td>\n    </tr>\n    <tr>\n      <th>20247</th>\n      <td>19919</td>\n      <td>83</td>\n      <td>赵超</td>\n      <td>3</td>\n      <td>3</td>\n      <td>3</td>\n      <td>1</td>\n      <td>4</td>\n      <td>1</td>\n      <td>3</td>\n      <td>...</td>\n      <td>0.02446</td>\n      <td>0.00070</td>\n      <td>0.02661</td>\n      <td>0.11094</td>\n      <td>0.0</td>\n      <td>0.00000</td>\n      <td>0.02622</td>\n      <td>0.04394</td>\n      <td>0.05603</td>\n      <td>0.05603</td>\n    </tr>\n    <tr>\n      <th>20248</th>\n      <td>20002</td>\n      <td>83</td>\n      <td>危奎</td>\n      <td>6</td>\n      <td>3</td>\n      <td>2</td>\n      <td>1</td>\n      <td>2,3</td>\n      <td>5,7</td>\n      <td>4</td>\n      <td>...</td>\n      <td>0.02446</td>\n      <td>0.00070</td>\n      <td>0.02661</td>\n      <td>0.11094</td>\n      <td>0.0</td>\n      <td>0.00000</td>\n      <td>0.02622</td>\n      <td>0.04394</td>\n      <td>0.05603</td>\n      <td>0.05603</td>\n    </tr>\n    <tr>\n      <th>20249</th>\n      <td>20085</td>\n      <td>83</td>\n      <td>李跃飞</td>\n      <td>3</td>\n      <td>3</td>\n      <td>2</td>\n      <td>1</td>\n      <td>1</td>\n      <td>5</td>\n      <td>5</td>\n      <td>...</td>\n      <td>0.02446</td>\n      <td>0.00070</td>\n      <td>0.02661</td>\n      <td>0.11094</td>\n      <td>0.0</td>\n      <td>0.00000</td>\n      <td>0.02622</td>\n      <td>0.04394</td>\n      <td>0.05603</td>\n      <td>0.05603</td>\n    </tr>\n    <tr>\n      <th>20250</th>\n      <td>20168</td>\n      <td>83</td>\n      <td>温婷</td>\n      <td>5</td>\n      <td>4</td>\n      <td>3</td>\n      <td>2</td>\n      <td>2,3</td>\n      <td>5,7</td>\n      <td>4</td>\n      <td>...</td>\n      <td>0.02446</td>\n      <td>0.00070</td>\n      <td>0.02661</td>\n      <td>0.11094</td>\n      <td>0.0</td>\n      <td>0.00000</td>\n      <td>0.02622</td>\n      <td>0.04394</td>\n      <td>0.05603</td>\n      <td>0.05603</td>\n    </tr>\n    <tr>\n      <th>20251</th>\n      <td>20251</td>\n      <td>83</td>\n      <td>徐勇</td>\n      <td>6</td>\n      <td>4</td>\n      <td>3</td>\n      <td>1</td>\n      <td>1,3</td>\n      <td>7</td>\n      <td>3</td>\n      <td>...</td>\n      <td>0.02446</td>\n      <td>0.00070</td>\n      <td>0.02661</td>\n      <td>0.11094</td>\n      <td>0.0</td>\n      <td>0.00000</td>\n      <td>0.02622</td>\n      <td>0.04394</td>\n      <td>0.05603</td>\n      <td>0.05603</td>\n    </tr>\n  </tbody>\n</table>\n<p>20252 rows × 75 columns</p>\n</div>"
     },
     "execution_count": 3,
     "metadata": {},
     "output_type": "execute_result"
    }
   ],
   "source": [
    "all_data_83"
   ],
   "metadata": {
    "collapsed": false,
    "pycharm": {
     "name": "#%%\n"
    }
   }
  },
  {
   "cell_type": "code",
   "execution_count": 4,
   "outputs": [],
   "source": [
    "col_1 = ['声音类别', '吵闹度', 'leq_mean', 'leq_std', 'leq_25', 'leq_median',\n",
    "         'leq_75', 'leq_10_90', 'loudness_mean', 'loudness_std',\n",
    "         'loudness_25', 'loudness_median', 'loudness_75',\n",
    "         'loudness_10_90', 'roughness_mean', 'roughness_std',\n",
    "         'roughness_25', 'roughness_median', 'roughness_75',\n",
    "         'roughness_10_90', 'sharpness_mean', 'sharpness_std',\n",
    "         'sharpness_25', 'sharpness_median', 'sharpness_75',\n",
    "         'sharpness_10_90', 'fluct_mean', 'fluct_std', 'fluct_25',\n",
    "         'fluct_median', 'fluct_75', 'fluct_10_90', 'tonality_mean',\n",
    "         'tonality_std', 'tonality_25', 'tonality_median', 'tonality_75',\n",
    "         'tonality_10_90']\n",
    "\n",
    "use_data_83 = all_data_83[col_1]"
   ],
   "metadata": {
    "collapsed": false,
    "pycharm": {
     "name": "#%%\n"
    }
   }
  },
  {
   "cell_type": "code",
   "execution_count": 5,
   "outputs": [
    {
     "data": {
      "text/plain": "       声音类别  吵闹度  leq_mean  leq_std    leq_25  leq_median    leq_75  \\\n0         1    4  64.66645  1.56539  63.35437    64.54813  65.57262   \n1         1    4  64.66645  1.56539  63.35437    64.54813  65.57262   \n2         1    6  64.66645  1.56539  63.35437    64.54813  65.57262   \n3         1    4  64.66645  1.56539  63.35437    64.54813  65.57262   \n4         1    7  64.66645  1.56539  63.35437    64.54813  65.57262   \n...     ...  ...       ...      ...       ...         ...       ...   \n20247    83    5  63.90276  1.58277  62.72562    63.50389  65.10709   \n20248    83    9  63.90276  1.58277  62.72562    63.50389  65.10709   \n20249    83    5  63.90276  1.58277  62.72562    63.50389  65.10709   \n20250    83    5  63.90276  1.58277  62.72562    63.50389  65.10709   \n20251    83    5  63.90276  1.58277  62.72562    63.50389  65.10709   \n\n       leq_10_90  loudness_mean  loudness_std  ...  fluct_25  fluct_median  \\\n0        4.14383       17.75490       1.86917  ...   0.00783       0.01473   \n1        4.14383       17.75490       1.86917  ...   0.00783       0.01473   \n2        4.14383       17.75490       1.86917  ...   0.00783       0.01473   \n3        4.14383       17.75490       1.86917  ...   0.00783       0.01473   \n4        4.14383       17.75490       1.86917  ...   0.00783       0.01473   \n...          ...            ...           ...  ...       ...           ...   \n20247    4.15885       16.14553       1.19750  ...   0.00794       0.00967   \n20248    4.15885       16.14553       1.19750  ...   0.00794       0.00967   \n20249    4.15885       16.14553       1.19750  ...   0.00794       0.00967   \n20250    4.15885       16.14553       1.19750  ...   0.00794       0.00967   \n20251    4.15885       16.14553       1.19750  ...   0.00794       0.00967   \n\n       fluct_75  fluct_10_90  tonality_mean  tonality_std  tonality_25  \\\n0       0.01984      0.06271        0.05675       0.04170      0.02823   \n1       0.01984      0.06271        0.05675       0.04170      0.02823   \n2       0.01984      0.06271        0.05675       0.04170      0.02823   \n3       0.01984      0.06271        0.05675       0.04170      0.02823   \n4       0.01984      0.06271        0.05675       0.04170      0.02823   \n...         ...          ...            ...           ...          ...   \n20247   0.02265      0.06929        0.02446       0.02661      0.00000   \n20248   0.02265      0.06929        0.02446       0.02661      0.00000   \n20249   0.02265      0.06929        0.02446       0.02661      0.00000   \n20250   0.02265      0.06929        0.02446       0.02661      0.00000   \n20251   0.02265      0.06929        0.02446       0.02661      0.00000   \n\n       tonality_median  tonality_75  tonality_10_90  \n0              0.05316      0.08016         0.11041  \n1              0.05316      0.08016         0.11041  \n2              0.05316      0.08016         0.11041  \n3              0.05316      0.08016         0.11041  \n4              0.05316      0.08016         0.11041  \n...                ...          ...             ...  \n20247          0.02622      0.04394         0.05603  \n20248          0.02622      0.04394         0.05603  \n20249          0.02622      0.04394         0.05603  \n20250          0.02622      0.04394         0.05603  \n20251          0.02622      0.04394         0.05603  \n\n[20252 rows x 38 columns]",
      "text/html": "<div>\n<style scoped>\n    .dataframe tbody tr th:only-of-type {\n        vertical-align: middle;\n    }\n\n    .dataframe tbody tr th {\n        vertical-align: top;\n    }\n\n    .dataframe thead th {\n        text-align: right;\n    }\n</style>\n<table border=\"1\" class=\"dataframe\">\n  <thead>\n    <tr style=\"text-align: right;\">\n      <th></th>\n      <th>声音类别</th>\n      <th>吵闹度</th>\n      <th>leq_mean</th>\n      <th>leq_std</th>\n      <th>leq_25</th>\n      <th>leq_median</th>\n      <th>leq_75</th>\n      <th>leq_10_90</th>\n      <th>loudness_mean</th>\n      <th>loudness_std</th>\n      <th>...</th>\n      <th>fluct_25</th>\n      <th>fluct_median</th>\n      <th>fluct_75</th>\n      <th>fluct_10_90</th>\n      <th>tonality_mean</th>\n      <th>tonality_std</th>\n      <th>tonality_25</th>\n      <th>tonality_median</th>\n      <th>tonality_75</th>\n      <th>tonality_10_90</th>\n    </tr>\n  </thead>\n  <tbody>\n    <tr>\n      <th>0</th>\n      <td>1</td>\n      <td>4</td>\n      <td>64.66645</td>\n      <td>1.56539</td>\n      <td>63.35437</td>\n      <td>64.54813</td>\n      <td>65.57262</td>\n      <td>4.14383</td>\n      <td>17.75490</td>\n      <td>1.86917</td>\n      <td>...</td>\n      <td>0.00783</td>\n      <td>0.01473</td>\n      <td>0.01984</td>\n      <td>0.06271</td>\n      <td>0.05675</td>\n      <td>0.04170</td>\n      <td>0.02823</td>\n      <td>0.05316</td>\n      <td>0.08016</td>\n      <td>0.11041</td>\n    </tr>\n    <tr>\n      <th>1</th>\n      <td>1</td>\n      <td>4</td>\n      <td>64.66645</td>\n      <td>1.56539</td>\n      <td>63.35437</td>\n      <td>64.54813</td>\n      <td>65.57262</td>\n      <td>4.14383</td>\n      <td>17.75490</td>\n      <td>1.86917</td>\n      <td>...</td>\n      <td>0.00783</td>\n      <td>0.01473</td>\n      <td>0.01984</td>\n      <td>0.06271</td>\n      <td>0.05675</td>\n      <td>0.04170</td>\n      <td>0.02823</td>\n      <td>0.05316</td>\n      <td>0.08016</td>\n      <td>0.11041</td>\n    </tr>\n    <tr>\n      <th>2</th>\n      <td>1</td>\n      <td>6</td>\n      <td>64.66645</td>\n      <td>1.56539</td>\n      <td>63.35437</td>\n      <td>64.54813</td>\n      <td>65.57262</td>\n      <td>4.14383</td>\n      <td>17.75490</td>\n      <td>1.86917</td>\n      <td>...</td>\n      <td>0.00783</td>\n      <td>0.01473</td>\n      <td>0.01984</td>\n      <td>0.06271</td>\n      <td>0.05675</td>\n      <td>0.04170</td>\n      <td>0.02823</td>\n      <td>0.05316</td>\n      <td>0.08016</td>\n      <td>0.11041</td>\n    </tr>\n    <tr>\n      <th>3</th>\n      <td>1</td>\n      <td>4</td>\n      <td>64.66645</td>\n      <td>1.56539</td>\n      <td>63.35437</td>\n      <td>64.54813</td>\n      <td>65.57262</td>\n      <td>4.14383</td>\n      <td>17.75490</td>\n      <td>1.86917</td>\n      <td>...</td>\n      <td>0.00783</td>\n      <td>0.01473</td>\n      <td>0.01984</td>\n      <td>0.06271</td>\n      <td>0.05675</td>\n      <td>0.04170</td>\n      <td>0.02823</td>\n      <td>0.05316</td>\n      <td>0.08016</td>\n      <td>0.11041</td>\n    </tr>\n    <tr>\n      <th>4</th>\n      <td>1</td>\n      <td>7</td>\n      <td>64.66645</td>\n      <td>1.56539</td>\n      <td>63.35437</td>\n      <td>64.54813</td>\n      <td>65.57262</td>\n      <td>4.14383</td>\n      <td>17.75490</td>\n      <td>1.86917</td>\n      <td>...</td>\n      <td>0.00783</td>\n      <td>0.01473</td>\n      <td>0.01984</td>\n      <td>0.06271</td>\n      <td>0.05675</td>\n      <td>0.04170</td>\n      <td>0.02823</td>\n      <td>0.05316</td>\n      <td>0.08016</td>\n      <td>0.11041</td>\n    </tr>\n    <tr>\n      <th>...</th>\n      <td>...</td>\n      <td>...</td>\n      <td>...</td>\n      <td>...</td>\n      <td>...</td>\n      <td>...</td>\n      <td>...</td>\n      <td>...</td>\n      <td>...</td>\n      <td>...</td>\n      <td>...</td>\n      <td>...</td>\n      <td>...</td>\n      <td>...</td>\n      <td>...</td>\n      <td>...</td>\n      <td>...</td>\n      <td>...</td>\n      <td>...</td>\n      <td>...</td>\n      <td>...</td>\n    </tr>\n    <tr>\n      <th>20247</th>\n      <td>83</td>\n      <td>5</td>\n      <td>63.90276</td>\n      <td>1.58277</td>\n      <td>62.72562</td>\n      <td>63.50389</td>\n      <td>65.10709</td>\n      <td>4.15885</td>\n      <td>16.14553</td>\n      <td>1.19750</td>\n      <td>...</td>\n      <td>0.00794</td>\n      <td>0.00967</td>\n      <td>0.02265</td>\n      <td>0.06929</td>\n      <td>0.02446</td>\n      <td>0.02661</td>\n      <td>0.00000</td>\n      <td>0.02622</td>\n      <td>0.04394</td>\n      <td>0.05603</td>\n    </tr>\n    <tr>\n      <th>20248</th>\n      <td>83</td>\n      <td>9</td>\n      <td>63.90276</td>\n      <td>1.58277</td>\n      <td>62.72562</td>\n      <td>63.50389</td>\n      <td>65.10709</td>\n      <td>4.15885</td>\n      <td>16.14553</td>\n      <td>1.19750</td>\n      <td>...</td>\n      <td>0.00794</td>\n      <td>0.00967</td>\n      <td>0.02265</td>\n      <td>0.06929</td>\n      <td>0.02446</td>\n      <td>0.02661</td>\n      <td>0.00000</td>\n      <td>0.02622</td>\n      <td>0.04394</td>\n      <td>0.05603</td>\n    </tr>\n    <tr>\n      <th>20249</th>\n      <td>83</td>\n      <td>5</td>\n      <td>63.90276</td>\n      <td>1.58277</td>\n      <td>62.72562</td>\n      <td>63.50389</td>\n      <td>65.10709</td>\n      <td>4.15885</td>\n      <td>16.14553</td>\n      <td>1.19750</td>\n      <td>...</td>\n      <td>0.00794</td>\n      <td>0.00967</td>\n      <td>0.02265</td>\n      <td>0.06929</td>\n      <td>0.02446</td>\n      <td>0.02661</td>\n      <td>0.00000</td>\n      <td>0.02622</td>\n      <td>0.04394</td>\n      <td>0.05603</td>\n    </tr>\n    <tr>\n      <th>20250</th>\n      <td>83</td>\n      <td>5</td>\n      <td>63.90276</td>\n      <td>1.58277</td>\n      <td>62.72562</td>\n      <td>63.50389</td>\n      <td>65.10709</td>\n      <td>4.15885</td>\n      <td>16.14553</td>\n      <td>1.19750</td>\n      <td>...</td>\n      <td>0.00794</td>\n      <td>0.00967</td>\n      <td>0.02265</td>\n      <td>0.06929</td>\n      <td>0.02446</td>\n      <td>0.02661</td>\n      <td>0.00000</td>\n      <td>0.02622</td>\n      <td>0.04394</td>\n      <td>0.05603</td>\n    </tr>\n    <tr>\n      <th>20251</th>\n      <td>83</td>\n      <td>5</td>\n      <td>63.90276</td>\n      <td>1.58277</td>\n      <td>62.72562</td>\n      <td>63.50389</td>\n      <td>65.10709</td>\n      <td>4.15885</td>\n      <td>16.14553</td>\n      <td>1.19750</td>\n      <td>...</td>\n      <td>0.00794</td>\n      <td>0.00967</td>\n      <td>0.02265</td>\n      <td>0.06929</td>\n      <td>0.02446</td>\n      <td>0.02661</td>\n      <td>0.00000</td>\n      <td>0.02622</td>\n      <td>0.04394</td>\n      <td>0.05603</td>\n    </tr>\n  </tbody>\n</table>\n<p>20252 rows × 38 columns</p>\n</div>"
     },
     "execution_count": 5,
     "metadata": {},
     "output_type": "execute_result"
    }
   ],
   "source": [
    "use_data_83"
   ],
   "metadata": {
    "collapsed": false,
    "pycharm": {
     "name": "#%%\n"
    }
   }
  },
  {
   "cell_type": "code",
   "execution_count": 7,
   "outputs": [],
   "source": [
    "use_data_83.to_csv(r'./output/use_data_83.csv', index=False,encoding='utf_8_sig')"
   ],
   "metadata": {
    "collapsed": false,
    "pycharm": {
     "name": "#%%\n"
    }
   }
  },
  {
   "cell_type": "code",
   "execution_count": 6,
   "outputs": [],
   "source": [],
   "metadata": {
    "collapsed": false,
    "pycharm": {
     "name": "#%%\n"
    }
   }
  }
 ],
 "metadata": {
  "kernelspec": {
   "display_name": "Python 3",
   "language": "python",
   "name": "python3"
  },
  "language_info": {
   "codemirror_mode": {
    "name": "ipython",
    "version": 2
   },
   "file_extension": ".py",
   "mimetype": "text/x-python",
   "name": "python",
   "nbconvert_exporter": "python",
   "pygments_lexer": "ipython2",
   "version": "2.7.6"
  }
 },
 "nbformat": 4,
 "nbformat_minor": 0
}
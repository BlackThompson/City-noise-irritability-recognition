{
 "cells": [
  {
   "cell_type": "code",
   "execution_count": 15,
   "metadata": {
    "collapsed": true
   },
   "outputs": [
    {
     "data": {
      "text/plain": "    序号              提交答卷时间   所用时间    来源  来源详情                    来自IP 您的姓名：  \\\n0    1  2023/2/19 22:07:06  1371秒    微信   NaN   223.104.68.179(广东-深圳)   时海炜   \n1    2  2023/2/20 10:18:59  1755秒    微信   NaN   223.104.68.101(广东-深圳)   纪洁俏   \n2    3  2023/2/20 10:46:50  1299秒    微信   NaN   223.104.63.169(广东-深圳)   何嘉雯   \n3    4  2023/2/20 11:14:09  1361秒    微信   NaN     14.150.79.85(广东-深圳)    熊赞   \n4    5  2023/2/20 11:38:56  1297秒    微信   NaN  113.108.100.251(广东-深圳)   成厚城   \n5    6  2023/2/20 16:53:17  1299秒    微信   NaN   117.136.39.247(广东-深圳)   沈剑明   \n6    7  2023/2/21 10:20:30  1308秒    微信   NaN    112.97.83.183(广东-深圳)   蒙日崇   \n7    8  2023/2/21 10:44:55  1293秒    微信   NaN   223.104.77.182(广东-广州)    邢月   \n8    9  2023/2/21 13:59:51  1453秒    微信   NaN     112.97.50.54(广东-深圳)    丁安   \n9   10  2023/2/21 14:24:54  1304秒  手机提交  直接访问    14.150.79.236(广东-深圳)   肖琪琳   \n10  11  2023/2/21 15:15:48  1333秒    微信   NaN   119.143.65.159(广东-广州)   周运松   \n11  12  2023/2/22 10:00:45  1357秒    微信   NaN   113.87.160.104(广东-深圳)   黎佩玉   \n12  13   2023/2/23 9:22:53  1257秒    微信   NaN       58.60.1.86(广东-深圳)   刘惠宇   \n13  14   2023/2/23 9:47:17  1273秒    微信   NaN    58.250.172.35(广东-深圳)   方佳清   \n14  15  2023/2/23 10:18:16  1269秒    微信   NaN    58.250.172.34(广东-深圳)   郭美萱   \n15  16  2023/2/23 10:42:59  1295秒    微信   NaN   223.73.111.159(广东-深圳)   毛清松   \n16  17  2023/2/23 11:20:22  1273秒    微信   NaN   223.104.63.183(广东-深圳)   廖羽捷   \n17  18  2023/2/23 14:17:24  1254秒    微信   NaN   223.104.68.219(广东-深圳)   李伟琼   \n18  19  2023/2/23 14:51:31  1263秒    微信   NaN   223.104.77.153(广东-广州)   牟俊宇   \n19  20  2023/2/23 20:56:07  1454秒    微信   NaN   223.73.111.170(广东-深圳)   代少义   \n\n    1 (鸟鸣虫叫)  1 (海浪流水)  1 (风雨)  ...  请对您听到的声音，表达您的吵闹感受，1表示非常吵闹，9表示一点也不吵闹.78  \\\n0          1         1       0  ...                                       2   \n1          1         1       0  ...                                       8   \n2          0         1       1  ...                                       7   \n3          1         1       0  ...                                       7   \n4          1         1       0  ...                                       6   \n5          1         0       0  ...                                       5   \n6          1         0       1  ...                                       8   \n7          1         1       0  ...                                       5   \n8          0         1       1  ...                                       6   \n9          1         1       0  ...                                       6   \n10         1         0       1  ...                                       5   \n11         1         1       0  ...                                       4   \n12         1         0       0  ...                                       6   \n13         0         1       0  ...                                       5   \n14         1         1       0  ...                                       6   \n15         0         1       1  ...                                       5   \n16         0         1       1  ...                                       5   \n17         0         1       1  ...                                       6   \n18         1         1       0  ...                                       4   \n19         0         1       1  ...                                       6   \n\n    请对您听到的声音，表达您的烦躁感受，1表示非常烦躁，9表示一点也不烦躁.78  \\\n0                                        2   \n1                                        8   \n2                                        6   \n3                                        7   \n4                                        6   \n5                                        5   \n6                                        9   \n7                                        4   \n8                                        6   \n9                                        4   \n10                                       4   \n11                                       5   \n12                                       7   \n13                                       5   \n14                                       6   \n15                                       3   \n16                                       7   \n17                                       5   \n18                                       6   \n19                                       7   \n\n    请对您听到的声音，表达您的安静感受，1表示一点也不安静，9表示非常安静.78  \\\n0                                        3   \n1                                        8   \n2                                        4   \n3                                        7   \n4                                        5   \n5                                        5   \n6                                        8   \n7                                        4   \n8                                        5   \n9                                        4   \n10                                       5   \n11                                       3   \n12                                       6   \n13                                       5   \n14                                       5   \n15                                       2   \n16                                       6   \n17                                       5   \n18                                       5   \n19                                       7   \n\n    请对您听到的声音，表达您的吵闹感受，1表示非常吵闹，9表示一点也不吵闹.79  \\\n0                                        4   \n1                                        8   \n2                                        5   \n3                                        9   \n4                                        6   \n5                                        6   \n6                                        8   \n7                                        6   \n8                                        7   \n9                                        5   \n10                                       6   \n11                                       4   \n12                                       6   \n13                                       5   \n14                                       6   \n15                                       6   \n16                                       6   \n17                                       7   \n18                                       5   \n19                                       7   \n\n    请对您听到的声音，表达您的烦躁感受，1表示非常烦躁，9表示一点也不烦躁.79  \\\n0                                        3   \n1                                        8   \n2                                        6   \n3                                        9   \n4                                        6   \n5                                        6   \n6                                        8   \n7                                        6   \n8                                        7   \n9                                        4   \n10                                       5   \n11                                       5   \n12                                       7   \n13                                       6   \n14                                       5   \n15                                       4   \n16                                       7   \n17                                       6   \n18                                       6   \n19                                       8   \n\n    请对您听到的声音，表达您的安静感受，1表示一点也不安静，9表示非常安静.79  \\\n0                                        3   \n1                                        8   \n2                                        3   \n3                                        9   \n4                                        5   \n5                                        5   \n6                                        7   \n7                                        4   \n8                                        5   \n9                                        5   \n10                                       4   \n11                                       3   \n12                                       7   \n13                                       4   \n14                                       5   \n15                                       4   \n16                                       7   \n17                                       6   \n18                                       5   \n19                                       7   \n\n    请对您听到的声音，表达您的吵闹感受，1表示非常吵闹，9表示一点也不吵闹.80  \\\n0                                        2   \n1                                        1   \n2                                        2   \n3                                        4   \n4                                        5   \n5                                        3   \n6                                        7   \n7                                        4   \n8                                        5   \n9                                        5   \n10                                       3   \n11                                       4   \n12                                       2   \n13                                       4   \n14                                       4   \n15                                       3   \n16                                       2   \n17                                       2   \n18                                       1   \n19                                       3   \n\n    请对您听到的声音，表达您的烦躁感受，1表示非常烦躁，9表示一点也不烦躁.80  \\\n0                                        1   \n1                                        1   \n2                                        2   \n3                                        5   \n4                                        5   \n5                                        3   \n6                                        7   \n7                                        3   \n8                                        3   \n9                                        5   \n10                                       3   \n11                                       4   \n12                                       2   \n13                                       4   \n14                                       4   \n15                                       1   \n16                                       6   \n17                                       1   \n18                                       1   \n19                                       3   \n\n    请对您听到的声音，表达您的安静感受，1表示一点也不安静，9表示非常安静.80    总分  \n0                                        1  1071  \n1                                        1  1290  \n2                                        2  1176  \n3                                        5  1602  \n4                                        5  1292  \n5                                        3  1240  \n6                                        6  1282  \n7                                        3  1086  \n8                                        6  1231  \n9                                        5  1093  \n10                                       3  1318  \n11                                       3  1001  \n12                                       1  1037  \n13                                       4  1262  \n14                                       3  1148  \n15                                       2   902  \n16                                       5  1370  \n17                                       1  1084  \n18                                       1  1047  \n19                                       3  1030  \n\n[20 rows x 268 columns]",
      "text/html": "<div>\n<style scoped>\n    .dataframe tbody tr th:only-of-type {\n        vertical-align: middle;\n    }\n\n    .dataframe tbody tr th {\n        vertical-align: top;\n    }\n\n    .dataframe thead th {\n        text-align: right;\n    }\n</style>\n<table border=\"1\" class=\"dataframe\">\n  <thead>\n    <tr style=\"text-align: right;\">\n      <th></th>\n      <th>序号</th>\n      <th>提交答卷时间</th>\n      <th>所用时间</th>\n      <th>来源</th>\n      <th>来源详情</th>\n      <th>来自IP</th>\n      <th>您的姓名：</th>\n      <th>1 (鸟鸣虫叫)</th>\n      <th>1 (海浪流水)</th>\n      <th>1 (风雨)</th>\n      <th>...</th>\n      <th>请对您听到的声音，表达您的吵闹感受，1表示非常吵闹，9表示一点也不吵闹.78</th>\n      <th>请对您听到的声音，表达您的烦躁感受，1表示非常烦躁，9表示一点也不烦躁.78</th>\n      <th>请对您听到的声音，表达您的安静感受，1表示一点也不安静，9表示非常安静.78</th>\n      <th>请对您听到的声音，表达您的吵闹感受，1表示非常吵闹，9表示一点也不吵闹.79</th>\n      <th>请对您听到的声音，表达您的烦躁感受，1表示非常烦躁，9表示一点也不烦躁.79</th>\n      <th>请对您听到的声音，表达您的安静感受，1表示一点也不安静，9表示非常安静.79</th>\n      <th>请对您听到的声音，表达您的吵闹感受，1表示非常吵闹，9表示一点也不吵闹.80</th>\n      <th>请对您听到的声音，表达您的烦躁感受，1表示非常烦躁，9表示一点也不烦躁.80</th>\n      <th>请对您听到的声音，表达您的安静感受，1表示一点也不安静，9表示非常安静.80</th>\n      <th>总分</th>\n    </tr>\n  </thead>\n  <tbody>\n    <tr>\n      <th>0</th>\n      <td>1</td>\n      <td>2023/2/19 22:07:06</td>\n      <td>1371秒</td>\n      <td>微信</td>\n      <td>NaN</td>\n      <td>223.104.68.179(广东-深圳)</td>\n      <td>时海炜</td>\n      <td>1</td>\n      <td>1</td>\n      <td>0</td>\n      <td>...</td>\n      <td>2</td>\n      <td>2</td>\n      <td>3</td>\n      <td>4</td>\n      <td>3</td>\n      <td>3</td>\n      <td>2</td>\n      <td>1</td>\n      <td>1</td>\n      <td>1071</td>\n    </tr>\n    <tr>\n      <th>1</th>\n      <td>2</td>\n      <td>2023/2/20 10:18:59</td>\n      <td>1755秒</td>\n      <td>微信</td>\n      <td>NaN</td>\n      <td>223.104.68.101(广东-深圳)</td>\n      <td>纪洁俏</td>\n      <td>1</td>\n      <td>1</td>\n      <td>0</td>\n      <td>...</td>\n      <td>8</td>\n      <td>8</td>\n      <td>8</td>\n      <td>8</td>\n      <td>8</td>\n      <td>8</td>\n      <td>1</td>\n      <td>1</td>\n      <td>1</td>\n      <td>1290</td>\n    </tr>\n    <tr>\n      <th>2</th>\n      <td>3</td>\n      <td>2023/2/20 10:46:50</td>\n      <td>1299秒</td>\n      <td>微信</td>\n      <td>NaN</td>\n      <td>223.104.63.169(广东-深圳)</td>\n      <td>何嘉雯</td>\n      <td>0</td>\n      <td>1</td>\n      <td>1</td>\n      <td>...</td>\n      <td>7</td>\n      <td>6</td>\n      <td>4</td>\n      <td>5</td>\n      <td>6</td>\n      <td>3</td>\n      <td>2</td>\n      <td>2</td>\n      <td>2</td>\n      <td>1176</td>\n    </tr>\n    <tr>\n      <th>3</th>\n      <td>4</td>\n      <td>2023/2/20 11:14:09</td>\n      <td>1361秒</td>\n      <td>微信</td>\n      <td>NaN</td>\n      <td>14.150.79.85(广东-深圳)</td>\n      <td>熊赞</td>\n      <td>1</td>\n      <td>1</td>\n      <td>0</td>\n      <td>...</td>\n      <td>7</td>\n      <td>7</td>\n      <td>7</td>\n      <td>9</td>\n      <td>9</td>\n      <td>9</td>\n      <td>4</td>\n      <td>5</td>\n      <td>5</td>\n      <td>1602</td>\n    </tr>\n    <tr>\n      <th>4</th>\n      <td>5</td>\n      <td>2023/2/20 11:38:56</td>\n      <td>1297秒</td>\n      <td>微信</td>\n      <td>NaN</td>\n      <td>113.108.100.251(广东-深圳)</td>\n      <td>成厚城</td>\n      <td>1</td>\n      <td>1</td>\n      <td>0</td>\n      <td>...</td>\n      <td>6</td>\n      <td>6</td>\n      <td>5</td>\n      <td>6</td>\n      <td>6</td>\n      <td>5</td>\n      <td>5</td>\n      <td>5</td>\n      <td>5</td>\n      <td>1292</td>\n    </tr>\n    <tr>\n      <th>5</th>\n      <td>6</td>\n      <td>2023/2/20 16:53:17</td>\n      <td>1299秒</td>\n      <td>微信</td>\n      <td>NaN</td>\n      <td>117.136.39.247(广东-深圳)</td>\n      <td>沈剑明</td>\n      <td>1</td>\n      <td>0</td>\n      <td>0</td>\n      <td>...</td>\n      <td>5</td>\n      <td>5</td>\n      <td>5</td>\n      <td>6</td>\n      <td>6</td>\n      <td>5</td>\n      <td>3</td>\n      <td>3</td>\n      <td>3</td>\n      <td>1240</td>\n    </tr>\n    <tr>\n      <th>6</th>\n      <td>7</td>\n      <td>2023/2/21 10:20:30</td>\n      <td>1308秒</td>\n      <td>微信</td>\n      <td>NaN</td>\n      <td>112.97.83.183(广东-深圳)</td>\n      <td>蒙日崇</td>\n      <td>1</td>\n      <td>0</td>\n      <td>1</td>\n      <td>...</td>\n      <td>8</td>\n      <td>9</td>\n      <td>8</td>\n      <td>8</td>\n      <td>8</td>\n      <td>7</td>\n      <td>7</td>\n      <td>7</td>\n      <td>6</td>\n      <td>1282</td>\n    </tr>\n    <tr>\n      <th>7</th>\n      <td>8</td>\n      <td>2023/2/21 10:44:55</td>\n      <td>1293秒</td>\n      <td>微信</td>\n      <td>NaN</td>\n      <td>223.104.77.182(广东-广州)</td>\n      <td>邢月</td>\n      <td>1</td>\n      <td>1</td>\n      <td>0</td>\n      <td>...</td>\n      <td>5</td>\n      <td>4</td>\n      <td>4</td>\n      <td>6</td>\n      <td>6</td>\n      <td>4</td>\n      <td>4</td>\n      <td>3</td>\n      <td>3</td>\n      <td>1086</td>\n    </tr>\n    <tr>\n      <th>8</th>\n      <td>9</td>\n      <td>2023/2/21 13:59:51</td>\n      <td>1453秒</td>\n      <td>微信</td>\n      <td>NaN</td>\n      <td>112.97.50.54(广东-深圳)</td>\n      <td>丁安</td>\n      <td>0</td>\n      <td>1</td>\n      <td>1</td>\n      <td>...</td>\n      <td>6</td>\n      <td>6</td>\n      <td>5</td>\n      <td>7</td>\n      <td>7</td>\n      <td>5</td>\n      <td>5</td>\n      <td>3</td>\n      <td>6</td>\n      <td>1231</td>\n    </tr>\n    <tr>\n      <th>9</th>\n      <td>10</td>\n      <td>2023/2/21 14:24:54</td>\n      <td>1304秒</td>\n      <td>手机提交</td>\n      <td>直接访问</td>\n      <td>14.150.79.236(广东-深圳)</td>\n      <td>肖琪琳</td>\n      <td>1</td>\n      <td>1</td>\n      <td>0</td>\n      <td>...</td>\n      <td>6</td>\n      <td>4</td>\n      <td>4</td>\n      <td>5</td>\n      <td>4</td>\n      <td>5</td>\n      <td>5</td>\n      <td>5</td>\n      <td>5</td>\n      <td>1093</td>\n    </tr>\n    <tr>\n      <th>10</th>\n      <td>11</td>\n      <td>2023/2/21 15:15:48</td>\n      <td>1333秒</td>\n      <td>微信</td>\n      <td>NaN</td>\n      <td>119.143.65.159(广东-广州)</td>\n      <td>周运松</td>\n      <td>1</td>\n      <td>0</td>\n      <td>1</td>\n      <td>...</td>\n      <td>5</td>\n      <td>4</td>\n      <td>5</td>\n      <td>6</td>\n      <td>5</td>\n      <td>4</td>\n      <td>3</td>\n      <td>3</td>\n      <td>3</td>\n      <td>1318</td>\n    </tr>\n    <tr>\n      <th>11</th>\n      <td>12</td>\n      <td>2023/2/22 10:00:45</td>\n      <td>1357秒</td>\n      <td>微信</td>\n      <td>NaN</td>\n      <td>113.87.160.104(广东-深圳)</td>\n      <td>黎佩玉</td>\n      <td>1</td>\n      <td>1</td>\n      <td>0</td>\n      <td>...</td>\n      <td>4</td>\n      <td>5</td>\n      <td>3</td>\n      <td>4</td>\n      <td>5</td>\n      <td>3</td>\n      <td>4</td>\n      <td>4</td>\n      <td>3</td>\n      <td>1001</td>\n    </tr>\n    <tr>\n      <th>12</th>\n      <td>13</td>\n      <td>2023/2/23 9:22:53</td>\n      <td>1257秒</td>\n      <td>微信</td>\n      <td>NaN</td>\n      <td>58.60.1.86(广东-深圳)</td>\n      <td>刘惠宇</td>\n      <td>1</td>\n      <td>0</td>\n      <td>0</td>\n      <td>...</td>\n      <td>6</td>\n      <td>7</td>\n      <td>6</td>\n      <td>6</td>\n      <td>7</td>\n      <td>7</td>\n      <td>2</td>\n      <td>2</td>\n      <td>1</td>\n      <td>1037</td>\n    </tr>\n    <tr>\n      <th>13</th>\n      <td>14</td>\n      <td>2023/2/23 9:47:17</td>\n      <td>1273秒</td>\n      <td>微信</td>\n      <td>NaN</td>\n      <td>58.250.172.35(广东-深圳)</td>\n      <td>方佳清</td>\n      <td>0</td>\n      <td>1</td>\n      <td>0</td>\n      <td>...</td>\n      <td>5</td>\n      <td>5</td>\n      <td>5</td>\n      <td>5</td>\n      <td>6</td>\n      <td>4</td>\n      <td>4</td>\n      <td>4</td>\n      <td>4</td>\n      <td>1262</td>\n    </tr>\n    <tr>\n      <th>14</th>\n      <td>15</td>\n      <td>2023/2/23 10:18:16</td>\n      <td>1269秒</td>\n      <td>微信</td>\n      <td>NaN</td>\n      <td>58.250.172.34(广东-深圳)</td>\n      <td>郭美萱</td>\n      <td>1</td>\n      <td>1</td>\n      <td>0</td>\n      <td>...</td>\n      <td>6</td>\n      <td>6</td>\n      <td>5</td>\n      <td>6</td>\n      <td>5</td>\n      <td>5</td>\n      <td>4</td>\n      <td>4</td>\n      <td>3</td>\n      <td>1148</td>\n    </tr>\n    <tr>\n      <th>15</th>\n      <td>16</td>\n      <td>2023/2/23 10:42:59</td>\n      <td>1295秒</td>\n      <td>微信</td>\n      <td>NaN</td>\n      <td>223.73.111.159(广东-深圳)</td>\n      <td>毛清松</td>\n      <td>0</td>\n      <td>1</td>\n      <td>1</td>\n      <td>...</td>\n      <td>5</td>\n      <td>3</td>\n      <td>2</td>\n      <td>6</td>\n      <td>4</td>\n      <td>4</td>\n      <td>3</td>\n      <td>1</td>\n      <td>2</td>\n      <td>902</td>\n    </tr>\n    <tr>\n      <th>16</th>\n      <td>17</td>\n      <td>2023/2/23 11:20:22</td>\n      <td>1273秒</td>\n      <td>微信</td>\n      <td>NaN</td>\n      <td>223.104.63.183(广东-深圳)</td>\n      <td>廖羽捷</td>\n      <td>0</td>\n      <td>1</td>\n      <td>1</td>\n      <td>...</td>\n      <td>5</td>\n      <td>7</td>\n      <td>6</td>\n      <td>6</td>\n      <td>7</td>\n      <td>7</td>\n      <td>2</td>\n      <td>6</td>\n      <td>5</td>\n      <td>1370</td>\n    </tr>\n    <tr>\n      <th>17</th>\n      <td>18</td>\n      <td>2023/2/23 14:17:24</td>\n      <td>1254秒</td>\n      <td>微信</td>\n      <td>NaN</td>\n      <td>223.104.68.219(广东-深圳)</td>\n      <td>李伟琼</td>\n      <td>0</td>\n      <td>1</td>\n      <td>1</td>\n      <td>...</td>\n      <td>6</td>\n      <td>5</td>\n      <td>5</td>\n      <td>7</td>\n      <td>6</td>\n      <td>6</td>\n      <td>2</td>\n      <td>1</td>\n      <td>1</td>\n      <td>1084</td>\n    </tr>\n    <tr>\n      <th>18</th>\n      <td>19</td>\n      <td>2023/2/23 14:51:31</td>\n      <td>1263秒</td>\n      <td>微信</td>\n      <td>NaN</td>\n      <td>223.104.77.153(广东-广州)</td>\n      <td>牟俊宇</td>\n      <td>1</td>\n      <td>1</td>\n      <td>0</td>\n      <td>...</td>\n      <td>4</td>\n      <td>6</td>\n      <td>5</td>\n      <td>5</td>\n      <td>6</td>\n      <td>5</td>\n      <td>1</td>\n      <td>1</td>\n      <td>1</td>\n      <td>1047</td>\n    </tr>\n    <tr>\n      <th>19</th>\n      <td>20</td>\n      <td>2023/2/23 20:56:07</td>\n      <td>1454秒</td>\n      <td>微信</td>\n      <td>NaN</td>\n      <td>223.73.111.170(广东-深圳)</td>\n      <td>代少义</td>\n      <td>0</td>\n      <td>1</td>\n      <td>1</td>\n      <td>...</td>\n      <td>6</td>\n      <td>7</td>\n      <td>7</td>\n      <td>7</td>\n      <td>8</td>\n      <td>7</td>\n      <td>3</td>\n      <td>3</td>\n      <td>3</td>\n      <td>1030</td>\n    </tr>\n  </tbody>\n</table>\n<p>20 rows × 268 columns</p>\n</div>"
     },
     "execution_count": 15,
     "metadata": {},
     "output_type": "execute_result"
    }
   ],
   "source": [
    "import numpy as np\n",
    "import pandas as pd\n",
    "\n",
    "path = r'./input/验证实验20人.xlsx'\n",
    "data = pd.read_excel(path)\n",
    "data"
   ]
  },
  {
   "cell_type": "code",
   "execution_count": 16,
   "outputs": [],
   "source": [
    "noise = '请对您听到的声音，表达您的吵闹感受，1表示非常吵闹，9表示一点也不吵闹'\n",
    "anl = '请对您听到的声音，表达您的烦躁感受，1表示非常烦躁，9表示一点也不烦躁'\n",
    "quiet = '请对您听到的声音，表达您的安静感受，1表示一点也不安静，9表示非常安静'\n",
    "\n",
    "processed_data = pd.DataFrame()\n",
    "processed_data['index'] = 0\n",
    "processed_data['noise'] = 0\n",
    "processed_data['anl'] = 0\n",
    "processed_data['quiet'] = 0\n",
    "\n"
   ],
   "metadata": {
    "collapsed": false,
    "pycharm": {
     "name": "#%%\n"
    }
   }
  },
  {
   "cell_type": "code",
   "execution_count": 17,
   "outputs": [],
   "source": [
    "number = len(data)\n",
    "index_list = []\n",
    "noise_list = []\n",
    "anl_list = []\n",
    "quiet_list = []\n",
    "for i in range(81):\n",
    "    index_list.append(i + 1)\n",
    "    if i == 0:\n",
    "        noise_score = sum(data[noise]) / number\n",
    "        anl_score = sum(data[anl]) / number\n",
    "        quiet_score = sum(data[quiet]) / number\n",
    "    else:\n",
    "        noise_score = sum(data[noise + '.' + str(i)]) / number\n",
    "        anl_score = sum(data[anl + '.' + str(i)]) / number\n",
    "        quiet_score = sum(data[quiet + '.' + str(i)]) / number\n",
    "\n",
    "    noise_list.append(noise_score)\n",
    "    anl_list.append(anl_score)\n",
    "    quiet_list.append(quiet_score)\n",
    "\n",
    "processed_data['index'] = index_list\n",
    "processed_data['noise'] = noise_list\n",
    "processed_data['anl'] = anl_list\n",
    "processed_data['quiet'] = quiet_list"
   ],
   "metadata": {
    "collapsed": false,
    "pycharm": {
     "name": "#%%\n"
    }
   }
  },
  {
   "cell_type": "code",
   "execution_count": 22,
   "outputs": [
    {
     "data": {
      "text/plain": "    index  noise   anl  quiet\n0       1   5.00  5.35   4.50\n1       2   4.90  5.45   4.75\n2       3   5.40  5.80   5.05\n3       4   6.00  6.10   5.85\n4       5   5.60  5.90   5.20\n..    ...    ...   ...    ...\n76     77   4.75  4.80   4.15\n77     78   4.85  4.70   4.25\n78     79   5.60  5.60   5.10\n79     80   6.10  6.10   5.30\n80     81   3.30  3.20   3.15\n\n[81 rows x 4 columns]",
      "text/html": "<div>\n<style scoped>\n    .dataframe tbody tr th:only-of-type {\n        vertical-align: middle;\n    }\n\n    .dataframe tbody tr th {\n        vertical-align: top;\n    }\n\n    .dataframe thead th {\n        text-align: right;\n    }\n</style>\n<table border=\"1\" class=\"dataframe\">\n  <thead>\n    <tr style=\"text-align: right;\">\n      <th></th>\n      <th>index</th>\n      <th>noise</th>\n      <th>anl</th>\n      <th>quiet</th>\n    </tr>\n  </thead>\n  <tbody>\n    <tr>\n      <th>0</th>\n      <td>1</td>\n      <td>5.00</td>\n      <td>5.35</td>\n      <td>4.50</td>\n    </tr>\n    <tr>\n      <th>1</th>\n      <td>2</td>\n      <td>4.90</td>\n      <td>5.45</td>\n      <td>4.75</td>\n    </tr>\n    <tr>\n      <th>2</th>\n      <td>3</td>\n      <td>5.40</td>\n      <td>5.80</td>\n      <td>5.05</td>\n    </tr>\n    <tr>\n      <th>3</th>\n      <td>4</td>\n      <td>6.00</td>\n      <td>6.10</td>\n      <td>5.85</td>\n    </tr>\n    <tr>\n      <th>4</th>\n      <td>5</td>\n      <td>5.60</td>\n      <td>5.90</td>\n      <td>5.20</td>\n    </tr>\n    <tr>\n      <th>...</th>\n      <td>...</td>\n      <td>...</td>\n      <td>...</td>\n      <td>...</td>\n    </tr>\n    <tr>\n      <th>76</th>\n      <td>77</td>\n      <td>4.75</td>\n      <td>4.80</td>\n      <td>4.15</td>\n    </tr>\n    <tr>\n      <th>77</th>\n      <td>78</td>\n      <td>4.85</td>\n      <td>4.70</td>\n      <td>4.25</td>\n    </tr>\n    <tr>\n      <th>78</th>\n      <td>79</td>\n      <td>5.60</td>\n      <td>5.60</td>\n      <td>5.10</td>\n    </tr>\n    <tr>\n      <th>79</th>\n      <td>80</td>\n      <td>6.10</td>\n      <td>6.10</td>\n      <td>5.30</td>\n    </tr>\n    <tr>\n      <th>80</th>\n      <td>81</td>\n      <td>3.30</td>\n      <td>3.20</td>\n      <td>3.15</td>\n    </tr>\n  </tbody>\n</table>\n<p>81 rows × 4 columns</p>\n</div>"
     },
     "execution_count": 22,
     "metadata": {},
     "output_type": "execute_result"
    }
   ],
   "source": [
    "processed_data"
   ],
   "metadata": {
    "collapsed": false,
    "pycharm": {
     "name": "#%%\n"
    }
   }
  },
  {
   "cell_type": "code",
   "execution_count": 25,
   "outputs": [],
   "source": [
    "processed_data.to_csv(r'./output/处理后验证集20人.csv', index=False)"
   ],
   "metadata": {
    "collapsed": false,
    "pycharm": {
     "name": "#%%\n"
    }
   }
  },
  {
   "cell_type": "code",
   "execution_count": null,
   "outputs": [],
   "source": [],
   "metadata": {
    "collapsed": false,
    "pycharm": {
     "name": "#%%\n"
    }
   }
  }
 ],
 "metadata": {
  "kernelspec": {
   "display_name": "Python 3",
   "language": "python",
   "name": "python3"
  },
  "language_info": {
   "codemirror_mode": {
    "name": "ipython",
    "version": 2
   },
   "file_extension": ".py",
   "mimetype": "text/x-python",
   "name": "python",
   "nbconvert_exporter": "python",
   "pygments_lexer": "ipython2",
   "version": "2.7.6"
  }
 },
 "nbformat": 4,
 "nbformat_minor": 0
}
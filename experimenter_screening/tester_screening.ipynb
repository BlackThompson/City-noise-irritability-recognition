{
 "cells": [
  {
   "cell_type": "code",
   "execution_count": 1,
   "metadata": {
    "collapsed": true
   },
   "outputs": [
    {
     "name": "stdout",
     "output_type": "stream",
     "text": [
      "8\n",
      "12\n",
      "748\n"
     ]
    },
    {
     "data": {
      "text/plain": "    您的姓名：  01(水声)  01(鸟鸣虫叫)  01(风声)  01(喧闹声)  01(运动、说话、生活声)  01(音乐及歌曲声)  \\\n0     丁珂渴       0         1       0        1              0           0   \n1     门红邑       0         1       0        1              1           0   \n2     段佳慧       0         1       0        1              1           0   \n3      杨凡       0         1       0        0              1           0   \n4     刘瑞萌       0         1       0        0              0           0   \n..    ...     ...       ...     ...      ...            ...         ...   \n237   覃雪珍       0         1       0        0              0           0   \n238   陈浩源       0         1       0        1              0           0   \n239    赵超       0         1       1        1              1           0   \n240    危奎       1         0       0        1              0           1   \n241   李跃飞       0         1       0        1              0           0   \n\n     01(汽车声)  01(机器声)  01(其他)  ...  82(其他)  83(水声)  83(鸟鸣虫叫)  83(风声)  83(喧闹声)  \\\n0          0        0       0  ...       0       0         1       0        0   \n1          0        0       0  ...       0       0         1       1        1   \n2          0        0       0  ...       0       0         1       1        0   \n3          0        0       0  ...       0       0         1       0        0   \n4          0        0       0  ...       0       0         1       0        0   \n..       ...      ...     ...  ...     ...     ...       ...     ...      ...   \n237        0        0       0  ...       0       0         1       0        1   \n238        0        0       0  ...       0       0         1       1        0   \n239        0        0       1  ...       0       0         1       1        0   \n240        0        0       0  ...       0       0         1       0        0   \n241        0        0       1  ...       0       0         1       1        0   \n\n     83(运动、说话、生活声)  83(音乐及歌曲声)  83(汽车声)  83(机器声)  83(其他)  \n0                0           0        1        0       0  \n1                0           0        0        0       0  \n2                0           0        1        0       0  \n3                0           0        0        0       0  \n4                1           0        0        0       0  \n..             ...         ...      ...      ...     ...  \n237              0           0        0        0       0  \n238              0           0        1        0       0  \n239              0           0        0        1       0  \n240              0           0        0        0       0  \n241              0           0        0        1       0  \n\n[242 rows x 748 columns]",
      "text/html": "<div>\n<style scoped>\n    .dataframe tbody tr th:only-of-type {\n        vertical-align: middle;\n    }\n\n    .dataframe tbody tr th {\n        vertical-align: top;\n    }\n\n    .dataframe thead th {\n        text-align: right;\n    }\n</style>\n<table border=\"1\" class=\"dataframe\">\n  <thead>\n    <tr style=\"text-align: right;\">\n      <th></th>\n      <th>您的姓名：</th>\n      <th>01(水声)</th>\n      <th>01(鸟鸣虫叫)</th>\n      <th>01(风声)</th>\n      <th>01(喧闹声)</th>\n      <th>01(运动、说话、生活声)</th>\n      <th>01(音乐及歌曲声)</th>\n      <th>01(汽车声)</th>\n      <th>01(机器声)</th>\n      <th>01(其他)</th>\n      <th>...</th>\n      <th>82(其他)</th>\n      <th>83(水声)</th>\n      <th>83(鸟鸣虫叫)</th>\n      <th>83(风声)</th>\n      <th>83(喧闹声)</th>\n      <th>83(运动、说话、生活声)</th>\n      <th>83(音乐及歌曲声)</th>\n      <th>83(汽车声)</th>\n      <th>83(机器声)</th>\n      <th>83(其他)</th>\n    </tr>\n  </thead>\n  <tbody>\n    <tr>\n      <th>0</th>\n      <td>丁珂渴</td>\n      <td>0</td>\n      <td>1</td>\n      <td>0</td>\n      <td>1</td>\n      <td>0</td>\n      <td>0</td>\n      <td>0</td>\n      <td>0</td>\n      <td>0</td>\n      <td>...</td>\n      <td>0</td>\n      <td>0</td>\n      <td>1</td>\n      <td>0</td>\n      <td>0</td>\n      <td>0</td>\n      <td>0</td>\n      <td>1</td>\n      <td>0</td>\n      <td>0</td>\n    </tr>\n    <tr>\n      <th>1</th>\n      <td>门红邑</td>\n      <td>0</td>\n      <td>1</td>\n      <td>0</td>\n      <td>1</td>\n      <td>1</td>\n      <td>0</td>\n      <td>0</td>\n      <td>0</td>\n      <td>0</td>\n      <td>...</td>\n      <td>0</td>\n      <td>0</td>\n      <td>1</td>\n      <td>1</td>\n      <td>1</td>\n      <td>0</td>\n      <td>0</td>\n      <td>0</td>\n      <td>0</td>\n      <td>0</td>\n    </tr>\n    <tr>\n      <th>2</th>\n      <td>段佳慧</td>\n      <td>0</td>\n      <td>1</td>\n      <td>0</td>\n      <td>1</td>\n      <td>1</td>\n      <td>0</td>\n      <td>0</td>\n      <td>0</td>\n      <td>0</td>\n      <td>...</td>\n      <td>0</td>\n      <td>0</td>\n      <td>1</td>\n      <td>1</td>\n      <td>0</td>\n      <td>0</td>\n      <td>0</td>\n      <td>1</td>\n      <td>0</td>\n      <td>0</td>\n    </tr>\n    <tr>\n      <th>3</th>\n      <td>杨凡</td>\n      <td>0</td>\n      <td>1</td>\n      <td>0</td>\n      <td>0</td>\n      <td>1</td>\n      <td>0</td>\n      <td>0</td>\n      <td>0</td>\n      <td>0</td>\n      <td>...</td>\n      <td>0</td>\n      <td>0</td>\n      <td>1</td>\n      <td>0</td>\n      <td>0</td>\n      <td>0</td>\n      <td>0</td>\n      <td>0</td>\n      <td>0</td>\n      <td>0</td>\n    </tr>\n    <tr>\n      <th>4</th>\n      <td>刘瑞萌</td>\n      <td>0</td>\n      <td>1</td>\n      <td>0</td>\n      <td>0</td>\n      <td>0</td>\n      <td>0</td>\n      <td>0</td>\n      <td>0</td>\n      <td>0</td>\n      <td>...</td>\n      <td>0</td>\n      <td>0</td>\n      <td>1</td>\n      <td>0</td>\n      <td>0</td>\n      <td>1</td>\n      <td>0</td>\n      <td>0</td>\n      <td>0</td>\n      <td>0</td>\n    </tr>\n    <tr>\n      <th>...</th>\n      <td>...</td>\n      <td>...</td>\n      <td>...</td>\n      <td>...</td>\n      <td>...</td>\n      <td>...</td>\n      <td>...</td>\n      <td>...</td>\n      <td>...</td>\n      <td>...</td>\n      <td>...</td>\n      <td>...</td>\n      <td>...</td>\n      <td>...</td>\n      <td>...</td>\n      <td>...</td>\n      <td>...</td>\n      <td>...</td>\n      <td>...</td>\n      <td>...</td>\n      <td>...</td>\n    </tr>\n    <tr>\n      <th>237</th>\n      <td>覃雪珍</td>\n      <td>0</td>\n      <td>1</td>\n      <td>0</td>\n      <td>0</td>\n      <td>0</td>\n      <td>0</td>\n      <td>0</td>\n      <td>0</td>\n      <td>0</td>\n      <td>...</td>\n      <td>0</td>\n      <td>0</td>\n      <td>1</td>\n      <td>0</td>\n      <td>1</td>\n      <td>0</td>\n      <td>0</td>\n      <td>0</td>\n      <td>0</td>\n      <td>0</td>\n    </tr>\n    <tr>\n      <th>238</th>\n      <td>陈浩源</td>\n      <td>0</td>\n      <td>1</td>\n      <td>0</td>\n      <td>1</td>\n      <td>0</td>\n      <td>0</td>\n      <td>0</td>\n      <td>0</td>\n      <td>0</td>\n      <td>...</td>\n      <td>0</td>\n      <td>0</td>\n      <td>1</td>\n      <td>1</td>\n      <td>0</td>\n      <td>0</td>\n      <td>0</td>\n      <td>1</td>\n      <td>0</td>\n      <td>0</td>\n    </tr>\n    <tr>\n      <th>239</th>\n      <td>赵超</td>\n      <td>0</td>\n      <td>1</td>\n      <td>1</td>\n      <td>1</td>\n      <td>1</td>\n      <td>0</td>\n      <td>0</td>\n      <td>0</td>\n      <td>1</td>\n      <td>...</td>\n      <td>0</td>\n      <td>0</td>\n      <td>1</td>\n      <td>1</td>\n      <td>0</td>\n      <td>0</td>\n      <td>0</td>\n      <td>0</td>\n      <td>1</td>\n      <td>0</td>\n    </tr>\n    <tr>\n      <th>240</th>\n      <td>危奎</td>\n      <td>1</td>\n      <td>0</td>\n      <td>0</td>\n      <td>1</td>\n      <td>0</td>\n      <td>1</td>\n      <td>0</td>\n      <td>0</td>\n      <td>0</td>\n      <td>...</td>\n      <td>0</td>\n      <td>0</td>\n      <td>1</td>\n      <td>0</td>\n      <td>0</td>\n      <td>0</td>\n      <td>0</td>\n      <td>0</td>\n      <td>0</td>\n      <td>0</td>\n    </tr>\n    <tr>\n      <th>241</th>\n      <td>李跃飞</td>\n      <td>0</td>\n      <td>1</td>\n      <td>0</td>\n      <td>1</td>\n      <td>0</td>\n      <td>0</td>\n      <td>0</td>\n      <td>0</td>\n      <td>1</td>\n      <td>...</td>\n      <td>0</td>\n      <td>0</td>\n      <td>1</td>\n      <td>1</td>\n      <td>0</td>\n      <td>0</td>\n      <td>0</td>\n      <td>0</td>\n      <td>1</td>\n      <td>0</td>\n    </tr>\n  </tbody>\n</table>\n<p>242 rows × 748 columns</p>\n</div>"
     },
     "execution_count": 1,
     "metadata": {},
     "output_type": "execute_result"
    }
   ],
   "source": [
    "import pandas as pd\n",
    "import numpy as np\n",
    "\n",
    "data = pd.read_excel(r'./input/原始数据242.xlsx')\n",
    "# 不需要重新排序\n",
    "main_sound_onehot = pd.read_csv(r'./output/main_sound_onehot.csv', index_col=0)\n",
    "data\n",
    "\n",
    "# get the column index\n",
    "first_col_1 = data.columns.get_loc('01(水声)')\n",
    "first_col_last = data.columns.get_loc('01(其他)')\n",
    "second_col_1 = data.columns.get_loc('02(水声)')\n",
    "# 其实是9，这小学数学太害人了\n",
    "per_length = first_col_last - first_col_1\n",
    "interval = second_col_1 - first_col_1\n",
    "print(per_length)\n",
    "print(interval)\n",
    "\n",
    "processed_data = data.loc[:, '您的姓名：']\n",
    "# transfer to dataframe\n",
    "processed_data = processed_data.to_frame()\n",
    "data_length = data.shape[1]\n",
    "\n",
    "index = first_col_1\n",
    "while index < data_length - 1:\n",
    "    # 切记是左闭右开\n",
    "    temp = data.iloc[:, index:(index + per_length + 1)]\n",
    "    processed_data = processed_data.join(temp)\n",
    "    index += interval\n",
    "\n",
    "print(processed_data.shape[1])\n",
    "processed_data"
   ]
  },
  {
   "cell_type": "code",
   "execution_count": 2,
   "outputs": [
    {
     "data": {
      "text/plain": "    1.水声  2.鸟鸣虫叫  3.风声  4.喧闹声  5.生活声  6.音乐歌曲声  7.汽车声  8.机器声  9.其他 main sound\n1      0       1     0      0      1        0      0      0     0        2,5\n2      1       0     0      0      0        0      1      1     0      1,7,8\n3      0       0     0      0      1        0      1      0     0        5,7\n4      0       0     0      0      1        1      0      0     0        5,6\n5      1       1     0      0      1        0      0      0     0      1,2,5\n..   ...     ...   ...    ...    ...      ...    ...    ...   ...        ...\n79     0       1     0      0      0        0      0      1     0        2,8\n80     1       1     0      0      0        0      0      0     0        1,2\n81     0       0     0      0      0        0      1      1     0        7,8\n82     0       1     0      0      0        0      1      1     0      2,7,8\n83     0       1     0      0      0        0      0      0     0          2\n\n[83 rows x 10 columns]",
      "text/html": "<div>\n<style scoped>\n    .dataframe tbody tr th:only-of-type {\n        vertical-align: middle;\n    }\n\n    .dataframe tbody tr th {\n        vertical-align: top;\n    }\n\n    .dataframe thead th {\n        text-align: right;\n    }\n</style>\n<table border=\"1\" class=\"dataframe\">\n  <thead>\n    <tr style=\"text-align: right;\">\n      <th></th>\n      <th>1.水声</th>\n      <th>2.鸟鸣虫叫</th>\n      <th>3.风声</th>\n      <th>4.喧闹声</th>\n      <th>5.生活声</th>\n      <th>6.音乐歌曲声</th>\n      <th>7.汽车声</th>\n      <th>8.机器声</th>\n      <th>9.其他</th>\n      <th>main sound</th>\n    </tr>\n  </thead>\n  <tbody>\n    <tr>\n      <th>1</th>\n      <td>0</td>\n      <td>1</td>\n      <td>0</td>\n      <td>0</td>\n      <td>1</td>\n      <td>0</td>\n      <td>0</td>\n      <td>0</td>\n      <td>0</td>\n      <td>2,5</td>\n    </tr>\n    <tr>\n      <th>2</th>\n      <td>1</td>\n      <td>0</td>\n      <td>0</td>\n      <td>0</td>\n      <td>0</td>\n      <td>0</td>\n      <td>1</td>\n      <td>1</td>\n      <td>0</td>\n      <td>1,7,8</td>\n    </tr>\n    <tr>\n      <th>3</th>\n      <td>0</td>\n      <td>0</td>\n      <td>0</td>\n      <td>0</td>\n      <td>1</td>\n      <td>0</td>\n      <td>1</td>\n      <td>0</td>\n      <td>0</td>\n      <td>5,7</td>\n    </tr>\n    <tr>\n      <th>4</th>\n      <td>0</td>\n      <td>0</td>\n      <td>0</td>\n      <td>0</td>\n      <td>1</td>\n      <td>1</td>\n      <td>0</td>\n      <td>0</td>\n      <td>0</td>\n      <td>5,6</td>\n    </tr>\n    <tr>\n      <th>5</th>\n      <td>1</td>\n      <td>1</td>\n      <td>0</td>\n      <td>0</td>\n      <td>1</td>\n      <td>0</td>\n      <td>0</td>\n      <td>0</td>\n      <td>0</td>\n      <td>1,2,5</td>\n    </tr>\n    <tr>\n      <th>...</th>\n      <td>...</td>\n      <td>...</td>\n      <td>...</td>\n      <td>...</td>\n      <td>...</td>\n      <td>...</td>\n      <td>...</td>\n      <td>...</td>\n      <td>...</td>\n      <td>...</td>\n    </tr>\n    <tr>\n      <th>79</th>\n      <td>0</td>\n      <td>1</td>\n      <td>0</td>\n      <td>0</td>\n      <td>0</td>\n      <td>0</td>\n      <td>0</td>\n      <td>1</td>\n      <td>0</td>\n      <td>2,8</td>\n    </tr>\n    <tr>\n      <th>80</th>\n      <td>1</td>\n      <td>1</td>\n      <td>0</td>\n      <td>0</td>\n      <td>0</td>\n      <td>0</td>\n      <td>0</td>\n      <td>0</td>\n      <td>0</td>\n      <td>1,2</td>\n    </tr>\n    <tr>\n      <th>81</th>\n      <td>0</td>\n      <td>0</td>\n      <td>0</td>\n      <td>0</td>\n      <td>0</td>\n      <td>0</td>\n      <td>1</td>\n      <td>1</td>\n      <td>0</td>\n      <td>7,8</td>\n    </tr>\n    <tr>\n      <th>82</th>\n      <td>0</td>\n      <td>1</td>\n      <td>0</td>\n      <td>0</td>\n      <td>0</td>\n      <td>0</td>\n      <td>1</td>\n      <td>1</td>\n      <td>0</td>\n      <td>2,7,8</td>\n    </tr>\n    <tr>\n      <th>83</th>\n      <td>0</td>\n      <td>1</td>\n      <td>0</td>\n      <td>0</td>\n      <td>0</td>\n      <td>0</td>\n      <td>0</td>\n      <td>0</td>\n      <td>0</td>\n      <td>2</td>\n    </tr>\n  </tbody>\n</table>\n<p>83 rows × 10 columns</p>\n</div>"
     },
     "execution_count": 2,
     "metadata": {},
     "output_type": "execute_result"
    }
   ],
   "source": [
    "main_sound_onehot"
   ],
   "metadata": {
    "collapsed": false,
    "pycharm": {
     "name": "#%%\n"
    }
   }
  },
  {
   "cell_type": "code",
   "execution_count": 3,
   "outputs": [
    {
     "data": {
      "text/plain": "    您的姓名：  sound1  sound2  sound3  sound4  sound5  sound6  sound7  sound8  \\\n0     丁珂渴       0       0       0       0       0       0       0       0   \n1     门红邑       0       0       0       0       0       0       0       0   \n2     段佳慧       0       0       0       0       0       0       0       0   \n3      杨凡       0       0       0       0       0       0       0       0   \n4     刘瑞萌       0       0       0       0       0       0       0       0   \n..    ...     ...     ...     ...     ...     ...     ...     ...     ...   \n237   覃雪珍       0       0       0       0       0       0       0       0   \n238   陈浩源       0       0       0       0       0       0       0       0   \n239    赵超       0       0       0       0       0       0       0       0   \n240    危奎       0       0       0       0       0       0       0       0   \n241   李跃飞       0       0       0       0       0       0       0       0   \n\n     sound9  ...  sound74  sound75  sound76  sound77  sound78  sound79  \\\n0         0  ...        0        0        0        0        0        0   \n1         0  ...        0        0        0        0        0        0   \n2         0  ...        0        0        0        0        0        0   \n3         0  ...        0        0        0        0        0        0   \n4         0  ...        0        0        0        0        0        0   \n..      ...  ...      ...      ...      ...      ...      ...      ...   \n237       0  ...        0        0        0        0        0        0   \n238       0  ...        0        0        0        0        0        0   \n239       0  ...        0        0        0        0        0        0   \n240       0  ...        0        0        0        0        0        0   \n241       0  ...        0        0        0        0        0        0   \n\n     sound80  sound81  sound82  sound83  \n0          0        0        0        0  \n1          0        0        0        0  \n2          0        0        0        0  \n3          0        0        0        0  \n4          0        0        0        0  \n..       ...      ...      ...      ...  \n237        0        0        0        0  \n238        0        0        0        0  \n239        0        0        0        0  \n240        0        0        0        0  \n241        0        0        0        0  \n\n[242 rows x 84 columns]",
      "text/html": "<div>\n<style scoped>\n    .dataframe tbody tr th:only-of-type {\n        vertical-align: middle;\n    }\n\n    .dataframe tbody tr th {\n        vertical-align: top;\n    }\n\n    .dataframe thead th {\n        text-align: right;\n    }\n</style>\n<table border=\"1\" class=\"dataframe\">\n  <thead>\n    <tr style=\"text-align: right;\">\n      <th></th>\n      <th>您的姓名：</th>\n      <th>sound1</th>\n      <th>sound2</th>\n      <th>sound3</th>\n      <th>sound4</th>\n      <th>sound5</th>\n      <th>sound6</th>\n      <th>sound7</th>\n      <th>sound8</th>\n      <th>sound9</th>\n      <th>...</th>\n      <th>sound74</th>\n      <th>sound75</th>\n      <th>sound76</th>\n      <th>sound77</th>\n      <th>sound78</th>\n      <th>sound79</th>\n      <th>sound80</th>\n      <th>sound81</th>\n      <th>sound82</th>\n      <th>sound83</th>\n    </tr>\n  </thead>\n  <tbody>\n    <tr>\n      <th>0</th>\n      <td>丁珂渴</td>\n      <td>0</td>\n      <td>0</td>\n      <td>0</td>\n      <td>0</td>\n      <td>0</td>\n      <td>0</td>\n      <td>0</td>\n      <td>0</td>\n      <td>0</td>\n      <td>...</td>\n      <td>0</td>\n      <td>0</td>\n      <td>0</td>\n      <td>0</td>\n      <td>0</td>\n      <td>0</td>\n      <td>0</td>\n      <td>0</td>\n      <td>0</td>\n      <td>0</td>\n    </tr>\n    <tr>\n      <th>1</th>\n      <td>门红邑</td>\n      <td>0</td>\n      <td>0</td>\n      <td>0</td>\n      <td>0</td>\n      <td>0</td>\n      <td>0</td>\n      <td>0</td>\n      <td>0</td>\n      <td>0</td>\n      <td>...</td>\n      <td>0</td>\n      <td>0</td>\n      <td>0</td>\n      <td>0</td>\n      <td>0</td>\n      <td>0</td>\n      <td>0</td>\n      <td>0</td>\n      <td>0</td>\n      <td>0</td>\n    </tr>\n    <tr>\n      <th>2</th>\n      <td>段佳慧</td>\n      <td>0</td>\n      <td>0</td>\n      <td>0</td>\n      <td>0</td>\n      <td>0</td>\n      <td>0</td>\n      <td>0</td>\n      <td>0</td>\n      <td>0</td>\n      <td>...</td>\n      <td>0</td>\n      <td>0</td>\n      <td>0</td>\n      <td>0</td>\n      <td>0</td>\n      <td>0</td>\n      <td>0</td>\n      <td>0</td>\n      <td>0</td>\n      <td>0</td>\n    </tr>\n    <tr>\n      <th>3</th>\n      <td>杨凡</td>\n      <td>0</td>\n      <td>0</td>\n      <td>0</td>\n      <td>0</td>\n      <td>0</td>\n      <td>0</td>\n      <td>0</td>\n      <td>0</td>\n      <td>0</td>\n      <td>...</td>\n      <td>0</td>\n      <td>0</td>\n      <td>0</td>\n      <td>0</td>\n      <td>0</td>\n      <td>0</td>\n      <td>0</td>\n      <td>0</td>\n      <td>0</td>\n      <td>0</td>\n    </tr>\n    <tr>\n      <th>4</th>\n      <td>刘瑞萌</td>\n      <td>0</td>\n      <td>0</td>\n      <td>0</td>\n      <td>0</td>\n      <td>0</td>\n      <td>0</td>\n      <td>0</td>\n      <td>0</td>\n      <td>0</td>\n      <td>...</td>\n      <td>0</td>\n      <td>0</td>\n      <td>0</td>\n      <td>0</td>\n      <td>0</td>\n      <td>0</td>\n      <td>0</td>\n      <td>0</td>\n      <td>0</td>\n      <td>0</td>\n    </tr>\n    <tr>\n      <th>...</th>\n      <td>...</td>\n      <td>...</td>\n      <td>...</td>\n      <td>...</td>\n      <td>...</td>\n      <td>...</td>\n      <td>...</td>\n      <td>...</td>\n      <td>...</td>\n      <td>...</td>\n      <td>...</td>\n      <td>...</td>\n      <td>...</td>\n      <td>...</td>\n      <td>...</td>\n      <td>...</td>\n      <td>...</td>\n      <td>...</td>\n      <td>...</td>\n      <td>...</td>\n      <td>...</td>\n    </tr>\n    <tr>\n      <th>237</th>\n      <td>覃雪珍</td>\n      <td>0</td>\n      <td>0</td>\n      <td>0</td>\n      <td>0</td>\n      <td>0</td>\n      <td>0</td>\n      <td>0</td>\n      <td>0</td>\n      <td>0</td>\n      <td>...</td>\n      <td>0</td>\n      <td>0</td>\n      <td>0</td>\n      <td>0</td>\n      <td>0</td>\n      <td>0</td>\n      <td>0</td>\n      <td>0</td>\n      <td>0</td>\n      <td>0</td>\n    </tr>\n    <tr>\n      <th>238</th>\n      <td>陈浩源</td>\n      <td>0</td>\n      <td>0</td>\n      <td>0</td>\n      <td>0</td>\n      <td>0</td>\n      <td>0</td>\n      <td>0</td>\n      <td>0</td>\n      <td>0</td>\n      <td>...</td>\n      <td>0</td>\n      <td>0</td>\n      <td>0</td>\n      <td>0</td>\n      <td>0</td>\n      <td>0</td>\n      <td>0</td>\n      <td>0</td>\n      <td>0</td>\n      <td>0</td>\n    </tr>\n    <tr>\n      <th>239</th>\n      <td>赵超</td>\n      <td>0</td>\n      <td>0</td>\n      <td>0</td>\n      <td>0</td>\n      <td>0</td>\n      <td>0</td>\n      <td>0</td>\n      <td>0</td>\n      <td>0</td>\n      <td>...</td>\n      <td>0</td>\n      <td>0</td>\n      <td>0</td>\n      <td>0</td>\n      <td>0</td>\n      <td>0</td>\n      <td>0</td>\n      <td>0</td>\n      <td>0</td>\n      <td>0</td>\n    </tr>\n    <tr>\n      <th>240</th>\n      <td>危奎</td>\n      <td>0</td>\n      <td>0</td>\n      <td>0</td>\n      <td>0</td>\n      <td>0</td>\n      <td>0</td>\n      <td>0</td>\n      <td>0</td>\n      <td>0</td>\n      <td>...</td>\n      <td>0</td>\n      <td>0</td>\n      <td>0</td>\n      <td>0</td>\n      <td>0</td>\n      <td>0</td>\n      <td>0</td>\n      <td>0</td>\n      <td>0</td>\n      <td>0</td>\n    </tr>\n    <tr>\n      <th>241</th>\n      <td>李跃飞</td>\n      <td>0</td>\n      <td>0</td>\n      <td>0</td>\n      <td>0</td>\n      <td>0</td>\n      <td>0</td>\n      <td>0</td>\n      <td>0</td>\n      <td>0</td>\n      <td>...</td>\n      <td>0</td>\n      <td>0</td>\n      <td>0</td>\n      <td>0</td>\n      <td>0</td>\n      <td>0</td>\n      <td>0</td>\n      <td>0</td>\n      <td>0</td>\n      <td>0</td>\n    </tr>\n  </tbody>\n</table>\n<p>242 rows × 84 columns</p>\n</div>"
     },
     "execution_count": 3,
     "metadata": {},
     "output_type": "execute_result"
    }
   ],
   "source": [
    "tester = processed_data['您的姓名：']\n",
    "tester = tester.to_frame()\n",
    "people_num = tester.shape[0]\n",
    "\n",
    "for i in range(83):\n",
    "    sound_name = 'sound' + str(i + 1)\n",
    "    tester[sound_name] = 0\n",
    "\n",
    "tester"
   ],
   "metadata": {
    "collapsed": false,
    "pycharm": {
     "name": "#%%\n"
    }
   }
  },
  {
   "cell_type": "code",
   "execution_count": 4,
   "outputs": [],
   "source": [
    "def heard_main_ratio(heard_list, main_list):\n",
    "    main = 0\n",
    "    heard = 0\n",
    "    main_in_heard = 0\n",
    "    for i in range(len(heard_list)):\n",
    "        # 选中主要声音\n",
    "        if heard_list[i] == 1:\n",
    "            heard += 1\n",
    "        if main_list[i] == 1:\n",
    "            main += 1\n",
    "        if main_list[i] == 1 & heard_list[i] == 1:\n",
    "            main_in_heard += 1\n",
    "\n",
    "    ratio = 1 * (main_in_heard / main) * (main_in_heard / heard)\n",
    "\n",
    "    return ratio"
   ],
   "metadata": {
    "collapsed": false,
    "pycharm": {
     "name": "#%%\n"
    }
   }
  },
  {
   "cell_type": "code",
   "execution_count": 5,
   "outputs": [],
   "source": [
    "# temp_main_sound = []\n",
    "# temp_tester_heard = []\n",
    "main_sound_onehot_array = main_sound_onehot.iloc[:, 0:9].values\n",
    "for i in range(people_num):\n",
    "    sound_index = 1\n",
    "    k = 0\n",
    "    while sound_index < processed_data.shape[1]:\n",
    "        temp_main_sound = []\n",
    "        temp_tester_heard = []\n",
    "\n",
    "        # 读取某个人听到的某一段声音的类别\n",
    "        for j in range(9):\n",
    "            temp_tester_heard.append(processed_data.iloc[i, sound_index])\n",
    "            sound_index += 1\n",
    "\n",
    "        temp_main_sound = main_sound_onehot_array[k].tolist()\n",
    "        ratio = heard_main_ratio(temp_tester_heard, temp_main_sound)\n",
    "        tester.iloc[i, k + 1] = ratio\n",
    "        k += 1"
   ],
   "metadata": {
    "collapsed": false,
    "pycharm": {
     "name": "#%%\n"
    }
   }
  },
  {
   "cell_type": "code",
   "execution_count": 6,
   "outputs": [],
   "source": [
    "tester['people_score'] = tester.mean(axis = 1)\n",
    "tester.loc['sound_score'] = tester.mean()"
   ],
   "metadata": {
    "collapsed": false,
    "pycharm": {
     "name": "#%%\n"
    }
   }
  },
  {
   "cell_type": "code",
   "execution_count": 10,
   "outputs": [],
   "source": [
    "tester = tester.round(2)\n",
    "tester.to_csv(r\"./output/tester_score.csv\", encoding='utf_8_sig')"
   ],
   "metadata": {
    "collapsed": false,
    "pycharm": {
     "name": "#%%\n"
    }
   }
  },
  {
   "cell_type": "code",
   "execution_count": 8,
   "outputs": [],
   "source": [
    "# sound_index = 1\n",
    "# main_sound_onehot_array = main_sound_onehot.iloc[:, 0:9].values\n",
    "# main_sound_onehot_array\n",
    "# while sound_index < processed_data.shape[1]:\n",
    "#     temp_main_sound = []\n",
    "#     temp_tester_heard = []\n",
    "#     for j in range(9):\n",
    "#         temp_tester_heard.append(processed_data.iloc[1, sound_index])\n",
    "#         sound_index += 1\n",
    "#\n",
    "# print(temp_main_sound)\n",
    "# print(temp_tester_heard)\n",
    "# main_sound_onehot_array = main_sound_onehot.iloc[:, 0:9].values\n",
    "# main_sound_onehot_array[0].tolist()"
   ],
   "metadata": {
    "collapsed": false,
    "pycharm": {
     "name": "#%%\n"
    }
   }
  },
  {
   "cell_type": "code",
   "execution_count": 8,
   "outputs": [],
   "source": [
    "\n",
    "\n"
   ],
   "metadata": {
    "collapsed": false,
    "pycharm": {
     "name": "#%%\n"
    }
   }
  }
 ],
 "metadata": {
  "kernelspec": {
   "display_name": "Python 3",
   "language": "python",
   "name": "python3"
  },
  "language_info": {
   "codemirror_mode": {
    "name": "ipython",
    "version": 2
   },
   "file_extension": ".py",
   "mimetype": "text/x-python",
   "name": "python",
   "nbconvert_exporter": "python",
   "pygments_lexer": "ipython2",
   "version": "2.7.6"
  }
 },
 "nbformat": 4,
 "nbformat_minor": 0
}
{
 "cells": [
  {
   "cell_type": "code",
   "execution_count": 5,
   "metadata": {
    "collapsed": true
   },
   "outputs": [],
   "source": [
    "import os\n",
    "import pandas as pd\n",
    "import os\n",
    "from soundtype_params import SoundtypeParams\n",
    "import numpy as np\n",
    "import xlrd\n",
    "import pandas as pd\n",
    "\n",
    "# F:\\中建科技项目数据\\history\\use\\2021-12-27\\xls\\Record109848.xls\n",
    "\n",
    "root_dir = r\"F:\\中建科技项目数据\\history\\use\"\n",
    "file_name = \"Record109848\" + \".xls\""
   ]
  },
  {
   "cell_type": "code",
   "execution_count": 6,
   "outputs": [],
   "source": [
    "# 输入根目录和文件名，返回文件路径\n",
    "def seek_files(root_dir, file_name):\n",
    "    for root, dirs, files in os.walk(root_dir):\n",
    "        if file_name in files:\n",
    "            path = \"{0}\\\\{1}\".format(root, file_name)\n",
    "            path = path.replace('\\\\', '/')\n",
    "    return path"
   ],
   "metadata": {
    "collapsed": false,
    "pycharm": {
     "name": "#%%\n"
    }
   }
  },
  {
   "cell_type": "code",
   "execution_count": 7,
   "outputs": [
    {
     "ename": "UnboundLocalError",
     "evalue": "local variable 'path' referenced before assignment",
     "output_type": "error",
     "traceback": [
      "\u001B[1;31m---------------------------------------------------------------------------\u001B[0m",
      "\u001B[1;31mUnboundLocalError\u001B[0m                         Traceback (most recent call last)",
      "Input \u001B[1;32mIn [7]\u001B[0m, in \u001B[0;36m<cell line: 1>\u001B[1;34m()\u001B[0m\n\u001B[1;32m----> 1\u001B[0m path \u001B[38;5;241m=\u001B[39m \u001B[43mseek_files\u001B[49m\u001B[43m(\u001B[49m\u001B[43mroot_dir\u001B[49m\u001B[43m,\u001B[49m\u001B[43m \u001B[49m\u001B[43mfile_name\u001B[49m\u001B[43m)\u001B[49m\n\u001B[0;32m      2\u001B[0m path\n",
      "Input \u001B[1;32mIn [6]\u001B[0m, in \u001B[0;36mseek_files\u001B[1;34m(root_dir, file_name)\u001B[0m\n\u001B[0;32m      5\u001B[0m         path \u001B[38;5;241m=\u001B[39m \u001B[38;5;124m\"\u001B[39m\u001B[38;5;132;01m{0}\u001B[39;00m\u001B[38;5;130;01m\\\\\u001B[39;00m\u001B[38;5;132;01m{1}\u001B[39;00m\u001B[38;5;124m\"\u001B[39m\u001B[38;5;241m.\u001B[39mformat(root, file_name)\n\u001B[0;32m      6\u001B[0m         path \u001B[38;5;241m=\u001B[39m path\u001B[38;5;241m.\u001B[39mreplace(\u001B[38;5;124m'\u001B[39m\u001B[38;5;130;01m\\\\\u001B[39;00m\u001B[38;5;124m'\u001B[39m, \u001B[38;5;124m'\u001B[39m\u001B[38;5;124m/\u001B[39m\u001B[38;5;124m'\u001B[39m)\n\u001B[1;32m----> 7\u001B[0m \u001B[38;5;28;01mreturn\u001B[39;00m \u001B[43mpath\u001B[49m\n",
      "\u001B[1;31mUnboundLocalError\u001B[0m: local variable 'path' referenced before assignment"
     ]
    }
   ],
   "source": [
    "path = seek_files(root_dir, file_name)\n",
    "path"
   ],
   "metadata": {
    "collapsed": false,
    "pycharm": {
     "name": "#%%\n"
    }
   }
  },
  {
   "cell_type": "code",
   "execution_count": null,
   "outputs": [],
   "source": [
    "# 读取麒麟山庄的对照表\n",
    "qilin_path = r'.\\input\\2021 新闻大厦 麒麟山庄数据.xlsx'\n",
    "qilin_name = \"麒麟山庄\"\n",
    "qilin_data = pd.read_excel(qilin_path, sheet_name=qilin_name)\n",
    "# 抽取出leq在50-70之间的\n",
    "qilin_use_data = qilin_data[(float(50) < qilin_data['Leq']) & (qilin_data['Leq'] < float(70))]\n",
    "# 重新编号\n",
    "qilin_use_data.reset_index(drop=True, inplace=True)\n",
    "qilin_use_data"
   ],
   "metadata": {
    "collapsed": false,
    "pycharm": {
     "name": "#%%\n"
    }
   }
  },
  {
   "cell_type": "code",
   "execution_count": null,
   "outputs": [],
   "source": [
    "# 提取每个文件的特征\n",
    "def extract_features(path):\n",
    "    wb = xlrd.open_workbook(path)\n",
    "    params_dict = {}\n",
    "\n",
    "    for idx in range(6):\n",
    "        sheet = wb.sheet_by_index(idx)\n",
    "        # 读取同一个excel文件中的不同sheet\n",
    "        print(\"Sheet\", idx + 1)\n",
    "        param_type = sheet.cell(10, 1).value\n",
    "        if param_type == 'pressure':\n",
    "            param_type = 'Leq'\n",
    "        elif param_type == 'fluctuation strength':\n",
    "            param_type = 'Fluct'\n",
    "        else:\n",
    "            # 不用小写\n",
    "            # param_type = param_type.lower()\n",
    "            # 首字母大写\n",
    "            param_type = param_type.capitalize()\n",
    "        values = []\n",
    "        times = []\n",
    "\n",
    "        for i in range(15, sheet.nrows):\n",
    "            time = float(sheet.cell(i, 0).value)\n",
    "            values.append(float(sheet.cell(i, 1).value))\n",
    "            times.append(time)\n",
    "\n",
    "        values = np.array(values)\n",
    "        times = np.array(times)\n",
    "        mean = values.mean()\n",
    "        var = values.var()\n",
    "        std = values.std(ddof=1)\n",
    "        max = values.max()\n",
    "        p_10 = np.percentile(values, 10, interpolation='midpoint')\n",
    "        p_25 = np.percentile(values, 25, interpolation='midpoint')\n",
    "        p_50 = np.percentile(values, 50, interpolation='midpoint')\n",
    "        p_75 = np.percentile(values, 75, interpolation='midpoint')\n",
    "        p_90 = np.percentile(values, 90, interpolation='midpoint')\n",
    "        p_10_90 = p_90 - p_10\n",
    "\n",
    "        params_dict[\"%s_mean\" % param_type] = mean\n",
    "        params_dict[\"%s_var\" % param_type] = var\n",
    "        params_dict[\"%s_std\" % param_type] = std\n",
    "        params_dict[\"%s_max\" % param_type] = max\n",
    "        params_dict[\"%s_10\" % param_type] = p_10\n",
    "        params_dict[\"%s_25\" % param_type] = p_25\n",
    "        params_dict[\"%s_median\" % param_type] = p_50\n",
    "        params_dict[\"%s_75\" % param_type] = p_75\n",
    "        params_dict[\"%s_90\" % param_type] = p_90\n",
    "        params_dict[\"%s_10_90\" % param_type] = p_10_90\n",
    "\n",
    "    soundtype_params = None\n",
    "    try:\n",
    "        file_name = os.path.basename(path).replace(\"xlsx\", \"wav\")\n",
    "        print(file_name, \"is processed !\")\n",
    "        leq_mean = params_dict[\"Leq_mean\"]\n",
    "        leq_std = params_dict[\"Leq_std\"]\n",
    "        leq_25 = params_dict[\"Leq_25\"]\n",
    "        leq_median = params_dict[\"Leq_median\"]\n",
    "        leq_75 = params_dict[\"Leq_75\"]\n",
    "        leq_10_90 = params_dict[\"Leq_10_90\"]\n",
    "        loudness_mean = params_dict[\"Loudness_mean\"]\n",
    "        loudness_std = params_dict[\"Loudness_std\"]\n",
    "        loudness_25 = params_dict[\"Loudness_25\"]\n",
    "        loudness_median = params_dict[\"Loudness_median\"]\n",
    "        loudness_75 = params_dict[\"Loudness_75\"]\n",
    "        loudness_10_90 = params_dict[\"Loudness_10_90\"]\n",
    "        roughness_mean = params_dict[\"Roughness_mean\"]\n",
    "        roughness_std = params_dict[\"Roughness_std\"]\n",
    "        roughness_25 = params_dict[\"Roughness_25\"]\n",
    "        roughness_median = params_dict[\"Roughness_median\"]\n",
    "        roughness_75 = params_dict[\"Roughness_75\"]\n",
    "        roughness_10_90 = params_dict[\"Roughness_10_90\"]\n",
    "        sharpness_mean = params_dict[\"Sharpness_mean\"]\n",
    "        sharpness_std = params_dict[\"Sharpness_std\"]\n",
    "        sharpness_25 = params_dict[\"Sharpness_25\"]\n",
    "        sharpness_median = params_dict[\"Sharpness_median\"]\n",
    "        sharpness_75 = params_dict[\"Sharpness_75\"]\n",
    "        sharpness_10_90 = params_dict[\"Sharpness_10_90\"]\n",
    "        fluct_mean = params_dict[\"Fluct_mean\"]\n",
    "        fluct_std = params_dict[\"Fluct_std\"]\n",
    "        fluct_25 = params_dict[\"Fluct_25\"]\n",
    "        fluct_median = params_dict[\"Fluct_median\"]\n",
    "        fluct_75 = params_dict[\"Fluct_75\"]\n",
    "        fluct_10_90 = params_dict[\"Fluct_10_90\"]\n",
    "        tonality_mean = params_dict[\"Tonality_mean\"]\n",
    "        tonality_std = params_dict[\"Tonality_std\"]\n",
    "        tonality_25 = params_dict[\"Tonality_25\"]\n",
    "        tonality_median = params_dict[\"Tonality_median\"]\n",
    "        tonality_75 = params_dict[\"Tonality_75\"]\n",
    "        tonality_10_90 = params_dict[\"Tonality_10_90\"]\n",
    "        soundtype_params = SoundtypeParams(file_name, leq_mean, leq_std, leq_25, leq_median, leq_75, leq_10_90,\n",
    "                                           loudness_mean, loudness_std, loudness_25, loudness_median, loudness_75,\n",
    "                                           loudness_10_90, roughness_mean, roughness_std, roughness_25,\n",
    "                                           roughness_median, roughness_75, roughness_10_90, sharpness_mean,\n",
    "                                           sharpness_std, sharpness_25, sharpness_median, sharpness_75, sharpness_10_90,\n",
    "                                           fluct_mean, fluct_std, fluct_25, fluct_median, fluct_75, fluct_10_90,\n",
    "                                           tonality_mean, tonality_std, tonality_25, tonality_median, tonality_75,\n",
    "                                           tonality_10_90)\n",
    "    except Exception as e:\n",
    "        print(\"[ERROR] XlsProcessor: %s\" % e)\n",
    "\n",
    "    params_dict[\"name\"] = os.path.basename(path)\n",
    "    single_data = pd.DataFrame(params_dict, [0])\n",
    "\n",
    "    return single_data"
   ],
   "metadata": {
    "collapsed": false,
    "pycharm": {
     "name": "#%%\n"
    }
   }
  },
  {
   "cell_type": "code",
   "execution_count": null,
   "outputs": [],
   "source": [
    "# 测试例子\n",
    "path = r'F:\\中建科技项目数据\\history\\use\\2021-12-27\\xls\\Record109848.xls'\n",
    "example = extract_features(path)\n",
    "columns = example.columns"
   ],
   "metadata": {
    "collapsed": false,
    "pycharm": {
     "name": "#%%\n"
    }
   }
  },
  {
   "cell_type": "code",
   "execution_count": null,
   "outputs": [],
   "source": [
    "# 新建一个dataframe用来存储麒麟山庄的特征\n",
    "qilin_features = pd.DataFrame(columns=columns)\n",
    "root_dir = r\"F:\\中建科技项目数据\\history\\use\"\n",
    "\n",
    "# 循环执行,只用qilin_use_data\n",
    "for i in range(len(qilin_use_data)):\n",
    "    file_name = qilin_use_data.loc[i,\"file_name\"] + \".xls\"\n",
    "    # 查找路径\n",
    "    path = seek_files(root_dir, file_name)\n",
    "    # 提取特征\n",
    "    single_data = extract_features(path)\n",
    "    # 记住要 = ！！！！！！！！！！！！！！！！！！！！！！！！！！！！！！！！！！！！！！！\n",
    "    # 血泪史\n",
    "    qilin_features = qilin_features.append(single_data,ignore_index=True)\n",
    "\n",
    "qilin_features"
   ],
   "metadata": {
    "collapsed": false,
    "pycharm": {
     "name": "#%%\n"
    }
   }
  },
  {
   "cell_type": "code",
   "execution_count": null,
   "outputs": [],
   "source": [
    "# test\n",
    "single_data = extract_features(r'F:\\中建科技项目数据\\history\\use\\2021-12-27\\xls\\Record109848.xls')\n",
    "single_data\n",
    "a = pd.DataFrame(columns=columns)\n",
    "a = a.append(single_data)\n",
    "a = a.append(single_data)\n",
    "a = a.append(single_data,ignore_index=True)\n",
    "a"
   ],
   "metadata": {
    "collapsed": false,
    "pycharm": {
     "name": "#%%\n"
    }
   }
  },
  {
   "cell_type": "code",
   "execution_count": null,
   "outputs": [],
   "source": [
    "write_path = r'.\\output\\qilin_features.csv'\n",
    "qilin_features.to_csv(write_path)"
   ],
   "metadata": {
    "collapsed": false,
    "pycharm": {
     "name": "#%%\n"
    }
   }
  },
  {
   "cell_type": "code",
   "execution_count": null,
   "outputs": [],
   "source": [],
   "metadata": {
    "collapsed": false,
    "pycharm": {
     "name": "#%%\n"
    }
   }
  }
 ],
 "metadata": {
  "kernelspec": {
   "display_name": "Python 3",
   "language": "python",
   "name": "python3"
  },
  "language_info": {
   "codemirror_mode": {
    "name": "ipython",
    "version": 2
   },
   "file_extension": ".py",
   "mimetype": "text/x-python",
   "name": "python",
   "nbconvert_exporter": "python",
   "pygments_lexer": "ipython2",
   "version": "2.7.6"
  }
 },
 "nbformat": 4,
 "nbformat_minor": 0
}
{
 "cells": [
  {
   "cell_type": "code",
   "execution_count": 31,
   "metadata": {
    "collapsed": true
   },
   "outputs": [
    {
     "data": {
      "text/plain": "<Figure size 432x288 with 1 Axes>",
      "image/png": "[encoded data removed]"
     },
     "metadata": {
      "needs_background": "light"
     },
     "output_type": "display_data"
    },
    {
     "name": "stdout",
     "output_type": "stream",
     "text": [
      "[3.8663946]\n"
     ]
    }
   ],
   "source": [
    "from scipy.optimize import fsolve\n",
    "import numpy as np\n",
    "import matplotlib.pyplot as plt\n",
    "\n",
    "mu1, sigma1 = 6.5, 0.3444\n",
    "mu2, sigma2 = 5.3, 0.247\n",
    "mu3, sigma3 = 4.42, 0.209\n",
    "mu4, sigma4 = 3.667, 0.26\n",
    "\n",
    "\n",
    "# 定义4个正态分布\n",
    "def norm1(x):\n",
    "    return np.exp(-((x - mu1) ** 2) / (2 * sigma1 ** 2)) / (np.sqrt(2 * np.pi) * sigma1)\n",
    "\n",
    "\n",
    "def norm2(x):\n",
    "    return np.exp(-((x - mu2) ** 2) / (2 * sigma2 ** 2)) / (np.sqrt(2 * np.pi) * sigma2)\n",
    "\n",
    "\n",
    "def norm3(x):\n",
    "    return np.exp(-((x - mu3) ** 2) / (2 * sigma3 ** 2)) / (np.sqrt(2 * np.pi) * sigma3)\n",
    "\n",
    "\n",
    "def norm4(x):\n",
    "    return np.exp(-((x - mu4) ** 2) / (2 * sigma4 ** 2)) / (np.sqrt(2 * np.pi) * sigma4)\n",
    "\n",
    "\n",
    "# 绘制两个正态分布的图像\n",
    "x = np.linspace(-10, 20, 200)\n",
    "plt.plot(x, norm1(x), label='norm1')\n",
    "plt.plot(x, norm2(x), label='norm2')\n",
    "plt.plot(x, norm3(x), label='norm3')\n",
    "plt.plot(x, norm4(x), label='norm4')\n",
    "plt.legend()\n",
    "plt.show()\n",
    "\n",
    "\n",
    "# 定义相交的函数\n",
    "def f(x):\n",
    "    return norm4(x) - 20 * norm3(x)\n",
    "\n",
    "\n",
    "# 初始猜测值\n",
    "x0 = np.mean([mu3, mu4])\n",
    "\n",
    "# 求解相交时的x值\n",
    "result = fsolve(f, x0=x0)\n",
    "print(result)"
   ]
  },
  {
   "cell_type": "code",
   "execution_count": 32,
   "outputs": [
    {
     "data": {
      "text/plain": "1"
     },
     "execution_count": 32,
     "metadata": {},
     "output_type": "execute_result"
    }
   ],
   "source": [
    "min([1])"
   ],
   "metadata": {
    "collapsed": false,
    "pycharm": {
     "name": "#%%\n"
    }
   }
  },
  {
   "cell_type": "code",
   "execution_count": null,
   "outputs": [],
   "source": [],
   "metadata": {
    "collapsed": false,
    "pycharm": {
     "name": "#%%\n"
    }
   }
  }
 ],
 "metadata": {
  "kernelspec": {
   "display_name": "Python 3",
   "language": "python",
   "name": "python3"
  },
  "language_info": {
   "codemirror_mode": {
    "name": "ipython",
    "version": 2
   },
   "file_extension": ".py",
   "mimetype": "text/x-python",
   "name": "python",
   "nbconvert_exporter": "python",
   "pygments_lexer": "ipython2",
   "version": "2.7.6"
  }
 },
 "nbformat": 4,
 "nbformat_minor": 0
}
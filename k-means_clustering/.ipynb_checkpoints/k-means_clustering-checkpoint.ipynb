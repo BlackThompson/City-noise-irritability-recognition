{
 "cells": [
  {
   "cell_type": "code",
   "execution_count": 6,
   "id": "b9ccf7e9",
   "metadata": {},
   "outputs": [],
   "source": [
    "import numpy as np\n",
    "import pandas as pd\n",
    "import torch\n",
    "pd.reset_option('display.max_columns', None)\n",
    "pd.set_option('display.max_rows', None)"
   ]
  },
  {
   "cell_type": "code",
   "execution_count": 7,
   "id": "4faf4e90",
   "metadata": {},
   "outputs": [
    {
     "data": {
      "text/plain": [
       "tensor(12.)"
      ]
     },
     "execution_count": 7,
     "metadata": {},
     "output_type": "execute_result"
    }
   ],
   "source": [
    "# test\n",
    "x = torch.Tensor([1,2,3])\n",
    "x\n",
    "y = torch.Tensor([3,4,5])\n",
    "z = (y - x)**2\n",
    "z\n",
    "z.sum()"
   ]
  },
  {
   "cell_type": "code",
   "execution_count": 8,
   "id": "636e9ac6",
   "metadata": {},
   "outputs": [
    {
     "data": {
      "text/plain": [
       "(6747, 132)"
      ]
     },
     "execution_count": 8,
     "metadata": {},
     "output_type": "execute_result"
    }
   ],
   "source": [
    "feature = pd.read_excel(r'./input/feature.xls')\n",
    "feature.shape"
   ]
  },
  {
   "cell_type": "code",
   "execution_count": 14,
   "id": "80f07192",
   "metadata": {},
   "outputs": [
    {
     "data": {
      "text/plain": [
       "Index(['Leq_mean', 'Leq_var', 'Leq_std', 'Leq_max', 'Leq_10', 'Leq_25',\n",
       "       'Leq_median', 'Leq_75', 'Leq_90', 'Leq_10-Leq_90',\n",
       "       ...\n",
       "       'sharpness_deviation2', 'tonality_tmax', 'tonality_phimax',\n",
       "       'tonality_w', 'tonality_te', 'tonality_emd', 'tonality_esm',\n",
       "       'tonality_slop1', 'tonality_slop2', 'tonality_deviation1'],\n",
       "      dtype='object', length=121)"
      ]
     },
     "execution_count": 14,
     "metadata": {},
     "output_type": "execute_result"
    }
   ],
   "source": [
    "# extract effective feature\n",
    "col = feature.columns[10:-1]\n",
    "col"
   ]
  },
  {
   "cell_type": "code",
   "execution_count": 15,
   "id": "e22bcdca",
   "metadata": {},
   "outputs": [
    {
     "data": {
      "text/html": [
       "<div>\n",
       "<style scoped>\n",
       "    .dataframe tbody tr th:only-of-type {\n",
       "        vertical-align: middle;\n",
       "    }\n",
       "\n",
       "    .dataframe tbody tr th {\n",
       "        vertical-align: top;\n",
       "    }\n",
       "\n",
       "    .dataframe thead th {\n",
       "        text-align: right;\n",
       "    }\n",
       "</style>\n",
       "<table border=\"1\" class=\"dataframe\">\n",
       "  <thead>\n",
       "    <tr style=\"text-align: right;\">\n",
       "      <th></th>\n",
       "      <th>Leq_mean</th>\n",
       "      <th>Leq_var</th>\n",
       "      <th>Leq_std</th>\n",
       "      <th>Leq_max</th>\n",
       "      <th>Leq_10</th>\n",
       "      <th>Leq_25</th>\n",
       "      <th>Leq_median</th>\n",
       "      <th>Leq_75</th>\n",
       "      <th>Leq_90</th>\n",
       "      <th>Leq_10-Leq_90</th>\n",
       "      <th>...</th>\n",
       "      <th>sharpness_deviation2</th>\n",
       "      <th>tonality_tmax</th>\n",
       "      <th>tonality_phimax</th>\n",
       "      <th>tonality_w</th>\n",
       "      <th>tonality_te</th>\n",
       "      <th>tonality_emd</th>\n",
       "      <th>tonality_esm</th>\n",
       "      <th>tonality_slop1</th>\n",
       "      <th>tonality_slop2</th>\n",
       "      <th>tonality_deviation1</th>\n",
       "    </tr>\n",
       "  </thead>\n",
       "  <tbody>\n",
       "    <tr>\n",
       "      <th>0</th>\n",
       "      <td>49.88</td>\n",
       "      <td>1.93</td>\n",
       "      <td>1.39</td>\n",
       "      <td>54.25</td>\n",
       "      <td>48.18</td>\n",
       "      <td>48.84</td>\n",
       "      <td>49.75</td>\n",
       "      <td>50.67</td>\n",
       "      <td>51.74</td>\n",
       "      <td>-3.56</td>\n",
       "      <td>...</td>\n",
       "      <td>0.22449</td>\n",
       "      <td>1.48699</td>\n",
       "      <td>0.12229</td>\n",
       "      <td>0.04647</td>\n",
       "      <td>3.34572</td>\n",
       "      <td>0.01873</td>\n",
       "      <td>0.75760</td>\n",
       "      <td>-0.28448</td>\n",
       "      <td>-0.41390</td>\n",
       "      <td>0.37501</td>\n",
       "    </tr>\n",
       "    <tr>\n",
       "      <th>1</th>\n",
       "      <td>49.71</td>\n",
       "      <td>2.68</td>\n",
       "      <td>1.64</td>\n",
       "      <td>54.70</td>\n",
       "      <td>47.90</td>\n",
       "      <td>48.37</td>\n",
       "      <td>49.31</td>\n",
       "      <td>50.83</td>\n",
       "      <td>52.21</td>\n",
       "      <td>-4.31</td>\n",
       "      <td>...</td>\n",
       "      <td>0.34575</td>\n",
       "      <td>4.50743</td>\n",
       "      <td>0.11179</td>\n",
       "      <td>0.04647</td>\n",
       "      <td>13.66171</td>\n",
       "      <td>0.02127</td>\n",
       "      <td>0.76335</td>\n",
       "      <td>0.68212</td>\n",
       "      <td>-0.54530</td>\n",
       "      <td>0.11233</td>\n",
       "    </tr>\n",
       "    <tr>\n",
       "      <th>2</th>\n",
       "      <td>50.53</td>\n",
       "      <td>9.36</td>\n",
       "      <td>3.06</td>\n",
       "      <td>55.87</td>\n",
       "      <td>46.26</td>\n",
       "      <td>48.45</td>\n",
       "      <td>51.20</td>\n",
       "      <td>52.79</td>\n",
       "      <td>53.95</td>\n",
       "      <td>-7.69</td>\n",
       "      <td>...</td>\n",
       "      <td>0.35291</td>\n",
       "      <td>9.47955</td>\n",
       "      <td>0.08939</td>\n",
       "      <td>0.13941</td>\n",
       "      <td>5.15799</td>\n",
       "      <td>0.01710</td>\n",
       "      <td>0.68687</td>\n",
       "      <td>0.09005</td>\n",
       "      <td>-0.88356</td>\n",
       "      <td>0.02650</td>\n",
       "    </tr>\n",
       "    <tr>\n",
       "      <th>3</th>\n",
       "      <td>49.96</td>\n",
       "      <td>13.89</td>\n",
       "      <td>3.73</td>\n",
       "      <td>57.87</td>\n",
       "      <td>45.00</td>\n",
       "      <td>46.82</td>\n",
       "      <td>50.18</td>\n",
       "      <td>52.87</td>\n",
       "      <td>55.17</td>\n",
       "      <td>-10.17</td>\n",
       "      <td>...</td>\n",
       "      <td>0.27142</td>\n",
       "      <td>0.46468</td>\n",
       "      <td>0.08878</td>\n",
       "      <td>0.04647</td>\n",
       "      <td>11.94238</td>\n",
       "      <td>0.02049</td>\n",
       "      <td>0.76139</td>\n",
       "      <td>0.13123</td>\n",
       "      <td>-0.13545</td>\n",
       "      <td>0.07406</td>\n",
       "    </tr>\n",
       "    <tr>\n",
       "      <th>4</th>\n",
       "      <td>50.51</td>\n",
       "      <td>3.25</td>\n",
       "      <td>1.80</td>\n",
       "      <td>58.05</td>\n",
       "      <td>48.56</td>\n",
       "      <td>49.16</td>\n",
       "      <td>50.09</td>\n",
       "      <td>51.52</td>\n",
       "      <td>52.70</td>\n",
       "      <td>-4.14</td>\n",
       "      <td>...</td>\n",
       "      <td>0.14822</td>\n",
       "      <td>1.20818</td>\n",
       "      <td>0.11093</td>\n",
       "      <td>0.04647</td>\n",
       "      <td>15.84572</td>\n",
       "      <td>0.02380</td>\n",
       "      <td>0.79167</td>\n",
       "      <td>-0.78949</td>\n",
       "      <td>-0.07725</td>\n",
       "      <td>0.23485</td>\n",
       "    </tr>\n",
       "  </tbody>\n",
       "</table>\n",
       "<p>5 rows × 121 columns</p>\n",
       "</div>"
      ],
      "text/plain": [
       "   Leq_mean  Leq_var  Leq_std  Leq_max  Leq_10  Leq_25  Leq_median  Leq_75  \\\n",
       "0     49.88     1.93     1.39    54.25   48.18   48.84       49.75   50.67   \n",
       "1     49.71     2.68     1.64    54.70   47.90   48.37       49.31   50.83   \n",
       "2     50.53     9.36     3.06    55.87   46.26   48.45       51.20   52.79   \n",
       "3     49.96    13.89     3.73    57.87   45.00   46.82       50.18   52.87   \n",
       "4     50.51     3.25     1.80    58.05   48.56   49.16       50.09   51.52   \n",
       "\n",
       "   Leq_90  Leq_10-Leq_90  ...  sharpness_deviation2  tonality_tmax  \\\n",
       "0   51.74          -3.56  ...               0.22449        1.48699   \n",
       "1   52.21          -4.31  ...               0.34575        4.50743   \n",
       "2   53.95          -7.69  ...               0.35291        9.47955   \n",
       "3   55.17         -10.17  ...               0.27142        0.46468   \n",
       "4   52.70          -4.14  ...               0.14822        1.20818   \n",
       "\n",
       "   tonality_phimax  tonality_w  tonality_te  tonality_emd  tonality_esm  \\\n",
       "0          0.12229     0.04647      3.34572       0.01873       0.75760   \n",
       "1          0.11179     0.04647     13.66171       0.02127       0.76335   \n",
       "2          0.08939     0.13941      5.15799       0.01710       0.68687   \n",
       "3          0.08878     0.04647     11.94238       0.02049       0.76139   \n",
       "4          0.11093     0.04647     15.84572       0.02380       0.79167   \n",
       "\n",
       "   tonality_slop1  tonality_slop2  tonality_deviation1  \n",
       "0        -0.28448        -0.41390              0.37501  \n",
       "1         0.68212        -0.54530              0.11233  \n",
       "2         0.09005        -0.88356              0.02650  \n",
       "3         0.13123        -0.13545              0.07406  \n",
       "4        -0.78949        -0.07725              0.23485  \n",
       "\n",
       "[5 rows x 121 columns]"
      ]
     },
     "execution_count": 15,
     "metadata": {},
     "output_type": "execute_result"
    }
   ],
   "source": [
    "feature_use = feature[col]\n",
    "feature_use.head()"
   ]
  },
  {
   "cell_type": "code",
   "execution_count": 4,
   "id": "d554b53b",
   "metadata": {},
   "outputs": [],
   "source": [
    "# Euclidean distance\n",
    "def distEu(x, y):\n",
    "    sum = np.sqrt(np.sum((x-y)**2))\n",
    "    return sum"
   ]
  },
  {
   "cell_type": "code",
   "execution_count": 17,
   "id": "ec34ab8c",
   "metadata": {},
   "outputs": [],
   "source": [
    "# A set of K random centers of mass\n",
    "def randCenter(dataSet, k):\n",
    "    # m represents row\n",
    "    # n represents col\n",
    "    m, n = dataSet.shape\n",
    "    \n",
    "    # initialize center\n",
    "    centroid = np.zeros((k,n))\n",
    "    \n",
    "    # traverse\n",
    "    for i in range(k):\n",
    "        # index为0-m之间的随机整数\n",
    "        index = int(np.random.uniform(0,m))\n",
    "        # calculate centroid and assign \n",
    "        centroid[i,:] = dataSet[index,:]\n",
    "        return centroid\n",
    "        \n",
    "# k-means clustering\n",
    "def KMeans(dataSet, k):\n",
    "    m = np.shape(dataSet)[0]\n",
    "    \n",
    "    # 初始化一个矩阵来储存每个点的簇分配结果\n",
    "    # clusterAssment包含两列：一列记录簇索引值，二列存储当前点到簇质心的距离（用来评价聚类的效果）\n",
    "    clusterAssment = np.mat(np.zeros((m,2)))\n",
    "    clusterChange = True\n",
    "    \n",
    "    # 创建质心\n",
    "    centroid = randCenter(dataSet, k)\n",
    "    # 初始化标志变量，用于判断迭代是否继续，如果True，则迭代继续\n",
    "    while clusterChange:\n",
    "        "
   ]
  },
  {
   "cell_type": "code",
   "execution_count": 19,
   "id": "8a9643d6",
   "metadata": {},
   "outputs": [
    {
     "data": {
      "text/plain": [
       "132"
      ]
     },
     "execution_count": 19,
     "metadata": {},
     "output_type": "execute_result"
    }
   ],
   "source": [
    "# np.random.uniform?\n"
   ]
  },
  {
   "cell_type": "code",
   "execution_count": null,
   "id": "a1a50e87",
   "metadata": {},
   "outputs": [],
   "source": []
  }
 ],
 "metadata": {
  "kernelspec": {
   "display_name": "Python 3 (ipykernel)",
   "language": "python",
   "name": "python3"
  },
  "language_info": {
   "codemirror_mode": {
    "name": "ipython",
    "version": 3
   },
   "file_extension": ".py",
   "mimetype": "text/x-python",
   "name": "python",
   "nbconvert_exporter": "python",
   "pygments_lexer": "ipython3",
   "version": "3.9.12"
  }
 },
 "nbformat": 4,
 "nbformat_minor": 5
}

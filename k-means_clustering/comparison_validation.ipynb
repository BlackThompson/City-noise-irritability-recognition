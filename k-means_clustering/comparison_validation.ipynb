{
 "cells": [
  {
   "cell_type": "code",
   "execution_count": 10,
   "metadata": {
    "collapsed": true
   },
   "outputs": [],
   "source": [
    "from numpy import random\n",
    "import numpy as np\n",
    "import pandas as pd\n",
    "\n",
    "pd.reset_option('display.max_columns', None)\n",
    "pd.set_option('display.max_rows', None)\n",
    "# 主观评价44个值在6000多个中的对应\n",
    "slice_position = pd.read_excel(r'./input/Slice_position_44.xls')\n",
    "# cluster_assessment = pd.read_csv(r'./output/clusterAssment.csv')\n",
    "cluster_assessment = pd.read_csv(r'./output/clusterAssment_42_features.csv')"
   ]
  },
  {
   "cell_type": "code",
   "execution_count": 11,
   "outputs": [
    {
     "data": {
      "text/plain": "array([[0, '1-L-1.wav', 2.0, 4.653327626819997],\n       [1, '1-L-2.wav', 2.0, 4.8581048061360494],\n       [2, '2-L-1.wav', 2.0, 4.543657947677066],\n       ...,\n       [6674, '702-L-7.wav', 0.0, 6.032761366041218],\n       [6675, '702-L-8.wav', 0.0, 5.961812567511225],\n       [6676, '702-L-9.wav', 0.0, 15.600922818142257]], dtype=object)"
     },
     "execution_count": 11,
     "metadata": {},
     "output_type": "execute_result"
    }
   ],
   "source": [
    "type(cluster_assessment)\n",
    "# dataframe转化为ndarray\n",
    "cluster_assessment = cluster_assessment.values\n",
    "cluster_assessment"
   ],
   "metadata": {
    "collapsed": false,
    "pycharm": {
     "name": "#%%\n"
    }
   }
  },
  {
   "cell_type": "code",
   "execution_count": 12,
   "outputs": [
    {
     "data": {
      "text/plain": "44"
     },
     "execution_count": 12,
     "metadata": {},
     "output_type": "execute_result"
    }
   ],
   "source": [
    "slice_position.shape[0]"
   ],
   "metadata": {
    "collapsed": false,
    "pycharm": {
     "name": "#%%\n"
    }
   }
  },
  {
   "cell_type": "code",
   "execution_count": 13,
   "outputs": [
    {
     "data": {
      "text/plain": "    44_index   702_id left-right       6747_id  subjective_eva  cluster_result\n0          1   37.hdf       0-25    37-L-1.wav              -1              -1\n1          2  142.hdf      20-45   142-L-1.wav              -1              -1\n2          3   40.hdf      10-35    40-L-1.wav              -1              -1\n3          4   32.hdf      10-35    32-L-1.wav              -1              -1\n4          5  112.hdf      20-45   112-L-1.wav              -1              -1\n5          6  127.hdf      20-45   127-L-1.wav              -1              -1\n6          7   47.hdf       0-25    47-L-1.wav              -1              -1\n7          8  149.hdf       0-25   149-L-1.wav              -1              -1\n8          9  435.hdf       0-25   435-L-1.wav              -1              -1\n9         10    1.hdf       0-25     1-L-1.wav              -1              -1\n10        11  699.hdf      20-45   699-L-1.wav              -1              -1\n11        12   31.hdf      25-50    31-L-2.wav              -1              -1\n12        13    4.hdf      25-50     4-L-2.wav              -1              -1\n13        14   14.hdf       0-25    14-L-1.wav              -1              -1\n14        15   53.hdf      10-35    53-L-1.wav              -1              -1\n15        16    7.hdf    200-225     7-L-1.wav              -1              -1\n16        17  338.hdf      50-75   338-L-3.wav              -1              -1\n17        18  110.hdf    100-125   110-L-1.wav              -1              -1\n18        19  360.hdf      35-60   360-L-2.wav              -1              -1\n19        20  251.hdf    198-223   251-L-7.wav              -1              -1\n20        21   77.hdf      20-45    77-L-1.wav              -1              -1\n21        22  427.hdf      15-40   427-L-1.wav              -1              -1\n22        23  201.hdf      25-50   201-L-2.wav              -1              -1\n23        24  365.hdf       0-25   365-L-1.wav              -1              -1\n24        25  295.hdf    120-145   295-L-5.wav              -1              -1\n25        26  567.hdf    115-140   567-L-5.wav              -1              -1\n26        27  303.hdf      50-75   303-L-3.wav              -1              -1\n27        28  186.hdf    150-175   186-L-7.wav              -1              -1\n28        29  186.hdf      60-85  186-L-29.wav              -1              -1\n29        30  438.hdf      65-90   438-L-3.wav              -1              -1\n30        31  407.hdf    200-225   407-L-9.wav              -1              -1\n31        32  221.hdf    200-225   221-L-9.wav              -1              -1\n32        33  227.hdf    135-160   227-L-6.wav              -1              -1\n33        34  555.hdf    115-140   555-L-5.wav              -1              -1\n34        35  450.hdf    250-275  450-L-11.wav              -1              -1\n35        36  657.hdf      30-55   657-L-2.wav              -1              -1\n36        37  409.hdf      50-75   409-L-3.wav              -1              -1\n37        38  686.hdf    150-175   686-L-7.wav              -1              -1\n38        39  410.hdf       0-25   410-L-1.wav              -1              -1\n39        40  527.hdf    100-125   527-L-5.wav              -1              -1\n40        41  281.hdf    150-175   281-L-7.wav              -1              -1\n41        42  684.hdf    200-225   684-L-9.wav              -1              -1\n42        43  687.hdf      50-75   687-L-3.wav              -1              -1\n43        44  615.hdf    165-190   615-L-7.wav              -1              -1",
      "text/html": "<div>\n<style scoped>\n    .dataframe tbody tr th:only-of-type {\n        vertical-align: middle;\n    }\n\n    .dataframe tbody tr th {\n        vertical-align: top;\n    }\n\n    .dataframe thead th {\n        text-align: right;\n    }\n</style>\n<table border=\"1\" class=\"dataframe\">\n  <thead>\n    <tr style=\"text-align: right;\">\n      <th></th>\n      <th>44_index</th>\n      <th>702_id</th>\n      <th>left-right</th>\n      <th>6747_id</th>\n      <th>subjective_eva</th>\n      <th>cluster_result</th>\n    </tr>\n  </thead>\n  <tbody>\n    <tr>\n      <th>0</th>\n      <td>1</td>\n      <td>37.hdf</td>\n      <td>0-25</td>\n      <td>37-L-1.wav</td>\n      <td>-1</td>\n      <td>-1</td>\n    </tr>\n    <tr>\n      <th>1</th>\n      <td>2</td>\n      <td>142.hdf</td>\n      <td>20-45</td>\n      <td>142-L-1.wav</td>\n      <td>-1</td>\n      <td>-1</td>\n    </tr>\n    <tr>\n      <th>2</th>\n      <td>3</td>\n      <td>40.hdf</td>\n      <td>10-35</td>\n      <td>40-L-1.wav</td>\n      <td>-1</td>\n      <td>-1</td>\n    </tr>\n    <tr>\n      <th>3</th>\n      <td>4</td>\n      <td>32.hdf</td>\n      <td>10-35</td>\n      <td>32-L-1.wav</td>\n      <td>-1</td>\n      <td>-1</td>\n    </tr>\n    <tr>\n      <th>4</th>\n      <td>5</td>\n      <td>112.hdf</td>\n      <td>20-45</td>\n      <td>112-L-1.wav</td>\n      <td>-1</td>\n      <td>-1</td>\n    </tr>\n    <tr>\n      <th>5</th>\n      <td>6</td>\n      <td>127.hdf</td>\n      <td>20-45</td>\n      <td>127-L-1.wav</td>\n      <td>-1</td>\n      <td>-1</td>\n    </tr>\n    <tr>\n      <th>6</th>\n      <td>7</td>\n      <td>47.hdf</td>\n      <td>0-25</td>\n      <td>47-L-1.wav</td>\n      <td>-1</td>\n      <td>-1</td>\n    </tr>\n    <tr>\n      <th>7</th>\n      <td>8</td>\n      <td>149.hdf</td>\n      <td>0-25</td>\n      <td>149-L-1.wav</td>\n      <td>-1</td>\n      <td>-1</td>\n    </tr>\n    <tr>\n      <th>8</th>\n      <td>9</td>\n      <td>435.hdf</td>\n      <td>0-25</td>\n      <td>435-L-1.wav</td>\n      <td>-1</td>\n      <td>-1</td>\n    </tr>\n    <tr>\n      <th>9</th>\n      <td>10</td>\n      <td>1.hdf</td>\n      <td>0-25</td>\n      <td>1-L-1.wav</td>\n      <td>-1</td>\n      <td>-1</td>\n    </tr>\n    <tr>\n      <th>10</th>\n      <td>11</td>\n      <td>699.hdf</td>\n      <td>20-45</td>\n      <td>699-L-1.wav</td>\n      <td>-1</td>\n      <td>-1</td>\n    </tr>\n    <tr>\n      <th>11</th>\n      <td>12</td>\n      <td>31.hdf</td>\n      <td>25-50</td>\n      <td>31-L-2.wav</td>\n      <td>-1</td>\n      <td>-1</td>\n    </tr>\n    <tr>\n      <th>12</th>\n      <td>13</td>\n      <td>4.hdf</td>\n      <td>25-50</td>\n      <td>4-L-2.wav</td>\n      <td>-1</td>\n      <td>-1</td>\n    </tr>\n    <tr>\n      <th>13</th>\n      <td>14</td>\n      <td>14.hdf</td>\n      <td>0-25</td>\n      <td>14-L-1.wav</td>\n      <td>-1</td>\n      <td>-1</td>\n    </tr>\n    <tr>\n      <th>14</th>\n      <td>15</td>\n      <td>53.hdf</td>\n      <td>10-35</td>\n      <td>53-L-1.wav</td>\n      <td>-1</td>\n      <td>-1</td>\n    </tr>\n    <tr>\n      <th>15</th>\n      <td>16</td>\n      <td>7.hdf</td>\n      <td>200-225</td>\n      <td>7-L-1.wav</td>\n      <td>-1</td>\n      <td>-1</td>\n    </tr>\n    <tr>\n      <th>16</th>\n      <td>17</td>\n      <td>338.hdf</td>\n      <td>50-75</td>\n      <td>338-L-3.wav</td>\n      <td>-1</td>\n      <td>-1</td>\n    </tr>\n    <tr>\n      <th>17</th>\n      <td>18</td>\n      <td>110.hdf</td>\n      <td>100-125</td>\n      <td>110-L-1.wav</td>\n      <td>-1</td>\n      <td>-1</td>\n    </tr>\n    <tr>\n      <th>18</th>\n      <td>19</td>\n      <td>360.hdf</td>\n      <td>35-60</td>\n      <td>360-L-2.wav</td>\n      <td>-1</td>\n      <td>-1</td>\n    </tr>\n    <tr>\n      <th>19</th>\n      <td>20</td>\n      <td>251.hdf</td>\n      <td>198-223</td>\n      <td>251-L-7.wav</td>\n      <td>-1</td>\n      <td>-1</td>\n    </tr>\n    <tr>\n      <th>20</th>\n      <td>21</td>\n      <td>77.hdf</td>\n      <td>20-45</td>\n      <td>77-L-1.wav</td>\n      <td>-1</td>\n      <td>-1</td>\n    </tr>\n    <tr>\n      <th>21</th>\n      <td>22</td>\n      <td>427.hdf</td>\n      <td>15-40</td>\n      <td>427-L-1.wav</td>\n      <td>-1</td>\n      <td>-1</td>\n    </tr>\n    <tr>\n      <th>22</th>\n      <td>23</td>\n      <td>201.hdf</td>\n      <td>25-50</td>\n      <td>201-L-2.wav</td>\n      <td>-1</td>\n      <td>-1</td>\n    </tr>\n    <tr>\n      <th>23</th>\n      <td>24</td>\n      <td>365.hdf</td>\n      <td>0-25</td>\n      <td>365-L-1.wav</td>\n      <td>-1</td>\n      <td>-1</td>\n    </tr>\n    <tr>\n      <th>24</th>\n      <td>25</td>\n      <td>295.hdf</td>\n      <td>120-145</td>\n      <td>295-L-5.wav</td>\n      <td>-1</td>\n      <td>-1</td>\n    </tr>\n    <tr>\n      <th>25</th>\n      <td>26</td>\n      <td>567.hdf</td>\n      <td>115-140</td>\n      <td>567-L-5.wav</td>\n      <td>-1</td>\n      <td>-1</td>\n    </tr>\n    <tr>\n      <th>26</th>\n      <td>27</td>\n      <td>303.hdf</td>\n      <td>50-75</td>\n      <td>303-L-3.wav</td>\n      <td>-1</td>\n      <td>-1</td>\n    </tr>\n    <tr>\n      <th>27</th>\n      <td>28</td>\n      <td>186.hdf</td>\n      <td>150-175</td>\n      <td>186-L-7.wav</td>\n      <td>-1</td>\n      <td>-1</td>\n    </tr>\n    <tr>\n      <th>28</th>\n      <td>29</td>\n      <td>186.hdf</td>\n      <td>60-85</td>\n      <td>186-L-29.wav</td>\n      <td>-1</td>\n      <td>-1</td>\n    </tr>\n    <tr>\n      <th>29</th>\n      <td>30</td>\n      <td>438.hdf</td>\n      <td>65-90</td>\n      <td>438-L-3.wav</td>\n      <td>-1</td>\n      <td>-1</td>\n    </tr>\n    <tr>\n      <th>30</th>\n      <td>31</td>\n      <td>407.hdf</td>\n      <td>200-225</td>\n      <td>407-L-9.wav</td>\n      <td>-1</td>\n      <td>-1</td>\n    </tr>\n    <tr>\n      <th>31</th>\n      <td>32</td>\n      <td>221.hdf</td>\n      <td>200-225</td>\n      <td>221-L-9.wav</td>\n      <td>-1</td>\n      <td>-1</td>\n    </tr>\n    <tr>\n      <th>32</th>\n      <td>33</td>\n      <td>227.hdf</td>\n      <td>135-160</td>\n      <td>227-L-6.wav</td>\n      <td>-1</td>\n      <td>-1</td>\n    </tr>\n    <tr>\n      <th>33</th>\n      <td>34</td>\n      <td>555.hdf</td>\n      <td>115-140</td>\n      <td>555-L-5.wav</td>\n      <td>-1</td>\n      <td>-1</td>\n    </tr>\n    <tr>\n      <th>34</th>\n      <td>35</td>\n      <td>450.hdf</td>\n      <td>250-275</td>\n      <td>450-L-11.wav</td>\n      <td>-1</td>\n      <td>-1</td>\n    </tr>\n    <tr>\n      <th>35</th>\n      <td>36</td>\n      <td>657.hdf</td>\n      <td>30-55</td>\n      <td>657-L-2.wav</td>\n      <td>-1</td>\n      <td>-1</td>\n    </tr>\n    <tr>\n      <th>36</th>\n      <td>37</td>\n      <td>409.hdf</td>\n      <td>50-75</td>\n      <td>409-L-3.wav</td>\n      <td>-1</td>\n      <td>-1</td>\n    </tr>\n    <tr>\n      <th>37</th>\n      <td>38</td>\n      <td>686.hdf</td>\n      <td>150-175</td>\n      <td>686-L-7.wav</td>\n      <td>-1</td>\n      <td>-1</td>\n    </tr>\n    <tr>\n      <th>38</th>\n      <td>39</td>\n      <td>410.hdf</td>\n      <td>0-25</td>\n      <td>410-L-1.wav</td>\n      <td>-1</td>\n      <td>-1</td>\n    </tr>\n    <tr>\n      <th>39</th>\n      <td>40</td>\n      <td>527.hdf</td>\n      <td>100-125</td>\n      <td>527-L-5.wav</td>\n      <td>-1</td>\n      <td>-1</td>\n    </tr>\n    <tr>\n      <th>40</th>\n      <td>41</td>\n      <td>281.hdf</td>\n      <td>150-175</td>\n      <td>281-L-7.wav</td>\n      <td>-1</td>\n      <td>-1</td>\n    </tr>\n    <tr>\n      <th>41</th>\n      <td>42</td>\n      <td>684.hdf</td>\n      <td>200-225</td>\n      <td>684-L-9.wav</td>\n      <td>-1</td>\n      <td>-1</td>\n    </tr>\n    <tr>\n      <th>42</th>\n      <td>43</td>\n      <td>687.hdf</td>\n      <td>50-75</td>\n      <td>687-L-3.wav</td>\n      <td>-1</td>\n      <td>-1</td>\n    </tr>\n    <tr>\n      <th>43</th>\n      <td>44</td>\n      <td>615.hdf</td>\n      <td>165-190</td>\n      <td>615-L-7.wav</td>\n      <td>-1</td>\n      <td>-1</td>\n    </tr>\n  </tbody>\n</table>\n</div>"
     },
     "execution_count": 13,
     "metadata": {},
     "output_type": "execute_result"
    }
   ],
   "source": [
    "slice_position['subjective_eva'] = -1\n",
    "slice_position['cluster_result'] = -1\n",
    "slice_position"
   ],
   "metadata": {
    "collapsed": false,
    "pycharm": {
     "name": "#%%\n"
    }
   }
  },
  {
   "cell_type": "code",
   "execution_count": 14,
   "outputs": [],
   "source": [
    "# 用于匹配数字\n",
    "def match_number(num, array):\n",
    "    flag = False\n",
    "    for i in range(len(array)):\n",
    "        if num == array[i]:\n",
    "            flag = True\n",
    "\n",
    "    return flag"
   ],
   "metadata": {
    "collapsed": false,
    "pycharm": {
     "name": "#%%\n"
    }
   }
  },
  {
   "cell_type": "code",
   "execution_count": 15,
   "outputs": [
    {
     "data": {
      "text/plain": "False"
     },
     "execution_count": 15,
     "metadata": {},
     "output_type": "execute_result"
    }
   ],
   "source": [
    "a = [1, 2, 3]\n",
    "b = 4\n",
    "flag = match_number(b, a)\n",
    "flag\n"
   ],
   "metadata": {
    "collapsed": false,
    "pycharm": {
     "name": "#%%\n"
    }
   }
  },
  {
   "cell_type": "code",
   "execution_count": 16,
   "outputs": [
    {
     "name": "stdout",
     "output_type": "stream",
     "text": [
      "True\n"
     ]
    }
   ],
   "source": [
    "a = 'a'\n",
    "b = 'a'\n",
    "print(a == b)"
   ],
   "metadata": {
    "collapsed": false,
    "pycharm": {
     "name": "#%%\n"
    }
   }
  },
  {
   "cell_type": "code",
   "execution_count": 17,
   "outputs": [],
   "source": [
    "for i in range(slice_position.shape[0]):\n",
    "\n",
    "    # 给subjective_eva赋值\n",
    "    index = slice_position.loc[i, '44_index']\n",
    "    id = slice_position.loc[i, '6747_id']\n",
    "\n",
    "    points_1 = [1, 4, 2, 8, 6, 5, 3]\n",
    "    points_2 = [11, 9, 41, 25, 15, 12, 19, 39, 18, 22, 27, 7, 28]\n",
    "    points_3 = [10, 29, 23, 26, 17, 34, 31, 38, 20, 43, 14, 40, 33, 13, 24, 36, 32, 35, 21, 16]\n",
    "    points_4 = [30, 44, 37, 42]\n",
    "\n",
    "    if match_number(index, points_1):\n",
    "        slice_position.loc[i, 'subjective_eva'] = 1\n",
    "    elif match_number(index, points_2):\n",
    "        slice_position.loc[i, 'subjective_eva'] = 2\n",
    "    elif match_number(index, points_3):\n",
    "        slice_position.loc[i, 'subjective_eva'] = 3\n",
    "    elif match_number(index, points_4):\n",
    "        slice_position.loc[i, 'subjective_eva'] = 4\n",
    "\n",
    "    # 给cluster_result赋值\n",
    "    for j in range(cluster_assessment.shape[0]):\n",
    "        if id == cluster_assessment[j, 1]:\n",
    "            slice_position.loc[i, 'cluster_result'] = int(cluster_assessment[j, 2])\n"
   ],
   "metadata": {
    "collapsed": false,
    "pycharm": {
     "name": "#%%\n"
    }
   }
  },
  {
   "cell_type": "code",
   "execution_count": 18,
   "outputs": [],
   "source": [
    "slice_position.to_csv(r\"./output/slice_position_42_features.csv\")\n",
    "# slice_position.to_csv(r\"./output/slice_position.csv\")\n"
   ],
   "metadata": {
    "collapsed": false,
    "pycharm": {
     "name": "#%%\n"
    }
   }
  },
  {
   "cell_type": "code",
   "execution_count": 18,
   "outputs": [],
   "source": [],
   "metadata": {
    "collapsed": false,
    "pycharm": {
     "name": "#%%\n"
    }
   }
  }
 ],
 "metadata": {
  "kernelspec": {
   "display_name": "Python 3",
   "language": "python",
   "name": "python3"
  },
  "language_info": {
   "codemirror_mode": {
    "name": "ipython",
    "version": 2
   },
   "file_extension": ".py",
   "mimetype": "text/x-python",
   "name": "python",
   "nbconvert_exporter": "python",
   "pygments_lexer": "ipython2",
   "version": "2.7.6"
  }
 },
 "nbformat": 4,
 "nbformat_minor": 0
}
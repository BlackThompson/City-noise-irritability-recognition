{
 "cells": [
  {
   "cell_type": "code",
   "execution_count": 67,
   "metadata": {
    "collapsed": true
   },
   "outputs": [],
   "source": [
    "from numpy import random\n",
    "import numpy as np\n",
    "import pandas as pd\n",
    "\n",
    "# 不用dataframe，只用ndarray\n",
    "# 计算速度：ndarray > Series > list > DataFrame\n",
    "\n",
    "pd.reset_option('display.max_columns', None)\n",
    "pd.set_option('display.max_rows', None)\n",
    "feature = pd.read_excel(r'./input/feature.xls')\n",
    "col = feature.columns[10:-1]\n",
    "feature_use = feature[col]\n",
    "k = 4"
   ]
  },
  {
   "cell_type": "code",
   "execution_count": 68,
   "outputs": [],
   "source": [
    "# 生成一个随机矩阵\n",
    "a = random.randint(1, 100, size=(3, 4))\n"
   ],
   "metadata": {
    "collapsed": false,
    "pycharm": {
     "name": "#%%\n"
    }
   }
  },
  {
   "cell_type": "code",
   "execution_count": 69,
   "outputs": [],
   "source": [
    "feature_use = feature_use.to_numpy()"
   ],
   "metadata": {
    "collapsed": false,
    "pycharm": {
     "name": "#%%\n"
    }
   }
  },
  {
   "cell_type": "code",
   "execution_count": 70,
   "outputs": [
    {
     "name": "stdout",
     "output_type": "stream",
     "text": [
      "<class 'numpy.ndarray'>\n"
     ]
    },
    {
     "data": {
      "text/plain": "array([[ 4.9880e+01,  1.9300e+00,  1.3900e+00, ..., -2.8448e-01,\n        -4.1390e-01,  3.7501e-01],\n       [ 4.9710e+01,  2.6800e+00,  1.6400e+00, ...,  6.8212e-01,\n        -5.4530e-01,  1.1233e-01],\n       [ 5.0530e+01,  9.3600e+00,  3.0600e+00, ...,  9.0050e-02,\n        -8.8356e-01,  2.6500e-02],\n       ...,\n       [ 2.0240e+01,  1.2620e+01,  3.5500e+00, ..., -5.5231e-01,\n        -3.6670e-01,  2.3189e-01],\n       [ 1.8030e+01,  4.1600e+00,  2.0400e+00, ..., -5.5231e-01,\n        -3.6670e-01,  2.3189e-01],\n       [ 2.9180e+01,  2.6570e+01,  5.1500e+00, ..., -5.5231e-01,\n        -3.6670e-01,  2.3189e-01]])"
     },
     "execution_count": 70,
     "metadata": {},
     "output_type": "execute_result"
    }
   ],
   "source": [
    "print(type(feature_use))\n",
    "feature_use"
   ],
   "metadata": {
    "collapsed": false,
    "pycharm": {
     "name": "#%%\n"
    }
   }
  },
  {
   "cell_type": "code",
   "execution_count": 71,
   "outputs": [
    {
     "data": {
      "text/plain": "(6747, 121)"
     },
     "execution_count": 71,
     "metadata": {},
     "output_type": "execute_result"
    }
   ],
   "source": [
    "feature_use.shape[0], feature_use.shape[1]"
   ],
   "metadata": {
    "collapsed": false,
    "pycharm": {
     "name": "#%%\n"
    }
   }
  },
  {
   "cell_type": "code",
   "execution_count": 72,
   "outputs": [],
   "source": [
    "# # 特征总数，即列数\n",
    "# feature_num = feature_use.shape[1]\n",
    "# # 声音片段总数，即行数\n",
    "# voice_num = feature_use.shape[0]"
   ],
   "metadata": {
    "collapsed": false,
    "pycharm": {
     "name": "#%%\n"
    }
   }
  },
  {
   "cell_type": "code",
   "execution_count": 73,
   "outputs": [
    {
     "data": {
      "text/plain": "array([ 4,  4, 16], dtype=int32)"
     },
     "execution_count": 73,
     "metadata": {},
     "output_type": "execute_result"
    }
   ],
   "source": [
    "a = np.array([1, 2, 3])\n",
    "b = np.array([3, 4, 7])\n",
    "(a - b) ** 2"
   ],
   "metadata": {
    "collapsed": false,
    "pycharm": {
     "name": "#%%\n"
    }
   }
  },
  {
   "cell_type": "code",
   "execution_count": 74,
   "outputs": [],
   "source": [
    "# 计算两点的欧氏距离\n",
    "def Euclidean_distance(x, y):\n",
    "    distance = np.sqrt(np.sum((x - y) ** 2))\n",
    "    return distance"
   ],
   "metadata": {
    "collapsed": false,
    "pycharm": {
     "name": "#%%\n"
    }
   }
  },
  {
   "cell_type": "code",
   "execution_count": 75,
   "outputs": [],
   "source": [
    "# 聚类取平均值，用于计算更新聚类点\n",
    "def cluster_mean(cluster):\n",
    "    return np.mean(cluster, axis=0)"
   ],
   "metadata": {
    "collapsed": false,
    "pycharm": {
     "name": "#%%\n"
    }
   }
  },
  {
   "cell_type": "code",
   "execution_count": 76,
   "outputs": [],
   "source": [
    "# 找到初始聚类点\n",
    "def init_centroid(dataset):\n",
    "    # 特征总数，即列数\n",
    "    feature_num = dataset.shape[1]\n",
    "    # 声音片段总数，即行数\n",
    "    voice_num = dataset.shape[0]\n",
    "\n",
    "    # 第一个聚类点随机选取\n",
    "    # 之后每个聚类点取到之前距离最大的点\n",
    "    centroid = np.zeros((4, feature_num))\n",
    "\n",
    "    index = int(np.random.uniform(0, voice_num))\n",
    "    centroid[0, :] = dataset[index, :]\n",
    "    centroid_0 = centroid[0, :]\n",
    "\n",
    "    centroid_1 = centroid_0\n",
    "    centroid_2 = centroid_0\n",
    "    centroid_3 = centroid_0\n",
    "    max_distance = 0\n",
    "\n",
    "    for i in range(voice_num):\n",
    "        dataset_i = dataset[i, :]\n",
    "        distance = Euclidean_distance(centroid_0, dataset_i)\n",
    "        if distance > max_distance:\n",
    "            centroid_1 = dataset_i\n",
    "            max_distance = distance\n",
    "\n",
    "    centroid[1, :] = centroid_1\n",
    "    max_distance = 0\n",
    "\n",
    "    for i in range(voice_num):\n",
    "        dataset_i = dataset[i, :]\n",
    "        distance = Euclidean_distance(centroid_0, dataset_i) + Euclidean_distance(centroid_1, dataset_i)\n",
    "        if distance > max_distance:\n",
    "            centroid_2 = dataset_i\n",
    "            max_distance = distance\n",
    "\n",
    "    centroid[2, :] = centroid_2\n",
    "    max_distance = 0\n",
    "\n",
    "    for i in range(voice_num):\n",
    "        dataset_i = dataset[i, :]\n",
    "        distance = Euclidean_distance(centroid_0, dataset_i) + Euclidean_distance(centroid_1,\n",
    "                                                                                  dataset_i) + Euclidean_distance(\n",
    "            centroid_2, dataset_i)\n",
    "        if distance > max_distance:\n",
    "            centroid_3 = dataset_i\n",
    "            max_distance = distance\n",
    "\n",
    "    centroid[3, :] = centroid_3\n",
    "\n",
    "    return centroid"
   ],
   "metadata": {
    "collapsed": false,
    "pycharm": {
     "name": "#%%\n"
    }
   }
  },
  {
   "cell_type": "code",
   "execution_count": 77,
   "outputs": [],
   "source": [
    "def Kmeans(dataset):\n",
    "    # 特征总数，即列数\n",
    "    feature_num = dataset.shape[1]\n",
    "    # 声音片段总数，即行数\n",
    "    voice_num = dataset.shape[0]\n",
    "\n",
    "    # 初始化一个矩阵来储存每个点的簇分配结果\n",
    "    # clusterAssment包含两列：1列记录簇索引值，2列存储当前点到簇质心的距离（用来评价聚类的效果）\n",
    "    # 全部置为-1，因为有0类点\n",
    "    cluster_assessment = np.ones((voice_num, 2))\n",
    "    cluster_assessment = -cluster_assessment\n",
    "    cluster_change = True\n",
    "\n",
    "    centroid = init_centroid(dataset)\n",
    "\n",
    "    # 初始化标志变量，用于判断迭代是否继续，如果True，则迭代继续\n",
    "    while cluster_change:\n",
    "        cluster_change = False\n",
    "\n",
    "        # 遍历所有行\n",
    "        for i in range(voice_num):\n",
    "            min_distance = 10000\n",
    "            # 距离最近的聚类点的索引（0,1,2,3)\n",
    "            min_index = -1\n",
    "\n",
    "            # 遍历寻找距离每个点最近的质心\n",
    "            for j in range(k):\n",
    "                distance = Euclidean_distance(centroid[j, :], dataset[i, :])\n",
    "                # 如果距离小于minDist，更新minDist和index索引值\n",
    "                if distance < min_distance:\n",
    "                    min_distance = distance\n",
    "                    min_index = j\n",
    "\n",
    "            # 如果有任意一点的簇分配结果改变，则更新cluster_change为True\n",
    "            if cluster_assessment[i, 0] != min_index:\n",
    "                cluster_change = True\n",
    "                cluster_assessment[i, :] = min_index, min_distance\n",
    "\n",
    "        # 遍历所有质心，更新取值\n",
    "        for i in range(k):\n",
    "            # 获取相同簇质心的所有点，取均值更新簇质心\n",
    "            same_cluster_index = (cluster_assessment[:, 0] == i)\n",
    "            points_same_cluster = dataset[same_cluster_index]\n",
    "            centroid[i, :] = cluster_mean(points_same_cluster)\n",
    "\n",
    "    print(\"Cluster complete!\")\n",
    "    return centroid, cluster_assessment\n"
   ],
   "metadata": {
    "collapsed": false,
    "pycharm": {
     "name": "#%%\n"
    }
   }
  },
  {
   "cell_type": "code",
   "execution_count": 78,
   "outputs": [
    {
     "name": "stdout",
     "output_type": "stream",
     "text": [
      "Cluster complete!\n",
      "[[ 5.94000000e+01  2.25416667e+01  4.36666667e+00  7.07483333e+01\n",
      "   5.42600000e+01  5.61333333e+01  5.90816667e+01  6.21583333e+01\n",
      "   6.50650000e+01 -1.08050000e+01  1.21983333e+01  1.79016667e+01\n",
      "   3.59666667e+00  2.43816667e+01  8.23000000e+00  9.58666667e+00\n",
      "   1.15066667e+01  1.40250000e+01  1.71833333e+01 -8.95333333e+00\n",
      "   1.87833333e+00  1.10000000e-01  3.16666667e-01  2.86000000e+00\n",
      "   1.53833333e+00  1.65333333e+00  1.84500000e+00  2.07166667e+00\n",
      "   2.30000000e+00 -7.61666667e-01  2.54833333e+00  6.16666667e-02\n",
      "   2.36666667e-01  3.25833333e+00  2.25000000e+00  2.39666667e+00\n",
      "   2.54500000e+00  2.70333333e+00  2.86333333e+00 -6.13333333e-01\n",
      "   1.50000000e-02  0.00000000e+00  1.33333333e-02  8.83333333e-02\n",
      "   5.00000000e-03  6.66666667e-03  8.33333333e-03  1.66666667e-02\n",
      "   2.83333333e-02 -2.33333333e-02  7.50000000e-02  3.33333333e-03\n",
      "   6.50000000e-02  3.88333333e-01  8.33333333e-03  2.66666667e-02\n",
      "   6.50000000e-02  1.05000000e-01  1.63333333e-01 -1.55000000e-01\n",
      "   1.11069667e+01  1.60825000e-01  1.44975583e+01  1.13121667e-01\n",
      "   9.47893333e-01  1.00517567e+01  2.15666667e-03  7.23170000e-01\n",
      "  -7.50753333e-01 -3.57320667e+00  9.46066667e-02  3.19598333e-01\n",
      "   1.36947617e+01  1.28656667e-01  7.10085000e-01  1.44261283e+01\n",
      "   1.75666667e-03  8.64146667e-01 -1.47161667e+00 -2.02102333e+00\n",
      "   2.73750000e-01  3.00060000e-01  1.32202600e+01  8.57650000e-02\n",
      "   1.48698833e+00  1.92998733e+01  5.96166667e-03  8.47161667e-01\n",
      "  -1.72226333e+00 -1.47171167e+00  1.85026667e-01  2.78191667e-01\n",
      "   1.49012183e+01  1.35083333e-01  1.35619500e+00  1.75306450e+01\n",
      "   1.53333333e-03  8.20166667e-01 -1.47142000e+00 -1.51283167e+00\n",
      "   2.36181667e-01  2.21736667e-01  7.65179667e+00  1.47946667e-01\n",
      "   1.08430000e-01  1.55281917e+01  1.64133333e-02  7.79136667e-01\n",
      "  -7.14543333e-01 -6.24160000e-01  3.11850000e-01  2.65916667e-01\n",
      "   2.94299833e+00  1.08545000e-01  2.32343333e-01  1.00758983e+01\n",
      "   1.97083333e-02  7.45185000e-01 -2.36468333e-01 -5.11578333e-01\n",
      "   2.25928333e-01]\n",
      " [ 6.13800000e+01  1.06350000e+02  1.03100000e+01  8.91200000e+01\n",
      "   5.06600000e+01  5.23300000e+01  5.83500000e+01  6.89500000e+01\n",
      "   7.65900000e+01 -2.59300000e+01  1.64600000e+01  1.81450000e+02\n",
      "   1.34700000e+01  8.02700000e+01  6.92000000e+00  7.76000000e+00\n",
      "   1.05300000e+01  1.95500000e+01  3.25300000e+01 -2.56100000e+01\n",
      "   2.84000000e+00  3.12000000e+00  1.77000000e+00  8.45000000e+00\n",
      "   1.35000000e+00  1.49000000e+00  2.11000000e+00  3.65000000e+00\n",
      "   5.90000000e+00 -4.55000000e+00  3.05000000e+00  2.30000000e-01\n",
      "   4.80000000e-01  4.99000000e+00  2.53000000e+00  2.71000000e+00\n",
      "   2.94000000e+00  3.33000000e+00  3.66000000e+00 -1.13000000e+00\n",
      "   4.00000000e-02  0.00000000e+00  3.00000000e-02  1.30000000e-01\n",
      "   0.00000000e+00  1.00000000e-02  2.00000000e-02  6.00000000e-02\n",
      "   8.00000000e-02 -8.00000000e-02  1.80000000e-01  4.00000000e-02\n",
      "   1.90000000e-01  7.90000000e-01  0.00000000e+00  4.00000000e-02\n",
      "   9.00000000e-02  2.90000000e-01  4.80000000e-01 -4.80000000e-01\n",
      "   0.00000000e+00  1.72920000e-01  6.71668000e+00  1.82000000e-03\n",
      "   3.21005000e+00  1.99930200e+01  2.14000000e-03  9.34780000e-01\n",
      "  -2.99466000e+00 -2.70649000e+00  1.78280000e-01  2.63250000e-01\n",
      "   1.73206400e+01  1.63460000e-01  6.84930000e-01  1.71929400e+01\n",
      "   1.63000000e-03  8.24150000e-01 -6.13260000e-01 -2.64069000e+00\n",
      "   1.77210000e-01  2.29030000e-01  2.28159900e+01  8.42000000e-03\n",
      "   1.95167000e+00  1.99814100e+01  4.50000000e-03  8.92540000e-01\n",
      "  -2.02958000e+00 -1.76390000e+00  6.34700000e-02  2.84670000e-01\n",
      "   2.32026200e+01  1.42800000e-02  2.52953000e+00  1.99924500e+01\n",
      "   1.22000000e-03  9.10360000e-01 -2.49210000e+00 -1.81025000e+00\n",
      "   1.44160000e-01  2.93820000e-01  2.50929000e+00  1.41070000e-01\n",
      "   4.64700000e-02  1.14777000e+01  2.05100000e-02  7.76610000e-01\n",
      "  -1.87523000e+00 -2.20220000e-01  3.67280000e-01  2.73090000e-01\n",
      "   3.99628000e+00  1.10730000e-01  4.64700000e-02  4.64684000e+00\n",
      "   2.07700000e-02  7.32760000e-01 -1.56147000e+00 -6.76620000e-01\n",
      "   2.48930000e-01]\n",
      " [ 5.11869231e+01  3.98076923e+00  1.84615385e+00  5.76515385e+01\n",
      "   4.90007692e+01  4.98715385e+01  5.10484615e+01  5.22800000e+01\n",
      "   5.34784615e+01 -4.47769231e+00  6.59307692e+00  1.04230769e+00\n",
      "   9.70769231e-01  1.15861538e+01  5.49538462e+00  5.90538462e+00\n",
      "   6.48230769e+00  7.14230769e+00  7.76307692e+00 -2.26769231e+00\n",
      "   1.32615385e+00  3.23076923e-02  1.70000000e-01  2.17769231e+00\n",
      "   1.17461538e+00  1.24538462e+00  1.31153846e+00  1.38923077e+00\n",
      "   1.47615385e+00 -3.01538462e-01  2.45692308e+00  9.53846154e-02\n",
      "   2.90000000e-01  3.43230769e+00  2.10230769e+00  2.22538462e+00\n",
      "   2.43076923e+00  2.66769231e+00  2.83461538e+00 -7.32307692e-01\n",
      "   1.15384615e-02  0.00000000e+00  1.30769231e-02  6.46153846e-02\n",
      "   3.07692308e-03  6.15384615e-03  7.69230769e-03  1.07692308e-02\n",
      "   2.15384615e-02 -1.84615385e-02  6.00000000e-02  0.00000000e+00\n",
      "   4.92307692e-02  2.96153846e-01  6.92307692e-03  2.15384615e-02\n",
      "   5.23076923e-02  8.53846154e-02  1.20000000e-01 -1.13076923e-01\n",
      "   6.59173000e+00  1.12976154e-01  1.64877346e+01  1.41253846e-01\n",
      "   9.36710769e-01  9.68651000e+00  2.29076923e-03  7.59453077e-01\n",
      "  -3.02546154e-01 -4.07851923e+00  1.24056923e-01  3.22276923e-01\n",
      "   1.24153885e+01  1.33558462e-01  1.01623385e+00  1.27216862e+01\n",
      "   1.78461538e-03  7.69304615e-01 -6.79783846e-01 -1.99862077e+00\n",
      "   2.64895385e-01  2.47470000e-01  1.08271377e+01  1.97984615e-01\n",
      "   6.21963077e-01  1.61781515e+01  2.87907692e-02  8.25470000e-01\n",
      "  -1.40426231e+00 -9.62327692e-01  2.44940000e-01  2.70655385e-01\n",
      "   1.13778200e+01  1.53601538e-01  3.25863077e-01  1.20443892e+01\n",
      "   2.18692308e-03  7.69237692e-01 -9.75053077e-01 -1.28144077e+00\n",
      "   2.24716154e-01  2.79606923e-01  8.14626923e+00  1.36720769e-01\n",
      "   1.03663077e-01  1.23427215e+01  1.59600000e-02  7.68689231e-01\n",
      "  -6.11082308e-01 -6.03877692e-01  2.34345385e-01  2.56689231e-01\n",
      "   5.05433231e+00  1.29745385e-01  7.86407692e-02  1.07306262e+01\n",
      "   2.05169231e-02  7.63483846e-01 -6.68194615e-01 -5.38719231e-01\n",
      "   2.08620000e-01]\n",
      " [            nan             nan             nan             nan\n",
      "              nan             nan             nan             nan\n",
      "              nan             nan             nan             nan\n",
      "              nan             nan             nan             nan\n",
      "              nan             nan             nan             nan\n",
      "              nan             nan             nan             nan\n",
      "              nan             nan             nan             nan\n",
      "              nan             nan             nan             nan\n",
      "              nan             nan             nan             nan\n",
      "              nan             nan             nan             nan\n",
      "              nan             nan             nan             nan\n",
      "              nan             nan             nan             nan\n",
      "              nan             nan             nan             nan\n",
      "              nan             nan             nan             nan\n",
      "              nan             nan             nan             nan\n",
      "              nan             nan             nan             nan\n",
      "              nan             nan             nan             nan\n",
      "              nan             nan             nan             nan\n",
      "              nan             nan             nan             nan\n",
      "              nan             nan             nan             nan\n",
      "              nan             nan             nan             nan\n",
      "              nan             nan             nan             nan\n",
      "              nan             nan             nan             nan\n",
      "              nan             nan             nan             nan\n",
      "              nan             nan             nan             nan\n",
      "              nan             nan             nan             nan\n",
      "              nan             nan             nan             nan\n",
      "              nan             nan             nan             nan\n",
      "              nan             nan             nan             nan\n",
      "              nan             nan             nan             nan\n",
      "              nan]]\n",
      "[[  2.          26.31964167]\n",
      " [  2.          26.12782769]\n",
      " [  2.          27.92614521]\n",
      " [  2.          35.92890388]\n",
      " [  2.          27.0873089 ]\n",
      " [  2.          24.94401758]\n",
      " [  0.         112.81404114]\n",
      " [  0.          34.97790553]\n",
      " [  2.          38.65977876]\n",
      " [  2.          34.83264269]\n",
      " [  2.          31.95326575]\n",
      " [  2.          40.35679768]\n",
      " [  2.          31.36632072]\n",
      " [  0.          45.5693385 ]\n",
      " [  1.           0.        ]\n",
      " [  0.          46.83560906]\n",
      " [  2.          14.12676843]\n",
      " [  2.           0.        ]\n",
      " [  0.          28.51718013]\n",
      " [  0.          37.49166089]]\n"
     ]
    },
    {
     "name": "stderr",
     "output_type": "stream",
     "text": [
      "E:\\Python\\Anaconda\\lib\\site-packages\\numpy\\core\\fromnumeric.py:3440: RuntimeWarning: Mean of empty slice.\n",
      "  return _methods._mean(a, axis=axis, dtype=dtype,\n",
      "E:\\Python\\Anaconda\\lib\\site-packages\\numpy\\core\\_methods.py:181: RuntimeWarning: invalid value encountered in true_divide\n",
      "  ret = um.true_divide(\n"
     ]
    }
   ],
   "source": [
    "feature_test = feature_use[:20]\n",
    "centroids, clusterAssment = Kmeans(feature_test)\n",
    "\n",
    "print(centroids)\n",
    "print(clusterAssment)"
   ],
   "metadata": {
    "collapsed": false,
    "pycharm": {
     "name": "#%%\n"
    }
   }
  },
  {
   "cell_type": "code",
   "execution_count": 79,
   "outputs": [],
   "source": [
    "# # 主成分分析\n",
    "# def pca(data):\n",
    "#     mean = cluster_mean(data)\n",
    "#     # np.tile()默认复制x轴，如果有两个参数如(2,1)，则前者为复制y轴，后者为复制x轴\n",
    "\n"
   ],
   "metadata": {
    "collapsed": false,
    "pycharm": {
     "name": "#%%\n"
    }
   }
  },
  {
   "cell_type": "code",
   "execution_count": 80,
   "outputs": [
    {
     "name": "stdout",
     "output_type": "stream",
     "text": [
      "Help on function tile in module numpy:\n",
      "\n",
      "tile(A, reps)\n",
      "    Construct an array by repeating A the number of times given by reps.\n",
      "    \n",
      "    If `reps` has length ``d``, the result will have dimension of\n",
      "    ``max(d, A.ndim)``.\n",
      "    \n",
      "    If ``A.ndim < d``, `A` is promoted to be d-dimensional by prepending new\n",
      "    axes. So a shape (3,) array is promoted to (1, 3) for 2-D replication,\n",
      "    or shape (1, 1, 3) for 3-D replication. If this is not the desired\n",
      "    behavior, promote `A` to d-dimensions manually before calling this\n",
      "    function.\n",
      "    \n",
      "    If ``A.ndim > d``, `reps` is promoted to `A`.ndim by pre-pending 1's to it.\n",
      "    Thus for an `A` of shape (2, 3, 4, 5), a `reps` of (2, 2) is treated as\n",
      "    (1, 1, 2, 2).\n",
      "    \n",
      "    Note : Although tile may be used for broadcasting, it is strongly\n",
      "    recommended to use numpy's broadcasting operations and functions.\n",
      "    \n",
      "    Parameters\n",
      "    ----------\n",
      "    A : array_like\n",
      "        The input array.\n",
      "    reps : array_like\n",
      "        The number of repetitions of `A` along each axis.\n",
      "    \n",
      "    Returns\n",
      "    -------\n",
      "    c : ndarray\n",
      "        The tiled output array.\n",
      "    \n",
      "    See Also\n",
      "    --------\n",
      "    repeat : Repeat elements of an array.\n",
      "    broadcast_to : Broadcast an array to a new shape\n",
      "    \n",
      "    Examples\n",
      "    --------\n",
      "    >>> a = np.array([0, 1, 2])\n",
      "    >>> np.tile(a, 2)\n",
      "    array([0, 1, 2, 0, 1, 2])\n",
      "    >>> np.tile(a, (2, 2))\n",
      "    array([[0, 1, 2, 0, 1, 2],\n",
      "           [0, 1, 2, 0, 1, 2]])\n",
      "    >>> np.tile(a, (2, 1, 2))\n",
      "    array([[[0, 1, 2, 0, 1, 2]],\n",
      "           [[0, 1, 2, 0, 1, 2]]])\n",
      "    \n",
      "    >>> b = np.array([[1, 2], [3, 4]])\n",
      "    >>> np.tile(b, 2)\n",
      "    array([[1, 2, 1, 2],\n",
      "           [3, 4, 3, 4]])\n",
      "    >>> np.tile(b, (2, 1))\n",
      "    array([[1, 2],\n",
      "           [3, 4],\n",
      "           [1, 2],\n",
      "           [3, 4]])\n",
      "    \n",
      "    >>> c = np.array([1,2,3,4])\n",
      "    >>> np.tile(c,(4,1))\n",
      "    array([[1, 2, 3, 4],\n",
      "           [1, 2, 3, 4],\n",
      "           [1, 2, 3, 4],\n",
      "           [1, 2, 3, 4]])\n",
      "\n"
     ]
    }
   ],
   "source": [
    "help(np.tile)"
   ],
   "metadata": {
    "collapsed": false,
    "pycharm": {
     "name": "#%%\n"
    }
   }
  },
  {
   "cell_type": "code",
   "execution_count": 81,
   "outputs": [
    {
     "data": {
      "text/plain": "numpy.ndarray"
     },
     "execution_count": 81,
     "metadata": {},
     "output_type": "execute_result"
    }
   ],
   "source": [
    "type(np.zeros((3, 1)))"
   ],
   "metadata": {
    "collapsed": false,
    "pycharm": {
     "name": "#%%\n"
    }
   }
  },
  {
   "cell_type": "code",
   "execution_count": 82,
   "outputs": [
    {
     "name": "stdout",
     "output_type": "stream",
     "text": [
      "<class 'numpy.ndarray'>\n",
      "[[0. 0. 0.]\n",
      " [0. 0. 0.]]\n",
      "<class 'numpy.matrix'>\n",
      "[[0. 0. 0.]\n",
      " [0. 0. 0.]]\n"
     ]
    }
   ],
   "source": [
    "a = np.zeros((2, 3))\n",
    "print(type(a))\n",
    "print(a)\n",
    "b = np.mat(np.zeros((2, 3)))\n",
    "print((type(b)))\n",
    "print(b)\n"
   ],
   "metadata": {
    "collapsed": false,
    "pycharm": {
     "name": "#%%\n"
    }
   }
  },
  {
   "cell_type": "code",
   "execution_count": 83,
   "outputs": [
    {
     "name": "stdout",
     "output_type": "stream",
     "text": [
      "[[ 1. -1.]\n",
      " [-1. -1.]\n",
      " [-1. -1.]]\n"
     ]
    },
    {
     "data": {
      "text/plain": "array([ True, False, False])"
     },
     "execution_count": 83,
     "metadata": {},
     "output_type": "execute_result"
    }
   ],
   "source": [
    "a = np.ones((3, 2))\n",
    "a[0, 0] = -1\n",
    "a = -a\n",
    "print(a)\n",
    "a[:, 0] == 1"
   ],
   "metadata": {
    "collapsed": false,
    "pycharm": {
     "name": "#%%\n"
    }
   }
  },
  {
   "cell_type": "code",
   "execution_count": 91,
   "outputs": [],
   "source": [
    "mean_points = cluster_mean(feature_use)\n",
    "m = feature_use.shape[0]\n",
    "points_distance_to_center = np.zeros(feature_use.shape[0])\n",
    "\n",
    "for i in range(m):\n",
    "    temp_dist = Euclidean_distance(feature_use[i], mean_points)\n",
    "    points_distance_to_center[i] = temp_dist\n",
    "\n",
    "points_distance_to_center = pd.DataFrame(points_distance_to_center)\n",
    "points_distance_to_center.describe()\n",
    "\n",
    "points_distance_to_center.to_csv(r\"./output/points_distance_to_center.csv\")"
   ],
   "metadata": {
    "collapsed": false,
    "pycharm": {
     "name": "#%%\n"
    }
   }
  },
  {
   "cell_type": "code",
   "execution_count": 94,
   "outputs": [
    {
     "name": "stdout",
     "output_type": "stream",
     "text": [
      "[[0. 1. 1. 1.]\n",
      " [1. 1. 1. 1.]\n",
      " [1. 1. 4. 1.]]\n"
     ]
    },
    {
     "data": {
      "text/plain": "array([[0., 1., 1., 1.],\n       [1., 1., 4., 1.]])"
     },
     "execution_count": 94,
     "metadata": {},
     "output_type": "execute_result"
    }
   ],
   "source": [
    "a = np.ones((3, 4))\n",
    "a[0, 0] = 0\n",
    "a[2, 2] = 4\n",
    "print(a)\n",
    "a = np.delete(a, 1, axis=0)\n",
    "a"
   ],
   "metadata": {
    "collapsed": false,
    "pycharm": {
     "name": "#%%\n"
    }
   }
  },
  {
   "cell_type": "code",
   "execution_count": 110,
   "outputs": [
    {
     "data": {
      "text/plain": "array(['1-L-1.wav', '1-L-2.wav', '2-L-1.wav', ..., '702-L-7.wav',\n       '702-L-8.wav', '702-L-9.wav'], dtype=object)"
     },
     "execution_count": 110,
     "metadata": {},
     "output_type": "execute_result"
    }
   ],
   "source": [
    "a = feature.columns[10:-1]\n",
    "b = feature.columns[1]\n",
    "a = np.insert(a, 0, b)\n",
    "name = feature[b]\n",
    "# name = np.delete(name,[1])\n",
    "name.values"
   ],
   "metadata": {
    "collapsed": false,
    "pycharm": {
     "name": "#%%\n"
    }
   }
  },
  {
   "cell_type": "code",
   "execution_count": null,
   "outputs": [],
   "source": [],
   "metadata": {
    "collapsed": false,
    "pycharm": {
     "name": "#%%\n"
    }
   }
  }
 ],
 "metadata": {
  "kernelspec": {
   "display_name": "Python 3",
   "language": "python",
   "name": "python3"
  },
  "language_info": {
   "codemirror_mode": {
    "name": "ipython",
    "version": 2
   },
   "file_extension": ".py",
   "mimetype": "text/x-python",
   "name": "python",
   "nbconvert_exporter": "python",
   "pygments_lexer": "ipython2",
   "version": "2.7.6"
  }
 },
 "nbformat": 4,
 "nbformat_minor": 0
}
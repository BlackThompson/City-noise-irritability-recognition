{
 "cells": [
  {
   "cell_type": "code",
   "execution_count": 1,
   "metadata": {
    "collapsed": true
   },
   "outputs": [],
   "source": [
    "from numpy import random\n",
    "import numpy as np\n",
    "import pandas as pd\n",
    "\n",
    "# 不用dataframe，只用ndarray\n",
    "# 计算速度：ndarray > Series > list > DataFrame\n",
    "\n",
    "pd.reset_option('display.max_columns', None)\n",
    "pd.set_option('display.max_rows', None)\n",
    "feature = pd.read_excel(r'./input/feature.xls')\n",
    "# col = feature.columns[10:-1]\n",
    "col = ['Leq_mean', 'Leq_std', 'Leq_25', 'Leq_median',\n",
    "       'Leq_75', 'Leq_10-Leq_90', 'Loudness_mean', 'Loudness_std',\n",
    "       'Loudness_25', 'Loudness_median', 'Loudness_75',\n",
    "       'Loudness_10-Loudness_90', 'Roughness_mean', 'Roughness_std',\n",
    "       'Roughness_25', 'Roughness_median', 'Roughness_75',\n",
    "       'Roughness_10-Roughness_90', 'Sharpness_mean', 'Sharpness_std',\n",
    "       'Sharpness_25', 'Sharpness_median', 'Sharpness_75',\n",
    "       'Sharpness_10-Sharpness_90', 'Fluct_mean', 'Fluct_std', 'Fluct_25',\n",
    "       'Fluct_median', 'Fluct_75', 'Fluct_10-Fluct_90', 'Tonality_mean',\n",
    "       'Tonality_std', 'Tonality_25', 'Tonality_median', 'Tonality_75',\n",
    "       'Tonality_10-Tonality_90', 'leq_w', 'leq_esm', 'sharpness_slop2', 'tonality_esm',\n",
    "       'tonality_phimax', 'crz']\n",
    "feature_use = feature[col]\n",
    "k = 4"
   ]
  },
  {
   "cell_type": "code",
   "execution_count": 2,
   "outputs": [],
   "source": [
    "# 生成一个随机矩阵\n",
    "a = random.randint(1, 100, size=(3, 4))\n"
   ],
   "metadata": {
    "collapsed": false,
    "pycharm": {
     "name": "#%%\n"
    }
   }
  },
  {
   "cell_type": "code",
   "execution_count": 3,
   "outputs": [],
   "source": [
    "feature_use = feature_use.to_numpy()"
   ],
   "metadata": {
    "collapsed": false,
    "pycharm": {
     "name": "#%%\n"
    }
   }
  },
  {
   "cell_type": "code",
   "execution_count": 4,
   "outputs": [
    {
     "name": "stdout",
     "output_type": "stream",
     "text": [
      "<class 'numpy.ndarray'>\n"
     ]
    },
    {
     "data": {
      "text/plain": "array([[4.9880e+01, 1.3900e+00, 4.8840e+01, ..., 7.5760e-01, 1.2229e-01,\n        2.1319e-01],\n       [4.9710e+01, 1.6400e+00, 4.8370e+01, ..., 7.6335e-01, 1.1179e-01,\n        2.2335e-01],\n       [5.0530e+01, 3.0600e+00, 4.8450e+01, ..., 6.8687e-01, 8.9390e-02,\n        4.2840e-02],\n       ...,\n       [2.0240e+01, 3.5500e+00, 1.7020e+01, ..., 7.5057e-01, 1.2466e-01,\n        4.4000e-02],\n       [1.8030e+01, 2.0400e+00, 1.6610e+01, ..., 7.5057e-01, 1.2466e-01,\n        8.4090e-02],\n       [2.9180e+01, 5.1500e+00, 2.6790e+01, ..., 7.5057e-01, 1.2466e-01,\n        4.8283e-01]])"
     },
     "execution_count": 4,
     "metadata": {},
     "output_type": "execute_result"
    }
   ],
   "source": [
    "print(type(feature_use))\n",
    "feature_use"
   ],
   "metadata": {
    "collapsed": false,
    "pycharm": {
     "name": "#%%\n"
    }
   }
  },
  {
   "cell_type": "code",
   "execution_count": 5,
   "outputs": [
    {
     "data": {
      "text/plain": "(6747, 42)"
     },
     "execution_count": 5,
     "metadata": {},
     "output_type": "execute_result"
    }
   ],
   "source": [
    "feature_use.shape[0], feature_use.shape[1]"
   ],
   "metadata": {
    "collapsed": false,
    "pycharm": {
     "name": "#%%\n"
    }
   }
  },
  {
   "cell_type": "code",
   "execution_count": 6,
   "outputs": [],
   "source": [
    "# # 特征总数，即列数\n",
    "# feature_num = feature_use.shape[1]\n",
    "# # 声音片段总数，即行数\n",
    "# voice_num = feature_use.shape[0]"
   ],
   "metadata": {
    "collapsed": false,
    "pycharm": {
     "name": "#%%\n"
    }
   }
  },
  {
   "cell_type": "code",
   "execution_count": 7,
   "outputs": [
    {
     "data": {
      "text/plain": "array([ 4,  4, 16], dtype=int32)"
     },
     "execution_count": 7,
     "metadata": {},
     "output_type": "execute_result"
    }
   ],
   "source": [
    "a = np.array([1, 2, 3])\n",
    "b = np.array([3, 4, 7])\n",
    "(a - b) ** 2"
   ],
   "metadata": {
    "collapsed": false,
    "pycharm": {
     "name": "#%%\n"
    }
   }
  },
  {
   "cell_type": "code",
   "execution_count": 8,
   "outputs": [],
   "source": [
    "# 计算两点的欧氏距离\n",
    "def Euclidean_distance(x, y):\n",
    "    distance = np.sqrt(np.sum((x - y) ** 2))\n",
    "    return distance"
   ],
   "metadata": {
    "collapsed": false,
    "pycharm": {
     "name": "#%%\n"
    }
   }
  },
  {
   "cell_type": "code",
   "execution_count": 9,
   "outputs": [],
   "source": [
    "# 聚类取平均值，用于计算更新聚类点\n",
    "def cluster_mean(cluster):\n",
    "    return np.mean(cluster, axis=0)"
   ],
   "metadata": {
    "collapsed": false,
    "pycharm": {
     "name": "#%%\n"
    }
   }
  },
  {
   "cell_type": "code",
   "execution_count": 10,
   "outputs": [],
   "source": [
    "# 找到初始聚类点\n",
    "def init_centroid(dataset):\n",
    "    # 特征总数，即列数\n",
    "    feature_num = dataset.shape[1]\n",
    "    # 声音片段总数，即行数\n",
    "    voice_num = dataset.shape[0]\n",
    "\n",
    "    # 第一个聚类点随机选取\n",
    "    # 之后每个聚类点取到之前距离最大的点\n",
    "    centroid = np.zeros((4, feature_num))\n",
    "\n",
    "    index = int(np.random.uniform(0, voice_num))\n",
    "    centroid[0, :] = dataset[index, :]\n",
    "    centroid_0 = centroid[0, :]\n",
    "\n",
    "    centroid_1 = centroid_0\n",
    "    centroid_2 = centroid_0\n",
    "    centroid_3 = centroid_0\n",
    "    max_distance = 0\n",
    "\n",
    "    for i in range(voice_num):\n",
    "        dataset_i = dataset[i, :]\n",
    "        distance = Euclidean_distance(centroid_0, dataset_i)\n",
    "        if distance > max_distance:\n",
    "            centroid_1 = dataset_i\n",
    "            max_distance = distance\n",
    "\n",
    "    centroid[1, :] = centroid_1\n",
    "    max_distance = 0\n",
    "\n",
    "    for i in range(voice_num):\n",
    "        dataset_i = dataset[i, :]\n",
    "        distance = Euclidean_distance(centroid_0, dataset_i) + Euclidean_distance(centroid_1, dataset_i)\n",
    "        if distance > max_distance:\n",
    "            centroid_2 = dataset_i\n",
    "            max_distance = distance\n",
    "\n",
    "    centroid[2, :] = centroid_2\n",
    "    max_distance = 0\n",
    "\n",
    "    for i in range(voice_num):\n",
    "        dataset_i = dataset[i, :]\n",
    "        distance = Euclidean_distance(centroid_0, dataset_i) + Euclidean_distance(centroid_1,\n",
    "                                                                                  dataset_i) + Euclidean_distance(\n",
    "            centroid_2, dataset_i)\n",
    "        if distance > max_distance:\n",
    "            centroid_3 = dataset_i\n",
    "            max_distance = distance\n",
    "\n",
    "    centroid[3, :] = centroid_3\n",
    "\n",
    "    return centroid"
   ],
   "metadata": {
    "collapsed": false,
    "pycharm": {
     "name": "#%%\n"
    }
   }
  },
  {
   "cell_type": "code",
   "execution_count": 11,
   "outputs": [],
   "source": [
    "def Kmeans(dataset):\n",
    "    # 特征总数，即列数\n",
    "    feature_num = dataset.shape[1]\n",
    "    # 声音片段总数，即行数\n",
    "    voice_num = dataset.shape[0]\n",
    "\n",
    "    # 初始化一个矩阵来储存每个点的簇分配结果\n",
    "    # clusterAssment包含两列：1列记录簇索引值，2列存储当前点到簇质心的距离（用来评价聚类的效果）\n",
    "    # 全部置为-1，因为有0类点\n",
    "    cluster_assessment = np.ones((voice_num, 2))\n",
    "    cluster_assessment = -cluster_assessment\n",
    "    cluster_change = True\n",
    "\n",
    "    centroid = init_centroid(dataset)\n",
    "\n",
    "    # 初始化标志变量，用于判断迭代是否继续，如果True，则迭代继续\n",
    "    while cluster_change:\n",
    "        cluster_change = False\n",
    "\n",
    "        # 遍历所有行\n",
    "        for i in range(voice_num):\n",
    "            min_distance = 10000\n",
    "            # 距离最近的聚类点的索引（0,1,2,3)\n",
    "            min_index = -1\n",
    "\n",
    "            # 遍历寻找距离每个点最近的质心\n",
    "            for j in range(k):\n",
    "                distance = Euclidean_distance(centroid[j, :], dataset[i, :])\n",
    "                # 如果距离小于minDist，更新minDist和index索引值\n",
    "                if distance < min_distance:\n",
    "                    min_distance = distance\n",
    "                    min_index = j\n",
    "\n",
    "            # 如果有任意一点的簇分配结果改变，则更新cluster_change为True\n",
    "            if cluster_assessment[i, 0] != min_index:\n",
    "                cluster_change = True\n",
    "                cluster_assessment[i, :] = min_index, min_distance\n",
    "\n",
    "        # 遍历所有质心，更新取值\n",
    "        for i in range(k):\n",
    "            # 获取相同簇质心的所有点，取均值更新簇质心\n",
    "            same_cluster_index = (cluster_assessment[:, 0] == i)\n",
    "            points_same_cluster = dataset[same_cluster_index]\n",
    "            centroid[i, :] = cluster_mean(points_same_cluster)\n",
    "\n",
    "    print(\"Cluster complete!\")\n",
    "    return centroid, cluster_assessment\n"
   ],
   "metadata": {
    "collapsed": false,
    "pycharm": {
     "name": "#%%\n"
    }
   }
  },
  {
   "cell_type": "code",
   "execution_count": 12,
   "outputs": [
    {
     "name": "stdout",
     "output_type": "stream",
     "text": [
      "Cluster complete!\n",
      "[[ 5.43016667e+01  2.37500000e+00  5.25116667e+01  5.39600000e+01\n",
      "   5.55183333e+01 -5.31166667e+00  8.09666667e+00  1.45833333e+00\n",
      "   7.12000000e+00  7.77000000e+00  8.66500000e+00 -3.02000000e+00\n",
      "   1.49166667e+00  2.00000000e-01  1.38000000e+00  1.45666667e+00\n",
      "   1.56000000e+00 -3.56666667e-01  2.57166667e+00  2.66666667e-01\n",
      "   2.37166667e+00  2.53833333e+00  2.77166667e+00 -6.51666667e-01\n",
      "   1.33333333e-02  1.50000000e-02  1.66666667e-03  3.33333333e-03\n",
      "   6.66666667e-03 -2.33333333e-02  7.00000000e-02  4.83333333e-02\n",
      "   3.00000000e-02  5.66666667e-02  9.33333333e-02 -1.15000000e-01\n",
      "   1.20346500e+00  8.53150000e-01 -6.06258333e-01  7.84731667e-01\n",
      "   1.70436667e-01  1.75665000e-01]\n",
      " [ 6.21000000e+01  9.25000000e+00  5.39500000e+01  6.03850000e+01\n",
      "   6.89000000e+01 -2.41400000e+01  1.63500000e+01  1.10050000e+01\n",
      "   8.37500000e+00  1.22500000e+01  1.99700000e+01 -2.43100000e+01\n",
      "   2.43500000e+00  1.15000000e+00  1.54500000e+00  2.03500000e+00\n",
      "   3.00500000e+00 -2.97000000e+00  2.74000000e+00  4.05000000e-01\n",
      "   2.45000000e+00  2.64000000e+00  2.97500000e+00 -1.01500000e+00\n",
      "   2.50000000e-02  2.00000000e-02  1.00000000e-02  1.50000000e-02\n",
      "   4.00000000e-02 -4.50000000e-02  1.60000000e-01  1.50000000e-01\n",
      "   5.00000000e-02  1.10000000e-01  2.50000000e-01 -3.85000000e-01\n",
      "   5.28210000e-01  8.24940000e-01 -4.87800000e-01  7.29465000e-01\n",
      "   1.11155000e-01  1.38250000e-01]\n",
      " [ 6.06966667e+01  2.98333333e+00  5.90166667e+01  6.07333333e+01\n",
      "   6.27500000e+01 -7.59000000e+00  1.27100000e+01  2.53333333e+00\n",
      "   1.11433333e+01  1.25700000e+01  1.44100000e+01 -6.66000000e+00\n",
      "   2.02666667e+00  2.63333333e-01  1.85666667e+00  2.03333333e+00\n",
      "   2.22000000e+00 -6.46666667e-01  2.46000000e+00  2.00000000e-01\n",
      "   2.33000000e+00  2.46000000e+00  2.59666667e+00 -5.20000000e-01\n",
      "   1.66666667e-02  1.33333333e-02  1.00000000e-02  1.00000000e-02\n",
      "   1.66666667e-02 -2.33333333e-02  5.00000000e-02  5.00000000e-02\n",
      "   1.33333333e-02  4.33333333e-02  7.33333333e-02 -1.10000000e-01\n",
      "   6.38496667e-01  8.37160000e-01 -6.20630000e-01  7.36890000e-01\n",
      "   9.38433333e-02  1.65176667e-01]\n",
      " [ 5.01233333e+01  2.09000000e+00  4.86044444e+01  4.99711111e+01\n",
      "   5.13755556e+01 -5.11666667e+00  6.21666667e+00  1.03444444e+00\n",
      "   5.46111111e+00  6.11222222e+00  6.82111111e+00 -2.45444444e+00\n",
      "   1.27222222e+00  1.76666667e-01  1.18444444e+00  1.25777778e+00\n",
      "   1.34555556e+00 -3.35555556e-01  2.44333333e+00  2.95555556e-01\n",
      "   2.21111111e+00  2.43555556e+00  2.65111111e+00 -7.58888889e-01\n",
      "   1.11111111e-02  1.22222222e-02  7.77777778e-03  1.00000000e-02\n",
      "   1.44444444e-02 -1.77777778e-02  5.77777778e-02  5.33333333e-02\n",
      "   1.77777778e-02  5.22222222e-02  8.33333333e-02 -1.21111111e-01\n",
      "   8.84864444e-01  7.47747778e-01 -5.93394444e-01  7.50130000e-01\n",
      "   1.02470000e-01  8.67266667e-02]]\n",
      "[[ 3.          3.74297071]\n",
      " [ 3.          3.2110682 ]\n",
      " [ 3.          6.45416667]\n",
      " [ 3.          7.80501152]\n",
      " [ 3.          3.92295504]\n",
      " [ 3.          4.68841455]\n",
      " [ 1.         10.37036622]\n",
      " [ 2.          0.        ]\n",
      " [ 3.          1.83980497]\n",
      " [ 3.          0.        ]\n",
      " [ 0.          4.07127336]\n",
      " [ 3.          4.93605009]\n",
      " [ 0.          0.        ]\n",
      " [ 0.         11.53592862]\n",
      " [ 1.          0.        ]\n",
      " [ 0.          8.13366128]\n",
      " [ 0.          2.56631908]\n",
      " [ 0.          3.5121679 ]\n",
      " [ 2.         11.85543769]\n",
      " [ 2.          8.14851099]]\n"
     ]
    }
   ],
   "source": [
    "feature_test = feature_use[:20]\n",
    "centroids, clusterAssment = Kmeans(feature_test)\n",
    "\n",
    "print(centroids)\n",
    "print(clusterAssment)"
   ],
   "metadata": {
    "collapsed": false,
    "pycharm": {
     "name": "#%%\n"
    }
   }
  },
  {
   "cell_type": "code",
   "execution_count": 13,
   "outputs": [],
   "source": [
    "# # 主成分分析\n",
    "# def pca(data):\n",
    "#     mean = cluster_mean(data)\n",
    "#     # np.tile()默认复制x轴，如果有两个参数如(2,1)，则前者为复制y轴，后者为复制x轴\n",
    "\n"
   ],
   "metadata": {
    "collapsed": false,
    "pycharm": {
     "name": "#%%\n"
    }
   }
  },
  {
   "cell_type": "code",
   "execution_count": 14,
   "outputs": [
    {
     "name": "stdout",
     "output_type": "stream",
     "text": [
      "Help on function tile in module numpy:\n",
      "\n",
      "tile(A, reps)\n",
      "    Construct an array by repeating A the number of times given by reps.\n",
      "    \n",
      "    If `reps` has length ``d``, the result will have dimension of\n",
      "    ``max(d, A.ndim)``.\n",
      "    \n",
      "    If ``A.ndim < d``, `A` is promoted to be d-dimensional by prepending new\n",
      "    axes. So a shape (3,) array is promoted to (1, 3) for 2-D replication,\n",
      "    or shape (1, 1, 3) for 3-D replication. If this is not the desired\n",
      "    behavior, promote `A` to d-dimensions manually before calling this\n",
      "    function.\n",
      "    \n",
      "    If ``A.ndim > d``, `reps` is promoted to `A`.ndim by pre-pending 1's to it.\n",
      "    Thus for an `A` of shape (2, 3, 4, 5), a `reps` of (2, 2) is treated as\n",
      "    (1, 1, 2, 2).\n",
      "    \n",
      "    Note : Although tile may be used for broadcasting, it is strongly\n",
      "    recommended to use numpy's broadcasting operations and functions.\n",
      "    \n",
      "    Parameters\n",
      "    ----------\n",
      "    A : array_like\n",
      "        The input array.\n",
      "    reps : array_like\n",
      "        The number of repetitions of `A` along each axis.\n",
      "    \n",
      "    Returns\n",
      "    -------\n",
      "    c : ndarray\n",
      "        The tiled output array.\n",
      "    \n",
      "    See Also\n",
      "    --------\n",
      "    repeat : Repeat elements of an array.\n",
      "    broadcast_to : Broadcast an array to a new shape\n",
      "    \n",
      "    Examples\n",
      "    --------\n",
      "    >>> a = np.array([0, 1, 2])\n",
      "    >>> np.tile(a, 2)\n",
      "    array([0, 1, 2, 0, 1, 2])\n",
      "    >>> np.tile(a, (2, 2))\n",
      "    array([[0, 1, 2, 0, 1, 2],\n",
      "           [0, 1, 2, 0, 1, 2]])\n",
      "    >>> np.tile(a, (2, 1, 2))\n",
      "    array([[[0, 1, 2, 0, 1, 2]],\n",
      "           [[0, 1, 2, 0, 1, 2]]])\n",
      "    \n",
      "    >>> b = np.array([[1, 2], [3, 4]])\n",
      "    >>> np.tile(b, 2)\n",
      "    array([[1, 2, 1, 2],\n",
      "           [3, 4, 3, 4]])\n",
      "    >>> np.tile(b, (2, 1))\n",
      "    array([[1, 2],\n",
      "           [3, 4],\n",
      "           [1, 2],\n",
      "           [3, 4]])\n",
      "    \n",
      "    >>> c = np.array([1,2,3,4])\n",
      "    >>> np.tile(c,(4,1))\n",
      "    array([[1, 2, 3, 4],\n",
      "           [1, 2, 3, 4],\n",
      "           [1, 2, 3, 4],\n",
      "           [1, 2, 3, 4]])\n",
      "\n"
     ]
    }
   ],
   "source": [
    "help(np.tile)"
   ],
   "metadata": {
    "collapsed": false,
    "pycharm": {
     "name": "#%%\n"
    }
   }
  },
  {
   "cell_type": "code",
   "execution_count": 15,
   "outputs": [
    {
     "data": {
      "text/plain": "numpy.ndarray"
     },
     "execution_count": 15,
     "metadata": {},
     "output_type": "execute_result"
    }
   ],
   "source": [
    "type(np.zeros((3, 1)))"
   ],
   "metadata": {
    "collapsed": false,
    "pycharm": {
     "name": "#%%\n"
    }
   }
  },
  {
   "cell_type": "code",
   "execution_count": 16,
   "outputs": [
    {
     "name": "stdout",
     "output_type": "stream",
     "text": [
      "<class 'numpy.ndarray'>\n",
      "[[0. 0. 0.]\n",
      " [0. 0. 0.]]\n",
      "<class 'numpy.matrix'>\n",
      "[[0. 0. 0.]\n",
      " [0. 0. 0.]]\n"
     ]
    }
   ],
   "source": [
    "a = np.zeros((2, 3))\n",
    "print(type(a))\n",
    "print(a)\n",
    "b = np.mat(np.zeros((2, 3)))\n",
    "print((type(b)))\n",
    "print(b)\n"
   ],
   "metadata": {
    "collapsed": false,
    "pycharm": {
     "name": "#%%\n"
    }
   }
  },
  {
   "cell_type": "code",
   "execution_count": 17,
   "outputs": [
    {
     "name": "stdout",
     "output_type": "stream",
     "text": [
      "[[ 1. -1.]\n",
      " [-1. -1.]\n",
      " [-1. -1.]]\n"
     ]
    },
    {
     "data": {
      "text/plain": "array([ True, False, False])"
     },
     "execution_count": 17,
     "metadata": {},
     "output_type": "execute_result"
    }
   ],
   "source": [
    "a = np.ones((3, 2))\n",
    "a[0, 0] = -1\n",
    "a = -a\n",
    "print(a)\n",
    "a[:, 0] == 1"
   ],
   "metadata": {
    "collapsed": false,
    "pycharm": {
     "name": "#%%\n"
    }
   }
  },
  {
   "cell_type": "code",
   "execution_count": 18,
   "outputs": [],
   "source": [
    "mean_points = cluster_mean(feature_use)\n",
    "m = feature_use.shape[0]\n",
    "points_distance_to_center = np.zeros(feature_use.shape[0])\n",
    "\n",
    "for i in range(m):\n",
    "    temp_dist = Euclidean_distance(feature_use[i], mean_points)\n",
    "    points_distance_to_center[i] = temp_dist\n",
    "\n",
    "points_distance_to_center = pd.DataFrame(points_distance_to_center)\n",
    "name_list = feature[feature.columns[1]]\n",
    "name_list = pd.DataFrame(name_list.values)\n",
    "points_distance_to_center = pd.concat([name_list, points_distance_to_center], axis=1)\n",
    "\n",
    "# points_distance_to_center.to_csv(r\"./output/points_distance_to_center.csv\")\n",
    "points_distance_to_center.to_csv(r\"./output/points_distance_to_center_42_features.csv\")"
   ],
   "metadata": {
    "collapsed": false,
    "pycharm": {
     "name": "#%%\n"
    }
   }
  },
  {
   "cell_type": "code",
   "execution_count": 19,
   "outputs": [],
   "source": [
    "points_distance_to_center = points_distance_to_center.values"
   ],
   "metadata": {
    "collapsed": false,
    "pycharm": {
     "name": "#%%\n"
    }
   }
  },
  {
   "cell_type": "code",
   "execution_count": 20,
   "outputs": [
    {
     "data": {
      "text/plain": "array([['1-L-1.wav', 15.403503209882548],\n       ['1-L-2.wav', 14.76820145763773],\n       ['2-L-1.wav', 17.14138939157319],\n       ...,\n       ['702-L-7.wav', 46.629848916881606],\n       ['702-L-8.wav', 50.65519424497799],\n       ['702-L-9.wav', 29.024704079893723]], dtype=object)"
     },
     "execution_count": 20,
     "metadata": {},
     "output_type": "execute_result"
    }
   ],
   "source": [
    "points_distance_to_center"
   ],
   "metadata": {
    "collapsed": false,
    "pycharm": {
     "name": "#%%\n"
    }
   }
  },
  {
   "cell_type": "code",
   "execution_count": 25,
   "outputs": [
    {
     "data": {
      "text/plain": "matrix([[  76,   77,  114,  115,  146,  147,  161,  162,  187,  205,\n          206,  236,  237,  244,  245, 1096, 1098, 1099, 1100, 1175,\n         1183, 1188, 1254, 1255, 1256, 1257, 1258, 1263, 1265, 1266,\n         1267, 1268, 1269, 1270, 1274, 1342, 1343, 1346, 1348, 1349,\n         1350, 1353, 2017, 3039, 4071, 4072, 4073, 4074, 4075, 4076,\n         4077, 4078, 4079, 4080, 4081, 5216, 5217, 5221, 5222, 5223,\n         5224, 5225, 5304, 5305, 5307, 5308, 5309, 5311, 5312, 5313]])"
     },
     "execution_count": 25,
     "metadata": {},
     "output_type": "execute_result"
    }
   ],
   "source": [
    "outlier_index = []\n",
    "# np.zeros(61)\n",
    "for i in range(len(points_distance_to_center)):\n",
    "    if points_distance_to_center[i, 1] > 60:\n",
    "        outlier_index.append(i)\n",
    "\n",
    "np.matrix(outlier_index)\n"
   ],
   "metadata": {
    "collapsed": false,
    "pycharm": {
     "name": "#%%\n"
    }
   }
  },
  {
   "cell_type": "code",
   "execution_count": 22,
   "outputs": [
    {
     "name": "stdout",
     "output_type": "stream",
     "text": [
      "[[0. 1. 1. 1.]\n",
      " [1. 1. 1. 1.]\n",
      " [1. 1. 4. 1.]]\n"
     ]
    },
    {
     "data": {
      "text/plain": "array([[0., 1., 1., 1.],\n       [1., 1., 4., 1.]])"
     },
     "execution_count": 22,
     "metadata": {},
     "output_type": "execute_result"
    }
   ],
   "source": [
    "a = np.ones((3, 4))\n",
    "a[0, 0] = 0\n",
    "a[2, 2] = 4\n",
    "print(a)\n",
    "a = np.delete(a, 1, axis=0)\n",
    "a"
   ],
   "metadata": {
    "collapsed": false,
    "pycharm": {
     "name": "#%%\n"
    }
   }
  },
  {
   "cell_type": "code",
   "execution_count": 23,
   "outputs": [
    {
     "data": {
      "text/plain": "array(['1-L-1.wav', '1-L-2.wav', '2-L-1.wav', ..., '702-L-7.wav',\n       '702-L-8.wav', '702-L-9.wav'], dtype=object)"
     },
     "execution_count": 23,
     "metadata": {},
     "output_type": "execute_result"
    }
   ],
   "source": [
    "a = feature.columns[10:-1]\n",
    "b = feature.columns[1]\n",
    "a = np.insert(a, 0, b)\n",
    "name = feature[b]\n",
    "# name = np.delete(name,[1])\n",
    "name.values"
   ],
   "metadata": {
    "collapsed": false,
    "pycharm": {
     "name": "#%%\n"
    }
   }
  },
  {
   "cell_type": "code",
   "execution_count": 23,
   "outputs": [],
   "source": [],
   "metadata": {
    "collapsed": false,
    "pycharm": {
     "name": "#%%\n"
    }
   }
  },
  {
   "cell_type": "code",
   "execution_count": 23,
   "outputs": [],
   "source": [],
   "metadata": {
    "collapsed": false,
    "pycharm": {
     "name": "#%%\n"
    }
   }
  }
 ],
 "metadata": {
  "kernelspec": {
   "display_name": "Python 3",
   "language": "python",
   "name": "python3"
  },
  "language_info": {
   "codemirror_mode": {
    "name": "ipython",
    "version": 2
   },
   "file_extension": ".py",
   "mimetype": "text/x-python",
   "name": "python",
   "nbconvert_exporter": "python",
   "pygments_lexer": "ipython2",
   "version": "2.7.6"
  }
 },
 "nbformat": 4,
 "nbformat_minor": 0
}
{
 "cells": [
  {
   "cell_type": "code",
   "execution_count": 13,
   "metadata": {
    "collapsed": true
   },
   "outputs": [],
   "source": [
    "from numpy import random\n",
    "import numpy as np\n",
    "import pandas as pd\n",
    "\n",
    "# 不用dataframe，只用ndarray\n",
    "# 计算速度：ndarray > Series > list > DataFrame\n",
    "\n",
    "pd.reset_option('display.max_columns', None)\n",
    "pd.set_option('display.max_rows', None)\n",
    "feature = pd.read_excel(r'./input/feature.xls')\n",
    "col = feature.columns[10:-1]\n",
    "feature_use = feature[col]\n",
    "\n",
    "# 转化为ndarray\n",
    "feature_use = feature_use.to_numpy()"
   ]
  },
  {
   "cell_type": "code",
   "execution_count": 14,
   "outputs": [],
   "source": [
    "# 聚类取平均值，用于计算更新聚类点\n",
    "def cluster_mean(cluster):\n",
    "    return np.mean(cluster, axis=0)\n",
    "\n",
    "\n",
    "# 计算两点的欧氏距离\n",
    "def Euclidean_distance(x, y):\n",
    "    distance = np.sqrt(np.sum((x - y) ** 2))\n",
    "    return distance"
   ],
   "metadata": {
    "collapsed": false,
    "pycharm": {
     "name": "#%%\n"
    }
   }
  },
  {
   "cell_type": "code",
   "execution_count": 15,
   "outputs": [],
   "source": [
    "# 对数据进行正态——标准化\n",
    "def feature_normalize(dataset):\n",
    "    mu = np.mean(dataset, axis=0)\n",
    "    sigma = np.std(dataset, axis=0)\n",
    "    return (dataset - mu) / sigma"
   ],
   "metadata": {
    "collapsed": false,
    "pycharm": {
     "name": "#%%\n"
    }
   }
  },
  {
   "cell_type": "code",
   "execution_count": 16,
   "outputs": [],
   "source": [
    "feature_use = feature_normalize(feature_use)\n",
    "mean_points = cluster_mean(feature_use)\n",
    "m = feature_use.shape[0]\n",
    "points_distance_to_center = np.zeros(feature_use.shape[0])\n",
    "\n",
    "for i in range(m):\n",
    "    temp_dist = Euclidean_distance(feature_use[i], mean_points)\n",
    "    points_distance_to_center[i] = temp_dist\n",
    "\n",
    "points_distance_to_center = pd.DataFrame(points_distance_to_center)\n",
    "name_list = feature[feature.columns[1]]\n",
    "name_list = pd.DataFrame(name_list.values)\n",
    "points_distance_to_center = pd.concat([name_list, points_distance_to_center], axis=1)\n",
    "\n",
    "points_distance_to_center.to_csv(r\"./output/points_distance_to_center.csv\")"
   ],
   "metadata": {
    "collapsed": false,
    "pycharm": {
     "name": "#%%\n"
    }
   }
  },
  {
   "cell_type": "code",
   "execution_count": 19,
   "outputs": [
    {
     "data": {
      "text/plain": "matrix([[  14,   16,   17,  114,  115,  137,  165,  187,  354,  653,\n         1577, 2427, 2428, 2434, 2436, 2772, 2793, 2841, 2978, 3108,\n         3848, 3849, 3850, 3851, 3852, 3854, 3855, 3856, 3857, 3858,\n         3859, 3878, 4071, 4073, 4074, 4075, 4076, 4080, 4501, 4551,\n         4717, 5217, 5221, 5223, 5224, 5304, 5311, 5312, 5313, 5692,\n         5694, 5695, 5696, 5699, 6598]])"
     },
     "execution_count": 19,
     "metadata": {},
     "output_type": "execute_result"
    }
   ],
   "source": [
    "points_distance_to_center = points_distance_to_center.values\n",
    "outlier_index = []\n",
    "\n",
    "for i in range(len(points_distance_to_center)):\n",
    "    if points_distance_to_center[i, 1] > 25:\n",
    "        outlier_index.append(i)\n",
    "\n",
    "np.matrix(outlier_index)"
   ],
   "metadata": {
    "collapsed": false,
    "pycharm": {
     "name": "#%%\n"
    }
   }
  },
  {
   "cell_type": "code",
   "execution_count": 17,
   "outputs": [
    {
     "name": "stdout",
     "output_type": "stream",
     "text": [
      "[[  5.   1.   1.   1.]\n",
      " [  1.  10.   1.   1.]\n",
      " [  1.   1. 100.   1.]]\n",
      "[ 2.33333333  4.         34.          1.        ]\n",
      "[ 1.88561808  4.24264069 46.66904756  0.        ]\n",
      "[[ 1.41421356 -0.70710678 -0.70710678         nan]\n",
      " [-0.70710678  1.41421356 -0.70710678         nan]\n",
      " [-0.70710678 -0.70710678  1.41421356         nan]]\n"
     ]
    },
    {
     "name": "stderr",
     "output_type": "stream",
     "text": [
      "C:\\Users\\Black\\AppData\\Local\\Temp\\ipykernel_67548\\3303024914.py:11: RuntimeWarning: invalid value encountered in true_divide\n",
      "  print((a - mu)/s)\n"
     ]
    }
   ],
   "source": [
    "a = np.ones((3, 4))\n",
    "a[1,1] = 10\n",
    "a[2,2] = 100\n",
    "a[0,0] = 5\n",
    "\n",
    "print(a)\n",
    "mu = np.mean(a,axis=0)\n",
    "s = np.std(a,axis=0)\n",
    "print(np.mean(a,axis=0))\n",
    "print(np.std(a,axis=0))\n",
    "print((a - mu)/s)"
   ],
   "metadata": {
    "collapsed": false,
    "pycharm": {
     "name": "#%%\n"
    }
   }
  },
  {
   "cell_type": "code",
   "execution_count": 1,
   "outputs": [],
   "source": [
    "xtr_col4 = ['Leq_mean', 'Leq_std', 'Leq_25', 'Leq_median',\n",
    "            'Leq_75', 'Leq_10-Leq_90', 'Loudness_mean', 'Loudness_std',\n",
    "            'Loudness_25', 'Loudness_median', 'Loudness_75',\n",
    "            'Loudness_10-Loudness_90', 'Roughness_mean', 'Roughness_std',\n",
    "            'Roughness_25', 'Roughness_median', 'Roughness_75',\n",
    "            'Roughness_10-Roughness_90', 'Sharpness_mean', 'Sharpness_std',\n",
    "            'Sharpness_25', 'Sharpness_median', 'Sharpness_75',\n",
    "            'Sharpness_10-Sharpness_90', 'Fluct_mean', 'Fluct_std', 'Fluct_25',\n",
    "            'Fluct_median', 'Fluct_75', 'Fluct_10-Fluct_90', 'Tonality_mean',\n",
    "            'Tonality_std', 'Tonality_25', 'Tonality_median', 'Tonality_75',\n",
    "            'Tonality_10-Tonality_90', 'leq_w', 'leq_esm', 'sharpness_slop2', 'tonality_esm',\n",
    "            'tonality_phimax', 'crz']"
   ],
   "metadata": {
    "collapsed": false,
    "pycharm": {
     "name": "#%%\n"
    }
   }
  },
  {
   "cell_type": "code",
   "execution_count": 3,
   "outputs": [
    {
     "data": {
      "text/plain": "42"
     },
     "execution_count": 3,
     "metadata": {},
     "output_type": "execute_result"
    }
   ],
   "source": [
    "len(xtr_col4)"
   ],
   "metadata": {
    "collapsed": false,
    "pycharm": {
     "name": "#%%\n"
    }
   }
  },
  {
   "cell_type": "code",
   "execution_count": null,
   "outputs": [],
   "source": [],
   "metadata": {
    "collapsed": false,
    "pycharm": {
     "name": "#%%\n"
    }
   }
  }
 ],
 "metadata": {
  "kernelspec": {
   "display_name": "Python 3",
   "language": "python",
   "name": "python3"
  },
  "language_info": {
   "codemirror_mode": {
    "name": "ipython",
    "version": 2
   },
   "file_extension": ".py",
   "mimetype": "text/x-python",
   "name": "python",
   "nbconvert_exporter": "python",
   "pygments_lexer": "ipython2",
   "version": "2.7.6"
  }
 },
 "nbformat": 4,
 "nbformat_minor": 0
}
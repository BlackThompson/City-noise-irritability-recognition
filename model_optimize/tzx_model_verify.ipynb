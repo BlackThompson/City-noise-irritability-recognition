{
 "cells": [
  {
   "cell_type": "code",
   "execution_count": 24,
   "metadata": {
    "collapsed": true
   },
   "outputs": [],
   "source": [
    "import pandas as pd\n",
    "import numpy as np\n",
    "from sklearn.preprocessing import normalize\n",
    "import joblib\n",
    "from sklearn.neighbors import KNeighborsClassifier\n",
    "from sklearn.tree import DecisionTreeClassifier\n",
    "from sklearn.ensemble import RandomForestClassifier, ExtraTreesClassifier\n",
    "from sklearn.svm import SVC\n",
    "import sklearn.metrics as metrics\n",
    "from sklearn.linear_model import LogisticRegression\n",
    "import matplotlib.pyplot as plt"
   ]
  },
  {
   "cell_type": "code",
   "execution_count": 25,
   "outputs": [
    {
     "data": {
      "text/plain": "    index  score  Leq_mean   Leq_var  Leq_std   Leq_max    Leq_10    Leq_25  \\\n0       1    NaN  49.88000   1.93000  1.39000  54.25000  48.18000  48.84000   \n1       2    NaN  63.58000  11.19000  3.35000  68.46000  58.55000  62.75000   \n2       3    NaN  70.97952   8.67463  2.94642  81.49453  67.78887  68.49439   \n3       4    NaN  61.93000   7.06000  2.66000  70.05000  58.76000  60.00000   \n4       5    NaN  59.44000   8.86000  2.98000  65.99000  55.56000  56.92000   \n..    ...    ...       ...       ...      ...       ...       ...       ...   \n78     79    NaN  57.16000  26.06000  5.10000  64.71000  50.22000  51.23000   \n79     80    NaN  47.11975  18.50206  4.30255  57.48161  41.91348  43.71102   \n80     81    NaN  56.13524   2.47095  1.57224  60.88622  54.39929  55.00396   \n81     82    NaN  53.80151   5.21296  2.28365  59.98065  50.61944  51.91705   \n82     83    NaN  56.13524   2.47095  1.57224  60.88622  54.39929  55.00396   \n\n    Leq_median    Leq_75  ...  Tonality_10  Tonality_25  Tonality_median  \\\n0     49.75000  50.67000  ...         0.00      0.03000          0.06000   \n1     64.45000  65.59000  ...         0.02      0.04000          0.07000   \n2     70.49512  72.93534  ...         0.00      0.00000          0.03255   \n3     61.72000  63.38000  ...         0.06      0.11000          0.18000   \n4     59.31000  61.63000  ...         0.00      0.00000          0.02000   \n..         ...       ...  ...          ...          ...              ...   \n78    59.83000  61.54000  ...         0.01      0.03000          0.06000   \n79    46.42073  50.37455  ...         0.00      0.00000          0.01631   \n80    55.72117  57.32652  ...         0.00      0.00000          0.00000   \n81    54.02594  55.43391  ...         0.00      0.03333          0.07310   \n82    55.72117  57.32652  ...         0.00      0.00000          0.00000   \n\n    Tonality_75  Tonality_90  Tonality_10-Tonality_90      pctn      pctu  \\\n0       0.09000      0.12000                 -0.12000  0.615385  0.384615   \n1       0.11000      0.18000                 -0.16000      0.25  0.083333   \n2       0.05599      0.07266                  0.07266       NaN       NaN   \n3       0.26000      0.33000                 -0.27000         0  1.000000   \n4       0.05000      0.07000                 -0.07000       0.8  0.200000   \n..          ...          ...                      ...       ...       ...   \n78      0.08000      0.11000                 -0.10000         0  0.333333   \n79      0.04248      0.06278                  0.06278       NaN       NaN   \n80      0.00000      0.01136                  0.01136       NaN       NaN   \n81      0.12003      0.15806                  0.15806       NaN       NaN   \n82      0.00000      0.01136                  0.01136       NaN       NaN   \n\n        pctm  level  \n0   0.000000      1  \n1   0.666667      3  \n2        NaN      4  \n3   0.000000      3  \n4   0.000000      1  \n..       ...    ...  \n78  0.666667      4  \n79       NaN      2  \n80       NaN      3  \n81       NaN      3  \n82       NaN      1  \n\n[83 rows x 66 columns]",
      "text/html": "<div>\n<style scoped>\n    .dataframe tbody tr th:only-of-type {\n        vertical-align: middle;\n    }\n\n    .dataframe tbody tr th {\n        vertical-align: top;\n    }\n\n    .dataframe thead th {\n        text-align: right;\n    }\n</style>\n<table border=\"1\" class=\"dataframe\">\n  <thead>\n    <tr style=\"text-align: right;\">\n      <th></th>\n      <th>index</th>\n      <th>score</th>\n      <th>Leq_mean</th>\n      <th>Leq_var</th>\n      <th>Leq_std</th>\n      <th>Leq_max</th>\n      <th>Leq_10</th>\n      <th>Leq_25</th>\n      <th>Leq_median</th>\n      <th>Leq_75</th>\n      <th>...</th>\n      <th>Tonality_10</th>\n      <th>Tonality_25</th>\n      <th>Tonality_median</th>\n      <th>Tonality_75</th>\n      <th>Tonality_90</th>\n      <th>Tonality_10-Tonality_90</th>\n      <th>pctn</th>\n      <th>pctu</th>\n      <th>pctm</th>\n      <th>level</th>\n    </tr>\n  </thead>\n  <tbody>\n    <tr>\n      <th>0</th>\n      <td>1</td>\n      <td>NaN</td>\n      <td>49.88000</td>\n      <td>1.93000</td>\n      <td>1.39000</td>\n      <td>54.25000</td>\n      <td>48.18000</td>\n      <td>48.84000</td>\n      <td>49.75000</td>\n      <td>50.67000</td>\n      <td>...</td>\n      <td>0.00</td>\n      <td>0.03000</td>\n      <td>0.06000</td>\n      <td>0.09000</td>\n      <td>0.12000</td>\n      <td>-0.12000</td>\n      <td>0.615385</td>\n      <td>0.384615</td>\n      <td>0.000000</td>\n      <td>1</td>\n    </tr>\n    <tr>\n      <th>1</th>\n      <td>2</td>\n      <td>NaN</td>\n      <td>63.58000</td>\n      <td>11.19000</td>\n      <td>3.35000</td>\n      <td>68.46000</td>\n      <td>58.55000</td>\n      <td>62.75000</td>\n      <td>64.45000</td>\n      <td>65.59000</td>\n      <td>...</td>\n      <td>0.02</td>\n      <td>0.04000</td>\n      <td>0.07000</td>\n      <td>0.11000</td>\n      <td>0.18000</td>\n      <td>-0.16000</td>\n      <td>0.25</td>\n      <td>0.083333</td>\n      <td>0.666667</td>\n      <td>3</td>\n    </tr>\n    <tr>\n      <th>2</th>\n      <td>3</td>\n      <td>NaN</td>\n      <td>70.97952</td>\n      <td>8.67463</td>\n      <td>2.94642</td>\n      <td>81.49453</td>\n      <td>67.78887</td>\n      <td>68.49439</td>\n      <td>70.49512</td>\n      <td>72.93534</td>\n      <td>...</td>\n      <td>0.00</td>\n      <td>0.00000</td>\n      <td>0.03255</td>\n      <td>0.05599</td>\n      <td>0.07266</td>\n      <td>0.07266</td>\n      <td>NaN</td>\n      <td>NaN</td>\n      <td>NaN</td>\n      <td>4</td>\n    </tr>\n    <tr>\n      <th>3</th>\n      <td>4</td>\n      <td>NaN</td>\n      <td>61.93000</td>\n      <td>7.06000</td>\n      <td>2.66000</td>\n      <td>70.05000</td>\n      <td>58.76000</td>\n      <td>60.00000</td>\n      <td>61.72000</td>\n      <td>63.38000</td>\n      <td>...</td>\n      <td>0.06</td>\n      <td>0.11000</td>\n      <td>0.18000</td>\n      <td>0.26000</td>\n      <td>0.33000</td>\n      <td>-0.27000</td>\n      <td>0</td>\n      <td>1.000000</td>\n      <td>0.000000</td>\n      <td>3</td>\n    </tr>\n    <tr>\n      <th>4</th>\n      <td>5</td>\n      <td>NaN</td>\n      <td>59.44000</td>\n      <td>8.86000</td>\n      <td>2.98000</td>\n      <td>65.99000</td>\n      <td>55.56000</td>\n      <td>56.92000</td>\n      <td>59.31000</td>\n      <td>61.63000</td>\n      <td>...</td>\n      <td>0.00</td>\n      <td>0.00000</td>\n      <td>0.02000</td>\n      <td>0.05000</td>\n      <td>0.07000</td>\n      <td>-0.07000</td>\n      <td>0.8</td>\n      <td>0.200000</td>\n      <td>0.000000</td>\n      <td>1</td>\n    </tr>\n    <tr>\n      <th>...</th>\n      <td>...</td>\n      <td>...</td>\n      <td>...</td>\n      <td>...</td>\n      <td>...</td>\n      <td>...</td>\n      <td>...</td>\n      <td>...</td>\n      <td>...</td>\n      <td>...</td>\n      <td>...</td>\n      <td>...</td>\n      <td>...</td>\n      <td>...</td>\n      <td>...</td>\n      <td>...</td>\n      <td>...</td>\n      <td>...</td>\n      <td>...</td>\n      <td>...</td>\n      <td>...</td>\n    </tr>\n    <tr>\n      <th>78</th>\n      <td>79</td>\n      <td>NaN</td>\n      <td>57.16000</td>\n      <td>26.06000</td>\n      <td>5.10000</td>\n      <td>64.71000</td>\n      <td>50.22000</td>\n      <td>51.23000</td>\n      <td>59.83000</td>\n      <td>61.54000</td>\n      <td>...</td>\n      <td>0.01</td>\n      <td>0.03000</td>\n      <td>0.06000</td>\n      <td>0.08000</td>\n      <td>0.11000</td>\n      <td>-0.10000</td>\n      <td>0</td>\n      <td>0.333333</td>\n      <td>0.666667</td>\n      <td>4</td>\n    </tr>\n    <tr>\n      <th>79</th>\n      <td>80</td>\n      <td>NaN</td>\n      <td>47.11975</td>\n      <td>18.50206</td>\n      <td>4.30255</td>\n      <td>57.48161</td>\n      <td>41.91348</td>\n      <td>43.71102</td>\n      <td>46.42073</td>\n      <td>50.37455</td>\n      <td>...</td>\n      <td>0.00</td>\n      <td>0.00000</td>\n      <td>0.01631</td>\n      <td>0.04248</td>\n      <td>0.06278</td>\n      <td>0.06278</td>\n      <td>NaN</td>\n      <td>NaN</td>\n      <td>NaN</td>\n      <td>2</td>\n    </tr>\n    <tr>\n      <th>80</th>\n      <td>81</td>\n      <td>NaN</td>\n      <td>56.13524</td>\n      <td>2.47095</td>\n      <td>1.57224</td>\n      <td>60.88622</td>\n      <td>54.39929</td>\n      <td>55.00396</td>\n      <td>55.72117</td>\n      <td>57.32652</td>\n      <td>...</td>\n      <td>0.00</td>\n      <td>0.00000</td>\n      <td>0.00000</td>\n      <td>0.00000</td>\n      <td>0.01136</td>\n      <td>0.01136</td>\n      <td>NaN</td>\n      <td>NaN</td>\n      <td>NaN</td>\n      <td>3</td>\n    </tr>\n    <tr>\n      <th>81</th>\n      <td>82</td>\n      <td>NaN</td>\n      <td>53.80151</td>\n      <td>5.21296</td>\n      <td>2.28365</td>\n      <td>59.98065</td>\n      <td>50.61944</td>\n      <td>51.91705</td>\n      <td>54.02594</td>\n      <td>55.43391</td>\n      <td>...</td>\n      <td>0.00</td>\n      <td>0.03333</td>\n      <td>0.07310</td>\n      <td>0.12003</td>\n      <td>0.15806</td>\n      <td>0.15806</td>\n      <td>NaN</td>\n      <td>NaN</td>\n      <td>NaN</td>\n      <td>3</td>\n    </tr>\n    <tr>\n      <th>82</th>\n      <td>83</td>\n      <td>NaN</td>\n      <td>56.13524</td>\n      <td>2.47095</td>\n      <td>1.57224</td>\n      <td>60.88622</td>\n      <td>54.39929</td>\n      <td>55.00396</td>\n      <td>55.72117</td>\n      <td>57.32652</td>\n      <td>...</td>\n      <td>0.00</td>\n      <td>0.00000</td>\n      <td>0.00000</td>\n      <td>0.00000</td>\n      <td>0.01136</td>\n      <td>0.01136</td>\n      <td>NaN</td>\n      <td>NaN</td>\n      <td>NaN</td>\n      <td>1</td>\n    </tr>\n  </tbody>\n</table>\n<p>83 rows × 66 columns</p>\n</div>"
     },
     "execution_count": 25,
     "metadata": {},
     "output_type": "execute_result"
    }
   ],
   "source": [
    "# 测试集：83个音频特征数据读入\n",
    "test_path = r\".\\input\\83_sound_features.xlsx\"\n",
    "# test_path = r\".\\input\\44_sound_features.xlsx\"\n",
    "train_path = r\".\\input\\6747_sound_features.xls\"\n",
    "test_data = pd.read_excel(test_path)\n",
    "train_data = pd.read_excel(train_path)\n",
    "test_data"
   ],
   "metadata": {
    "collapsed": false,
    "pycharm": {
     "name": "#%%\n"
    }
   }
  },
  {
   "cell_type": "code",
   "execution_count": 26,
   "outputs": [
    {
     "data": {
      "text/plain": "(83, 66)"
     },
     "execution_count": 26,
     "metadata": {},
     "output_type": "execute_result"
    }
   ],
   "source": [
    "test_data.shape"
   ],
   "metadata": {
    "collapsed": false,
    "pycharm": {
     "name": "#%%\n"
    }
   }
  },
  {
   "cell_type": "code",
   "execution_count": 27,
   "outputs": [
    {
     "data": {
      "text/plain": "37"
     },
     "execution_count": 27,
     "metadata": {},
     "output_type": "execute_result"
    }
   ],
   "source": [
    "# 36维特征 + level(暂时还没有）\n",
    "column_36 = ['Leq_mean', 'Leq_std', 'Leq_25', 'Leq_median',\n",
    "             'Leq_75', 'Leq_10-Leq_90', 'Loudness_mean', 'Loudness_std',\n",
    "             'Loudness_25', 'Loudness_median', 'Loudness_75',\n",
    "             'Loudness_10-Loudness_90', 'Roughness_mean', 'Roughness_std',\n",
    "             'Roughness_25', 'Roughness_median', 'Roughness_75',\n",
    "             'Roughness_10-Roughness_90', 'Sharpness_mean', 'Sharpness_std',\n",
    "             'Sharpness_25', 'Sharpness_median', 'Sharpness_75',\n",
    "             'Sharpness_10-Sharpness_90', 'Fluct_mean', 'Fluct_std', 'Fluct_25',\n",
    "             'Fluct_median', 'Fluct_75', 'Fluct_10-Fluct_90', 'Tonality_mean',\n",
    "             'Tonality_std', 'Tonality_25', 'Tonality_median', 'Tonality_75',\n",
    "             'Tonality_10-Tonality_90', 'level']\n",
    "len(column_36)"
   ],
   "metadata": {
    "collapsed": false,
    "pycharm": {
     "name": "#%%\n"
    }
   }
  },
  {
   "cell_type": "code",
   "execution_count": 28,
   "outputs": [],
   "source": [
    "feature_use = column_36\n",
    "# test_x只取前36个\n",
    "test_x = test_data[feature_use[:-1]]\n",
    "test_y = test_data[feature_use[-1]]\n",
    "\n",
    "# train同理\n",
    "train_x = train_data[feature_use[:-1]]\n",
    "train_y = train_data[feature_use[-1]]"
   ],
   "metadata": {
    "collapsed": false,
    "pycharm": {
     "name": "#%%\n"
    }
   }
  },
  {
   "cell_type": "code",
   "execution_count": 29,
   "outputs": [],
   "source": [
    "# 将数据进行l2正则化\n",
    "test_x = normalize(test_x, norm=\"l2\")\n",
    "train_x = normalize(train_x, norm=\"l2\")"
   ],
   "metadata": {
    "collapsed": false,
    "pycharm": {
     "name": "#%%\n"
    }
   }
  },
  {
   "cell_type": "code",
   "execution_count": 30,
   "outputs": [
    {
     "data": {
      "text/plain": "(6747, 6747)"
     },
     "execution_count": 30,
     "metadata": {},
     "output_type": "execute_result"
    }
   ],
   "source": [
    "len(train_x), len(train_y)"
   ],
   "metadata": {
    "collapsed": false,
    "pycharm": {
     "name": "#%%\n"
    }
   }
  },
  {
   "cell_type": "code",
   "execution_count": 31,
   "outputs": [],
   "source": [
    "# 分类器重写\n",
    "def classifier(nb_class):\n",
    "    \"\"\"\n",
    "    分类器集合\n",
    "    :param nb_class: 类别数\n",
    "    :return:分类器列表\n",
    "    \"\"\"\n",
    "    clf = [\n",
    "        KNeighborsClassifier(nb_class),  # 0.68\n",
    "        DecisionTreeClassifier(max_depth=40),  # 0.69\n",
    "        SVC(C=10, kernel='rbf', class_weight={1: 8, 2: 4, 3: 1, 4: 10}),  # 0.42\n",
    "        ExtraTreesClassifier(n_estimators=80, max_depth=24, min_samples_split=3, max_features='auto', random_state=0),\n",
    "        # 0.825\n",
    "        # 'max_depth': 21, 'min_samples_split': 2, 'n_estimators': 95}\n",
    "        RandomForestClassifier(n_estimators=95, max_depth=21, min_samples_split=2, random_state=0),  # 0.758\n",
    "        # 'max_depth': 11, 'n_estimators': 110\n",
    "        # XGBClassifier(n_estimators=110, max_depth=11, learning_rate=0.001, objective='multi:softmax', nb_class=4),\n",
    "        LogisticRegression(penalty='l2', class_weight='balanced', solver='lbfgs')]  # 0.45\n",
    "\n",
    "    return clf"
   ],
   "metadata": {
    "collapsed": false,
    "pycharm": {
     "name": "#%%\n"
    }
   }
  },
  {
   "cell_type": "code",
   "execution_count": 32,
   "outputs": [
    {
     "data": {
      "text/plain": "KNeighborsClassifier(n_neighbors=4)"
     },
     "execution_count": 32,
     "metadata": {},
     "output_type": "execute_result"
    }
   ],
   "source": [
    "# 我也没搞懂这里要干啥\n",
    "nb_class = 4\n",
    "clf_list = classifier(nb_class)\n",
    "\n",
    "# 0: KNN    1: 决策树    2: SVC\n",
    "# 3: 极端树  4: 随机森林  5: LogisticRegression\n",
    "clf = clf_list[0]\n",
    "# 训练分类器\n",
    "clf.fit(train_x, train_y)"
   ],
   "metadata": {
    "collapsed": false,
    "pycharm": {
     "name": "#%%\n"
    }
   }
  },
  {
   "cell_type": "code",
   "execution_count": 33,
   "outputs": [],
   "source": [
    "# 导入模型\n",
    "joblib.dump(clf, r'./model/model_0516.pkl')\n",
    "pre = clf.predict(test_x)"
   ],
   "metadata": {
    "collapsed": false,
    "pycharm": {
     "name": "#%%\n"
    }
   }
  },
  {
   "cell_type": "code",
   "execution_count": 34,
   "outputs": [],
   "source": [
    "# 计算正确率\n",
    "# 有+-1\n",
    "# def accuracy(test_y, pre):\n",
    "#     same = 0\n",
    "#     for i in range(len(test_y)):\n",
    "#         if test_y[i] == pre[i] or test_y[i] == pre[i] - 1 or test_y[i] == pre[i]+1:\n",
    "#             same += 1\n",
    "#     return (same / len(test_y))\n",
    "\n",
    "# 无+-1\n",
    "def accuracy(test_y, pre):\n",
    "    same = 0\n",
    "    for i in range(len(test_y)):\n",
    "        if test_y[i] == pre[i]:\n",
    "            same += 1\n",
    "    return (same / len(test_y))"
   ],
   "metadata": {
    "collapsed": false,
    "pycharm": {
     "name": "#%%\n"
    }
   }
  },
  {
   "cell_type": "code",
   "execution_count": 35,
   "outputs": [
    {
     "data": {
      "text/plain": "0.3855421686746988"
     },
     "execution_count": 35,
     "metadata": {},
     "output_type": "execute_result"
    }
   ],
   "source": [
    "accuracy(test_y, pre)"
   ],
   "metadata": {
    "collapsed": false,
    "pycharm": {
     "name": "#%%\n"
    }
   }
  },
  {
   "cell_type": "code",
   "execution_count": 36,
   "outputs": [],
   "source": [
    "analysis_columns = [\"index\", \"true_level\", \"predict_level\", \"difference\"]\n",
    "analysis_83_sounds = pd.DataFrame(columns=analysis_columns)"
   ],
   "metadata": {
    "collapsed": false,
    "pycharm": {
     "name": "#%%\n"
    }
   }
  },
  {
   "cell_type": "code",
   "execution_count": 40,
   "outputs": [],
   "source": [
    "analysis_83_sounds['index'] = test_data['index']\n",
    "analysis_83_sounds['true_level'] = test_data['level']"
   ],
   "metadata": {
    "collapsed": false,
    "pycharm": {
     "name": "#%%\n"
    }
   }
  },
  {
   "cell_type": "code",
   "execution_count": 43,
   "outputs": [],
   "source": [
    "analysis_83_sounds['predict_level'] = pre"
   ],
   "metadata": {
    "collapsed": false,
    "pycharm": {
     "name": "#%%\n"
    }
   }
  },
  {
   "cell_type": "code",
   "execution_count": 47,
   "outputs": [],
   "source": [
    "difference = abs(analysis_83_sounds['true_level'] -analysis_83_sounds['predict_level'])\n",
    "analysis_83_sounds['difference'] = difference"
   ],
   "metadata": {
    "collapsed": false,
    "pycharm": {
     "name": "#%%\n"
    }
   }
  },
  {
   "cell_type": "code",
   "execution_count": 48,
   "outputs": [
    {
     "data": {
      "text/plain": "    index  true_level  predict_level  difference\n0       1           1              3           2\n1       2           3              3           0\n2       3           4              1           3\n3       4           3              3           0\n4       5           1              3           2\n..    ...         ...            ...         ...\n78     79           4              3           1\n79     80           2              2           0\n80     81           3              1           2\n81     82           3              2           1\n82     83           1              1           0\n\n[83 rows x 4 columns]",
      "text/html": "<div>\n<style scoped>\n    .dataframe tbody tr th:only-of-type {\n        vertical-align: middle;\n    }\n\n    .dataframe tbody tr th {\n        vertical-align: top;\n    }\n\n    .dataframe thead th {\n        text-align: right;\n    }\n</style>\n<table border=\"1\" class=\"dataframe\">\n  <thead>\n    <tr style=\"text-align: right;\">\n      <th></th>\n      <th>index</th>\n      <th>true_level</th>\n      <th>predict_level</th>\n      <th>difference</th>\n    </tr>\n  </thead>\n  <tbody>\n    <tr>\n      <th>0</th>\n      <td>1</td>\n      <td>1</td>\n      <td>3</td>\n      <td>2</td>\n    </tr>\n    <tr>\n      <th>1</th>\n      <td>2</td>\n      <td>3</td>\n      <td>3</td>\n      <td>0</td>\n    </tr>\n    <tr>\n      <th>2</th>\n      <td>3</td>\n      <td>4</td>\n      <td>1</td>\n      <td>3</td>\n    </tr>\n    <tr>\n      <th>3</th>\n      <td>4</td>\n      <td>3</td>\n      <td>3</td>\n      <td>0</td>\n    </tr>\n    <tr>\n      <th>4</th>\n      <td>5</td>\n      <td>1</td>\n      <td>3</td>\n      <td>2</td>\n    </tr>\n    <tr>\n      <th>...</th>\n      <td>...</td>\n      <td>...</td>\n      <td>...</td>\n      <td>...</td>\n    </tr>\n    <tr>\n      <th>78</th>\n      <td>79</td>\n      <td>4</td>\n      <td>3</td>\n      <td>1</td>\n    </tr>\n    <tr>\n      <th>79</th>\n      <td>80</td>\n      <td>2</td>\n      <td>2</td>\n      <td>0</td>\n    </tr>\n    <tr>\n      <th>80</th>\n      <td>81</td>\n      <td>3</td>\n      <td>1</td>\n      <td>2</td>\n    </tr>\n    <tr>\n      <th>81</th>\n      <td>82</td>\n      <td>3</td>\n      <td>2</td>\n      <td>1</td>\n    </tr>\n    <tr>\n      <th>82</th>\n      <td>83</td>\n      <td>1</td>\n      <td>1</td>\n      <td>0</td>\n    </tr>\n  </tbody>\n</table>\n<p>83 rows × 4 columns</p>\n</div>"
     },
     "execution_count": 48,
     "metadata": {},
     "output_type": "execute_result"
    }
   ],
   "source": [
    "analysis_83_sounds"
   ],
   "metadata": {
    "collapsed": false,
    "pycharm": {
     "name": "#%%\n"
    }
   }
  },
  {
   "cell_type": "code",
   "execution_count": 50,
   "outputs": [],
   "source": [
    "analysis_83_sounds.to_csv(r\".\\output\\analysis_83_sounds.csv\",index=None)"
   ],
   "metadata": {
    "collapsed": false,
    "pycharm": {
     "name": "#%%\n"
    }
   }
  },
  {
   "cell_type": "code",
   "execution_count": null,
   "outputs": [],
   "source": [],
   "metadata": {
    "collapsed": false,
    "pycharm": {
     "name": "#%%\n"
    }
   }
  }
 ],
 "metadata": {
  "kernelspec": {
   "display_name": "Python 3",
   "language": "python",
   "name": "python3"
  },
  "language_info": {
   "codemirror_mode": {
    "name": "ipython",
    "version": 2
   },
   "file_extension": ".py",
   "mimetype": "text/x-python",
   "name": "python",
   "nbconvert_exporter": "python",
   "pygments_lexer": "ipython2",
   "version": "2.7.6"
  }
 },
 "nbformat": 4,
 "nbformat_minor": 0
}
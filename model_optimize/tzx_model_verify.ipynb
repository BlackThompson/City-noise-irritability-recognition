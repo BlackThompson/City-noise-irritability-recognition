{
 "cells": [
  {
   "cell_type": "code",
   "execution_count": 1,
   "metadata": {
    "collapsed": true
   },
   "outputs": [],
   "source": [
    "import pandas as pd\n",
    "import numpy as np\n",
    "from sklearn.preprocessing import normalize\n",
    "import joblib\n",
    "from sklearn.neighbors import KNeighborsClassifier\n",
    "from sklearn.tree import DecisionTreeClassifier\n",
    "from sklearn.ensemble import RandomForestClassifier, ExtraTreesClassifier\n",
    "from sklearn.svm import SVC\n",
    "import sklearn.metrics as metrics\n",
    "from sklearn.linear_model import LogisticRegression\n",
    "import matplotlib.pyplot as plt"
   ]
  },
  {
   "cell_type": "code",
   "execution_count": 2,
   "outputs": [
    {
     "data": {
      "text/plain": "    Unnamed: 0         25s文件  Leq_mean  Leq_std  Leq_25  Leq_median  Leq_75  \\\n0            0    37-L-1.wav     60.87     3.38   58.86       61.67   63.08   \n1            1   142-L-1.wav     58.14     1.88   56.80       58.17   59.31   \n2            2    40-L-1.wav     62.21     2.11   60.68       61.68   63.29   \n3            3    32-L-1.wav     50.14     1.63   49.02       50.01   51.17   \n4            4   112-L-1.wav     64.17     1.40   63.13       64.23   65.26   \n5            5   127-L-1.wav     56.94     0.71   56.44       56.93   57.40   \n6            6    47-L-1.wav     46.18     2.88   43.88       45.45   48.01   \n7            7   149-L-1.wav     57.77     3.61   54.82       57.81   60.33   \n8            8   435-L-1.wav     34.52     2.75   32.72       34.28   35.67   \n9            9     1-L-1.wav     49.88     1.39   48.84       49.75   50.67   \n10          10   699-L-1.wav     22.94     3.08   20.51       22.20   24.77   \n11          11    31-L-2.wav     44.53     1.75   43.30       44.21   45.51   \n12          12     4-L-2.wav     63.58     3.35   62.75       64.45   65.59   \n13          13    14-L-1.wav     47.78     4.32   44.29       47.29   50.71   \n14          14    53-L-1.wav     57.59     2.38   56.42       57.98   59.41   \n15          15     7-L-1.wav     53.57     1.47   52.54       53.39   54.76   \n16          16   338-L-3.wav     49.24     1.66   48.11       48.88   50.03   \n17          17   110-L-1.wav     44.63     0.74   44.14       44.57   45.00   \n18          18   360-L-2.wav     36.17     0.68   35.80       36.09   36.43   \n19          19   251-L-7.wav     52.66     1.26   51.65       52.68   53.69   \n20          20    77-L-1.wav     36.34     0.56   35.88       36.15   36.87   \n21          21   427-L-1.wav     37.71     3.63   35.51       36.85   38.35   \n22          22   201-L-2.wav     55.35     3.68   52.89       54.06   57.53   \n23          23   365-L-1.wav     58.28     4.24   54.36       58.72   61.61   \n24          24   295-L-5.wav     48.44     1.08   47.68       48.22   49.07   \n25          25   567-L-5.wav     36.51     3.23   33.65       36.10   39.33   \n26          26   303-L-3.wav     41.90     1.06   41.11       41.80   42.33   \n27          27   186-L-7.wav     46.27     0.91   45.66       46.19   46.76   \n28          28  186-L-29.wav     46.49     2.26   44.94       45.75   47.38   \n29          29   438-L-3.wav     41.19     3.68   38.25       41.38   44.14   \n30          30   407-L-9.wav     50.33     3.18   48.03       49.71   52.06   \n31          31   221-L-9.wav     49.98     2.63   48.48       49.66   51.41   \n32          32   227-L-6.wav     57.40     3.10   54.50       58.01   59.69   \n33          33   555-L-5.wav     51.52     1.97   50.25       51.49   52.23   \n34          34  450-L-11.wav     36.01     2.13   34.62       35.48   37.53   \n35          35   657-L-2.wav     35.09     1.07   34.36       35.17   35.78   \n36          36   409-L-3.wav     56.30     5.98   50.45       59.09   61.45   \n37          37   686-L-7.wav     16.73     3.11   14.72       15.76   17.49   \n38          38   410-L-1.wav     61.93     2.66   60.00       61.72   63.38   \n39          39   527-L-5.wav     37.10     2.49   35.45       36.66   38.12   \n40          40   281-L-7.wav     59.55     1.84   58.22       59.55   60.83   \n41          41   684-L-9.wav     30.09     6.69   22.14       32.18   35.07   \n42          42   687-L-3.wav     18.99     1.79   17.58       18.88   20.18   \n43          43   615-L-7.wav     48.95     6.73   42.79       49.19   55.46   \n\n    Leq_10-Leq_90  Loudness_mean  Loudness_std  ...  Tonality_mean  \\\n0           -7.71          13.72          2.85  ...           0.02   \n1           -4.58          10.44          2.14  ...           0.02   \n2           -5.54          14.21          2.32  ...           0.02   \n3           -4.10           5.89          0.59  ...           0.04   \n4           -3.55          14.90          1.52  ...           0.02   \n5           -1.83          10.15          0.69  ...           0.03   \n6           -7.17           4.20          0.70  ...           0.03   \n7           -9.34          10.61          3.21  ...           0.01   \n8           -6.09           1.57          0.63  ...           0.04   \n9           -3.56           6.41          0.75  ...           0.06   \n10          -8.54           0.24          0.19  ...           0.03   \n11          -4.29           3.97          0.63  ...           0.03   \n12          -8.17          14.87          2.89  ...           0.08   \n13         -11.98           4.52          1.20  ...           0.03   \n14          -6.53           7.59          1.02  ...           0.03   \n15          -3.95           8.10          0.75  ...           0.16   \n16          -3.52           5.40          0.83  ...           0.04   \n17          -1.62           4.29          0.37  ...           0.05   \n18          -1.32           1.95          0.20  ...           0.05   \n19          -3.31           7.45          0.71  ...           0.13   \n20          -1.46           1.64          0.16  ...           0.03   \n21          -7.74           2.00          0.82  ...           0.05   \n22          -8.88           7.70          1.89  ...           0.06   \n23         -11.05          10.03          2.46  ...           0.15   \n24          -2.92           5.45          0.39  ...           0.07   \n25          -8.56           1.47          0.40  ...           0.14   \n26          -2.45           2.87          0.35  ...           0.03   \n27          -2.49           4.09          0.36  ...           0.04   \n28          -6.11           4.22          0.75  ...           0.04   \n29          -9.80           2.84          1.01  ...           0.15   \n30          -7.43           5.24          1.74  ...           0.05   \n31          -7.62           5.52          1.35  ...           0.03   \n32          -8.86           9.00          1.80  ...           0.05   \n33          -3.60           6.17          1.24  ...           0.08   \n34          -5.10           1.71          0.35  ...           0.06   \n35          -2.78           1.57          0.22  ...           0.03   \n36         -15.25          10.21          4.41  ...           0.07   \n37          -6.67           0.07          0.15  ...           0.01   \n38          -6.57          11.75          2.33  ...           0.19   \n39          -5.98           1.80          0.56  ...           0.05   \n40          -4.75          12.51          1.76  ...           0.02   \n41         -18.17           1.21          0.79  ...           0.05   \n42          -4.39           0.14          0.10  ...           0.00   \n43         -18.42           4.96          2.96  ...           0.07   \n\n    Tonality_std  Tonality_25  Tonality_median  Tonality_75  \\\n0           0.03         0.00             0.00         0.04   \n1           0.02         0.00             0.01         0.03   \n2           0.03         0.00             0.00         0.04   \n3           0.03         0.00             0.03         0.06   \n4           0.03         0.00             0.02         0.04   \n5           0.02         0.02             0.03         0.05   \n6           0.04         0.00             0.02         0.05   \n7           0.02         0.00             0.00         0.01   \n8           0.05         0.00             0.03         0.06   \n9           0.05         0.03             0.06         0.09   \n10          0.07         0.00             0.00         0.03   \n11          0.03         0.00             0.02         0.04   \n12          0.06         0.04             0.07         0.11   \n13          0.03         0.00             0.01         0.05   \n14          0.03         0.00             0.00         0.05   \n15          0.06         0.12             0.16         0.20   \n16          0.04         0.00             0.04         0.06   \n17          0.04         0.02             0.05         0.07   \n18          0.04         0.01             0.05         0.08   \n19          0.06         0.08             0.12         0.17   \n20          0.03         0.00             0.02         0.04   \n21          0.05         0.00             0.04         0.08   \n22          0.06         0.02             0.05         0.09   \n23          0.08         0.09             0.14         0.20   \n24          0.05         0.03             0.06         0.10   \n25          0.11         0.05             0.11         0.22   \n26          0.04         0.00             0.02         0.05   \n27          0.04         0.00             0.03         0.06   \n28          0.04         0.00             0.03         0.06   \n29          0.10         0.08             0.14         0.22   \n30          0.07         0.00             0.04         0.08   \n31          0.04         0.00             0.03         0.05   \n32          0.05         0.00             0.04         0.07   \n33          0.06         0.04             0.07         0.11   \n34          0.06         0.00             0.05         0.10   \n35          0.04         0.00             0.02         0.06   \n36          0.05         0.04             0.07         0.10   \n37          0.07         0.00             0.00         0.00   \n38          0.10         0.11             0.18         0.26   \n39          0.06         0.00             0.04         0.08   \n40          0.03         0.00             0.02         0.04   \n41          0.07         0.00             0.00         0.09   \n42          0.02         0.00             0.00         0.00   \n43          0.06         0.03             0.06         0.10   \n\n    Tonality_10-Tonality_90      pctn      pctu      pctm  level  \n0                     -0.06  0.800000  0.200000  0.000000      1  \n1                     -0.04  1.000000  0.000000  0.000000      1  \n2                     -0.06  1.000000  0.000000  0.000000      1  \n3                     -0.08  0.571429  0.428571  0.000000      1  \n4                     -0.06  1.000000  0.000000  0.000000      1  \n5                     -0.05  1.000000  0.000000  0.000000      1  \n6                     -0.08  0.833333  0.166667  0.000000      2  \n7                     -0.04  0.900000  0.100000  0.000000      1  \n8                     -0.11  1.000000  0.000000  0.000000      2  \n9                     -0.12  0.615385  0.384615  0.000000      3  \n10                    -0.12  0.416667  0.000000  0.583333      2  \n11                    -0.07  0.428571  0.000000  0.571429      2  \n12                    -0.16  0.250000  0.083333  0.666667      3  \n13                    -0.07  1.000000  0.000000  0.000000      3  \n14                    -0.07  1.000000  0.000000  0.000000      2  \n15                    -0.15  0.111111  0.000000  0.888889      3  \n16                    -0.09  0.533333  0.466667  0.000000      3  \n17                    -0.10  1.000000  0.000000  0.000000      2  \n18                    -0.11  0.500000  0.500000  0.000000      2  \n19                    -0.16  0.333333  0.666667  0.000000      3  \n20                    -0.07  1.000000  0.000000  0.000000      3  \n21                    -0.11  1.000000  0.000000  0.000000      2  \n22                    -0.14  0.235294  0.529412  0.235294      3  \n23                    -0.20  0.000000  0.857143  0.142857      3  \n24                    -0.14  0.307692  0.692308  0.000000      2  \n25                    -0.30  0.000000  1.000000  0.000000      3  \n26                    -0.08  0.285714  0.571429  0.142857      3  \n27                    -0.09  0.727273  0.090909  0.181818      2  \n28                    -0.09  0.222222  0.555556  0.222222      3  \n29                    -0.26  0.333333  0.000000  0.666667      3  \n30                    -0.14  0.000000  1.000000  0.000000      3  \n31                    -0.08  0.000000  0.200000  0.800000      3  \n32                    -0.11  0.000000  0.272727  0.727273      3  \n33                    -0.15  0.000000  0.928571  0.071429      3  \n34                    -0.14  0.500000  0.166667  0.333333      3  \n35                    -0.09  0.000000  0.363636  0.636364      3  \n36                    -0.12  0.100000  0.200000  0.700000      3  \n37                     0.00  0.000000  0.583333  0.416667      3  \n38                    -0.27  0.000000  1.000000  0.000000      3  \n39                    -0.13  0.222222  0.444444  0.333333      3  \n40                    -0.06  0.230769  0.153846  0.615385      2  \n41                    -0.16  0.000000  0.000000  1.000000      3  \n42                     0.00  0.166667  0.833333  0.000000      3  \n43                    -0.14  0.000000  0.000000  1.000000      4  \n\n[44 rows x 42 columns]",
      "text/html": "<div>\n<style scoped>\n    .dataframe tbody tr th:only-of-type {\n        vertical-align: middle;\n    }\n\n    .dataframe tbody tr th {\n        vertical-align: top;\n    }\n\n    .dataframe thead th {\n        text-align: right;\n    }\n</style>\n<table border=\"1\" class=\"dataframe\">\n  <thead>\n    <tr style=\"text-align: right;\">\n      <th></th>\n      <th>Unnamed: 0</th>\n      <th>25s文件</th>\n      <th>Leq_mean</th>\n      <th>Leq_std</th>\n      <th>Leq_25</th>\n      <th>Leq_median</th>\n      <th>Leq_75</th>\n      <th>Leq_10-Leq_90</th>\n      <th>Loudness_mean</th>\n      <th>Loudness_std</th>\n      <th>...</th>\n      <th>Tonality_mean</th>\n      <th>Tonality_std</th>\n      <th>Tonality_25</th>\n      <th>Tonality_median</th>\n      <th>Tonality_75</th>\n      <th>Tonality_10-Tonality_90</th>\n      <th>pctn</th>\n      <th>pctu</th>\n      <th>pctm</th>\n      <th>level</th>\n    </tr>\n  </thead>\n  <tbody>\n    <tr>\n      <th>0</th>\n      <td>0</td>\n      <td>37-L-1.wav</td>\n      <td>60.87</td>\n      <td>3.38</td>\n      <td>58.86</td>\n      <td>61.67</td>\n      <td>63.08</td>\n      <td>-7.71</td>\n      <td>13.72</td>\n      <td>2.85</td>\n      <td>...</td>\n      <td>0.02</td>\n      <td>0.03</td>\n      <td>0.00</td>\n      <td>0.00</td>\n      <td>0.04</td>\n      <td>-0.06</td>\n      <td>0.800000</td>\n      <td>0.200000</td>\n      <td>0.000000</td>\n      <td>1</td>\n    </tr>\n    <tr>\n      <th>1</th>\n      <td>1</td>\n      <td>142-L-1.wav</td>\n      <td>58.14</td>\n      <td>1.88</td>\n      <td>56.80</td>\n      <td>58.17</td>\n      <td>59.31</td>\n      <td>-4.58</td>\n      <td>10.44</td>\n      <td>2.14</td>\n      <td>...</td>\n      <td>0.02</td>\n      <td>0.02</td>\n      <td>0.00</td>\n      <td>0.01</td>\n      <td>0.03</td>\n      <td>-0.04</td>\n      <td>1.000000</td>\n      <td>0.000000</td>\n      <td>0.000000</td>\n      <td>1</td>\n    </tr>\n    <tr>\n      <th>2</th>\n      <td>2</td>\n      <td>40-L-1.wav</td>\n      <td>62.21</td>\n      <td>2.11</td>\n      <td>60.68</td>\n      <td>61.68</td>\n      <td>63.29</td>\n      <td>-5.54</td>\n      <td>14.21</td>\n      <td>2.32</td>\n      <td>...</td>\n      <td>0.02</td>\n      <td>0.03</td>\n      <td>0.00</td>\n      <td>0.00</td>\n      <td>0.04</td>\n      <td>-0.06</td>\n      <td>1.000000</td>\n      <td>0.000000</td>\n      <td>0.000000</td>\n      <td>1</td>\n    </tr>\n    <tr>\n      <th>3</th>\n      <td>3</td>\n      <td>32-L-1.wav</td>\n      <td>50.14</td>\n      <td>1.63</td>\n      <td>49.02</td>\n      <td>50.01</td>\n      <td>51.17</td>\n      <td>-4.10</td>\n      <td>5.89</td>\n      <td>0.59</td>\n      <td>...</td>\n      <td>0.04</td>\n      <td>0.03</td>\n      <td>0.00</td>\n      <td>0.03</td>\n      <td>0.06</td>\n      <td>-0.08</td>\n      <td>0.571429</td>\n      <td>0.428571</td>\n      <td>0.000000</td>\n      <td>1</td>\n    </tr>\n    <tr>\n      <th>4</th>\n      <td>4</td>\n      <td>112-L-1.wav</td>\n      <td>64.17</td>\n      <td>1.40</td>\n      <td>63.13</td>\n      <td>64.23</td>\n      <td>65.26</td>\n      <td>-3.55</td>\n      <td>14.90</td>\n      <td>1.52</td>\n      <td>...</td>\n      <td>0.02</td>\n      <td>0.03</td>\n      <td>0.00</td>\n      <td>0.02</td>\n      <td>0.04</td>\n      <td>-0.06</td>\n      <td>1.000000</td>\n      <td>0.000000</td>\n      <td>0.000000</td>\n      <td>1</td>\n    </tr>\n    <tr>\n      <th>5</th>\n      <td>5</td>\n      <td>127-L-1.wav</td>\n      <td>56.94</td>\n      <td>0.71</td>\n      <td>56.44</td>\n      <td>56.93</td>\n      <td>57.40</td>\n      <td>-1.83</td>\n      <td>10.15</td>\n      <td>0.69</td>\n      <td>...</td>\n      <td>0.03</td>\n      <td>0.02</td>\n      <td>0.02</td>\n      <td>0.03</td>\n      <td>0.05</td>\n      <td>-0.05</td>\n      <td>1.000000</td>\n      <td>0.000000</td>\n      <td>0.000000</td>\n      <td>1</td>\n    </tr>\n    <tr>\n      <th>6</th>\n      <td>6</td>\n      <td>47-L-1.wav</td>\n      <td>46.18</td>\n      <td>2.88</td>\n      <td>43.88</td>\n      <td>45.45</td>\n      <td>48.01</td>\n      <td>-7.17</td>\n      <td>4.20</td>\n      <td>0.70</td>\n      <td>...</td>\n      <td>0.03</td>\n      <td>0.04</td>\n      <td>0.00</td>\n      <td>0.02</td>\n      <td>0.05</td>\n      <td>-0.08</td>\n      <td>0.833333</td>\n      <td>0.166667</td>\n      <td>0.000000</td>\n      <td>2</td>\n    </tr>\n    <tr>\n      <th>7</th>\n      <td>7</td>\n      <td>149-L-1.wav</td>\n      <td>57.77</td>\n      <td>3.61</td>\n      <td>54.82</td>\n      <td>57.81</td>\n      <td>60.33</td>\n      <td>-9.34</td>\n      <td>10.61</td>\n      <td>3.21</td>\n      <td>...</td>\n      <td>0.01</td>\n      <td>0.02</td>\n      <td>0.00</td>\n      <td>0.00</td>\n      <td>0.01</td>\n      <td>-0.04</td>\n      <td>0.900000</td>\n      <td>0.100000</td>\n      <td>0.000000</td>\n      <td>1</td>\n    </tr>\n    <tr>\n      <th>8</th>\n      <td>8</td>\n      <td>435-L-1.wav</td>\n      <td>34.52</td>\n      <td>2.75</td>\n      <td>32.72</td>\n      <td>34.28</td>\n      <td>35.67</td>\n      <td>-6.09</td>\n      <td>1.57</td>\n      <td>0.63</td>\n      <td>...</td>\n      <td>0.04</td>\n      <td>0.05</td>\n      <td>0.00</td>\n      <td>0.03</td>\n      <td>0.06</td>\n      <td>-0.11</td>\n      <td>1.000000</td>\n      <td>0.000000</td>\n      <td>0.000000</td>\n      <td>2</td>\n    </tr>\n    <tr>\n      <th>9</th>\n      <td>9</td>\n      <td>1-L-1.wav</td>\n      <td>49.88</td>\n      <td>1.39</td>\n      <td>48.84</td>\n      <td>49.75</td>\n      <td>50.67</td>\n      <td>-3.56</td>\n      <td>6.41</td>\n      <td>0.75</td>\n      <td>...</td>\n      <td>0.06</td>\n      <td>0.05</td>\n      <td>0.03</td>\n      <td>0.06</td>\n      <td>0.09</td>\n      <td>-0.12</td>\n      <td>0.615385</td>\n      <td>0.384615</td>\n      <td>0.000000</td>\n      <td>3</td>\n    </tr>\n    <tr>\n      <th>10</th>\n      <td>10</td>\n      <td>699-L-1.wav</td>\n      <td>22.94</td>\n      <td>3.08</td>\n      <td>20.51</td>\n      <td>22.20</td>\n      <td>24.77</td>\n      <td>-8.54</td>\n      <td>0.24</td>\n      <td>0.19</td>\n      <td>...</td>\n      <td>0.03</td>\n      <td>0.07</td>\n      <td>0.00</td>\n      <td>0.00</td>\n      <td>0.03</td>\n      <td>-0.12</td>\n      <td>0.416667</td>\n      <td>0.000000</td>\n      <td>0.583333</td>\n      <td>2</td>\n    </tr>\n    <tr>\n      <th>11</th>\n      <td>11</td>\n      <td>31-L-2.wav</td>\n      <td>44.53</td>\n      <td>1.75</td>\n      <td>43.30</td>\n      <td>44.21</td>\n      <td>45.51</td>\n      <td>-4.29</td>\n      <td>3.97</td>\n      <td>0.63</td>\n      <td>...</td>\n      <td>0.03</td>\n      <td>0.03</td>\n      <td>0.00</td>\n      <td>0.02</td>\n      <td>0.04</td>\n      <td>-0.07</td>\n      <td>0.428571</td>\n      <td>0.000000</td>\n      <td>0.571429</td>\n      <td>2</td>\n    </tr>\n    <tr>\n      <th>12</th>\n      <td>12</td>\n      <td>4-L-2.wav</td>\n      <td>63.58</td>\n      <td>3.35</td>\n      <td>62.75</td>\n      <td>64.45</td>\n      <td>65.59</td>\n      <td>-8.17</td>\n      <td>14.87</td>\n      <td>2.89</td>\n      <td>...</td>\n      <td>0.08</td>\n      <td>0.06</td>\n      <td>0.04</td>\n      <td>0.07</td>\n      <td>0.11</td>\n      <td>-0.16</td>\n      <td>0.250000</td>\n      <td>0.083333</td>\n      <td>0.666667</td>\n      <td>3</td>\n    </tr>\n    <tr>\n      <th>13</th>\n      <td>13</td>\n      <td>14-L-1.wav</td>\n      <td>47.78</td>\n      <td>4.32</td>\n      <td>44.29</td>\n      <td>47.29</td>\n      <td>50.71</td>\n      <td>-11.98</td>\n      <td>4.52</td>\n      <td>1.20</td>\n      <td>...</td>\n      <td>0.03</td>\n      <td>0.03</td>\n      <td>0.00</td>\n      <td>0.01</td>\n      <td>0.05</td>\n      <td>-0.07</td>\n      <td>1.000000</td>\n      <td>0.000000</td>\n      <td>0.000000</td>\n      <td>3</td>\n    </tr>\n    <tr>\n      <th>14</th>\n      <td>14</td>\n      <td>53-L-1.wav</td>\n      <td>57.59</td>\n      <td>2.38</td>\n      <td>56.42</td>\n      <td>57.98</td>\n      <td>59.41</td>\n      <td>-6.53</td>\n      <td>7.59</td>\n      <td>1.02</td>\n      <td>...</td>\n      <td>0.03</td>\n      <td>0.03</td>\n      <td>0.00</td>\n      <td>0.00</td>\n      <td>0.05</td>\n      <td>-0.07</td>\n      <td>1.000000</td>\n      <td>0.000000</td>\n      <td>0.000000</td>\n      <td>2</td>\n    </tr>\n    <tr>\n      <th>15</th>\n      <td>15</td>\n      <td>7-L-1.wav</td>\n      <td>53.57</td>\n      <td>1.47</td>\n      <td>52.54</td>\n      <td>53.39</td>\n      <td>54.76</td>\n      <td>-3.95</td>\n      <td>8.10</td>\n      <td>0.75</td>\n      <td>...</td>\n      <td>0.16</td>\n      <td>0.06</td>\n      <td>0.12</td>\n      <td>0.16</td>\n      <td>0.20</td>\n      <td>-0.15</td>\n      <td>0.111111</td>\n      <td>0.000000</td>\n      <td>0.888889</td>\n      <td>3</td>\n    </tr>\n    <tr>\n      <th>16</th>\n      <td>16</td>\n      <td>338-L-3.wav</td>\n      <td>49.24</td>\n      <td>1.66</td>\n      <td>48.11</td>\n      <td>48.88</td>\n      <td>50.03</td>\n      <td>-3.52</td>\n      <td>5.40</td>\n      <td>0.83</td>\n      <td>...</td>\n      <td>0.04</td>\n      <td>0.04</td>\n      <td>0.00</td>\n      <td>0.04</td>\n      <td>0.06</td>\n      <td>-0.09</td>\n      <td>0.533333</td>\n      <td>0.466667</td>\n      <td>0.000000</td>\n      <td>3</td>\n    </tr>\n    <tr>\n      <th>17</th>\n      <td>17</td>\n      <td>110-L-1.wav</td>\n      <td>44.63</td>\n      <td>0.74</td>\n      <td>44.14</td>\n      <td>44.57</td>\n      <td>45.00</td>\n      <td>-1.62</td>\n      <td>4.29</td>\n      <td>0.37</td>\n      <td>...</td>\n      <td>0.05</td>\n      <td>0.04</td>\n      <td>0.02</td>\n      <td>0.05</td>\n      <td>0.07</td>\n      <td>-0.10</td>\n      <td>1.000000</td>\n      <td>0.000000</td>\n      <td>0.000000</td>\n      <td>2</td>\n    </tr>\n    <tr>\n      <th>18</th>\n      <td>18</td>\n      <td>360-L-2.wav</td>\n      <td>36.17</td>\n      <td>0.68</td>\n      <td>35.80</td>\n      <td>36.09</td>\n      <td>36.43</td>\n      <td>-1.32</td>\n      <td>1.95</td>\n      <td>0.20</td>\n      <td>...</td>\n      <td>0.05</td>\n      <td>0.04</td>\n      <td>0.01</td>\n      <td>0.05</td>\n      <td>0.08</td>\n      <td>-0.11</td>\n      <td>0.500000</td>\n      <td>0.500000</td>\n      <td>0.000000</td>\n      <td>2</td>\n    </tr>\n    <tr>\n      <th>19</th>\n      <td>19</td>\n      <td>251-L-7.wav</td>\n      <td>52.66</td>\n      <td>1.26</td>\n      <td>51.65</td>\n      <td>52.68</td>\n      <td>53.69</td>\n      <td>-3.31</td>\n      <td>7.45</td>\n      <td>0.71</td>\n      <td>...</td>\n      <td>0.13</td>\n      <td>0.06</td>\n      <td>0.08</td>\n      <td>0.12</td>\n      <td>0.17</td>\n      <td>-0.16</td>\n      <td>0.333333</td>\n      <td>0.666667</td>\n      <td>0.000000</td>\n      <td>3</td>\n    </tr>\n    <tr>\n      <th>20</th>\n      <td>20</td>\n      <td>77-L-1.wav</td>\n      <td>36.34</td>\n      <td>0.56</td>\n      <td>35.88</td>\n      <td>36.15</td>\n      <td>36.87</td>\n      <td>-1.46</td>\n      <td>1.64</td>\n      <td>0.16</td>\n      <td>...</td>\n      <td>0.03</td>\n      <td>0.03</td>\n      <td>0.00</td>\n      <td>0.02</td>\n      <td>0.04</td>\n      <td>-0.07</td>\n      <td>1.000000</td>\n      <td>0.000000</td>\n      <td>0.000000</td>\n      <td>3</td>\n    </tr>\n    <tr>\n      <th>21</th>\n      <td>21</td>\n      <td>427-L-1.wav</td>\n      <td>37.71</td>\n      <td>3.63</td>\n      <td>35.51</td>\n      <td>36.85</td>\n      <td>38.35</td>\n      <td>-7.74</td>\n      <td>2.00</td>\n      <td>0.82</td>\n      <td>...</td>\n      <td>0.05</td>\n      <td>0.05</td>\n      <td>0.00</td>\n      <td>0.04</td>\n      <td>0.08</td>\n      <td>-0.11</td>\n      <td>1.000000</td>\n      <td>0.000000</td>\n      <td>0.000000</td>\n      <td>2</td>\n    </tr>\n    <tr>\n      <th>22</th>\n      <td>22</td>\n      <td>201-L-2.wav</td>\n      <td>55.35</td>\n      <td>3.68</td>\n      <td>52.89</td>\n      <td>54.06</td>\n      <td>57.53</td>\n      <td>-8.88</td>\n      <td>7.70</td>\n      <td>1.89</td>\n      <td>...</td>\n      <td>0.06</td>\n      <td>0.06</td>\n      <td>0.02</td>\n      <td>0.05</td>\n      <td>0.09</td>\n      <td>-0.14</td>\n      <td>0.235294</td>\n      <td>0.529412</td>\n      <td>0.235294</td>\n      <td>3</td>\n    </tr>\n    <tr>\n      <th>23</th>\n      <td>23</td>\n      <td>365-L-1.wav</td>\n      <td>58.28</td>\n      <td>4.24</td>\n      <td>54.36</td>\n      <td>58.72</td>\n      <td>61.61</td>\n      <td>-11.05</td>\n      <td>10.03</td>\n      <td>2.46</td>\n      <td>...</td>\n      <td>0.15</td>\n      <td>0.08</td>\n      <td>0.09</td>\n      <td>0.14</td>\n      <td>0.20</td>\n      <td>-0.20</td>\n      <td>0.000000</td>\n      <td>0.857143</td>\n      <td>0.142857</td>\n      <td>3</td>\n    </tr>\n    <tr>\n      <th>24</th>\n      <td>24</td>\n      <td>295-L-5.wav</td>\n      <td>48.44</td>\n      <td>1.08</td>\n      <td>47.68</td>\n      <td>48.22</td>\n      <td>49.07</td>\n      <td>-2.92</td>\n      <td>5.45</td>\n      <td>0.39</td>\n      <td>...</td>\n      <td>0.07</td>\n      <td>0.05</td>\n      <td>0.03</td>\n      <td>0.06</td>\n      <td>0.10</td>\n      <td>-0.14</td>\n      <td>0.307692</td>\n      <td>0.692308</td>\n      <td>0.000000</td>\n      <td>2</td>\n    </tr>\n    <tr>\n      <th>25</th>\n      <td>25</td>\n      <td>567-L-5.wav</td>\n      <td>36.51</td>\n      <td>3.23</td>\n      <td>33.65</td>\n      <td>36.10</td>\n      <td>39.33</td>\n      <td>-8.56</td>\n      <td>1.47</td>\n      <td>0.40</td>\n      <td>...</td>\n      <td>0.14</td>\n      <td>0.11</td>\n      <td>0.05</td>\n      <td>0.11</td>\n      <td>0.22</td>\n      <td>-0.30</td>\n      <td>0.000000</td>\n      <td>1.000000</td>\n      <td>0.000000</td>\n      <td>3</td>\n    </tr>\n    <tr>\n      <th>26</th>\n      <td>26</td>\n      <td>303-L-3.wav</td>\n      <td>41.90</td>\n      <td>1.06</td>\n      <td>41.11</td>\n      <td>41.80</td>\n      <td>42.33</td>\n      <td>-2.45</td>\n      <td>2.87</td>\n      <td>0.35</td>\n      <td>...</td>\n      <td>0.03</td>\n      <td>0.04</td>\n      <td>0.00</td>\n      <td>0.02</td>\n      <td>0.05</td>\n      <td>-0.08</td>\n      <td>0.285714</td>\n      <td>0.571429</td>\n      <td>0.142857</td>\n      <td>3</td>\n    </tr>\n    <tr>\n      <th>27</th>\n      <td>27</td>\n      <td>186-L-7.wav</td>\n      <td>46.27</td>\n      <td>0.91</td>\n      <td>45.66</td>\n      <td>46.19</td>\n      <td>46.76</td>\n      <td>-2.49</td>\n      <td>4.09</td>\n      <td>0.36</td>\n      <td>...</td>\n      <td>0.04</td>\n      <td>0.04</td>\n      <td>0.00</td>\n      <td>0.03</td>\n      <td>0.06</td>\n      <td>-0.09</td>\n      <td>0.727273</td>\n      <td>0.090909</td>\n      <td>0.181818</td>\n      <td>2</td>\n    </tr>\n    <tr>\n      <th>28</th>\n      <td>28</td>\n      <td>186-L-29.wav</td>\n      <td>46.49</td>\n      <td>2.26</td>\n      <td>44.94</td>\n      <td>45.75</td>\n      <td>47.38</td>\n      <td>-6.11</td>\n      <td>4.22</td>\n      <td>0.75</td>\n      <td>...</td>\n      <td>0.04</td>\n      <td>0.04</td>\n      <td>0.00</td>\n      <td>0.03</td>\n      <td>0.06</td>\n      <td>-0.09</td>\n      <td>0.222222</td>\n      <td>0.555556</td>\n      <td>0.222222</td>\n      <td>3</td>\n    </tr>\n    <tr>\n      <th>29</th>\n      <td>29</td>\n      <td>438-L-3.wav</td>\n      <td>41.19</td>\n      <td>3.68</td>\n      <td>38.25</td>\n      <td>41.38</td>\n      <td>44.14</td>\n      <td>-9.80</td>\n      <td>2.84</td>\n      <td>1.01</td>\n      <td>...</td>\n      <td>0.15</td>\n      <td>0.10</td>\n      <td>0.08</td>\n      <td>0.14</td>\n      <td>0.22</td>\n      <td>-0.26</td>\n      <td>0.333333</td>\n      <td>0.000000</td>\n      <td>0.666667</td>\n      <td>3</td>\n    </tr>\n    <tr>\n      <th>30</th>\n      <td>30</td>\n      <td>407-L-9.wav</td>\n      <td>50.33</td>\n      <td>3.18</td>\n      <td>48.03</td>\n      <td>49.71</td>\n      <td>52.06</td>\n      <td>-7.43</td>\n      <td>5.24</td>\n      <td>1.74</td>\n      <td>...</td>\n      <td>0.05</td>\n      <td>0.07</td>\n      <td>0.00</td>\n      <td>0.04</td>\n      <td>0.08</td>\n      <td>-0.14</td>\n      <td>0.000000</td>\n      <td>1.000000</td>\n      <td>0.000000</td>\n      <td>3</td>\n    </tr>\n    <tr>\n      <th>31</th>\n      <td>31</td>\n      <td>221-L-9.wav</td>\n      <td>49.98</td>\n      <td>2.63</td>\n      <td>48.48</td>\n      <td>49.66</td>\n      <td>51.41</td>\n      <td>-7.62</td>\n      <td>5.52</td>\n      <td>1.35</td>\n      <td>...</td>\n      <td>0.03</td>\n      <td>0.04</td>\n      <td>0.00</td>\n      <td>0.03</td>\n      <td>0.05</td>\n      <td>-0.08</td>\n      <td>0.000000</td>\n      <td>0.200000</td>\n      <td>0.800000</td>\n      <td>3</td>\n    </tr>\n    <tr>\n      <th>32</th>\n      <td>32</td>\n      <td>227-L-6.wav</td>\n      <td>57.40</td>\n      <td>3.10</td>\n      <td>54.50</td>\n      <td>58.01</td>\n      <td>59.69</td>\n      <td>-8.86</td>\n      <td>9.00</td>\n      <td>1.80</td>\n      <td>...</td>\n      <td>0.05</td>\n      <td>0.05</td>\n      <td>0.00</td>\n      <td>0.04</td>\n      <td>0.07</td>\n      <td>-0.11</td>\n      <td>0.000000</td>\n      <td>0.272727</td>\n      <td>0.727273</td>\n      <td>3</td>\n    </tr>\n    <tr>\n      <th>33</th>\n      <td>33</td>\n      <td>555-L-5.wav</td>\n      <td>51.52</td>\n      <td>1.97</td>\n      <td>50.25</td>\n      <td>51.49</td>\n      <td>52.23</td>\n      <td>-3.60</td>\n      <td>6.17</td>\n      <td>1.24</td>\n      <td>...</td>\n      <td>0.08</td>\n      <td>0.06</td>\n      <td>0.04</td>\n      <td>0.07</td>\n      <td>0.11</td>\n      <td>-0.15</td>\n      <td>0.000000</td>\n      <td>0.928571</td>\n      <td>0.071429</td>\n      <td>3</td>\n    </tr>\n    <tr>\n      <th>34</th>\n      <td>34</td>\n      <td>450-L-11.wav</td>\n      <td>36.01</td>\n      <td>2.13</td>\n      <td>34.62</td>\n      <td>35.48</td>\n      <td>37.53</td>\n      <td>-5.10</td>\n      <td>1.71</td>\n      <td>0.35</td>\n      <td>...</td>\n      <td>0.06</td>\n      <td>0.06</td>\n      <td>0.00</td>\n      <td>0.05</td>\n      <td>0.10</td>\n      <td>-0.14</td>\n      <td>0.500000</td>\n      <td>0.166667</td>\n      <td>0.333333</td>\n      <td>3</td>\n    </tr>\n    <tr>\n      <th>35</th>\n      <td>35</td>\n      <td>657-L-2.wav</td>\n      <td>35.09</td>\n      <td>1.07</td>\n      <td>34.36</td>\n      <td>35.17</td>\n      <td>35.78</td>\n      <td>-2.78</td>\n      <td>1.57</td>\n      <td>0.22</td>\n      <td>...</td>\n      <td>0.03</td>\n      <td>0.04</td>\n      <td>0.00</td>\n      <td>0.02</td>\n      <td>0.06</td>\n      <td>-0.09</td>\n      <td>0.000000</td>\n      <td>0.363636</td>\n      <td>0.636364</td>\n      <td>3</td>\n    </tr>\n    <tr>\n      <th>36</th>\n      <td>36</td>\n      <td>409-L-3.wav</td>\n      <td>56.30</td>\n      <td>5.98</td>\n      <td>50.45</td>\n      <td>59.09</td>\n      <td>61.45</td>\n      <td>-15.25</td>\n      <td>10.21</td>\n      <td>4.41</td>\n      <td>...</td>\n      <td>0.07</td>\n      <td>0.05</td>\n      <td>0.04</td>\n      <td>0.07</td>\n      <td>0.10</td>\n      <td>-0.12</td>\n      <td>0.100000</td>\n      <td>0.200000</td>\n      <td>0.700000</td>\n      <td>3</td>\n    </tr>\n    <tr>\n      <th>37</th>\n      <td>37</td>\n      <td>686-L-7.wav</td>\n      <td>16.73</td>\n      <td>3.11</td>\n      <td>14.72</td>\n      <td>15.76</td>\n      <td>17.49</td>\n      <td>-6.67</td>\n      <td>0.07</td>\n      <td>0.15</td>\n      <td>...</td>\n      <td>0.01</td>\n      <td>0.07</td>\n      <td>0.00</td>\n      <td>0.00</td>\n      <td>0.00</td>\n      <td>0.00</td>\n      <td>0.000000</td>\n      <td>0.583333</td>\n      <td>0.416667</td>\n      <td>3</td>\n    </tr>\n    <tr>\n      <th>38</th>\n      <td>38</td>\n      <td>410-L-1.wav</td>\n      <td>61.93</td>\n      <td>2.66</td>\n      <td>60.00</td>\n      <td>61.72</td>\n      <td>63.38</td>\n      <td>-6.57</td>\n      <td>11.75</td>\n      <td>2.33</td>\n      <td>...</td>\n      <td>0.19</td>\n      <td>0.10</td>\n      <td>0.11</td>\n      <td>0.18</td>\n      <td>0.26</td>\n      <td>-0.27</td>\n      <td>0.000000</td>\n      <td>1.000000</td>\n      <td>0.000000</td>\n      <td>3</td>\n    </tr>\n    <tr>\n      <th>39</th>\n      <td>39</td>\n      <td>527-L-5.wav</td>\n      <td>37.10</td>\n      <td>2.49</td>\n      <td>35.45</td>\n      <td>36.66</td>\n      <td>38.12</td>\n      <td>-5.98</td>\n      <td>1.80</td>\n      <td>0.56</td>\n      <td>...</td>\n      <td>0.05</td>\n      <td>0.06</td>\n      <td>0.00</td>\n      <td>0.04</td>\n      <td>0.08</td>\n      <td>-0.13</td>\n      <td>0.222222</td>\n      <td>0.444444</td>\n      <td>0.333333</td>\n      <td>3</td>\n    </tr>\n    <tr>\n      <th>40</th>\n      <td>40</td>\n      <td>281-L-7.wav</td>\n      <td>59.55</td>\n      <td>1.84</td>\n      <td>58.22</td>\n      <td>59.55</td>\n      <td>60.83</td>\n      <td>-4.75</td>\n      <td>12.51</td>\n      <td>1.76</td>\n      <td>...</td>\n      <td>0.02</td>\n      <td>0.03</td>\n      <td>0.00</td>\n      <td>0.02</td>\n      <td>0.04</td>\n      <td>-0.06</td>\n      <td>0.230769</td>\n      <td>0.153846</td>\n      <td>0.615385</td>\n      <td>2</td>\n    </tr>\n    <tr>\n      <th>41</th>\n      <td>41</td>\n      <td>684-L-9.wav</td>\n      <td>30.09</td>\n      <td>6.69</td>\n      <td>22.14</td>\n      <td>32.18</td>\n      <td>35.07</td>\n      <td>-18.17</td>\n      <td>1.21</td>\n      <td>0.79</td>\n      <td>...</td>\n      <td>0.05</td>\n      <td>0.07</td>\n      <td>0.00</td>\n      <td>0.00</td>\n      <td>0.09</td>\n      <td>-0.16</td>\n      <td>0.000000</td>\n      <td>0.000000</td>\n      <td>1.000000</td>\n      <td>3</td>\n    </tr>\n    <tr>\n      <th>42</th>\n      <td>42</td>\n      <td>687-L-3.wav</td>\n      <td>18.99</td>\n      <td>1.79</td>\n      <td>17.58</td>\n      <td>18.88</td>\n      <td>20.18</td>\n      <td>-4.39</td>\n      <td>0.14</td>\n      <td>0.10</td>\n      <td>...</td>\n      <td>0.00</td>\n      <td>0.02</td>\n      <td>0.00</td>\n      <td>0.00</td>\n      <td>0.00</td>\n      <td>0.00</td>\n      <td>0.166667</td>\n      <td>0.833333</td>\n      <td>0.000000</td>\n      <td>3</td>\n    </tr>\n    <tr>\n      <th>43</th>\n      <td>43</td>\n      <td>615-L-7.wav</td>\n      <td>48.95</td>\n      <td>6.73</td>\n      <td>42.79</td>\n      <td>49.19</td>\n      <td>55.46</td>\n      <td>-18.42</td>\n      <td>4.96</td>\n      <td>2.96</td>\n      <td>...</td>\n      <td>0.07</td>\n      <td>0.06</td>\n      <td>0.03</td>\n      <td>0.06</td>\n      <td>0.10</td>\n      <td>-0.14</td>\n      <td>0.000000</td>\n      <td>0.000000</td>\n      <td>1.000000</td>\n      <td>4</td>\n    </tr>\n  </tbody>\n</table>\n<p>44 rows × 42 columns</p>\n</div>"
     },
     "execution_count": 2,
     "metadata": {},
     "output_type": "execute_result"
    }
   ],
   "source": [
    "# 测试集：83个音频特征数据读入\n",
    "# test_path = r\".\\input\\83_sound_features.xlsx\"\n",
    "test_path = r\".\\input\\44_sound_features.xlsx\"\n",
    "train_path = r\".\\input\\6747_sound_features.xls\"\n",
    "test_data = pd.read_excel(test_path)\n",
    "train_data = pd.read_excel(train_path)\n",
    "test_data"
   ],
   "metadata": {
    "collapsed": false,
    "pycharm": {
     "name": "#%%\n"
    }
   }
  },
  {
   "cell_type": "code",
   "execution_count": 3,
   "outputs": [
    {
     "data": {
      "text/plain": "(44, 42)"
     },
     "execution_count": 3,
     "metadata": {},
     "output_type": "execute_result"
    }
   ],
   "source": [
    "test_data.shape\n"
   ],
   "metadata": {
    "collapsed": false,
    "pycharm": {
     "name": "#%%\n"
    }
   }
  },
  {
   "cell_type": "code",
   "execution_count": 4,
   "outputs": [
    {
     "data": {
      "text/plain": "37"
     },
     "execution_count": 4,
     "metadata": {},
     "output_type": "execute_result"
    }
   ],
   "source": [
    "# 36维特征 + level(暂时还没有）\n",
    "column_36 = ['Leq_mean', 'Leq_std', 'Leq_25', 'Leq_median',\n",
    "             'Leq_75', 'Leq_10-Leq_90', 'Loudness_mean', 'Loudness_std',\n",
    "             'Loudness_25', 'Loudness_median', 'Loudness_75',\n",
    "             'Loudness_10-Loudness_90', 'Roughness_mean', 'Roughness_std',\n",
    "             'Roughness_25', 'Roughness_median', 'Roughness_75',\n",
    "             'Roughness_10-Roughness_90', 'Sharpness_mean', 'Sharpness_std',\n",
    "             'Sharpness_25', 'Sharpness_median', 'Sharpness_75',\n",
    "             'Sharpness_10-Sharpness_90', 'Fluct_mean', 'Fluct_std', 'Fluct_25',\n",
    "             'Fluct_median', 'Fluct_75', 'Fluct_10-Fluct_90', 'Tonality_mean',\n",
    "             'Tonality_std', 'Tonality_25', 'Tonality_median', 'Tonality_75',\n",
    "             'Tonality_10-Tonality_90', 'level']\n",
    "len(column_36)"
   ],
   "metadata": {
    "collapsed": false,
    "pycharm": {
     "name": "#%%\n"
    }
   }
  },
  {
   "cell_type": "code",
   "execution_count": 5,
   "outputs": [],
   "source": [
    "feature_use = column_36\n",
    "# test_x只取前36个\n",
    "test_x = test_data[feature_use[:-1]]\n",
    "test_y = test_data[feature_use[-1]]\n",
    "\n",
    "# train同理\n",
    "train_x = train_data[feature_use[:-1]]\n",
    "train_y = train_data[feature_use[-1]]"
   ],
   "metadata": {
    "collapsed": false,
    "pycharm": {
     "name": "#%%\n"
    }
   }
  },
  {
   "cell_type": "code",
   "execution_count": 6,
   "outputs": [],
   "source": [
    "# 将数据进行l2正则化\n",
    "test_x = normalize(test_x, norm=\"l2\")\n",
    "train_x = normalize(train_x, norm=\"l2\")"
   ],
   "metadata": {
    "collapsed": false,
    "pycharm": {
     "name": "#%%\n"
    }
   }
  },
  {
   "cell_type": "code",
   "execution_count": 7,
   "outputs": [
    {
     "data": {
      "text/plain": "(6747, 6747)"
     },
     "execution_count": 7,
     "metadata": {},
     "output_type": "execute_result"
    }
   ],
   "source": [
    "len(train_x), len(train_y)"
   ],
   "metadata": {
    "collapsed": false,
    "pycharm": {
     "name": "#%%\n"
    }
   }
  },
  {
   "cell_type": "code",
   "execution_count": 8,
   "outputs": [],
   "source": [
    "# 分类器重写\n",
    "def classifier(nb_class):\n",
    "    \"\"\"\n",
    "    分类器集合\n",
    "    :param nb_class: 类别数\n",
    "    :return:分类器列表\n",
    "    \"\"\"\n",
    "    clf = [\n",
    "        KNeighborsClassifier(nb_class),  # 0.68\n",
    "        DecisionTreeClassifier(max_depth=40),  # 0.69\n",
    "        SVC(C=10, kernel='rbf', class_weight={1: 8, 2: 4, 3: 1, 4: 10}),  # 0.42\n",
    "        ExtraTreesClassifier(n_estimators=80, max_depth=24, min_samples_split=3, max_features='auto', random_state=0),\n",
    "        # 0.825\n",
    "        # 'max_depth': 21, 'min_samples_split': 2, 'n_estimators': 95}\n",
    "        RandomForestClassifier(n_estimators=95, max_depth=21, min_samples_split=2, random_state=0),  # 0.758\n",
    "        # 'max_depth': 11, 'n_estimators': 110\n",
    "        # XGBClassifier(n_estimators=110, max_depth=11, learning_rate=0.001, objective='multi:softmax', nb_class=4),\n",
    "        LogisticRegression(penalty='l2', class_weight='balanced', solver='lbfgs')]  # 0.45\n",
    "\n",
    "    return clf"
   ],
   "metadata": {
    "collapsed": false,
    "pycharm": {
     "name": "#%%\n"
    }
   }
  },
  {
   "cell_type": "code",
   "execution_count": 9,
   "outputs": [
    {
     "data": {
      "text/plain": "KNeighborsClassifier(n_neighbors=4)"
     },
     "execution_count": 9,
     "metadata": {},
     "output_type": "execute_result"
    }
   ],
   "source": [
    "# 我也没搞懂这里要干啥\n",
    "nb_class = 4\n",
    "clf_list = classifier(nb_class)\n",
    "\n",
    "# 0: KNN    1: 决策树    2: SVC\n",
    "# 3: 极端树  4: 随机森林  5: LogisticRegression\n",
    "clf = clf_list[0]\n",
    "# 训练分类器\n",
    "clf.fit(train_x, train_y)"
   ],
   "metadata": {
    "collapsed": false,
    "pycharm": {
     "name": "#%%\n"
    }
   }
  },
  {
   "cell_type": "code",
   "execution_count": 10,
   "outputs": [],
   "source": [
    "# 导入模型\n",
    "joblib.dump(clf, r'./model/model_0516.pkl')\n",
    "pre = clf.predict(test_x)"
   ],
   "metadata": {
    "collapsed": false,
    "pycharm": {
     "name": "#%%\n"
    }
   }
  },
  {
   "cell_type": "code",
   "execution_count": 11,
   "outputs": [],
   "source": [
    "# 计算正确率\n",
    "# 有+-1\n",
    "# def accuracy(test_y, pre):\n",
    "#     same = 0\n",
    "#     for i in range(len(test_y)):\n",
    "#         if test_y[i] == pre[i] or test_y[i] == pre[i] - 1 or test_y[i] == pre[i]+1:\n",
    "#             same += 1\n",
    "#     return (same / len(test_y))\n",
    "\n",
    "# 无+-1\n",
    "def accuracy(test_y, pre):\n",
    "    same = 0\n",
    "    for i in range(len(test_y)):\n",
    "        if test_y[i] == pre[i]:\n",
    "            same += 1\n",
    "    return (same / len(test_y))"
   ],
   "metadata": {
    "collapsed": false,
    "pycharm": {
     "name": "#%%\n"
    }
   }
  },
  {
   "cell_type": "code",
   "execution_count": 12,
   "outputs": [
    {
     "data": {
      "text/plain": "0.7272727272727273"
     },
     "execution_count": 12,
     "metadata": {},
     "output_type": "execute_result"
    }
   ],
   "source": [
    "accuracy(test_y, pre)"
   ],
   "metadata": {
    "collapsed": false,
    "pycharm": {
     "name": "#%%\n"
    }
   }
  },
  {
   "cell_type": "code",
   "execution_count": 12,
   "outputs": [],
   "source": [],
   "metadata": {
    "collapsed": false,
    "pycharm": {
     "name": "#%%\n"
    }
   }
  }
 ],
 "metadata": {
  "kernelspec": {
   "display_name": "Python 3",
   "language": "python",
   "name": "python3"
  },
  "language_info": {
   "codemirror_mode": {
    "name": "ipython",
    "version": 2
   },
   "file_extension": ".py",
   "mimetype": "text/x-python",
   "name": "python",
   "nbconvert_exporter": "python",
   "pygments_lexer": "ipython2",
   "version": "2.7.6"
  }
 },
 "nbformat": 4,
 "nbformat_minor": 0
}
{
 "cells": [
  {
   "cell_type": "code",
   "execution_count": 1,
   "metadata": {
    "collapsed": true
   },
   "outputs": [],
   "source": [
    "import numpy as np\n",
    "import pandas as pd\n",
    "from scipy.optimize import curve_fit\n",
    "import matplotlib.pyplot as plt\n",
    "from sklearn.metrics import mean_squared_error, r2_score"
   ]
  },
  {
   "cell_type": "code",
   "execution_count": 3,
   "outputs": [
    {
     "data": {
      "text/plain": "    Noisiness    PSL-SL\n0     7.13525 -5.283125\n1     6.24180 -5.853000\n2     5.63934 -4.619250\n3     5.25820 -4.488875\n4     5.04098 -4.102750\n5     4.69262 -3.957125\n6     4.20492 -4.174500\n7     4.18443 -2.337500\n8     3.88525 -1.621375\n9     3.66803  0.677500\n10    3.27049  3.272750",
      "text/html": "<div>\n<style scoped>\n    .dataframe tbody tr th:only-of-type {\n        vertical-align: middle;\n    }\n\n    .dataframe tbody tr th {\n        vertical-align: top;\n    }\n\n    .dataframe thead th {\n        text-align: right;\n    }\n</style>\n<table border=\"1\" class=\"dataframe\">\n  <thead>\n    <tr style=\"text-align: right;\">\n      <th></th>\n      <th>Noisiness</th>\n      <th>PSL-SL</th>\n    </tr>\n  </thead>\n  <tbody>\n    <tr>\n      <th>0</th>\n      <td>7.13525</td>\n      <td>-5.283125</td>\n    </tr>\n    <tr>\n      <th>1</th>\n      <td>6.24180</td>\n      <td>-5.853000</td>\n    </tr>\n    <tr>\n      <th>2</th>\n      <td>5.63934</td>\n      <td>-4.619250</td>\n    </tr>\n    <tr>\n      <th>3</th>\n      <td>5.25820</td>\n      <td>-4.488875</td>\n    </tr>\n    <tr>\n      <th>4</th>\n      <td>5.04098</td>\n      <td>-4.102750</td>\n    </tr>\n    <tr>\n      <th>5</th>\n      <td>4.69262</td>\n      <td>-3.957125</td>\n    </tr>\n    <tr>\n      <th>6</th>\n      <td>4.20492</td>\n      <td>-4.174500</td>\n    </tr>\n    <tr>\n      <th>7</th>\n      <td>4.18443</td>\n      <td>-2.337500</td>\n    </tr>\n    <tr>\n      <th>8</th>\n      <td>3.88525</td>\n      <td>-1.621375</td>\n    </tr>\n    <tr>\n      <th>9</th>\n      <td>3.66803</td>\n      <td>0.677500</td>\n    </tr>\n    <tr>\n      <th>10</th>\n      <td>3.27049</td>\n      <td>3.272750</td>\n    </tr>\n  </tbody>\n</table>\n</div>"
     },
     "execution_count": 3,
     "metadata": {},
     "output_type": "execute_result"
    }
   ],
   "source": [
    "# path = r'./input/result_40.xlsx'\n",
    "path = r'./input/result_new_15.xlsx'\n",
    "# path = r'./input/result.xlsx'\n",
    "data = pd.read_excel(path)\n",
    "data"
   ],
   "metadata": {
    "collapsed": false,
    "pycharm": {
     "name": "#%%\n"
    }
   }
  },
  {
   "cell_type": "code",
   "execution_count": 4,
   "outputs": [],
   "source": [
    "x_data = np.array(data['Noisiness'])\n",
    "# name = 'ESL-SL'\n",
    "# name = 'SL-ASL'\n",
    "name = 'PSL-SL'\n",
    "y_data = np.array(data[name])"
   ],
   "metadata": {
    "collapsed": false,
    "pycharm": {
     "name": "#%%\n"
    }
   }
  },
  {
   "cell_type": "code",
   "execution_count": 5,
   "outputs": [],
   "source": [
    "def exponential_function(x, a1, b1, k1, m1):\n",
    "    return k1 * np.exp((-x + b1) * np.log(a1)) + m1\n",
    "\n",
    "\n",
    "def log_function(x, b2, k2, m2):\n",
    "    return -k2 * np.log((x + b2)) + m2"
   ],
   "metadata": {
    "collapsed": false,
    "pycharm": {
     "name": "#%%\n"
    }
   }
  },
  {
   "cell_type": "code",
   "execution_count": 9,
   "outputs": [
    {
     "name": "stderr",
     "output_type": "stream",
     "text": [
      "C:\\Users\\Black\\AppData\\Local\\Temp\\ipykernel_17996\\1825310241.py:6: RuntimeWarning: invalid value encountered in log\n",
      "  return -k2 * np.log((x + b2)) + m2\n"
     ]
    }
   ],
   "source": [
    "# 拟合数据\n",
    "popt1, pcov1 = curve_fit(exponential_function, x_data, y_data)\n",
    "popt2, pcov2 = curve_fit(log_function, x_data, y_data)"
   ],
   "metadata": {
    "collapsed": false,
    "pycharm": {
     "name": "#%%\n"
    }
   }
  },
  {
   "cell_type": "code",
   "execution_count": 10,
   "outputs": [
    {
     "name": "stdout",
     "output_type": "stream",
     "text": [
      "a1 = 3.711217991874068\n",
      "b1 = 4.731628545565764\n",
      "k1 = 1.3039098034074388\n",
      "m1 = -5.396702165027743\n",
      "---------------------------\n",
      "b2 = -3.1614243623229625\n",
      "k2 = 2.644183981715506\n",
      "m2 = -2.45917099920395\n"
     ]
    }
   ],
   "source": [
    "# 输出拟合结果\n",
    "a1 = popt1[0]\n",
    "b1 = popt1[1]\n",
    "k1 = popt1[2]\n",
    "m1 = popt1[3]\n",
    "\n",
    "b2 = popt2[0]\n",
    "k2 = popt2[1]\n",
    "m2 = popt2[2]\n",
    "\n",
    "print('a1 =', a1)\n",
    "print('b1 =', b1)\n",
    "print('k1 =', k1)\n",
    "print('m1 =', m1)\n",
    "print(\"---------------------------\")\n",
    "print('b2 =', b2)\n",
    "print('k2 =', k2)\n",
    "print('m2 =', m2)"
   ],
   "metadata": {
    "collapsed": false,
    "pycharm": {
     "name": "#%%\n"
    }
   }
  },
  {
   "cell_type": "code",
   "execution_count": 11,
   "outputs": [
    {
     "data": {
      "text/plain": "<Figure size 432x288 with 1 Axes>",
      "image/png": "[encoded data removed]"
     },
     "metadata": {
      "needs_background": "light"
     },
     "output_type": "display_data"
    }
   ],
   "source": [
    "# 绘制拟合结果\n",
    "x = np.linspace(min(x_data), max(x_data), 100)\n",
    "plt.scatter(x_data, y_data, label='data')\n",
    "plt.xlim(1, 9)\n",
    "plt.ylim(-10, 5)\n",
    "plt.plot(x, exponential_function(x, *popt1), label='exp')\n",
    "# plt.plot(x, log_function(x, *popt2), label='log')\n",
    "plt.title(name)\n",
    "plt.legend()\n",
    "plt.show()"
   ],
   "metadata": {
    "collapsed": false,
    "pycharm": {
     "name": "#%%\n"
    }
   }
  },
  {
   "cell_type": "code",
   "execution_count": 12,
   "outputs": [
    {
     "name": "stdout",
     "output_type": "stream",
     "text": [
      "RSS = 3.59\n",
      "RMSE = 0.57\n",
      "R^2 = 0.95\n"
     ]
    }
   ],
   "source": [
    "def calculate_precision(function, popt):\n",
    "    y_pred = np.zeros_like(x_data)\n",
    "    for i in range(len(x_data)):\n",
    "        y_pred[i] = function(x_data[i], *popt)\n",
    "    rss = np.sum((y_data - y_pred) ** 2)\n",
    "    rmse = np.sqrt(mean_squared_error(y_data, y_pred))\n",
    "    r2 = r2_score(y_data, y_pred)\n",
    "    return rss, rmse, r2\n",
    "\n",
    "\n",
    "rss, rmse, r2 = calculate_precision(exponential_function, popt1)\n",
    "\n",
    "print(\"RSS = %.2f\" % rss)\n",
    "print(\"RMSE = %.2f\" % rmse)\n",
    "print(\"R^2 = %.2f\" % r2)"
   ],
   "metadata": {
    "collapsed": false,
    "pycharm": {
     "name": "#%%\n"
    }
   }
  },
  {
   "cell_type": "code",
   "execution_count": 13,
   "outputs": [
    {
     "data": {
      "text/plain": "Empty DataFrame\nColumns: [index, a1, b1, k1, m1, rss, rmse, r2]\nIndex: []",
      "text/html": "<div>\n<style scoped>\n    .dataframe tbody tr th:only-of-type {\n        vertical-align: middle;\n    }\n\n    .dataframe tbody tr th {\n        vertical-align: top;\n    }\n\n    .dataframe thead th {\n        text-align: right;\n    }\n</style>\n<table border=\"1\" class=\"dataframe\">\n  <thead>\n    <tr style=\"text-align: right;\">\n      <th></th>\n      <th>index</th>\n      <th>a1</th>\n      <th>b1</th>\n      <th>k1</th>\n      <th>m1</th>\n      <th>rss</th>\n      <th>rmse</th>\n      <th>r2</th>\n    </tr>\n  </thead>\n  <tbody>\n  </tbody>\n</table>\n</div>"
     },
     "execution_count": 13,
     "metadata": {},
     "output_type": "execute_result"
    }
   ],
   "source": [
    "columns = ['index', 'a1', 'b1', 'k1', 'm1', 'rss', 'rmse','r2']\n",
    "columns_other = ['a1', 'b1', 'k1', 'm1', 'rss', 'rmse','r2']\n",
    "result = pd.DataFrame(columns = columns)\n",
    "result"
   ],
   "metadata": {
    "collapsed": false,
    "pycharm": {
     "name": "#%%\n"
    }
   }
  },
  {
   "cell_type": "code",
   "execution_count": 14,
   "outputs": [
    {
     "data": {
      "text/plain": "    index   a1   b1   k1   m1  rss rmse   r2\n0  ESL-SL  NaN  NaN  NaN  NaN  NaN  NaN  NaN\n1  SL-ASL  NaN  NaN  NaN  NaN  NaN  NaN  NaN\n2  PSL-SL  NaN  NaN  NaN  NaN  NaN  NaN  NaN",
      "text/html": "<div>\n<style scoped>\n    .dataframe tbody tr th:only-of-type {\n        vertical-align: middle;\n    }\n\n    .dataframe tbody tr th {\n        vertical-align: top;\n    }\n\n    .dataframe thead th {\n        text-align: right;\n    }\n</style>\n<table border=\"1\" class=\"dataframe\">\n  <thead>\n    <tr style=\"text-align: right;\">\n      <th></th>\n      <th>index</th>\n      <th>a1</th>\n      <th>b1</th>\n      <th>k1</th>\n      <th>m1</th>\n      <th>rss</th>\n      <th>rmse</th>\n      <th>r2</th>\n    </tr>\n  </thead>\n  <tbody>\n    <tr>\n      <th>0</th>\n      <td>ESL-SL</td>\n      <td>NaN</td>\n      <td>NaN</td>\n      <td>NaN</td>\n      <td>NaN</td>\n      <td>NaN</td>\n      <td>NaN</td>\n      <td>NaN</td>\n    </tr>\n    <tr>\n      <th>1</th>\n      <td>SL-ASL</td>\n      <td>NaN</td>\n      <td>NaN</td>\n      <td>NaN</td>\n      <td>NaN</td>\n      <td>NaN</td>\n      <td>NaN</td>\n      <td>NaN</td>\n    </tr>\n    <tr>\n      <th>2</th>\n      <td>PSL-SL</td>\n      <td>NaN</td>\n      <td>NaN</td>\n      <td>NaN</td>\n      <td>NaN</td>\n      <td>NaN</td>\n      <td>NaN</td>\n      <td>NaN</td>\n    </tr>\n  </tbody>\n</table>\n</div>"
     },
     "execution_count": 14,
     "metadata": {},
     "output_type": "execute_result"
    }
   ],
   "source": [
    "# y_data = np.array(data['ESL-SL'])\n",
    "# y_data = np.array(data['SL-ASL'])\n",
    "# y_data = np.array(data['PSL-SL'])\n",
    "result['index']= ['ESL-SL', 'SL-ASL', 'PSL-SL']\n",
    "result"
   ],
   "metadata": {
    "collapsed": false,
    "pycharm": {
     "name": "#%%\n"
    }
   }
  },
  {
   "cell_type": "code",
   "execution_count": 15,
   "outputs": [
    {
     "data": {
      "text/plain": "    index        a1        b1       k1        m1       rss      rmse        r2\n0  ESL-SL       NaN       NaN      NaN       NaN       NaN       NaN       NaN\n1  SL-ASL       NaN       NaN      NaN       NaN       NaN       NaN       NaN\n2  PSL-SL  3.711218  4.731629  1.30391 -5.396702  3.586538  0.571007  0.953355",
      "text/html": "<div>\n<style scoped>\n    .dataframe tbody tr th:only-of-type {\n        vertical-align: middle;\n    }\n\n    .dataframe tbody tr th {\n        vertical-align: top;\n    }\n\n    .dataframe thead th {\n        text-align: right;\n    }\n</style>\n<table border=\"1\" class=\"dataframe\">\n  <thead>\n    <tr style=\"text-align: right;\">\n      <th></th>\n      <th>index</th>\n      <th>a1</th>\n      <th>b1</th>\n      <th>k1</th>\n      <th>m1</th>\n      <th>rss</th>\n      <th>rmse</th>\n      <th>r2</th>\n    </tr>\n  </thead>\n  <tbody>\n    <tr>\n      <th>0</th>\n      <td>ESL-SL</td>\n      <td>NaN</td>\n      <td>NaN</td>\n      <td>NaN</td>\n      <td>NaN</td>\n      <td>NaN</td>\n      <td>NaN</td>\n      <td>NaN</td>\n    </tr>\n    <tr>\n      <th>1</th>\n      <td>SL-ASL</td>\n      <td>NaN</td>\n      <td>NaN</td>\n      <td>NaN</td>\n      <td>NaN</td>\n      <td>NaN</td>\n      <td>NaN</td>\n      <td>NaN</td>\n    </tr>\n    <tr>\n      <th>2</th>\n      <td>PSL-SL</td>\n      <td>3.711218</td>\n      <td>4.731629</td>\n      <td>1.30391</td>\n      <td>-5.396702</td>\n      <td>3.586538</td>\n      <td>0.571007</td>\n      <td>0.953355</td>\n    </tr>\n  </tbody>\n</table>\n</div>"
     },
     "execution_count": 15,
     "metadata": {},
     "output_type": "execute_result"
    }
   ],
   "source": [
    "result.loc[2, columns_other] = [a1, b1, k1, m1, rss, rmse, r2]\n",
    "result"
   ],
   "metadata": {
    "collapsed": false,
    "pycharm": {
     "name": "#%%\n"
    }
   }
  },
  {
   "cell_type": "code",
   "execution_count": 16,
   "outputs": [],
   "source": [
    "result.to_excel('1.xlsx')"
   ],
   "metadata": {
    "collapsed": false,
    "pycharm": {
     "name": "#%%\n"
    }
   }
  },
  {
   "cell_type": "code",
   "execution_count": null,
   "outputs": [],
   "source": [],
   "metadata": {
    "collapsed": false,
    "pycharm": {
     "name": "#%%\n"
    }
   }
  }
 ],
 "metadata": {
  "kernelspec": {
   "display_name": "Python 3",
   "language": "python",
   "name": "python3"
  },
  "language_info": {
   "codemirror_mode": {
    "name": "ipython",
    "version": 2
   },
   "file_extension": ".py",
   "mimetype": "text/x-python",
   "name": "python",
   "nbconvert_exporter": "python",
   "pygments_lexer": "ipython2",
   "version": "2.7.6"
  }
 },
 "nbformat": 4,
 "nbformat_minor": 0
}
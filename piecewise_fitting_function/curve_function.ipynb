{
 "cells": [
  {
   "cell_type": "code",
   "execution_count": 159,
   "metadata": {
    "collapsed": true
   },
   "outputs": [],
   "source": [
    "import numpy as np\n",
    "import pandas as pd\n",
    "from scipy.optimize import curve_fit\n",
    "import matplotlib.pyplot as plt\n",
    "from sklearn.metrics import mean_squared_error, r2_score"
   ]
  },
  {
   "cell_type": "code",
   "execution_count": 160,
   "outputs": [
    {
     "data": {
      "text/plain": "    Noisiness     ESL        PSL       ASL  ESL-SL    SL-ASL    PSL-SL\n0        7.14  56.675  54.324500  63.98500  -3.295 -4.015000 -5.645500\n1        6.24  54.500  51.408125  65.34500  -2.840 -8.005000 -5.931875\n2        5.64  56.775  55.338875  63.28013  -3.045 -3.460125 -4.481125\n3        5.26  56.000  54.996500  64.01250  -3.380 -4.632500 -4.383500\n4        5.04  56.500  54.932500  63.44000  -3.160 -3.780000 -4.727500\n5        4.69  57.850  55.478875  63.06750  -2.120 -3.097500 -4.491125\n6        4.20  57.225  55.537000  63.54500  -2.745 -3.575000 -4.433000\n7        4.18  57.625  57.130875  62.23250  -2.055 -2.552500 -2.549125\n8        3.89  60.900  57.062750  60.66250   1.720 -1.482500 -2.117250\n9        3.67  60.600  58.467750  58.71000   1.920 -0.030000 -0.212250\n10       3.27  62.550  62.345500  55.17250   3.270  4.107500  3.065500",
      "text/html": "<div>\n<style scoped>\n    .dataframe tbody tr th:only-of-type {\n        vertical-align: middle;\n    }\n\n    .dataframe tbody tr th {\n        vertical-align: top;\n    }\n\n    .dataframe thead th {\n        text-align: right;\n    }\n</style>\n<table border=\"1\" class=\"dataframe\">\n  <thead>\n    <tr style=\"text-align: right;\">\n      <th></th>\n      <th>Noisiness</th>\n      <th>ESL</th>\n      <th>PSL</th>\n      <th>ASL</th>\n      <th>ESL-SL</th>\n      <th>SL-ASL</th>\n      <th>PSL-SL</th>\n    </tr>\n  </thead>\n  <tbody>\n    <tr>\n      <th>0</th>\n      <td>7.14</td>\n      <td>56.675</td>\n      <td>54.324500</td>\n      <td>63.98500</td>\n      <td>-3.295</td>\n      <td>-4.015000</td>\n      <td>-5.645500</td>\n    </tr>\n    <tr>\n      <th>1</th>\n      <td>6.24</td>\n      <td>54.500</td>\n      <td>51.408125</td>\n      <td>65.34500</td>\n      <td>-2.840</td>\n      <td>-8.005000</td>\n      <td>-5.931875</td>\n    </tr>\n    <tr>\n      <th>2</th>\n      <td>5.64</td>\n      <td>56.775</td>\n      <td>55.338875</td>\n      <td>63.28013</td>\n      <td>-3.045</td>\n      <td>-3.460125</td>\n      <td>-4.481125</td>\n    </tr>\n    <tr>\n      <th>3</th>\n      <td>5.26</td>\n      <td>56.000</td>\n      <td>54.996500</td>\n      <td>64.01250</td>\n      <td>-3.380</td>\n      <td>-4.632500</td>\n      <td>-4.383500</td>\n    </tr>\n    <tr>\n      <th>4</th>\n      <td>5.04</td>\n      <td>56.500</td>\n      <td>54.932500</td>\n      <td>63.44000</td>\n      <td>-3.160</td>\n      <td>-3.780000</td>\n      <td>-4.727500</td>\n    </tr>\n    <tr>\n      <th>5</th>\n      <td>4.69</td>\n      <td>57.850</td>\n      <td>55.478875</td>\n      <td>63.06750</td>\n      <td>-2.120</td>\n      <td>-3.097500</td>\n      <td>-4.491125</td>\n    </tr>\n    <tr>\n      <th>6</th>\n      <td>4.20</td>\n      <td>57.225</td>\n      <td>55.537000</td>\n      <td>63.54500</td>\n      <td>-2.745</td>\n      <td>-3.575000</td>\n      <td>-4.433000</td>\n    </tr>\n    <tr>\n      <th>7</th>\n      <td>4.18</td>\n      <td>57.625</td>\n      <td>57.130875</td>\n      <td>62.23250</td>\n      <td>-2.055</td>\n      <td>-2.552500</td>\n      <td>-2.549125</td>\n    </tr>\n    <tr>\n      <th>8</th>\n      <td>3.89</td>\n      <td>60.900</td>\n      <td>57.062750</td>\n      <td>60.66250</td>\n      <td>1.720</td>\n      <td>-1.482500</td>\n      <td>-2.117250</td>\n    </tr>\n    <tr>\n      <th>9</th>\n      <td>3.67</td>\n      <td>60.600</td>\n      <td>58.467750</td>\n      <td>58.71000</td>\n      <td>1.920</td>\n      <td>-0.030000</td>\n      <td>-0.212250</td>\n    </tr>\n    <tr>\n      <th>10</th>\n      <td>3.27</td>\n      <td>62.550</td>\n      <td>62.345500</td>\n      <td>55.17250</td>\n      <td>3.270</td>\n      <td>4.107500</td>\n      <td>3.065500</td>\n    </tr>\n  </tbody>\n</table>\n</div>"
     },
     "execution_count": 160,
     "metadata": {},
     "output_type": "execute_result"
    }
   ],
   "source": [
    "# path = r'./input/result_40.xlsx'\n",
    "path = r'./input/result.xlsx'\n",
    "data = pd.read_excel(path)\n",
    "data"
   ],
   "metadata": {
    "collapsed": false,
    "pycharm": {
     "name": "#%%\n"
    }
   }
  },
  {
   "cell_type": "code",
   "execution_count": 161,
   "outputs": [],
   "source": [
    "x_data = np.array(data['Noisiness'])\n",
    "# name = 'ESL-SL'\n",
    "name = 'SL-ASL'\n",
    "# name = 'PSL-SL'\n",
    "y_data = np.array(data[name])"
   ],
   "metadata": {
    "collapsed": false,
    "pycharm": {
     "name": "#%%\n"
    }
   }
  },
  {
   "cell_type": "code",
   "execution_count": 162,
   "outputs": [],
   "source": [
    "def exponential_function(x, a1, b1, k1, m1):\n",
    "    return k1 * np.exp((-x + b1) * np.log(a1)) + m1\n",
    "\n",
    "\n",
    "def log_function(x, b2, k2, m2):\n",
    "    return -k2 * np.log((x + b2)) + m2"
   ],
   "metadata": {
    "collapsed": false,
    "pycharm": {
     "name": "#%%\n"
    }
   }
  },
  {
   "cell_type": "code",
   "execution_count": 163,
   "outputs": [
    {
     "name": "stderr",
     "output_type": "stream",
     "text": [
      "C:\\Users\\Black\\AppData\\Local\\Temp\\ipykernel_1336\\1825310241.py:6: RuntimeWarning: invalid value encountered in log\n",
      "  return -k2 * np.log((x + b2)) + m2\n"
     ]
    }
   ],
   "source": [
    "# 拟合数据\n",
    "popt1, pcov1 = curve_fit(exponential_function, x_data, y_data)\n",
    "popt2, pcov2 = curve_fit(log_function, x_data, y_data)"
   ],
   "metadata": {
    "collapsed": false,
    "pycharm": {
     "name": "#%%\n"
    }
   }
  },
  {
   "cell_type": "code",
   "execution_count": 164,
   "outputs": [
    {
     "name": "stdout",
     "output_type": "stream",
     "text": [
      "a1 = 4.1626892077407955\n",
      "b1 = 3.9309411262169416\n",
      "k1 = 3.5503621717691973\n",
      "m1 = -5.127522897933395\n",
      "---------------------------\n",
      "b2 = -3.2081912927166476\n",
      "k2 = 2.3999272276347425\n",
      "m2 = -2.5330371979348176\n"
     ]
    }
   ],
   "source": [
    "# 输出拟合结果\n",
    "a1 = popt1[0]\n",
    "b1 = popt1[1]\n",
    "k1 = popt1[2]\n",
    "m1 = popt1[3]\n",
    "\n",
    "b2 = popt2[0]\n",
    "k2 = popt2[1]\n",
    "m2 = popt2[2]\n",
    "\n",
    "print('a1 =', a1)\n",
    "print('b1 =', b1)\n",
    "print('k1 =', k1)\n",
    "print('m1 =', m1)\n",
    "print(\"---------------------------\")\n",
    "print('b2 =', b2)\n",
    "print('k2 =', k2)\n",
    "print('m2 =', m2)"
   ],
   "metadata": {
    "collapsed": false,
    "pycharm": {
     "name": "#%%\n"
    }
   }
  },
  {
   "cell_type": "code",
   "execution_count": 165,
   "outputs": [
    {
     "data": {
      "text/plain": "<Figure size 432x288 with 1 Axes>",
      "image/png": "[encoded data removed]"
     },
     "metadata": {
      "needs_background": "light"
     },
     "output_type": "display_data"
    }
   ],
   "source": [
    "# 绘制拟合结果\n",
    "x = np.linspace(min(x_data), max(x_data), 100)\n",
    "plt.scatter(x_data, y_data, label='data')\n",
    "plt.xlim(1, 9)\n",
    "plt.ylim(-10, 5)\n",
    "plt.plot(x, exponential_function(x, *popt1), label='exp')\n",
    "# plt.plot(x, log_function(x, *popt2), label='log')\n",
    "plt.title(name)\n",
    "plt.legend()\n",
    "plt.show()"
   ],
   "metadata": {
    "collapsed": false,
    "pycharm": {
     "name": "#%%\n"
    }
   }
  },
  {
   "cell_type": "code",
   "execution_count": 166,
   "outputs": [
    {
     "name": "stdout",
     "output_type": "stream",
     "text": [
      "RSS = 13.91\n",
      "RMSE = 1.12\n",
      "R^2 = 0.85\n"
     ]
    }
   ],
   "source": [
    "def calculate_precision(function, popt):\n",
    "    y_pred = np.zeros_like(x_data)\n",
    "    for i in range(len(x_data)):\n",
    "        y_pred[i] = function(x_data[i], *popt)\n",
    "    rss = np.sum((y_data - y_pred) ** 2)\n",
    "    rmse = np.sqrt(mean_squared_error(y_data, y_pred))\n",
    "    r2 = r2_score(y_data, y_pred)\n",
    "    return rss, rmse, r2\n",
    "\n",
    "\n",
    "rss, rmse, r2 = calculate_precision(exponential_function, popt1)\n",
    "\n",
    "print(\"RSS = %.2f\" % rss)\n",
    "print(\"RMSE = %.2f\" % rmse)\n",
    "print(\"R^2 = %.2f\" % r2)"
   ],
   "metadata": {
    "collapsed": false,
    "pycharm": {
     "name": "#%%\n"
    }
   }
  },
  {
   "cell_type": "code",
   "execution_count": 167,
   "outputs": [
    {
     "data": {
      "text/plain": "Empty DataFrame\nColumns: [index, a1, b1, k1, m1, rss, rmse, r2]\nIndex: []",
      "text/html": "<div>\n<style scoped>\n    .dataframe tbody tr th:only-of-type {\n        vertical-align: middle;\n    }\n\n    .dataframe tbody tr th {\n        vertical-align: top;\n    }\n\n    .dataframe thead th {\n        text-align: right;\n    }\n</style>\n<table border=\"1\" class=\"dataframe\">\n  <thead>\n    <tr style=\"text-align: right;\">\n      <th></th>\n      <th>index</th>\n      <th>a1</th>\n      <th>b1</th>\n      <th>k1</th>\n      <th>m1</th>\n      <th>rss</th>\n      <th>rmse</th>\n      <th>r2</th>\n    </tr>\n  </thead>\n  <tbody>\n  </tbody>\n</table>\n</div>"
     },
     "execution_count": 167,
     "metadata": {},
     "output_type": "execute_result"
    }
   ],
   "source": [
    "columns = ['index', 'a1', 'b1', 'k1', 'm1', 'rss', 'rmse','r2']\n",
    "columns_other = ['a1', 'b1', 'k1', 'm1', 'rss', 'rmse','r2']\n",
    "result = pd.DataFrame(columns = columns)\n",
    "result"
   ],
   "metadata": {
    "collapsed": false,
    "pycharm": {
     "name": "#%%\n"
    }
   }
  },
  {
   "cell_type": "code",
   "execution_count": 168,
   "outputs": [
    {
     "data": {
      "text/plain": "    index   a1   b1   k1   m1  rss rmse   r2\n0  ESL-SL  NaN  NaN  NaN  NaN  NaN  NaN  NaN\n1  SL-ASL  NaN  NaN  NaN  NaN  NaN  NaN  NaN\n2  PSL-SL  NaN  NaN  NaN  NaN  NaN  NaN  NaN",
      "text/html": "<div>\n<style scoped>\n    .dataframe tbody tr th:only-of-type {\n        vertical-align: middle;\n    }\n\n    .dataframe tbody tr th {\n        vertical-align: top;\n    }\n\n    .dataframe thead th {\n        text-align: right;\n    }\n</style>\n<table border=\"1\" class=\"dataframe\">\n  <thead>\n    <tr style=\"text-align: right;\">\n      <th></th>\n      <th>index</th>\n      <th>a1</th>\n      <th>b1</th>\n      <th>k1</th>\n      <th>m1</th>\n      <th>rss</th>\n      <th>rmse</th>\n      <th>r2</th>\n    </tr>\n  </thead>\n  <tbody>\n    <tr>\n      <th>0</th>\n      <td>ESL-SL</td>\n      <td>NaN</td>\n      <td>NaN</td>\n      <td>NaN</td>\n      <td>NaN</td>\n      <td>NaN</td>\n      <td>NaN</td>\n      <td>NaN</td>\n    </tr>\n    <tr>\n      <th>1</th>\n      <td>SL-ASL</td>\n      <td>NaN</td>\n      <td>NaN</td>\n      <td>NaN</td>\n      <td>NaN</td>\n      <td>NaN</td>\n      <td>NaN</td>\n      <td>NaN</td>\n    </tr>\n    <tr>\n      <th>2</th>\n      <td>PSL-SL</td>\n      <td>NaN</td>\n      <td>NaN</td>\n      <td>NaN</td>\n      <td>NaN</td>\n      <td>NaN</td>\n      <td>NaN</td>\n      <td>NaN</td>\n    </tr>\n  </tbody>\n</table>\n</div>"
     },
     "execution_count": 168,
     "metadata": {},
     "output_type": "execute_result"
    }
   ],
   "source": [
    "# y_data = np.array(data['ESL-SL'])\n",
    "# y_data = np.array(data['SL-ASL'])\n",
    "# y_data = np.array(data['PSL-SL'])\n",
    "result['index']= ['ESL-SL', 'SL-ASL', 'PSL-SL']\n",
    "result"
   ],
   "metadata": {
    "collapsed": false,
    "pycharm": {
     "name": "#%%\n"
    }
   }
  },
  {
   "cell_type": "code",
   "execution_count": 169,
   "outputs": [
    {
     "data": {
      "text/plain": "    index        a1        b1        k1        m1        rss      rmse  \\\n0  ESL-SL       NaN       NaN       NaN       NaN        NaN       NaN   \n1  SL-ASL       NaN       NaN       NaN       NaN        NaN       NaN   \n2  PSL-SL  4.162689  3.930941  3.550362 -5.127523  13.913056  1.124644   \n\n         r2  \n0       NaN  \n1       NaN  \n2  0.847425  ",
      "text/html": "<div>\n<style scoped>\n    .dataframe tbody tr th:only-of-type {\n        vertical-align: middle;\n    }\n\n    .dataframe tbody tr th {\n        vertical-align: top;\n    }\n\n    .dataframe thead th {\n        text-align: right;\n    }\n</style>\n<table border=\"1\" class=\"dataframe\">\n  <thead>\n    <tr style=\"text-align: right;\">\n      <th></th>\n      <th>index</th>\n      <th>a1</th>\n      <th>b1</th>\n      <th>k1</th>\n      <th>m1</th>\n      <th>rss</th>\n      <th>rmse</th>\n      <th>r2</th>\n    </tr>\n  </thead>\n  <tbody>\n    <tr>\n      <th>0</th>\n      <td>ESL-SL</td>\n      <td>NaN</td>\n      <td>NaN</td>\n      <td>NaN</td>\n      <td>NaN</td>\n      <td>NaN</td>\n      <td>NaN</td>\n      <td>NaN</td>\n    </tr>\n    <tr>\n      <th>1</th>\n      <td>SL-ASL</td>\n      <td>NaN</td>\n      <td>NaN</td>\n      <td>NaN</td>\n      <td>NaN</td>\n      <td>NaN</td>\n      <td>NaN</td>\n      <td>NaN</td>\n    </tr>\n    <tr>\n      <th>2</th>\n      <td>PSL-SL</td>\n      <td>4.162689</td>\n      <td>3.930941</td>\n      <td>3.550362</td>\n      <td>-5.127523</td>\n      <td>13.913056</td>\n      <td>1.124644</td>\n      <td>0.847425</td>\n    </tr>\n  </tbody>\n</table>\n</div>"
     },
     "execution_count": 169,
     "metadata": {},
     "output_type": "execute_result"
    }
   ],
   "source": [
    "result.loc[2, columns_other] = [a1, b1, k1, m1, rss, rmse, r2]\n",
    "result"
   ],
   "metadata": {
    "collapsed": false,
    "pycharm": {
     "name": "#%%\n"
    }
   }
  },
  {
   "cell_type": "code",
   "execution_count": 170,
   "outputs": [],
   "source": [
    "result.to_excel('1.xlsx')"
   ],
   "metadata": {
    "collapsed": false,
    "pycharm": {
     "name": "#%%\n"
    }
   }
  }
 ],
 "metadata": {
  "kernelspec": {
   "display_name": "Python 3",
   "language": "python",
   "name": "python3"
  },
  "language_info": {
   "codemirror_mode": {
    "name": "ipython",
    "version": 2
   },
   "file_extension": ".py",
   "mimetype": "text/x-python",
   "name": "python",
   "nbconvert_exporter": "python",
   "pygments_lexer": "ipython2",
   "version": "2.7.6"
  }
 },
 "nbformat": 4,
 "nbformat_minor": 0
}
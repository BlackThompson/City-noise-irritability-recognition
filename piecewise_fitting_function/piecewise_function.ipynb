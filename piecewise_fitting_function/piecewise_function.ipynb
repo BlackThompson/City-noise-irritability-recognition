{
 "cells": [
  {
   "cell_type": "code",
   "execution_count": 28,
   "metadata": {
    "collapsed": true
   },
   "outputs": [],
   "source": [
    "import numpy as np\n",
    "import pandas as pd\n",
    "from scipy.optimize import curve_fit\n",
    "import matplotlib.pyplot as plt\n",
    "from sklearn.metrics import mean_squared_error, r2_score"
   ]
  },
  {
   "cell_type": "code",
   "execution_count": 29,
   "outputs": [
    {
     "data": {
      "text/plain": "     Noisiness  ESL     ASL     PSL  ESL-SL  SL-ASL  PSL-SL     SL\n0      7.13525   54  68.070  52.250   -5.97  -8.100  -7.720  59.97\n1      7.13525   55  64.170  56.220   -4.97  -4.200  -3.750  59.97\n2      7.13525   56  65.070  57.440   -3.97  -5.100  -2.530  59.97\n3      7.13525   55  64.770  52.245   -4.97  -4.800  -7.725  59.97\n4      7.13525   62  59.370  58.200    2.03   0.600  -1.770  59.97\n..         ...  ...     ...     ...     ...     ...     ...    ...\n435    3.27049   62  56.275  64.495    2.72   3.005   5.215  59.28\n436    3.27049   65  53.275  61.680    5.72   6.005   2.400  59.28\n437    3.27049   63  57.475  63.795    3.72   1.805   4.515  59.28\n438    3.27049   61  59.275  61.830    1.72   0.005   2.550  59.28\n439    3.27049   62  57.175  62.300    2.72   2.105   3.020  59.28\n\n[440 rows x 8 columns]",
      "text/html": "<div>\n<style scoped>\n    .dataframe tbody tr th:only-of-type {\n        vertical-align: middle;\n    }\n\n    .dataframe tbody tr th {\n        vertical-align: top;\n    }\n\n    .dataframe thead th {\n        text-align: right;\n    }\n</style>\n<table border=\"1\" class=\"dataframe\">\n  <thead>\n    <tr style=\"text-align: right;\">\n      <th></th>\n      <th>Noisiness</th>\n      <th>ESL</th>\n      <th>ASL</th>\n      <th>PSL</th>\n      <th>ESL-SL</th>\n      <th>SL-ASL</th>\n      <th>PSL-SL</th>\n      <th>SL</th>\n    </tr>\n  </thead>\n  <tbody>\n    <tr>\n      <th>0</th>\n      <td>7.13525</td>\n      <td>54</td>\n      <td>68.070</td>\n      <td>52.250</td>\n      <td>-5.97</td>\n      <td>-8.100</td>\n      <td>-7.720</td>\n      <td>59.97</td>\n    </tr>\n    <tr>\n      <th>1</th>\n      <td>7.13525</td>\n      <td>55</td>\n      <td>64.170</td>\n      <td>56.220</td>\n      <td>-4.97</td>\n      <td>-4.200</td>\n      <td>-3.750</td>\n      <td>59.97</td>\n    </tr>\n    <tr>\n      <th>2</th>\n      <td>7.13525</td>\n      <td>56</td>\n      <td>65.070</td>\n      <td>57.440</td>\n      <td>-3.97</td>\n      <td>-5.100</td>\n      <td>-2.530</td>\n      <td>59.97</td>\n    </tr>\n    <tr>\n      <th>3</th>\n      <td>7.13525</td>\n      <td>55</td>\n      <td>64.770</td>\n      <td>52.245</td>\n      <td>-4.97</td>\n      <td>-4.800</td>\n      <td>-7.725</td>\n      <td>59.97</td>\n    </tr>\n    <tr>\n      <th>4</th>\n      <td>7.13525</td>\n      <td>62</td>\n      <td>59.370</td>\n      <td>58.200</td>\n      <td>2.03</td>\n      <td>0.600</td>\n      <td>-1.770</td>\n      <td>59.97</td>\n    </tr>\n    <tr>\n      <th>...</th>\n      <td>...</td>\n      <td>...</td>\n      <td>...</td>\n      <td>...</td>\n      <td>...</td>\n      <td>...</td>\n      <td>...</td>\n      <td>...</td>\n    </tr>\n    <tr>\n      <th>435</th>\n      <td>3.27049</td>\n      <td>62</td>\n      <td>56.275</td>\n      <td>64.495</td>\n      <td>2.72</td>\n      <td>3.005</td>\n      <td>5.215</td>\n      <td>59.28</td>\n    </tr>\n    <tr>\n      <th>436</th>\n      <td>3.27049</td>\n      <td>65</td>\n      <td>53.275</td>\n      <td>61.680</td>\n      <td>5.72</td>\n      <td>6.005</td>\n      <td>2.400</td>\n      <td>59.28</td>\n    </tr>\n    <tr>\n      <th>437</th>\n      <td>3.27049</td>\n      <td>63</td>\n      <td>57.475</td>\n      <td>63.795</td>\n      <td>3.72</td>\n      <td>1.805</td>\n      <td>4.515</td>\n      <td>59.28</td>\n    </tr>\n    <tr>\n      <th>438</th>\n      <td>3.27049</td>\n      <td>61</td>\n      <td>59.275</td>\n      <td>61.830</td>\n      <td>1.72</td>\n      <td>0.005</td>\n      <td>2.550</td>\n      <td>59.28</td>\n    </tr>\n    <tr>\n      <th>439</th>\n      <td>3.27049</td>\n      <td>62</td>\n      <td>57.175</td>\n      <td>62.300</td>\n      <td>2.72</td>\n      <td>2.105</td>\n      <td>3.020</td>\n      <td>59.28</td>\n    </tr>\n  </tbody>\n</table>\n<p>440 rows × 8 columns</p>\n</div>"
     },
     "execution_count": 29,
     "metadata": {},
     "output_type": "execute_result"
    }
   ],
   "source": [
    "path = r'./input/result_40.xlsx'\n",
    "# path = r'./input/result.xlsx'\n",
    "data = pd.read_excel(path)\n",
    "data"
   ],
   "metadata": {
    "collapsed": false,
    "pycharm": {
     "name": "#%%\n"
    }
   }
  },
  {
   "cell_type": "code",
   "execution_count": 30,
   "outputs": [],
   "source": [
    "x_data = np.array(data['Noisiness'])\n",
    "# y_data = np.array(data['ESL-SL'])\n",
    "# y_data = np.array(data['SL-ASL'])\n",
    "y_data = np.array(data['PSL-SL'])"
   ],
   "metadata": {
    "collapsed": false,
    "pycharm": {
     "name": "#%%\n"
    }
   }
  },
  {
   "cell_type": "code",
   "execution_count": 31,
   "outputs": [],
   "source": [
    "# 定义拟合函数\n",
    "x0 = 4.18\n",
    "\n",
    "\n",
    "def piecewise_linear(x, k1, k2, y0):\n",
    "    return np.piecewise(x,\n",
    "                        [x <= x0, x > x0],\n",
    "                        [lambda x: k1 * (x - x0) + y0,\n",
    "                         lambda x: k2 * (x - x0) + y0])"
   ],
   "metadata": {
    "collapsed": false,
    "pycharm": {
     "name": "#%%\n"
    }
   }
  },
  {
   "cell_type": "code",
   "execution_count": 32,
   "outputs": [],
   "source": [
    "# 拟合数据\n",
    "popt, pcov = curve_fit(piecewise_linear, x_data, y_data)"
   ],
   "metadata": {
    "collapsed": false,
    "pycharm": {
     "name": "#%%\n"
    }
   }
  },
  {
   "cell_type": "code",
   "execution_count": 33,
   "outputs": [
    {
     "name": "stdout",
     "output_type": "stream",
     "text": [
      "k1 = -7.3195713114576435\n",
      "k2 = -0.7214357854072477\n",
      "y0 = -3.8187752870058693\n"
     ]
    }
   ],
   "source": [
    "# 输出拟合结果\n",
    "k1 = popt[0]\n",
    "k2 = popt[1]\n",
    "y0 = popt[2]\n",
    "print('k1 =', k1)\n",
    "print('k2 =', k2)\n",
    "print('y0 =', y0)"
   ],
   "metadata": {
    "collapsed": false,
    "pycharm": {
     "name": "#%%\n"
    }
   }
  },
  {
   "cell_type": "code",
   "execution_count": 34,
   "outputs": [
    {
     "data": {
      "text/plain": "<Figure size 432x288 with 1 Axes>",
      "image/png": "[encoded data removed]"
     },
     "metadata": {
      "needs_background": "light"
     },
     "output_type": "display_data"
    }
   ],
   "source": [
    "# 绘制拟合结果\n",
    "x = np.linspace(min(x_data), max(x_data), 100)\n",
    "plt.scatter(x_data, y_data, label='data')\n",
    "plt.plot(x, piecewise_linear(x, *popt), label='fit')\n",
    "plt.legend()\n",
    "plt.show()"
   ],
   "metadata": {
    "collapsed": false,
    "pycharm": {
     "name": "#%%\n"
    }
   }
  },
  {
   "cell_type": "code",
   "execution_count": 35,
   "outputs": [],
   "source": [
    "def function(x):\n",
    "    if x <= x0:\n",
    "        return k1 * (x - x0) + y0\n",
    "    else:\n",
    "        return k2 * (x - x0) + y0"
   ],
   "metadata": {
    "collapsed": false,
    "pycharm": {
     "name": "#%%\n"
    }
   }
  },
  {
   "cell_type": "code",
   "execution_count": 36,
   "outputs": [
    {
     "name": "stdout",
     "output_type": "stream",
     "text": [
      "RSS = 3459.23\n",
      "RMSE = 2.80\n",
      "R^2 = 0.44\n"
     ]
    }
   ],
   "source": [
    "y_pred = np.zeros_like(x_data)\n",
    "for i in range(len(x_data)):\n",
    "    y_pred[i] = function(x_data[i])\n",
    "rss = np.sum((y_data - y_pred) ** 2)\n",
    "rmse = np.sqrt(mean_squared_error(y_data, y_pred))\n",
    "r2 = r2_score(y_data, y_pred)\n",
    "\n",
    "print(\"RSS = %.2f\" % rss)\n",
    "print(\"RMSE = %.2f\" % rmse)\n",
    "print(\"R^2 = %.2f\" % r2)"
   ],
   "metadata": {
    "collapsed": false,
    "pycharm": {
     "name": "#%%\n"
    }
   }
  }
 ],
 "metadata": {
  "kernelspec": {
   "display_name": "Python 3",
   "language": "python",
   "name": "python3"
  },
  "language_info": {
   "codemirror_mode": {
    "name": "ipython",
    "version": 2
   },
   "file_extension": ".py",
   "mimetype": "text/x-python",
   "name": "python",
   "nbconvert_exporter": "python",
   "pygments_lexer": "ipython2",
   "version": "2.7.6"
  }
 },
 "nbformat": 4,
 "nbformat_minor": 0
}
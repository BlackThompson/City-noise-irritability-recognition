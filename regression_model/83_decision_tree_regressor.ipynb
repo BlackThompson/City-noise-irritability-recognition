{
 "cells": [
  {
   "cell_type": "code",
   "execution_count": 1,
   "metadata": {
    "collapsed": true
   },
   "outputs": [],
   "source": [
    "import pandas as pd\n",
    "import numpy as np\n",
    "from sklearn.tree import DecisionTreeRegressor\n",
    "from config import *\n",
    "from cal_accuracy import *\n",
    "\n",
    "# 5 -- 0.72 目前来说最好的\n",
    "#\n",
    "np.random.seed(18)"
   ]
  },
  {
   "cell_type": "code",
   "execution_count": 2,
   "outputs": [],
   "source": [
    "def feature_normalize(dataset):\n",
    "    mu = np.mean(dataset, axis=0)\n",
    "    sigma = np.std(dataset, axis=0)\n",
    "    return (dataset - mu) / sigma"
   ],
   "metadata": {
    "collapsed": false,
    "pycharm": {
     "name": "#%%\n"
    }
   }
  },
  {
   "cell_type": "code",
   "execution_count": 3,
   "outputs": [
    {
     "name": "stderr",
     "output_type": "stream",
     "text": [
      "E:\\Python\\Anaconda\\lib\\site-packages\\IPython\\core\\interactiveshell.py:3106: DtypeWarning: Columns (0) have mixed types.Specify dtype option on import or set low_memory=False.\n",
      "  has_raised = await self.run_ast_nodes(code_ast.body, cell_name,\n"
     ]
    },
    {
     "data": {
      "text/plain": "      声音类别  吵闹度  leq_mean  leq_var  leq_std   leq_max    leq_10    leq_25  \\\n0        1    4  64.66645  2.44902  1.56539  68.81651  62.72838  63.35437   \n1        1    4  64.66645  2.44902  1.56539  68.81651  62.72838  63.35437   \n2        1    6  64.66645  2.44902  1.56539  68.81651  62.72838  63.35437   \n3        1    4  64.66645  2.44902  1.56539  68.81651  62.72838  63.35437   \n4        1    7  64.66645  2.44902  1.56539  68.81651  62.72838  63.35437   \n...    ...  ...       ...      ...      ...       ...       ...       ...   \n49823  136    4  33.96670  2.98969  1.72947  39.22520  31.73146  32.75636   \n49824  136    5  33.96670  2.98969  1.72947  39.22520  31.73146  32.75636   \n49825  136    6  33.96670  2.98969  1.72947  39.22520  31.73146  32.75636   \n49826  136    7  33.96670  2.98969  1.72947  39.22520  31.73146  32.75636   \n49827  136    6  33.96670  2.98969  1.72947  39.22520  31.73146  32.75636   \n\n       leq_median    leq_75  ...  tonality_mean  tonality_var  tonality_std  \\\n0        64.54813  65.57262  ...        0.05675       0.00173       0.04170   \n1        64.54813  65.57262  ...        0.05675       0.00173       0.04170   \n2        64.54813  65.57262  ...        0.05675       0.00173       0.04170   \n3        64.54813  65.57262  ...        0.05675       0.00173       0.04170   \n4        64.54813  65.57262  ...        0.05675       0.00173       0.04170   \n...           ...       ...  ...            ...           ...           ...   \n49823    33.97321  35.16099  ...        0.04785       0.00335       0.05796   \n49824    33.97321  35.16099  ...        0.04785       0.00335       0.05796   \n49825    33.97321  35.16099  ...        0.04785       0.00335       0.05796   \n49826    33.97321  35.16099  ...        0.04785       0.00335       0.05796   \n49827    33.97321  35.16099  ...        0.04785       0.00335       0.05796   \n\n       tonality_max  tonality_10  tonality_25  tonality_median  tonality_75  \\\n0           0.18551          0.0      0.02823          0.05316      0.08016   \n1           0.18551          0.0      0.02823          0.05316      0.08016   \n2           0.18551          0.0      0.02823          0.05316      0.08016   \n3           0.18551          0.0      0.02823          0.05316      0.08016   \n4           0.18551          0.0      0.02823          0.05316      0.08016   \n...             ...          ...          ...              ...          ...   \n49823       0.43118          0.0      0.00000          0.03234      0.06977   \n49824       0.43118          0.0      0.00000          0.03234      0.06977   \n49825       0.43118          0.0      0.00000          0.03234      0.06977   \n49826       0.43118          0.0      0.00000          0.03234      0.06977   \n49827       0.43118          0.0      0.00000          0.03234      0.06977   \n\n       tonality_90  tonality_10-tonality_90  \n0          0.11041                  0.11041  \n1          0.11041                  0.11041  \n2          0.11041                  0.11041  \n3          0.11041                  0.11041  \n4          0.11041                  0.11041  \n...            ...                      ...  \n49823      0.11713                  0.11713  \n49824      0.11713                  0.11713  \n49825      0.11713                  0.11713  \n49826      0.11713                  0.11713  \n49827      0.11713                  0.11713  \n\n[49828 rows x 62 columns]",
      "text/html": "<div>\n<style scoped>\n    .dataframe tbody tr th:only-of-type {\n        vertical-align: middle;\n    }\n\n    .dataframe tbody tr th {\n        vertical-align: top;\n    }\n\n    .dataframe thead th {\n        text-align: right;\n    }\n</style>\n<table border=\"1\" class=\"dataframe\">\n  <thead>\n    <tr style=\"text-align: right;\">\n      <th></th>\n      <th>声音类别</th>\n      <th>吵闹度</th>\n      <th>leq_mean</th>\n      <th>leq_var</th>\n      <th>leq_std</th>\n      <th>leq_max</th>\n      <th>leq_10</th>\n      <th>leq_25</th>\n      <th>leq_median</th>\n      <th>leq_75</th>\n      <th>...</th>\n      <th>tonality_mean</th>\n      <th>tonality_var</th>\n      <th>tonality_std</th>\n      <th>tonality_max</th>\n      <th>tonality_10</th>\n      <th>tonality_25</th>\n      <th>tonality_median</th>\n      <th>tonality_75</th>\n      <th>tonality_90</th>\n      <th>tonality_10-tonality_90</th>\n    </tr>\n  </thead>\n  <tbody>\n    <tr>\n      <th>0</th>\n      <td>1</td>\n      <td>4</td>\n      <td>64.66645</td>\n      <td>2.44902</td>\n      <td>1.56539</td>\n      <td>68.81651</td>\n      <td>62.72838</td>\n      <td>63.35437</td>\n      <td>64.54813</td>\n      <td>65.57262</td>\n      <td>...</td>\n      <td>0.05675</td>\n      <td>0.00173</td>\n      <td>0.04170</td>\n      <td>0.18551</td>\n      <td>0.0</td>\n      <td>0.02823</td>\n      <td>0.05316</td>\n      <td>0.08016</td>\n      <td>0.11041</td>\n      <td>0.11041</td>\n    </tr>\n    <tr>\n      <th>1</th>\n      <td>1</td>\n      <td>4</td>\n      <td>64.66645</td>\n      <td>2.44902</td>\n      <td>1.56539</td>\n      <td>68.81651</td>\n      <td>62.72838</td>\n      <td>63.35437</td>\n      <td>64.54813</td>\n      <td>65.57262</td>\n      <td>...</td>\n      <td>0.05675</td>\n      <td>0.00173</td>\n      <td>0.04170</td>\n      <td>0.18551</td>\n      <td>0.0</td>\n      <td>0.02823</td>\n      <td>0.05316</td>\n      <td>0.08016</td>\n      <td>0.11041</td>\n      <td>0.11041</td>\n    </tr>\n    <tr>\n      <th>2</th>\n      <td>1</td>\n      <td>6</td>\n      <td>64.66645</td>\n      <td>2.44902</td>\n      <td>1.56539</td>\n      <td>68.81651</td>\n      <td>62.72838</td>\n      <td>63.35437</td>\n      <td>64.54813</td>\n      <td>65.57262</td>\n      <td>...</td>\n      <td>0.05675</td>\n      <td>0.00173</td>\n      <td>0.04170</td>\n      <td>0.18551</td>\n      <td>0.0</td>\n      <td>0.02823</td>\n      <td>0.05316</td>\n      <td>0.08016</td>\n      <td>0.11041</td>\n      <td>0.11041</td>\n    </tr>\n    <tr>\n      <th>3</th>\n      <td>1</td>\n      <td>4</td>\n      <td>64.66645</td>\n      <td>2.44902</td>\n      <td>1.56539</td>\n      <td>68.81651</td>\n      <td>62.72838</td>\n      <td>63.35437</td>\n      <td>64.54813</td>\n      <td>65.57262</td>\n      <td>...</td>\n      <td>0.05675</td>\n      <td>0.00173</td>\n      <td>0.04170</td>\n      <td>0.18551</td>\n      <td>0.0</td>\n      <td>0.02823</td>\n      <td>0.05316</td>\n      <td>0.08016</td>\n      <td>0.11041</td>\n      <td>0.11041</td>\n    </tr>\n    <tr>\n      <th>4</th>\n      <td>1</td>\n      <td>7</td>\n      <td>64.66645</td>\n      <td>2.44902</td>\n      <td>1.56539</td>\n      <td>68.81651</td>\n      <td>62.72838</td>\n      <td>63.35437</td>\n      <td>64.54813</td>\n      <td>65.57262</td>\n      <td>...</td>\n      <td>0.05675</td>\n      <td>0.00173</td>\n      <td>0.04170</td>\n      <td>0.18551</td>\n      <td>0.0</td>\n      <td>0.02823</td>\n      <td>0.05316</td>\n      <td>0.08016</td>\n      <td>0.11041</td>\n      <td>0.11041</td>\n    </tr>\n    <tr>\n      <th>...</th>\n      <td>...</td>\n      <td>...</td>\n      <td>...</td>\n      <td>...</td>\n      <td>...</td>\n      <td>...</td>\n      <td>...</td>\n      <td>...</td>\n      <td>...</td>\n      <td>...</td>\n      <td>...</td>\n      <td>...</td>\n      <td>...</td>\n      <td>...</td>\n      <td>...</td>\n      <td>...</td>\n      <td>...</td>\n      <td>...</td>\n      <td>...</td>\n      <td>...</td>\n      <td>...</td>\n    </tr>\n    <tr>\n      <th>49823</th>\n      <td>136</td>\n      <td>4</td>\n      <td>33.96670</td>\n      <td>2.98969</td>\n      <td>1.72947</td>\n      <td>39.22520</td>\n      <td>31.73146</td>\n      <td>32.75636</td>\n      <td>33.97321</td>\n      <td>35.16099</td>\n      <td>...</td>\n      <td>0.04785</td>\n      <td>0.00335</td>\n      <td>0.05796</td>\n      <td>0.43118</td>\n      <td>0.0</td>\n      <td>0.00000</td>\n      <td>0.03234</td>\n      <td>0.06977</td>\n      <td>0.11713</td>\n      <td>0.11713</td>\n    </tr>\n    <tr>\n      <th>49824</th>\n      <td>136</td>\n      <td>5</td>\n      <td>33.96670</td>\n      <td>2.98969</td>\n      <td>1.72947</td>\n      <td>39.22520</td>\n      <td>31.73146</td>\n      <td>32.75636</td>\n      <td>33.97321</td>\n      <td>35.16099</td>\n      <td>...</td>\n      <td>0.04785</td>\n      <td>0.00335</td>\n      <td>0.05796</td>\n      <td>0.43118</td>\n      <td>0.0</td>\n      <td>0.00000</td>\n      <td>0.03234</td>\n      <td>0.06977</td>\n      <td>0.11713</td>\n      <td>0.11713</td>\n    </tr>\n    <tr>\n      <th>49825</th>\n      <td>136</td>\n      <td>6</td>\n      <td>33.96670</td>\n      <td>2.98969</td>\n      <td>1.72947</td>\n      <td>39.22520</td>\n      <td>31.73146</td>\n      <td>32.75636</td>\n      <td>33.97321</td>\n      <td>35.16099</td>\n      <td>...</td>\n      <td>0.04785</td>\n      <td>0.00335</td>\n      <td>0.05796</td>\n      <td>0.43118</td>\n      <td>0.0</td>\n      <td>0.00000</td>\n      <td>0.03234</td>\n      <td>0.06977</td>\n      <td>0.11713</td>\n      <td>0.11713</td>\n    </tr>\n    <tr>\n      <th>49826</th>\n      <td>136</td>\n      <td>7</td>\n      <td>33.96670</td>\n      <td>2.98969</td>\n      <td>1.72947</td>\n      <td>39.22520</td>\n      <td>31.73146</td>\n      <td>32.75636</td>\n      <td>33.97321</td>\n      <td>35.16099</td>\n      <td>...</td>\n      <td>0.04785</td>\n      <td>0.00335</td>\n      <td>0.05796</td>\n      <td>0.43118</td>\n      <td>0.0</td>\n      <td>0.00000</td>\n      <td>0.03234</td>\n      <td>0.06977</td>\n      <td>0.11713</td>\n      <td>0.11713</td>\n    </tr>\n    <tr>\n      <th>49827</th>\n      <td>136</td>\n      <td>6</td>\n      <td>33.96670</td>\n      <td>2.98969</td>\n      <td>1.72947</td>\n      <td>39.22520</td>\n      <td>31.73146</td>\n      <td>32.75636</td>\n      <td>33.97321</td>\n      <td>35.16099</td>\n      <td>...</td>\n      <td>0.04785</td>\n      <td>0.00335</td>\n      <td>0.05796</td>\n      <td>0.43118</td>\n      <td>0.0</td>\n      <td>0.00000</td>\n      <td>0.03234</td>\n      <td>0.06977</td>\n      <td>0.11713</td>\n      <td>0.11713</td>\n    </tr>\n  </tbody>\n</table>\n<p>49828 rows × 62 columns</p>\n</div>"
     },
     "execution_count": 3,
     "metadata": {},
     "output_type": "execute_result"
    }
   ],
   "source": [
    "dataset_83 = pd.read_csv(r'./input/use_data_83_add_88.csv')\n",
    "feature_test = pd.read_csv(r'./input/kyllin_features.csv')\n",
    "feature_validation = pd.read_csv(r'./validation/validation_features.csv')\n",
    "# dataset_all = pd.read_csv(r'./input/all_data.csv')\n",
    "dataset_83"
   ],
   "metadata": {
    "collapsed": false,
    "pycharm": {
     "name": "#%%\n"
    }
   }
  },
  {
   "cell_type": "code",
   "execution_count": 4,
   "outputs": [
    {
     "data": {
      "text/plain": "Index(['声音类别', '吵闹度', 'leq_mean', 'leq_var', 'leq_std', 'leq_max', 'leq_10',\n       'leq_25', 'leq_median', 'leq_75', 'leq_90', 'leq_10-leq_90',\n       'loudness_mean', 'loudness_var', 'loudness_std', 'loudness_max',\n       'loudness_10', 'loudness_25', 'loudness_median', 'loudness_75',\n       'loudness_90', 'loudness_10-loudness_90', 'roughness_mean',\n       'roughness_var', 'roughness_std', 'roughness_max', 'roughness_10',\n       'roughness_25', 'roughness_median', 'roughness_75', 'roughness_90',\n       'roughness_10-roughness_90', 'sharpness_mean', 'sharpness_var',\n       'sharpness_std', 'sharpness_max', 'sharpness_10', 'sharpness_25',\n       'sharpness_median', 'sharpness_75', 'sharpness_90',\n       'sharpness_10-sharpness_90', 'fluct_mean', 'fluct_var', 'fluct_std',\n       'fluct_max', 'fluct_10', 'fluct_25', 'fluct_median', 'fluct_75',\n       'fluct_90', 'fluct_10-fluct_90', 'tonality_mean', 'tonality_var',\n       'tonality_std', 'tonality_max', 'tonality_10', 'tonality_25',\n       'tonality_median', 'tonality_75', 'tonality_90',\n       'tonality_10-tonality_90'],\n      dtype='object')"
     },
     "execution_count": 4,
     "metadata": {},
     "output_type": "execute_result"
    }
   ],
   "source": [
    "dataset_83.columns"
   ],
   "metadata": {
    "collapsed": false,
    "pycharm": {
     "name": "#%%\n"
    }
   }
  },
  {
   "cell_type": "code",
   "execution_count": 5,
   "outputs": [],
   "source": [
    "# column_36 = ['leq_mean', 'leq_std', 'leq_25', 'leq_median',\n",
    "#             'leq_75', 'leq_10_90', 'loudness_mean', 'loudness_std',\n",
    "#             'loudness_25', 'loudness_median', 'loudness_75',\n",
    "#             'loudness_10_90', 'roughness_mean', 'roughness_std',\n",
    "#             'roughness_25', 'roughness_median', 'roughness_75',\n",
    "#             'roughness_10_90', 'sharpness_mean', 'sharpness_std',\n",
    "#             'sharpness_25', 'sharpness_median', 'sharpness_75',\n",
    "#             'sharpness_10_90', 'fluct_mean', 'fluct_std', 'fluct_25',\n",
    "#             'fluct_median', 'fluct_75', 'fluct_10_90', 'tonality_mean',\n",
    "#             'tonality_std', 'tonality_25', 'tonality_median', 'tonality_75',\n",
    "#             'tonality_10_90']\n",
    "\n",
    "# y = dataset_83['吵闹度']\n",
    "# X_primary = dataset_83[column_36]\n",
    "# X = feature_normalize(X_primary)\n",
    "# X_test = feature_normalize(feature_test[column_36])\n"
   ],
   "metadata": {
    "collapsed": false,
    "pycharm": {
     "name": "#%%\n"
    }
   }
  },
  {
   "cell_type": "code",
   "execution_count": 6,
   "outputs": [],
   "source": [
    "y = dataset_83['吵闹度']\n",
    "X_primary = dataset_83[column_36]"
   ],
   "metadata": {
    "collapsed": false,
    "pycharm": {
     "name": "#%%\n"
    }
   }
  },
  {
   "cell_type": "code",
   "execution_count": 7,
   "outputs": [
    {
     "name": "stderr",
     "output_type": "stream",
     "text": [
      "E:\\Python\\Anaconda\\lib\\site-packages\\sklearn\\tree\\_classes.py:359: FutureWarning: Criterion 'mse' was deprecated in v1.0 and will be removed in version 1.2. Use `criterion='squared_error'` which is equivalent.\n",
      "  warnings.warn(\n"
     ]
    },
    {
     "data": {
      "text/plain": "DecisionTreeRegressor(criterion='mse')"
     },
     "execution_count": 7,
     "metadata": {},
     "output_type": "execute_result"
    }
   ],
   "source": [
    "dtree = DecisionTreeRegressor(criterion='mse', splitter='best')\n",
    "# dtree.fit(X, y)\n",
    "dtree.fit(X_primary, y)"
   ],
   "metadata": {
    "collapsed": false,
    "pycharm": {
     "name": "#%%\n"
    }
   }
  },
  {
   "cell_type": "code",
   "execution_count": 8,
   "outputs": [],
   "source": [
    "# y_test = dtree.predict(X_test)\n",
    "# y_test = dtree.predict(feature_test[column_36])\n",
    "# y_test"
   ],
   "metadata": {
    "collapsed": false,
    "pycharm": {
     "name": "#%%\n"
    }
   }
  },
  {
   "cell_type": "code",
   "execution_count": 9,
   "outputs": [],
   "source": [
    "# test_out = pd.DataFrame()\n",
    "# test_out['name'] = feature_test['name']\n",
    "# test_out['score'] = y_test"
   ],
   "metadata": {
    "collapsed": false,
    "pycharm": {
     "name": "#%%\n"
    }
   }
  },
  {
   "cell_type": "code",
   "execution_count": 10,
   "outputs": [],
   "source": [
    "# test_out.to_csv(r'./output/test.csv', index=False, encoding='utf_8_sig')"
   ],
   "metadata": {
    "collapsed": false,
    "pycharm": {
     "name": "#%%\n"
    }
   }
  },
  {
   "cell_type": "code",
   "execution_count": 11,
   "outputs": [
    {
     "data": {
      "text/plain": "     leq_mean   leq_std     leq_25  leq_median     leq_75  leq_10-leq_90  \\\n0   55.087367  3.677437  51.870382   54.960594  56.723969       9.696873   \n1   57.669111  3.957989  54.795023   55.902447  60.353767       9.177135   \n2   59.353559  1.827593  57.947016   59.186592  60.693972       4.713833   \n3   58.585827  3.632108  54.777142   59.410091  61.605663       9.733936   \n4   59.143997  0.749981  58.719011   59.123634  59.567461       1.774368   \n..        ...       ...        ...         ...        ...            ...   \n75  57.904759  2.135732  56.591455   58.017933  59.435141       5.339720   \n76  58.958218  3.252231  56.101234   58.977707  61.410915       9.311195   \n77  58.721422  2.124202  57.081690   58.697784  60.228107       5.196243   \n78  55.651089  3.149891  53.281452   54.937984  57.704250       8.168396   \n79  59.180042  0.681683  58.769297   59.245766  59.651882       1.808922   \n\n    loudness_mean  loudness_std  loudness_25  loudness_median  ...  fluct_25  \\\n0        8.698839      2.422355       6.8480           8.4600  ...  0.010691   \n1        9.817465      1.794922       8.6355           9.3040  ...  0.006396   \n2       12.487613      1.921011      10.8010          12.4280  ...  0.004454   \n3       11.347645      2.493466       8.9090          11.6060  ...  0.010188   \n4       11.727628      0.570138      11.4245          11.7280  ...  0.005923   \n..            ...           ...          ...              ...  ...       ...   \n75      10.529052      1.196414       9.6890          10.5360  ...  0.018445   \n76      11.315987      2.454535       9.1190          11.0990  ...  0.014421   \n77      11.471662      1.617730      10.2210          11.3310  ...  0.026320   \n78       7.531610      1.107605       6.7410           7.1790  ...  0.006343   \n79      11.863949      0.601856      11.5005          11.7975  ...  0.011762   \n\n    fluct_median  fluct_75  fluct_10-fluct_90  tonality_mean  tonality_std  \\\n0       0.016338  0.034965           0.045111       0.078222      0.087310   \n1       0.018928  0.036333           0.043880       0.069642      0.067689   \n2       0.019171  0.039689           0.051029       0.034464      0.028447   \n3       0.016826  0.020462           0.044871       0.024796      0.026786   \n4       0.011461  0.017122           0.055867       0.025931      0.025719   \n..           ...       ...                ...            ...           ...   \n75      0.024075  0.032594           0.044551       0.006776      0.017136   \n76      0.031093  0.056550           0.082201       0.011834      0.021776   \n77      0.030507  0.041342           0.035740       0.016766      0.027808   \n78      0.010505  0.019504           0.059969       0.013574      0.025136   \n79      0.013696  0.021269           0.051964       0.028008      0.027966   \n\n    tonality_25  tonality_median  tonality_75  tonality_10-tonality_90  \n0      0.000000         0.060642     0.100384                 0.203338  \n1      0.030019         0.059134     0.087444                 0.129653  \n2      0.000000         0.036599     0.050276                 0.075993  \n3      0.000000         0.020740     0.042877                 0.061643  \n4      0.000000         0.024378     0.042483                 0.063672  \n..          ...              ...          ...                      ...  \n75     0.000000         0.000000     0.000000                 0.029957  \n76     0.000000         0.000000     0.022515                 0.047266  \n77     0.000000         0.000000     0.031967                 0.055050  \n78     0.000000         0.000000     0.024109                 0.050400  \n79     0.000000         0.018277     0.049274                 0.067022  \n\n[80 rows x 36 columns]",
      "text/html": "<div>\n<style scoped>\n    .dataframe tbody tr th:only-of-type {\n        vertical-align: middle;\n    }\n\n    .dataframe tbody tr th {\n        vertical-align: top;\n    }\n\n    .dataframe thead th {\n        text-align: right;\n    }\n</style>\n<table border=\"1\" class=\"dataframe\">\n  <thead>\n    <tr style=\"text-align: right;\">\n      <th></th>\n      <th>leq_mean</th>\n      <th>leq_std</th>\n      <th>leq_25</th>\n      <th>leq_median</th>\n      <th>leq_75</th>\n      <th>leq_10-leq_90</th>\n      <th>loudness_mean</th>\n      <th>loudness_std</th>\n      <th>loudness_25</th>\n      <th>loudness_median</th>\n      <th>...</th>\n      <th>fluct_25</th>\n      <th>fluct_median</th>\n      <th>fluct_75</th>\n      <th>fluct_10-fluct_90</th>\n      <th>tonality_mean</th>\n      <th>tonality_std</th>\n      <th>tonality_25</th>\n      <th>tonality_median</th>\n      <th>tonality_75</th>\n      <th>tonality_10-tonality_90</th>\n    </tr>\n  </thead>\n  <tbody>\n    <tr>\n      <th>0</th>\n      <td>55.087367</td>\n      <td>3.677437</td>\n      <td>51.870382</td>\n      <td>54.960594</td>\n      <td>56.723969</td>\n      <td>9.696873</td>\n      <td>8.698839</td>\n      <td>2.422355</td>\n      <td>6.8480</td>\n      <td>8.4600</td>\n      <td>...</td>\n      <td>0.010691</td>\n      <td>0.016338</td>\n      <td>0.034965</td>\n      <td>0.045111</td>\n      <td>0.078222</td>\n      <td>0.087310</td>\n      <td>0.000000</td>\n      <td>0.060642</td>\n      <td>0.100384</td>\n      <td>0.203338</td>\n    </tr>\n    <tr>\n      <th>1</th>\n      <td>57.669111</td>\n      <td>3.957989</td>\n      <td>54.795023</td>\n      <td>55.902447</td>\n      <td>60.353767</td>\n      <td>9.177135</td>\n      <td>9.817465</td>\n      <td>1.794922</td>\n      <td>8.6355</td>\n      <td>9.3040</td>\n      <td>...</td>\n      <td>0.006396</td>\n      <td>0.018928</td>\n      <td>0.036333</td>\n      <td>0.043880</td>\n      <td>0.069642</td>\n      <td>0.067689</td>\n      <td>0.030019</td>\n      <td>0.059134</td>\n      <td>0.087444</td>\n      <td>0.129653</td>\n    </tr>\n    <tr>\n      <th>2</th>\n      <td>59.353559</td>\n      <td>1.827593</td>\n      <td>57.947016</td>\n      <td>59.186592</td>\n      <td>60.693972</td>\n      <td>4.713833</td>\n      <td>12.487613</td>\n      <td>1.921011</td>\n      <td>10.8010</td>\n      <td>12.4280</td>\n      <td>...</td>\n      <td>0.004454</td>\n      <td>0.019171</td>\n      <td>0.039689</td>\n      <td>0.051029</td>\n      <td>0.034464</td>\n      <td>0.028447</td>\n      <td>0.000000</td>\n      <td>0.036599</td>\n      <td>0.050276</td>\n      <td>0.075993</td>\n    </tr>\n    <tr>\n      <th>3</th>\n      <td>58.585827</td>\n      <td>3.632108</td>\n      <td>54.777142</td>\n      <td>59.410091</td>\n      <td>61.605663</td>\n      <td>9.733936</td>\n      <td>11.347645</td>\n      <td>2.493466</td>\n      <td>8.9090</td>\n      <td>11.6060</td>\n      <td>...</td>\n      <td>0.010188</td>\n      <td>0.016826</td>\n      <td>0.020462</td>\n      <td>0.044871</td>\n      <td>0.024796</td>\n      <td>0.026786</td>\n      <td>0.000000</td>\n      <td>0.020740</td>\n      <td>0.042877</td>\n      <td>0.061643</td>\n    </tr>\n    <tr>\n      <th>4</th>\n      <td>59.143997</td>\n      <td>0.749981</td>\n      <td>58.719011</td>\n      <td>59.123634</td>\n      <td>59.567461</td>\n      <td>1.774368</td>\n      <td>11.727628</td>\n      <td>0.570138</td>\n      <td>11.4245</td>\n      <td>11.7280</td>\n      <td>...</td>\n      <td>0.005923</td>\n      <td>0.011461</td>\n      <td>0.017122</td>\n      <td>0.055867</td>\n      <td>0.025931</td>\n      <td>0.025719</td>\n      <td>0.000000</td>\n      <td>0.024378</td>\n      <td>0.042483</td>\n      <td>0.063672</td>\n    </tr>\n    <tr>\n      <th>...</th>\n      <td>...</td>\n      <td>...</td>\n      <td>...</td>\n      <td>...</td>\n      <td>...</td>\n      <td>...</td>\n      <td>...</td>\n      <td>...</td>\n      <td>...</td>\n      <td>...</td>\n      <td>...</td>\n      <td>...</td>\n      <td>...</td>\n      <td>...</td>\n      <td>...</td>\n      <td>...</td>\n      <td>...</td>\n      <td>...</td>\n      <td>...</td>\n      <td>...</td>\n      <td>...</td>\n    </tr>\n    <tr>\n      <th>75</th>\n      <td>57.904759</td>\n      <td>2.135732</td>\n      <td>56.591455</td>\n      <td>58.017933</td>\n      <td>59.435141</td>\n      <td>5.339720</td>\n      <td>10.529052</td>\n      <td>1.196414</td>\n      <td>9.6890</td>\n      <td>10.5360</td>\n      <td>...</td>\n      <td>0.018445</td>\n      <td>0.024075</td>\n      <td>0.032594</td>\n      <td>0.044551</td>\n      <td>0.006776</td>\n      <td>0.017136</td>\n      <td>0.000000</td>\n      <td>0.000000</td>\n      <td>0.000000</td>\n      <td>0.029957</td>\n    </tr>\n    <tr>\n      <th>76</th>\n      <td>58.958218</td>\n      <td>3.252231</td>\n      <td>56.101234</td>\n      <td>58.977707</td>\n      <td>61.410915</td>\n      <td>9.311195</td>\n      <td>11.315987</td>\n      <td>2.454535</td>\n      <td>9.1190</td>\n      <td>11.0990</td>\n      <td>...</td>\n      <td>0.014421</td>\n      <td>0.031093</td>\n      <td>0.056550</td>\n      <td>0.082201</td>\n      <td>0.011834</td>\n      <td>0.021776</td>\n      <td>0.000000</td>\n      <td>0.000000</td>\n      <td>0.022515</td>\n      <td>0.047266</td>\n    </tr>\n    <tr>\n      <th>77</th>\n      <td>58.721422</td>\n      <td>2.124202</td>\n      <td>57.081690</td>\n      <td>58.697784</td>\n      <td>60.228107</td>\n      <td>5.196243</td>\n      <td>11.471662</td>\n      <td>1.617730</td>\n      <td>10.2210</td>\n      <td>11.3310</td>\n      <td>...</td>\n      <td>0.026320</td>\n      <td>0.030507</td>\n      <td>0.041342</td>\n      <td>0.035740</td>\n      <td>0.016766</td>\n      <td>0.027808</td>\n      <td>0.000000</td>\n      <td>0.000000</td>\n      <td>0.031967</td>\n      <td>0.055050</td>\n    </tr>\n    <tr>\n      <th>78</th>\n      <td>55.651089</td>\n      <td>3.149891</td>\n      <td>53.281452</td>\n      <td>54.937984</td>\n      <td>57.704250</td>\n      <td>8.168396</td>\n      <td>7.531610</td>\n      <td>1.107605</td>\n      <td>6.7410</td>\n      <td>7.1790</td>\n      <td>...</td>\n      <td>0.006343</td>\n      <td>0.010505</td>\n      <td>0.019504</td>\n      <td>0.059969</td>\n      <td>0.013574</td>\n      <td>0.025136</td>\n      <td>0.000000</td>\n      <td>0.000000</td>\n      <td>0.024109</td>\n      <td>0.050400</td>\n    </tr>\n    <tr>\n      <th>79</th>\n      <td>59.180042</td>\n      <td>0.681683</td>\n      <td>58.769297</td>\n      <td>59.245766</td>\n      <td>59.651882</td>\n      <td>1.808922</td>\n      <td>11.863949</td>\n      <td>0.601856</td>\n      <td>11.5005</td>\n      <td>11.7975</td>\n      <td>...</td>\n      <td>0.011762</td>\n      <td>0.013696</td>\n      <td>0.021269</td>\n      <td>0.051964</td>\n      <td>0.028008</td>\n      <td>0.027966</td>\n      <td>0.000000</td>\n      <td>0.018277</td>\n      <td>0.049274</td>\n      <td>0.067022</td>\n    </tr>\n  </tbody>\n</table>\n<p>80 rows × 36 columns</p>\n</div>"
     },
     "execution_count": 11,
     "metadata": {},
     "output_type": "execute_result"
    }
   ],
   "source": [
    "# test_yf = pd.read_csv(r'./test/杨凡1.csv')\n",
    "test_yf = pd.read_csv(r'./validation/validation_features.csv')\n",
    "predict_yf_X = test_yf[column_36]\n",
    "predict_yf_X"
   ],
   "metadata": {
    "collapsed": false,
    "pycharm": {
     "name": "#%%\n"
    }
   }
  },
  {
   "cell_type": "code",
   "execution_count": 18,
   "outputs": [
    {
     "data": {
      "text/plain": "array([4.00911854, 4.00911854, 6.04098361, 5.20668693, 5.35655738,\n       5.45288754, 4.49590164, 3.5       , 4.47540984, 5.1557377 ,\n       4.49590164, 3.5       , 6.11885246, 6.03658537, 4.27217125,\n       3.4795082 , 6.11885246, 4.79508197, 4.02868852, 6.31147541,\n       6.31147541, 4.02868852, 4.79508197, 6.03658537, 5.19262295,\n       6.04098361, 3.77675841, 6.20081967, 6.11885246, 3.71311475,\n       4.79508197, 3.79918033, 3.77675841, 3.79918033, 3.90769231,\n       5.20668693, 3.5       , 6.03658537, 6.20081967, 5.35655738,\n       5.04098361, 3.71311475, 5.34016393, 3.79918033, 4.79508197,\n       5.25819672, 5.35655738, 3.79918033, 4.3902439 , 5.34016393,\n       5.1557377 , 5.35655738, 4.2887538 , 5.35655738, 4.36170213,\n       3.8852459 , 2.76452599, 4.3902439 , 5.35655738, 5.35655738,\n       5.35655738, 4.49590164, 4.63190184, 4.49590164, 2.60909091,\n       5.35655738, 3.71311475, 3.90769231, 4.36170213, 2.76452599,\n       4.36170213, 4.2887538 , 5.34016393, 4.3768997 , 5.35655738,\n       5.35655738, 4.49590164, 5.34016393, 5.67622951, 6.5942623 ])"
     },
     "execution_count": 18,
     "metadata": {},
     "output_type": "execute_result"
    }
   ],
   "source": [
    "predict_yf_y = dtree.predict(predict_yf_X)\n",
    "predict_yf_y"
   ],
   "metadata": {
    "collapsed": false,
    "pycharm": {
     "name": "#%%\n"
    }
   }
  },
  {
   "cell_type": "code",
   "execution_count": 20,
   "outputs": [],
   "source": [
    "predict_yf_y = pd.DataFrame(predict_yf_y)\n",
    "predict_yf_y.to_csv(r'./validation/score.csv')"
   ],
   "metadata": {
    "collapsed": false,
    "pycharm": {
     "name": "#%%\n"
    }
   }
  },
  {
   "cell_type": "code",
   "execution_count": 13,
   "outputs": [],
   "source": [
    "# pre_class, true_class = return_predict_and_true_class(predict_yf_y, test_yf['noise_score'].values)\n",
    "#\n",
    "# acc = accuracy(pre_class, true_class)\n",
    "# acc"
   ],
   "metadata": {
    "collapsed": false,
    "pycharm": {
     "name": "#%%\n"
    }
   }
  },
  {
   "cell_type": "code",
   "execution_count": 14,
   "outputs": [],
   "source": [
    "# contract = pd.DataFrame()\n",
    "# contract['predict'] = pre_class\n",
    "# contract['predict_score'] = predict_yf_y\n",
    "# contract['true'] = true_class\n",
    "# contract['true_score'] = test_yf['noise_score'].values\n",
    "#"
   ],
   "metadata": {
    "collapsed": false,
    "pycharm": {
     "name": "#%%\n"
    }
   }
  },
  {
   "cell_type": "code",
   "execution_count": 15,
   "outputs": [],
   "source": [
    "# contract['different'] = abs(contract['predict_score'] - contract['true_score'])"
   ],
   "metadata": {
    "collapsed": false,
    "pycharm": {
     "name": "#%%\n"
    }
   }
  },
  {
   "cell_type": "code",
   "execution_count": 16,
   "outputs": [],
   "source": [
    "# contract['class_different'] = abs(contract['predict'] - contract['true'])"
   ],
   "metadata": {
    "collapsed": false,
    "pycharm": {
     "name": "#%%\n"
    }
   }
  },
  {
   "cell_type": "code",
   "execution_count": 17,
   "outputs": [],
   "source": [
    "# contract"
   ],
   "metadata": {
    "collapsed": false,
    "pycharm": {
     "name": "#%%\n"
    }
   }
  }
 ],
 "metadata": {
  "kernelspec": {
   "display_name": "Python 3",
   "language": "python",
   "name": "python3"
  },
  "language_info": {
   "codemirror_mode": {
    "name": "ipython",
    "version": 2
   },
   "file_extension": ".py",
   "mimetype": "text/x-python",
   "name": "python",
   "nbconvert_exporter": "python",
   "pygments_lexer": "ipython2",
   "version": "2.7.6"
  }
 },
 "nbformat": 4,
 "nbformat_minor": 0
}
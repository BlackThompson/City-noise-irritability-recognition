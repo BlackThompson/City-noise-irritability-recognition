{
 "cells": [
  {
   "cell_type": "code",
   "execution_count": 442,
   "metadata": {
    "collapsed": true
   },
   "outputs": [],
   "source": [
    "import pandas as pd\n",
    "import numpy as np\n",
    "from sklearn.tree import DecisionTreeRegressor\n",
    "from config import *\n",
    "from cal_accuracy import *\n",
    "\n",
    "# 5 -- 0.72 目前来说最好的\n",
    "#\n",
    "np.random.seed(18)"
   ]
  },
  {
   "cell_type": "code",
   "execution_count": 443,
   "outputs": [],
   "source": [
    "def feature_normalize(dataset):\n",
    "    mu = np.mean(dataset, axis=0)\n",
    "    sigma = np.std(dataset, axis=0)\n",
    "    return (dataset - mu) / sigma"
   ],
   "metadata": {
    "collapsed": false,
    "pycharm": {
     "name": "#%%\n"
    }
   }
  },
  {
   "cell_type": "code",
   "execution_count": 444,
   "outputs": [
    {
     "name": "stderr",
     "output_type": "stream",
     "text": [
      "E:\\Python\\Anaconda\\lib\\site-packages\\IPython\\core\\interactiveshell.py:3106: DtypeWarning: Columns (0) have mixed types.Specify dtype option on import or set low_memory=False.\n",
      "  has_raised = await self.run_ast_nodes(code_ast.body, cell_name,\n"
     ]
    },
    {
     "data": {
      "text/plain": "      声音类别  吵闹度  leq_mean  leq_var  leq_std   leq_max    leq_10    leq_25  \\\n0        1    4  64.66645  2.44902  1.56539  68.81651  62.72838  63.35437   \n1        1    4  64.66645  2.44902  1.56539  68.81651  62.72838  63.35437   \n2        1    6  64.66645  2.44902  1.56539  68.81651  62.72838  63.35437   \n3        1    4  64.66645  2.44902  1.56539  68.81651  62.72838  63.35437   \n4        1    7  64.66645  2.44902  1.56539  68.81651  62.72838  63.35437   \n...    ...  ...       ...      ...      ...       ...       ...       ...   \n49823  136    4  33.96670  2.98969  1.72947  39.22520  31.73146  32.75636   \n49824  136    5  33.96670  2.98969  1.72947  39.22520  31.73146  32.75636   \n49825  136    6  33.96670  2.98969  1.72947  39.22520  31.73146  32.75636   \n49826  136    7  33.96670  2.98969  1.72947  39.22520  31.73146  32.75636   \n49827  136    6  33.96670  2.98969  1.72947  39.22520  31.73146  32.75636   \n\n       leq_median    leq_75  ...  tonality_mean  tonality_var  tonality_std  \\\n0        64.54813  65.57262  ...        0.05675       0.00173       0.04170   \n1        64.54813  65.57262  ...        0.05675       0.00173       0.04170   \n2        64.54813  65.57262  ...        0.05675       0.00173       0.04170   \n3        64.54813  65.57262  ...        0.05675       0.00173       0.04170   \n4        64.54813  65.57262  ...        0.05675       0.00173       0.04170   \n...           ...       ...  ...            ...           ...           ...   \n49823    33.97321  35.16099  ...        0.04785       0.00335       0.05796   \n49824    33.97321  35.16099  ...        0.04785       0.00335       0.05796   \n49825    33.97321  35.16099  ...        0.04785       0.00335       0.05796   \n49826    33.97321  35.16099  ...        0.04785       0.00335       0.05796   \n49827    33.97321  35.16099  ...        0.04785       0.00335       0.05796   \n\n       tonality_max  tonality_10  tonality_25  tonality_median  tonality_75  \\\n0           0.18551          0.0      0.02823          0.05316      0.08016   \n1           0.18551          0.0      0.02823          0.05316      0.08016   \n2           0.18551          0.0      0.02823          0.05316      0.08016   \n3           0.18551          0.0      0.02823          0.05316      0.08016   \n4           0.18551          0.0      0.02823          0.05316      0.08016   \n...             ...          ...          ...              ...          ...   \n49823       0.43118          0.0      0.00000          0.03234      0.06977   \n49824       0.43118          0.0      0.00000          0.03234      0.06977   \n49825       0.43118          0.0      0.00000          0.03234      0.06977   \n49826       0.43118          0.0      0.00000          0.03234      0.06977   \n49827       0.43118          0.0      0.00000          0.03234      0.06977   \n\n       tonality_90  tonality_10-tonality_90  \n0          0.11041                  0.11041  \n1          0.11041                  0.11041  \n2          0.11041                  0.11041  \n3          0.11041                  0.11041  \n4          0.11041                  0.11041  \n...            ...                      ...  \n49823      0.11713                  0.11713  \n49824      0.11713                  0.11713  \n49825      0.11713                  0.11713  \n49826      0.11713                  0.11713  \n49827      0.11713                  0.11713  \n\n[49828 rows x 62 columns]",
      "text/html": "<div>\n<style scoped>\n    .dataframe tbody tr th:only-of-type {\n        vertical-align: middle;\n    }\n\n    .dataframe tbody tr th {\n        vertical-align: top;\n    }\n\n    .dataframe thead th {\n        text-align: right;\n    }\n</style>\n<table border=\"1\" class=\"dataframe\">\n  <thead>\n    <tr style=\"text-align: right;\">\n      <th></th>\n      <th>声音类别</th>\n      <th>吵闹度</th>\n      <th>leq_mean</th>\n      <th>leq_var</th>\n      <th>leq_std</th>\n      <th>leq_max</th>\n      <th>leq_10</th>\n      <th>leq_25</th>\n      <th>leq_median</th>\n      <th>leq_75</th>\n      <th>...</th>\n      <th>tonality_mean</th>\n      <th>tonality_var</th>\n      <th>tonality_std</th>\n      <th>tonality_max</th>\n      <th>tonality_10</th>\n      <th>tonality_25</th>\n      <th>tonality_median</th>\n      <th>tonality_75</th>\n      <th>tonality_90</th>\n      <th>tonality_10-tonality_90</th>\n    </tr>\n  </thead>\n  <tbody>\n    <tr>\n      <th>0</th>\n      <td>1</td>\n      <td>4</td>\n      <td>64.66645</td>\n      <td>2.44902</td>\n      <td>1.56539</td>\n      <td>68.81651</td>\n      <td>62.72838</td>\n      <td>63.35437</td>\n      <td>64.54813</td>\n      <td>65.57262</td>\n      <td>...</td>\n      <td>0.05675</td>\n      <td>0.00173</td>\n      <td>0.04170</td>\n      <td>0.18551</td>\n      <td>0.0</td>\n      <td>0.02823</td>\n      <td>0.05316</td>\n      <td>0.08016</td>\n      <td>0.11041</td>\n      <td>0.11041</td>\n    </tr>\n    <tr>\n      <th>1</th>\n      <td>1</td>\n      <td>4</td>\n      <td>64.66645</td>\n      <td>2.44902</td>\n      <td>1.56539</td>\n      <td>68.81651</td>\n      <td>62.72838</td>\n      <td>63.35437</td>\n      <td>64.54813</td>\n      <td>65.57262</td>\n      <td>...</td>\n      <td>0.05675</td>\n      <td>0.00173</td>\n      <td>0.04170</td>\n      <td>0.18551</td>\n      <td>0.0</td>\n      <td>0.02823</td>\n      <td>0.05316</td>\n      <td>0.08016</td>\n      <td>0.11041</td>\n      <td>0.11041</td>\n    </tr>\n    <tr>\n      <th>2</th>\n      <td>1</td>\n      <td>6</td>\n      <td>64.66645</td>\n      <td>2.44902</td>\n      <td>1.56539</td>\n      <td>68.81651</td>\n      <td>62.72838</td>\n      <td>63.35437</td>\n      <td>64.54813</td>\n      <td>65.57262</td>\n      <td>...</td>\n      <td>0.05675</td>\n      <td>0.00173</td>\n      <td>0.04170</td>\n      <td>0.18551</td>\n      <td>0.0</td>\n      <td>0.02823</td>\n      <td>0.05316</td>\n      <td>0.08016</td>\n      <td>0.11041</td>\n      <td>0.11041</td>\n    </tr>\n    <tr>\n      <th>3</th>\n      <td>1</td>\n      <td>4</td>\n      <td>64.66645</td>\n      <td>2.44902</td>\n      <td>1.56539</td>\n      <td>68.81651</td>\n      <td>62.72838</td>\n      <td>63.35437</td>\n      <td>64.54813</td>\n      <td>65.57262</td>\n      <td>...</td>\n      <td>0.05675</td>\n      <td>0.00173</td>\n      <td>0.04170</td>\n      <td>0.18551</td>\n      <td>0.0</td>\n      <td>0.02823</td>\n      <td>0.05316</td>\n      <td>0.08016</td>\n      <td>0.11041</td>\n      <td>0.11041</td>\n    </tr>\n    <tr>\n      <th>4</th>\n      <td>1</td>\n      <td>7</td>\n      <td>64.66645</td>\n      <td>2.44902</td>\n      <td>1.56539</td>\n      <td>68.81651</td>\n      <td>62.72838</td>\n      <td>63.35437</td>\n      <td>64.54813</td>\n      <td>65.57262</td>\n      <td>...</td>\n      <td>0.05675</td>\n      <td>0.00173</td>\n      <td>0.04170</td>\n      <td>0.18551</td>\n      <td>0.0</td>\n      <td>0.02823</td>\n      <td>0.05316</td>\n      <td>0.08016</td>\n      <td>0.11041</td>\n      <td>0.11041</td>\n    </tr>\n    <tr>\n      <th>...</th>\n      <td>...</td>\n      <td>...</td>\n      <td>...</td>\n      <td>...</td>\n      <td>...</td>\n      <td>...</td>\n      <td>...</td>\n      <td>...</td>\n      <td>...</td>\n      <td>...</td>\n      <td>...</td>\n      <td>...</td>\n      <td>...</td>\n      <td>...</td>\n      <td>...</td>\n      <td>...</td>\n      <td>...</td>\n      <td>...</td>\n      <td>...</td>\n      <td>...</td>\n      <td>...</td>\n    </tr>\n    <tr>\n      <th>49823</th>\n      <td>136</td>\n      <td>4</td>\n      <td>33.96670</td>\n      <td>2.98969</td>\n      <td>1.72947</td>\n      <td>39.22520</td>\n      <td>31.73146</td>\n      <td>32.75636</td>\n      <td>33.97321</td>\n      <td>35.16099</td>\n      <td>...</td>\n      <td>0.04785</td>\n      <td>0.00335</td>\n      <td>0.05796</td>\n      <td>0.43118</td>\n      <td>0.0</td>\n      <td>0.00000</td>\n      <td>0.03234</td>\n      <td>0.06977</td>\n      <td>0.11713</td>\n      <td>0.11713</td>\n    </tr>\n    <tr>\n      <th>49824</th>\n      <td>136</td>\n      <td>5</td>\n      <td>33.96670</td>\n      <td>2.98969</td>\n      <td>1.72947</td>\n      <td>39.22520</td>\n      <td>31.73146</td>\n      <td>32.75636</td>\n      <td>33.97321</td>\n      <td>35.16099</td>\n      <td>...</td>\n      <td>0.04785</td>\n      <td>0.00335</td>\n      <td>0.05796</td>\n      <td>0.43118</td>\n      <td>0.0</td>\n      <td>0.00000</td>\n      <td>0.03234</td>\n      <td>0.06977</td>\n      <td>0.11713</td>\n      <td>0.11713</td>\n    </tr>\n    <tr>\n      <th>49825</th>\n      <td>136</td>\n      <td>6</td>\n      <td>33.96670</td>\n      <td>2.98969</td>\n      <td>1.72947</td>\n      <td>39.22520</td>\n      <td>31.73146</td>\n      <td>32.75636</td>\n      <td>33.97321</td>\n      <td>35.16099</td>\n      <td>...</td>\n      <td>0.04785</td>\n      <td>0.00335</td>\n      <td>0.05796</td>\n      <td>0.43118</td>\n      <td>0.0</td>\n      <td>0.00000</td>\n      <td>0.03234</td>\n      <td>0.06977</td>\n      <td>0.11713</td>\n      <td>0.11713</td>\n    </tr>\n    <tr>\n      <th>49826</th>\n      <td>136</td>\n      <td>7</td>\n      <td>33.96670</td>\n      <td>2.98969</td>\n      <td>1.72947</td>\n      <td>39.22520</td>\n      <td>31.73146</td>\n      <td>32.75636</td>\n      <td>33.97321</td>\n      <td>35.16099</td>\n      <td>...</td>\n      <td>0.04785</td>\n      <td>0.00335</td>\n      <td>0.05796</td>\n      <td>0.43118</td>\n      <td>0.0</td>\n      <td>0.00000</td>\n      <td>0.03234</td>\n      <td>0.06977</td>\n      <td>0.11713</td>\n      <td>0.11713</td>\n    </tr>\n    <tr>\n      <th>49827</th>\n      <td>136</td>\n      <td>6</td>\n      <td>33.96670</td>\n      <td>2.98969</td>\n      <td>1.72947</td>\n      <td>39.22520</td>\n      <td>31.73146</td>\n      <td>32.75636</td>\n      <td>33.97321</td>\n      <td>35.16099</td>\n      <td>...</td>\n      <td>0.04785</td>\n      <td>0.00335</td>\n      <td>0.05796</td>\n      <td>0.43118</td>\n      <td>0.0</td>\n      <td>0.00000</td>\n      <td>0.03234</td>\n      <td>0.06977</td>\n      <td>0.11713</td>\n      <td>0.11713</td>\n    </tr>\n  </tbody>\n</table>\n<p>49828 rows × 62 columns</p>\n</div>"
     },
     "execution_count": 444,
     "metadata": {},
     "output_type": "execute_result"
    }
   ],
   "source": [
    "dataset_83 = pd.read_csv(r'./input/use_data_83_add_88.csv')\n",
    "feature_test = pd.read_csv(r'./input/kyllin_features.csv')\n",
    "# dataset_all = pd.read_csv(r'./input/all_data.csv')\n",
    "dataset_83"
   ],
   "metadata": {
    "collapsed": false,
    "pycharm": {
     "name": "#%%\n"
    }
   }
  },
  {
   "cell_type": "code",
   "execution_count": 445,
   "outputs": [
    {
     "data": {
      "text/plain": "Index(['声音类别', '吵闹度', 'leq_mean', 'leq_var', 'leq_std', 'leq_max', 'leq_10',\n       'leq_25', 'leq_median', 'leq_75', 'leq_90', 'leq_10-leq_90',\n       'loudness_mean', 'loudness_var', 'loudness_std', 'loudness_max',\n       'loudness_10', 'loudness_25', 'loudness_median', 'loudness_75',\n       'loudness_90', 'loudness_10-loudness_90', 'roughness_mean',\n       'roughness_var', 'roughness_std', 'roughness_max', 'roughness_10',\n       'roughness_25', 'roughness_median', 'roughness_75', 'roughness_90',\n       'roughness_10-roughness_90', 'sharpness_mean', 'sharpness_var',\n       'sharpness_std', 'sharpness_max', 'sharpness_10', 'sharpness_25',\n       'sharpness_median', 'sharpness_75', 'sharpness_90',\n       'sharpness_10-sharpness_90', 'fluct_mean', 'fluct_var', 'fluct_std',\n       'fluct_max', 'fluct_10', 'fluct_25', 'fluct_median', 'fluct_75',\n       'fluct_90', 'fluct_10-fluct_90', 'tonality_mean', 'tonality_var',\n       'tonality_std', 'tonality_max', 'tonality_10', 'tonality_25',\n       'tonality_median', 'tonality_75', 'tonality_90',\n       'tonality_10-tonality_90'],\n      dtype='object')"
     },
     "execution_count": 445,
     "metadata": {},
     "output_type": "execute_result"
    }
   ],
   "source": [
    "dataset_83.columns"
   ],
   "metadata": {
    "collapsed": false,
    "pycharm": {
     "name": "#%%\n"
    }
   }
  },
  {
   "cell_type": "code",
   "execution_count": 446,
   "outputs": [],
   "source": [
    "# column_36 = ['leq_mean', 'leq_std', 'leq_25', 'leq_median',\n",
    "#             'leq_75', 'leq_10_90', 'loudness_mean', 'loudness_std',\n",
    "#             'loudness_25', 'loudness_median', 'loudness_75',\n",
    "#             'loudness_10_90', 'roughness_mean', 'roughness_std',\n",
    "#             'roughness_25', 'roughness_median', 'roughness_75',\n",
    "#             'roughness_10_90', 'sharpness_mean', 'sharpness_std',\n",
    "#             'sharpness_25', 'sharpness_median', 'sharpness_75',\n",
    "#             'sharpness_10_90', 'fluct_mean', 'fluct_std', 'fluct_25',\n",
    "#             'fluct_median', 'fluct_75', 'fluct_10_90', 'tonality_mean',\n",
    "#             'tonality_std', 'tonality_25', 'tonality_median', 'tonality_75',\n",
    "#             'tonality_10_90']\n",
    "\n",
    "# y = dataset_83['吵闹度']\n",
    "# X_primary = dataset_83[column_36]\n",
    "# X = feature_normalize(X_primary)\n",
    "# X_test = feature_normalize(feature_test[column_36])\n"
   ],
   "metadata": {
    "collapsed": false,
    "pycharm": {
     "name": "#%%\n"
    }
   }
  },
  {
   "cell_type": "code",
   "execution_count": 447,
   "outputs": [],
   "source": [
    "y = dataset_83['吵闹度']\n",
    "X_primary = dataset_83[column_36]"
   ],
   "metadata": {
    "collapsed": false,
    "pycharm": {
     "name": "#%%\n"
    }
   }
  },
  {
   "cell_type": "code",
   "execution_count": 448,
   "outputs": [
    {
     "name": "stderr",
     "output_type": "stream",
     "text": [
      "E:\\Python\\Anaconda\\lib\\site-packages\\sklearn\\tree\\_classes.py:359: FutureWarning: Criterion 'mse' was deprecated in v1.0 and will be removed in version 1.2. Use `criterion='squared_error'` which is equivalent.\n",
      "  warnings.warn(\n"
     ]
    },
    {
     "data": {
      "text/plain": "DecisionTreeRegressor(criterion='mse')"
     },
     "execution_count": 448,
     "metadata": {},
     "output_type": "execute_result"
    }
   ],
   "source": [
    "dtree = DecisionTreeRegressor(criterion='mse', splitter='best')\n",
    "# dtree.fit(X, y)\n",
    "dtree.fit(X_primary, y)"
   ],
   "metadata": {
    "collapsed": false,
    "pycharm": {
     "name": "#%%\n"
    }
   }
  },
  {
   "cell_type": "code",
   "execution_count": 449,
   "outputs": [],
   "source": [
    "# y_test = dtree.predict(X_test)\n",
    "# y_test = dtree.predict(feature_test[column_36])\n",
    "# y_test"
   ],
   "metadata": {
    "collapsed": false,
    "pycharm": {
     "name": "#%%\n"
    }
   }
  },
  {
   "cell_type": "code",
   "execution_count": 450,
   "outputs": [],
   "source": [
    "# test_out = pd.DataFrame()\n",
    "# test_out['name'] = feature_test['name']\n",
    "# test_out['score'] = y_test"
   ],
   "metadata": {
    "collapsed": false,
    "pycharm": {
     "name": "#%%\n"
    }
   }
  },
  {
   "cell_type": "code",
   "execution_count": 451,
   "outputs": [],
   "source": [
    "# test_out.to_csv(r'./output/test.csv', index=False, encoding='utf_8_sig')"
   ],
   "metadata": {
    "collapsed": false,
    "pycharm": {
     "name": "#%%\n"
    }
   }
  },
  {
   "cell_type": "code",
   "execution_count": 452,
   "outputs": [
    {
     "data": {
      "text/plain": "     leq_mean   leq_std     leq_25  leq_median     leq_75  leq_10-leq_90  \\\n0   55.232130  5.319207  50.331184   56.141373  59.358688      14.299032   \n1   50.990445  3.790288  47.271271   52.034287  54.249622       9.581163   \n2   55.732233  2.579936  53.848297   55.836800  57.593357       6.445042   \n3   50.850839  3.243968  48.294189   50.739494  52.977394       7.861456   \n4   50.480544  4.658396  47.364754   50.697357  53.007847      10.091568   \n..        ...       ...        ...         ...        ...            ...   \n70  51.684594  2.950931  49.122250   51.338657  53.338589       7.694008   \n71  56.086409  5.981590  50.723267   56.433147  59.950764      16.290859   \n72  50.047239  2.401969  48.324600   49.654362  51.642471       6.221943   \n73  50.874526  2.089157  49.593983   50.240971  51.657730       4.288685   \n74  51.327230  1.785935  49.961189   51.132454  52.213837       3.964472   \n\n    loudness_mean  loudness_std  loudness_25  loudness_median  ...  fluct_25  \\\n0        6.822645      2.222474        4.948            6.616  ...  0.007573   \n1        5.447094      0.944530        4.642            5.502  ...  0.004376   \n2        7.831393      1.859701        6.400            7.247  ...  0.091772   \n3        5.997294      1.182890        5.152            5.897  ...  0.012791   \n4        5.412632      2.033547        4.196            5.096  ...  0.009835   \n..            ...           ...          ...              ...  ...       ...   \n70       6.144695      1.181480        5.224            5.905  ...  0.004002   \n71       7.688258      2.892483        5.349            7.263  ...  0.006362   \n72       5.904786      1.073166        5.273            5.686  ...  0.006031   \n73       6.420369      0.943794        5.854            6.200  ...  0.003055   \n74       6.673368      0.785199        6.077            6.583  ...  0.002669   \n\n    fluct_median  fluct_75  fluct_10-fluct_90  tonality_mean  tonality_std  \\\n0       0.011714  0.014903           0.016429       0.090862      0.062262   \n1       0.006319  0.013831           0.019906       0.053997      0.047247   \n2       0.123620  0.150747           0.135921       0.044188      0.041625   \n3       0.018036  0.023764           0.026002       0.057085      0.046005   \n4       0.014763  0.027707           0.046409       0.060576      0.053735   \n..           ...       ...                ...            ...           ...   \n70      0.010360  0.022415           0.032302       0.118365      0.061495   \n71      0.009434  0.012003           0.017800       0.063056      0.048654   \n72      0.014525  0.032093           0.042514       0.040851      0.040539   \n73      0.005694  0.010639           0.031608       0.041429      0.038538   \n74      0.004922  0.014560           0.026338       0.062299      0.050873   \n\n    tonality_25  tonality_median  tonality_75  tonality_10-tonality_90  \n0      0.046919         0.084511     0.128971                 0.176758  \n1      0.000000         0.050423     0.085405                 0.118994  \n2      0.000000         0.039642     0.071143                 0.102402  \n3      0.023572         0.050706     0.084524                 0.119571  \n4      0.015611         0.052863     0.090540                 0.131772  \n..          ...              ...          ...                      ...  \n70     0.077229         0.106951     0.144127                 0.136776  \n71     0.024658         0.057933     0.093155                 0.128203  \n72     0.000000         0.036629     0.067197                 0.097571  \n73     0.000000         0.039179     0.065948                 0.091092  \n74     0.022004         0.057294     0.093313                 0.130287  \n\n[75 rows x 36 columns]",
      "text/html": "<div>\n<style scoped>\n    .dataframe tbody tr th:only-of-type {\n        vertical-align: middle;\n    }\n\n    .dataframe tbody tr th {\n        vertical-align: top;\n    }\n\n    .dataframe thead th {\n        text-align: right;\n    }\n</style>\n<table border=\"1\" class=\"dataframe\">\n  <thead>\n    <tr style=\"text-align: right;\">\n      <th></th>\n      <th>leq_mean</th>\n      <th>leq_std</th>\n      <th>leq_25</th>\n      <th>leq_median</th>\n      <th>leq_75</th>\n      <th>leq_10-leq_90</th>\n      <th>loudness_mean</th>\n      <th>loudness_std</th>\n      <th>loudness_25</th>\n      <th>loudness_median</th>\n      <th>...</th>\n      <th>fluct_25</th>\n      <th>fluct_median</th>\n      <th>fluct_75</th>\n      <th>fluct_10-fluct_90</th>\n      <th>tonality_mean</th>\n      <th>tonality_std</th>\n      <th>tonality_25</th>\n      <th>tonality_median</th>\n      <th>tonality_75</th>\n      <th>tonality_10-tonality_90</th>\n    </tr>\n  </thead>\n  <tbody>\n    <tr>\n      <th>0</th>\n      <td>55.232130</td>\n      <td>5.319207</td>\n      <td>50.331184</td>\n      <td>56.141373</td>\n      <td>59.358688</td>\n      <td>14.299032</td>\n      <td>6.822645</td>\n      <td>2.222474</td>\n      <td>4.948</td>\n      <td>6.616</td>\n      <td>...</td>\n      <td>0.007573</td>\n      <td>0.011714</td>\n      <td>0.014903</td>\n      <td>0.016429</td>\n      <td>0.090862</td>\n      <td>0.062262</td>\n      <td>0.046919</td>\n      <td>0.084511</td>\n      <td>0.128971</td>\n      <td>0.176758</td>\n    </tr>\n    <tr>\n      <th>1</th>\n      <td>50.990445</td>\n      <td>3.790288</td>\n      <td>47.271271</td>\n      <td>52.034287</td>\n      <td>54.249622</td>\n      <td>9.581163</td>\n      <td>5.447094</td>\n      <td>0.944530</td>\n      <td>4.642</td>\n      <td>5.502</td>\n      <td>...</td>\n      <td>0.004376</td>\n      <td>0.006319</td>\n      <td>0.013831</td>\n      <td>0.019906</td>\n      <td>0.053997</td>\n      <td>0.047247</td>\n      <td>0.000000</td>\n      <td>0.050423</td>\n      <td>0.085405</td>\n      <td>0.118994</td>\n    </tr>\n    <tr>\n      <th>2</th>\n      <td>55.732233</td>\n      <td>2.579936</td>\n      <td>53.848297</td>\n      <td>55.836800</td>\n      <td>57.593357</td>\n      <td>6.445042</td>\n      <td>7.831393</td>\n      <td>1.859701</td>\n      <td>6.400</td>\n      <td>7.247</td>\n      <td>...</td>\n      <td>0.091772</td>\n      <td>0.123620</td>\n      <td>0.150747</td>\n      <td>0.135921</td>\n      <td>0.044188</td>\n      <td>0.041625</td>\n      <td>0.000000</td>\n      <td>0.039642</td>\n      <td>0.071143</td>\n      <td>0.102402</td>\n    </tr>\n    <tr>\n      <th>3</th>\n      <td>50.850839</td>\n      <td>3.243968</td>\n      <td>48.294189</td>\n      <td>50.739494</td>\n      <td>52.977394</td>\n      <td>7.861456</td>\n      <td>5.997294</td>\n      <td>1.182890</td>\n      <td>5.152</td>\n      <td>5.897</td>\n      <td>...</td>\n      <td>0.012791</td>\n      <td>0.018036</td>\n      <td>0.023764</td>\n      <td>0.026002</td>\n      <td>0.057085</td>\n      <td>0.046005</td>\n      <td>0.023572</td>\n      <td>0.050706</td>\n      <td>0.084524</td>\n      <td>0.119571</td>\n    </tr>\n    <tr>\n      <th>4</th>\n      <td>50.480544</td>\n      <td>4.658396</td>\n      <td>47.364754</td>\n      <td>50.697357</td>\n      <td>53.007847</td>\n      <td>10.091568</td>\n      <td>5.412632</td>\n      <td>2.033547</td>\n      <td>4.196</td>\n      <td>5.096</td>\n      <td>...</td>\n      <td>0.009835</td>\n      <td>0.014763</td>\n      <td>0.027707</td>\n      <td>0.046409</td>\n      <td>0.060576</td>\n      <td>0.053735</td>\n      <td>0.015611</td>\n      <td>0.052863</td>\n      <td>0.090540</td>\n      <td>0.131772</td>\n    </tr>\n    <tr>\n      <th>...</th>\n      <td>...</td>\n      <td>...</td>\n      <td>...</td>\n      <td>...</td>\n      <td>...</td>\n      <td>...</td>\n      <td>...</td>\n      <td>...</td>\n      <td>...</td>\n      <td>...</td>\n      <td>...</td>\n      <td>...</td>\n      <td>...</td>\n      <td>...</td>\n      <td>...</td>\n      <td>...</td>\n      <td>...</td>\n      <td>...</td>\n      <td>...</td>\n      <td>...</td>\n      <td>...</td>\n    </tr>\n    <tr>\n      <th>70</th>\n      <td>51.684594</td>\n      <td>2.950931</td>\n      <td>49.122250</td>\n      <td>51.338657</td>\n      <td>53.338589</td>\n      <td>7.694008</td>\n      <td>6.144695</td>\n      <td>1.181480</td>\n      <td>5.224</td>\n      <td>5.905</td>\n      <td>...</td>\n      <td>0.004002</td>\n      <td>0.010360</td>\n      <td>0.022415</td>\n      <td>0.032302</td>\n      <td>0.118365</td>\n      <td>0.061495</td>\n      <td>0.077229</td>\n      <td>0.106951</td>\n      <td>0.144127</td>\n      <td>0.136776</td>\n    </tr>\n    <tr>\n      <th>71</th>\n      <td>56.086409</td>\n      <td>5.981590</td>\n      <td>50.723267</td>\n      <td>56.433147</td>\n      <td>59.950764</td>\n      <td>16.290859</td>\n      <td>7.688258</td>\n      <td>2.892483</td>\n      <td>5.349</td>\n      <td>7.263</td>\n      <td>...</td>\n      <td>0.006362</td>\n      <td>0.009434</td>\n      <td>0.012003</td>\n      <td>0.017800</td>\n      <td>0.063056</td>\n      <td>0.048654</td>\n      <td>0.024658</td>\n      <td>0.057933</td>\n      <td>0.093155</td>\n      <td>0.128203</td>\n    </tr>\n    <tr>\n      <th>72</th>\n      <td>50.047239</td>\n      <td>2.401969</td>\n      <td>48.324600</td>\n      <td>49.654362</td>\n      <td>51.642471</td>\n      <td>6.221943</td>\n      <td>5.904786</td>\n      <td>1.073166</td>\n      <td>5.273</td>\n      <td>5.686</td>\n      <td>...</td>\n      <td>0.006031</td>\n      <td>0.014525</td>\n      <td>0.032093</td>\n      <td>0.042514</td>\n      <td>0.040851</td>\n      <td>0.040539</td>\n      <td>0.000000</td>\n      <td>0.036629</td>\n      <td>0.067197</td>\n      <td>0.097571</td>\n    </tr>\n    <tr>\n      <th>73</th>\n      <td>50.874526</td>\n      <td>2.089157</td>\n      <td>49.593983</td>\n      <td>50.240971</td>\n      <td>51.657730</td>\n      <td>4.288685</td>\n      <td>6.420369</td>\n      <td>0.943794</td>\n      <td>5.854</td>\n      <td>6.200</td>\n      <td>...</td>\n      <td>0.003055</td>\n      <td>0.005694</td>\n      <td>0.010639</td>\n      <td>0.031608</td>\n      <td>0.041429</td>\n      <td>0.038538</td>\n      <td>0.000000</td>\n      <td>0.039179</td>\n      <td>0.065948</td>\n      <td>0.091092</td>\n    </tr>\n    <tr>\n      <th>74</th>\n      <td>51.327230</td>\n      <td>1.785935</td>\n      <td>49.961189</td>\n      <td>51.132454</td>\n      <td>52.213837</td>\n      <td>3.964472</td>\n      <td>6.673368</td>\n      <td>0.785199</td>\n      <td>6.077</td>\n      <td>6.583</td>\n      <td>...</td>\n      <td>0.002669</td>\n      <td>0.004922</td>\n      <td>0.014560</td>\n      <td>0.026338</td>\n      <td>0.062299</td>\n      <td>0.050873</td>\n      <td>0.022004</td>\n      <td>0.057294</td>\n      <td>0.093313</td>\n      <td>0.130287</td>\n    </tr>\n  </tbody>\n</table>\n<p>75 rows × 36 columns</p>\n</div>"
     },
     "execution_count": 452,
     "metadata": {},
     "output_type": "execute_result"
    }
   ],
   "source": [
    "test_yf = pd.read_csv(r'./test/杨凡1.csv')\n",
    "predict_yf_X = test_yf[column_36]\n",
    "predict_yf_X"
   ],
   "metadata": {
    "collapsed": false,
    "pycharm": {
     "name": "#%%\n"
    }
   }
  },
  {
   "cell_type": "code",
   "execution_count": 453,
   "outputs": [
    {
     "data": {
      "text/plain": "array([4.2887538 , 3.77675841, 4.2887538 , 4.3768997 , 4.3768997 ,\n       4.2887538 , 4.61398176, 4.2887538 , 4.3768997 , 4.3768997 ,\n       3.77675841, 4.00911854, 4.3768997 , 4.2887538 , 2.76452599,\n       4.2887538 , 4.61398176, 3.71036585, 2.76452599, 4.3768997 ,\n       4.11419753, 6.60569106, 6.24180328, 4.2887538 , 4.3768997 ,\n       3.05454545, 4.2887538 , 4.38719512, 4.2887538 , 3.05454545,\n       4.38719512, 4.52777778, 3.77675841, 4.38719512, 2.60909091,\n       4.11419753, 4.11419753, 4.00911854, 3.90769231, 4.11419753,\n       3.37386018, 4.11419753, 3.66803279, 4.11419753, 3.66803279,\n       3.66803279, 3.66803279, 4.38719512, 4.27459016, 2.76452599,\n       2.76452599, 3.77675841, 3.77675841, 6.60569106, 4.2887538 ,\n       3.77675841, 4.2887538 , 4.2887538 , 4.2887538 , 4.2887538 ,\n       4.52777778, 4.2887538 , 4.3768997 , 3.71036585, 6.24180328,\n       6.60569106, 4.2887538 , 2.76452599, 4.38719512, 4.2887538 ,\n       4.3768997 , 4.2887538 , 4.2887538 , 4.2887538 , 5.20183486])"
     },
     "execution_count": 453,
     "metadata": {},
     "output_type": "execute_result"
    }
   ],
   "source": [
    "predict_yf_y = dtree.predict(predict_yf_X)\n",
    "predict_yf_y"
   ],
   "metadata": {
    "collapsed": false,
    "pycharm": {
     "name": "#%%\n"
    }
   }
  },
  {
   "cell_type": "code",
   "execution_count": 454,
   "outputs": [
    {
     "data": {
      "text/plain": "0.5466666666666666"
     },
     "execution_count": 454,
     "metadata": {},
     "output_type": "execute_result"
    }
   ],
   "source": [
    "pre_class, true_class = return_predict_and_true_class(predict_yf_y, test_yf['noise_score'].values)\n",
    "\n",
    "acc = accuracy(pre_class, true_class)\n",
    "acc"
   ],
   "metadata": {
    "collapsed": false,
    "pycharm": {
     "name": "#%%\n"
    }
   }
  },
  {
   "cell_type": "code",
   "execution_count": 455,
   "outputs": [],
   "source": [
    "contract = pd.DataFrame()\n",
    "contract['predict'] = pre_class\n",
    "contract['predict_score'] = predict_yf_y\n",
    "contract['true'] = true_class\n",
    "contract['true_score'] = test_yf['noise_score'].values\n"
   ],
   "metadata": {
    "collapsed": false,
    "pycharm": {
     "name": "#%%\n"
    }
   }
  },
  {
   "cell_type": "code",
   "execution_count": 457,
   "outputs": [],
   "source": [
    "contract['different'] = abs(contract['predict_score'] - contract['true_score'])"
   ],
   "metadata": {
    "collapsed": false,
    "pycharm": {
     "name": "#%%\n"
    }
   }
  },
  {
   "cell_type": "code",
   "execution_count": 459,
   "outputs": [],
   "source": [
    "contract['class_different'] = abs(contract['predict'] - contract['true'])"
   ],
   "metadata": {
    "collapsed": false,
    "pycharm": {
     "name": "#%%\n"
    }
   }
  },
  {
   "cell_type": "code",
   "execution_count": 460,
   "outputs": [
    {
     "data": {
      "text/plain": "    predict  predict_score  true  true_score  different  class_different\n0         3       4.288754     4           3   1.288754                1\n1         4       3.776758     4           4   0.223242                0\n2         3       4.288754     4           2   2.288754                1\n3         3       4.376900     1           7   2.623100                2\n4         2       4.376900     2           5   0.623100                0\n..      ...            ...   ...         ...        ...              ...\n70        4       4.376900     4           4   0.376900                0\n71        3       4.288754     4           3   1.288754                1\n72        3       4.288754     4           3   1.288754                1\n73        3       4.288754     4           3   1.288754                1\n74        2       5.201835     4           4   1.201835                2\n\n[75 rows x 6 columns]",
      "text/html": "<div>\n<style scoped>\n    .dataframe tbody tr th:only-of-type {\n        vertical-align: middle;\n    }\n\n    .dataframe tbody tr th {\n        vertical-align: top;\n    }\n\n    .dataframe thead th {\n        text-align: right;\n    }\n</style>\n<table border=\"1\" class=\"dataframe\">\n  <thead>\n    <tr style=\"text-align: right;\">\n      <th></th>\n      <th>predict</th>\n      <th>predict_score</th>\n      <th>true</th>\n      <th>true_score</th>\n      <th>different</th>\n      <th>class_different</th>\n    </tr>\n  </thead>\n  <tbody>\n    <tr>\n      <th>0</th>\n      <td>3</td>\n      <td>4.288754</td>\n      <td>4</td>\n      <td>3</td>\n      <td>1.288754</td>\n      <td>1</td>\n    </tr>\n    <tr>\n      <th>1</th>\n      <td>4</td>\n      <td>3.776758</td>\n      <td>4</td>\n      <td>4</td>\n      <td>0.223242</td>\n      <td>0</td>\n    </tr>\n    <tr>\n      <th>2</th>\n      <td>3</td>\n      <td>4.288754</td>\n      <td>4</td>\n      <td>2</td>\n      <td>2.288754</td>\n      <td>1</td>\n    </tr>\n    <tr>\n      <th>3</th>\n      <td>3</td>\n      <td>4.376900</td>\n      <td>1</td>\n      <td>7</td>\n      <td>2.623100</td>\n      <td>2</td>\n    </tr>\n    <tr>\n      <th>4</th>\n      <td>2</td>\n      <td>4.376900</td>\n      <td>2</td>\n      <td>5</td>\n      <td>0.623100</td>\n      <td>0</td>\n    </tr>\n    <tr>\n      <th>...</th>\n      <td>...</td>\n      <td>...</td>\n      <td>...</td>\n      <td>...</td>\n      <td>...</td>\n      <td>...</td>\n    </tr>\n    <tr>\n      <th>70</th>\n      <td>4</td>\n      <td>4.376900</td>\n      <td>4</td>\n      <td>4</td>\n      <td>0.376900</td>\n      <td>0</td>\n    </tr>\n    <tr>\n      <th>71</th>\n      <td>3</td>\n      <td>4.288754</td>\n      <td>4</td>\n      <td>3</td>\n      <td>1.288754</td>\n      <td>1</td>\n    </tr>\n    <tr>\n      <th>72</th>\n      <td>3</td>\n      <td>4.288754</td>\n      <td>4</td>\n      <td>3</td>\n      <td>1.288754</td>\n      <td>1</td>\n    </tr>\n    <tr>\n      <th>73</th>\n      <td>3</td>\n      <td>4.288754</td>\n      <td>4</td>\n      <td>3</td>\n      <td>1.288754</td>\n      <td>1</td>\n    </tr>\n    <tr>\n      <th>74</th>\n      <td>2</td>\n      <td>5.201835</td>\n      <td>4</td>\n      <td>4</td>\n      <td>1.201835</td>\n      <td>2</td>\n    </tr>\n  </tbody>\n</table>\n<p>75 rows × 6 columns</p>\n</div>"
     },
     "execution_count": 460,
     "metadata": {},
     "output_type": "execute_result"
    }
   ],
   "source": [
    "contract"
   ],
   "metadata": {
    "collapsed": false,
    "pycharm": {
     "name": "#%%\n"
    }
   }
  }
 ],
 "metadata": {
  "kernelspec": {
   "display_name": "Python 3",
   "language": "python",
   "name": "python3"
  },
  "language_info": {
   "codemirror_mode": {
    "name": "ipython",
    "version": 2
   },
   "file_extension": ".py",
   "mimetype": "text/x-python",
   "name": "python",
   "nbconvert_exporter": "python",
   "pygments_lexer": "ipython2",
   "version": "2.7.6"
  }
 },
 "nbformat": 4,
 "nbformat_minor": 0
}
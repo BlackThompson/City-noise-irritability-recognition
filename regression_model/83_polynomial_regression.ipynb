{
 "cells": [
  {
   "cell_type": "code",
   "execution_count": 1,
   "metadata": {
    "collapsed": true
   },
   "outputs": [
    {
     "ename": "KeyError",
     "evalue": "\"['order'] not in index\"",
     "output_type": "error",
     "traceback": [
      "\u001B[1;31m---------------------------------------------------------------------------\u001B[0m",
      "\u001B[1;31mKeyError\u001B[0m                                  Traceback (most recent call last)",
      "Input \u001B[1;32mIn [1]\u001B[0m, in \u001B[0;36m<cell line: 29>\u001B[1;34m()\u001B[0m\n\u001B[0;32m     26\u001B[0m columns \u001B[38;5;241m=\u001B[39m data_83\u001B[38;5;241m.\u001B[39mcolumns\n\u001B[0;32m     27\u001B[0m y_column \u001B[38;5;241m=\u001B[39m columns[\u001B[38;5;241m-\u001B[39m\u001B[38;5;241m1\u001B[39m]\n\u001B[1;32m---> 29\u001B[0m data_x \u001B[38;5;241m=\u001B[39m \u001B[43mdata_83\u001B[49m\u001B[43m[\u001B[49m\u001B[43mcolumn_interaction_order\u001B[49m\u001B[43m]\u001B[49m\n\u001B[0;32m     30\u001B[0m data_y \u001B[38;5;241m=\u001B[39m data_83[y_column]\n\u001B[0;32m     31\u001B[0m data_x, data_y\n",
      "File \u001B[1;32mE:\\Python\\Anaconda\\lib\\site-packages\\pandas\\core\\frame.py:3030\u001B[0m, in \u001B[0;36mDataFrame.__getitem__\u001B[1;34m(self, key)\u001B[0m\n\u001B[0;32m   3028\u001B[0m     \u001B[38;5;28;01mif\u001B[39;00m is_iterator(key):\n\u001B[0;32m   3029\u001B[0m         key \u001B[38;5;241m=\u001B[39m \u001B[38;5;28mlist\u001B[39m(key)\n\u001B[1;32m-> 3030\u001B[0m     indexer \u001B[38;5;241m=\u001B[39m \u001B[38;5;28;43mself\u001B[39;49m\u001B[38;5;241;43m.\u001B[39;49m\u001B[43mloc\u001B[49m\u001B[38;5;241;43m.\u001B[39;49m\u001B[43m_get_listlike_indexer\u001B[49m\u001B[43m(\u001B[49m\u001B[43mkey\u001B[49m\u001B[43m,\u001B[49m\u001B[43m \u001B[49m\u001B[43maxis\u001B[49m\u001B[38;5;241;43m=\u001B[39;49m\u001B[38;5;241;43m1\u001B[39;49m\u001B[43m,\u001B[49m\u001B[43m \u001B[49m\u001B[43mraise_missing\u001B[49m\u001B[38;5;241;43m=\u001B[39;49m\u001B[38;5;28;43;01mTrue\u001B[39;49;00m\u001B[43m)\u001B[49m[\u001B[38;5;241m1\u001B[39m]\n\u001B[0;32m   3032\u001B[0m \u001B[38;5;66;03m# take() does not accept boolean indexers\u001B[39;00m\n\u001B[0;32m   3033\u001B[0m \u001B[38;5;28;01mif\u001B[39;00m \u001B[38;5;28mgetattr\u001B[39m(indexer, \u001B[38;5;124m\"\u001B[39m\u001B[38;5;124mdtype\u001B[39m\u001B[38;5;124m\"\u001B[39m, \u001B[38;5;28;01mNone\u001B[39;00m) \u001B[38;5;241m==\u001B[39m \u001B[38;5;28mbool\u001B[39m:\n",
      "File \u001B[1;32mE:\\Python\\Anaconda\\lib\\site-packages\\pandas\\core\\indexing.py:1266\u001B[0m, in \u001B[0;36m_LocIndexer._get_listlike_indexer\u001B[1;34m(self, key, axis, raise_missing)\u001B[0m\n\u001B[0;32m   1263\u001B[0m \u001B[38;5;28;01melse\u001B[39;00m:\n\u001B[0;32m   1264\u001B[0m     keyarr, indexer, new_indexer \u001B[38;5;241m=\u001B[39m ax\u001B[38;5;241m.\u001B[39m_reindex_non_unique(keyarr)\n\u001B[1;32m-> 1266\u001B[0m \u001B[38;5;28;43mself\u001B[39;49m\u001B[38;5;241;43m.\u001B[39;49m\u001B[43m_validate_read_indexer\u001B[49m\u001B[43m(\u001B[49m\u001B[43mkeyarr\u001B[49m\u001B[43m,\u001B[49m\u001B[43m \u001B[49m\u001B[43mindexer\u001B[49m\u001B[43m,\u001B[49m\u001B[43m \u001B[49m\u001B[43maxis\u001B[49m\u001B[43m,\u001B[49m\u001B[43m \u001B[49m\u001B[43mraise_missing\u001B[49m\u001B[38;5;241;43m=\u001B[39;49m\u001B[43mraise_missing\u001B[49m\u001B[43m)\u001B[49m\n\u001B[0;32m   1267\u001B[0m \u001B[38;5;28;01mreturn\u001B[39;00m keyarr, indexer\n",
      "File \u001B[1;32mE:\\Python\\Anaconda\\lib\\site-packages\\pandas\\core\\indexing.py:1316\u001B[0m, in \u001B[0;36m_LocIndexer._validate_read_indexer\u001B[1;34m(self, key, indexer, axis, raise_missing)\u001B[0m\n\u001B[0;32m   1314\u001B[0m \u001B[38;5;28;01mif\u001B[39;00m raise_missing:\n\u001B[0;32m   1315\u001B[0m     not_found \u001B[38;5;241m=\u001B[39m \u001B[38;5;28mlist\u001B[39m(\u001B[38;5;28mset\u001B[39m(key) \u001B[38;5;241m-\u001B[39m \u001B[38;5;28mset\u001B[39m(ax))\n\u001B[1;32m-> 1316\u001B[0m     \u001B[38;5;28;01mraise\u001B[39;00m \u001B[38;5;167;01mKeyError\u001B[39;00m(\u001B[38;5;124mf\u001B[39m\u001B[38;5;124m\"\u001B[39m\u001B[38;5;132;01m{\u001B[39;00mnot_found\u001B[38;5;132;01m}\u001B[39;00m\u001B[38;5;124m not in index\u001B[39m\u001B[38;5;124m\"\u001B[39m)\n\u001B[0;32m   1318\u001B[0m not_found \u001B[38;5;241m=\u001B[39m key[missing_mask]\n\u001B[0;32m   1320\u001B[0m \u001B[38;5;28;01mwith\u001B[39;00m option_context(\u001B[38;5;124m\"\u001B[39m\u001B[38;5;124mdisplay.max_seq_items\u001B[39m\u001B[38;5;124m\"\u001B[39m, \u001B[38;5;241m10\u001B[39m, \u001B[38;5;124m\"\u001B[39m\u001B[38;5;124mdisplay.width\u001B[39m\u001B[38;5;124m\"\u001B[39m, \u001B[38;5;241m80\u001B[39m):\n",
      "\u001B[1;31mKeyError\u001B[0m: \"['order'] not in index\""
     ]
    }
   ],
   "source": [
    "# 导入弹性网\n",
    "from sklearn.linear_model import ElasticNet\n",
    "from sklearn.model_selection import train_test_split\n",
    "import pandas as pd\n",
    "import copy\n",
    "import numpy as np\n",
    "from sklearn.pipeline import make_pipeline\n",
    "from sklearn.preprocessing import PolynomialFeatures\n",
    "\n",
    "# # 用于构造交互项的列\n",
    "column_interaction = ['Leq_mean', 'Leq_std', 'Loudness_mean', 'Loudness_std', 'Roughness_mean', 'Roughness_std',\n",
    "                      'Sharpness_mean', 'Sharpness_std', 'Fluct_mean', 'Fluct_std', 'Tonality_mean', 'Tonality_std']\n",
    "\n",
    "# 转化为小写\n",
    "for i in range(len(column_interaction)):\n",
    "    column_interaction[i] = column_interaction[i].lower()\n",
    "\n",
    "# 增加了排序列\n",
    "column_interaction_order = copy.deepcopy(column_interaction)\n",
    "column_interaction_order.insert(0, 'order')\n",
    "\n",
    "# 读入数据\n",
    "path = r'.\\input\\feature_83.csv'\n",
    "data_83 = pd.read_csv(path)\n",
    "# 所有列\n",
    "columns = data_83.columns\n",
    "y_column = columns[-1]\n",
    "\n",
    "data_x = data_83[column_interaction_order]\n",
    "data_y = data_83[y_column]\n",
    "data_x, data_y"
   ]
  },
  {
   "cell_type": "code",
   "execution_count": null,
   "outputs": [],
   "source": [],
   "metadata": {
    "collapsed": false,
    "pycharm": {
     "name": "#%%\n"
    }
   }
  },
  {
   "cell_type": "code",
   "execution_count": null,
   "outputs": [],
   "source": [
    "# 打乱数据,训练测试9:1\n",
    "x_train, x_test, y_train, y_test = train_test_split(data_x, data_y, test_size=.05, random_state=0)\n",
    "x_train_array = x_train.values\n",
    "x_test_array = x_test.values\n",
    "x_train_array"
   ],
   "metadata": {
    "collapsed": false,
    "pycharm": {
     "name": "#%%\n"
    }
   }
  },
  {
   "cell_type": "code",
   "execution_count": null,
   "outputs": [],
   "source": [
    "poly = PolynomialFeatures(degree=3)\n",
    "x_train_array = poly.fit_transform(x_train_array)\n",
    "x_test_array = poly.fit_transform(x_test_array)\n",
    "y_train_array = y_train.values\n",
    "y_test_array = y_test.values"
   ],
   "metadata": {
    "collapsed": false,
    "pycharm": {
     "name": "#%%\n"
    }
   }
  },
  {
   "cell_type": "code",
   "execution_count": null,
   "outputs": [],
   "source": [
    "# 训练 ElasticNet\n",
    "alpha = 0.1\n",
    "enet = ElasticNet(alpha=alpha, l1_ratio=0.1, normalize=True)\n",
    "# enet = make_pipeline(StandardScaler(), ElasticNet())\n",
    "enet.fit(x_train_array, y_train_array)\n",
    "\n",
    "# 验证\n",
    "predict = enet.predict(x_test_array)\n",
    "enet.score(x_train_array, y_train_array), enet.score(x_test_array, y_test_array)\n",
    "predict, y_test_array"
   ],
   "metadata": {
    "collapsed": false,
    "pycharm": {
     "name": "#%%\n"
    }
   }
  },
  {
   "cell_type": "code",
   "execution_count": null,
   "outputs": [],
   "source": [],
   "metadata": {
    "collapsed": false,
    "pycharm": {
     "name": "#%%\n"
    }
   }
  }
 ],
 "metadata": {
  "kernelspec": {
   "display_name": "Python 3",
   "language": "python",
   "name": "python3"
  },
  "language_info": {
   "codemirror_mode": {
    "name": "ipython",
    "version": 2
   },
   "file_extension": ".py",
   "mimetype": "text/x-python",
   "name": "python",
   "nbconvert_exporter": "python",
   "pygments_lexer": "ipython2",
   "version": "2.7.6"
  }
 },
 "nbformat": 4,
 "nbformat_minor": 0
}
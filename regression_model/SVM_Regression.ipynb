{
 "cells": [
  {
   "cell_type": "code",
   "execution_count": 1,
   "metadata": {
    "collapsed": true
   },
   "outputs": [],
   "source": [
    "import pandas as pd\n",
    "import numpy as np\n",
    "from load_data import *\n",
    "from sklearn.model_selection import GridSearchCV\n",
    "from sklearn.svm import SVR\n",
    "from cal_accuracy import *\n",
    "\n",
    "train_path = r'./input/feature_83 _delete_80.csv'\n",
    "# train_path = r'./yulei_test/yu_train_add_20.CSV'\n",
    "# train_path = r'./input/feature_83.csv'\n",
    "# test_path = r'./yulei_test/yu_test.CSV'\n",
    "test_path = r'./test/new_80/test_40_people.csv'\n",
    "\n",
    "train_X, train_y = load_train(train_path)\n",
    "test_X, test_y = load_test(test_path)\n",
    "\n",
    "# 7--36_columns--0.8\n",
    "# 7--all_columns--0.8125\n",
    "np.random.seed(7)"
   ]
  },
  {
   "cell_type": "code",
   "execution_count": 2,
   "outputs": [
    {
     "data": {
      "text/plain": "0     4.575\n1     5.100\n2     5.150\n3     3.150\n4     5.125\n      ...  \n75    5.925\n76    5.200\n77    4.250\n78    5.750\n79    4.050\nName: score, Length: 80, dtype: float64"
     },
     "execution_count": 2,
     "metadata": {},
     "output_type": "execute_result"
    }
   ],
   "source": [
    "test_y"
   ],
   "metadata": {
    "collapsed": false,
    "pycharm": {
     "name": "#%%\n"
    }
   }
  },
  {
   "cell_type": "code",
   "execution_count": 3,
   "outputs": [],
   "source": [
    "# 设置svr模型参数\n",
    "param_grid = {\n",
    "    'C': np.logspace(-3, 3, 7),\n",
    "    'gamma': np.logspace(-3, 3, 7),\n",
    "    'epsilon': np.linspace(0.01, 1.5, 20)\n",
    "}"
   ],
   "metadata": {
    "collapsed": false,
    "pycharm": {
     "name": "#%%\n"
    }
   }
  },
  {
   "cell_type": "code",
   "execution_count": 4,
   "outputs": [],
   "source": [
    "# # 创建SVR模型\n",
    "# svr = SVR(kernel='rbf')\n",
    "#\n",
    "# # 使用GridSearchCV进行交叉验证\n",
    "# grid_search = GridSearchCV(estimator=svr, param_grid=param_grid, cv=5, n_jobs=-1)\n",
    "# grid_search.fit(train_X, train_y)\n",
    "#\n",
    "# # 输出最佳参数组合\n",
    "# print(\"Best parameters: \", grid_search.best_params_)"
   ],
   "metadata": {
    "collapsed": false,
    "pycharm": {
     "name": "#%%\n"
    }
   }
  },
  {
   "cell_type": "code",
   "execution_count": 5,
   "outputs": [
    {
     "data": {
      "text/plain": "array([4.51245171, 3.99904572, 4.53829469, 4.10876956, 4.75079563,\n       5.29210521, 4.54681617, 4.99451003, 5.18940656, 4.40258905,\n       5.79032637, 4.76719205, 5.61557192, 3.9395462 , 4.64794605,\n       4.34084049, 5.12812931, 4.45120749, 4.23300846, 4.87939722,\n       4.44577813, 5.13396631, 4.56688283, 4.66207197, 5.18612653,\n       4.67123941, 3.92326499, 5.16559924, 4.4135068 , 4.31948391,\n       5.42244513, 4.87106029, 3.51530113, 4.16050347, 5.40346629,\n       4.08286145, 4.40742259, 4.61982694, 4.7308252 , 5.3252415 ,\n       5.72583803, 4.38255389, 4.67652737, 4.95035351, 3.79009519,\n       4.79554405, 4.84738216, 4.52218014, 3.76084816, 5.04111052,\n       4.40862883, 4.16302999, 4.1659049 , 5.70579789, 4.37931946,\n       4.47725141, 4.39579737, 4.03934635, 5.00526687, 4.79084495,\n       4.83131764, 5.38150562, 4.41364201, 5.06095378, 4.4087268 ,\n       5.01301297, 4.42779905, 4.30052771, 4.96862204, 4.40485882,\n       4.68270882, 3.94152273, 5.13744435, 4.44838611, 4.26764417,\n       5.00561137, 5.58092526, 5.63851324, 4.22400679, 4.8573771 ])"
     },
     "execution_count": 5,
     "metadata": {},
     "output_type": "execute_result"
    }
   ],
   "source": [
    "svr = SVR(kernel='rbf', C=10, gamma=0.06)\n",
    "# svr = SVR(kernel='rbf', C=10, gamma=0.25)\n",
    "# svr = SVR(kernel='poly', C=10, epsilon=0.1, gamma=0.1, degree=5)\n",
    "# svr = SVR(kernel='linear', C=1, gamma=0.5)\n",
    "svr.fit(train_X, train_y)\n",
    "predict = svr.predict(test_X)\n",
    "predict"
   ],
   "metadata": {
    "collapsed": false,
    "pycharm": {
     "name": "#%%\n"
    }
   }
  },
  {
   "cell_type": "markdown",
   "source": [],
   "metadata": {
    "collapsed": false,
    "pycharm": {
     "name": "#%% md\n"
    }
   }
  },
  {
   "cell_type": "code",
   "execution_count": 6,
   "outputs": [
    {
     "data": {
      "text/plain": "     predict   true  differnet\n0   4.512452  4.575   0.062548\n1   3.999046  5.100   1.100954\n2   4.538295  5.150   0.611705\n3   4.108770  3.150   0.958770\n4   4.750796  5.125   0.374204\n..       ...    ...        ...\n75  5.005611  5.925   0.919389\n76  5.580925  5.200   0.380925\n77  5.638513  4.250   1.388513\n78  4.224007  5.750   1.525993\n79  4.857377  4.050   0.807377\n\n[80 rows x 3 columns]",
      "text/html": "<div>\n<style scoped>\n    .dataframe tbody tr th:only-of-type {\n        vertical-align: middle;\n    }\n\n    .dataframe tbody tr th {\n        vertical-align: top;\n    }\n\n    .dataframe thead th {\n        text-align: right;\n    }\n</style>\n<table border=\"1\" class=\"dataframe\">\n  <thead>\n    <tr style=\"text-align: right;\">\n      <th></th>\n      <th>predict</th>\n      <th>true</th>\n      <th>differnet</th>\n    </tr>\n  </thead>\n  <tbody>\n    <tr>\n      <th>0</th>\n      <td>4.512452</td>\n      <td>4.575</td>\n      <td>0.062548</td>\n    </tr>\n    <tr>\n      <th>1</th>\n      <td>3.999046</td>\n      <td>5.100</td>\n      <td>1.100954</td>\n    </tr>\n    <tr>\n      <th>2</th>\n      <td>4.538295</td>\n      <td>5.150</td>\n      <td>0.611705</td>\n    </tr>\n    <tr>\n      <th>3</th>\n      <td>4.108770</td>\n      <td>3.150</td>\n      <td>0.958770</td>\n    </tr>\n    <tr>\n      <th>4</th>\n      <td>4.750796</td>\n      <td>5.125</td>\n      <td>0.374204</td>\n    </tr>\n    <tr>\n      <th>...</th>\n      <td>...</td>\n      <td>...</td>\n      <td>...</td>\n    </tr>\n    <tr>\n      <th>75</th>\n      <td>5.005611</td>\n      <td>5.925</td>\n      <td>0.919389</td>\n    </tr>\n    <tr>\n      <th>76</th>\n      <td>5.580925</td>\n      <td>5.200</td>\n      <td>0.380925</td>\n    </tr>\n    <tr>\n      <th>77</th>\n      <td>5.638513</td>\n      <td>4.250</td>\n      <td>1.388513</td>\n    </tr>\n    <tr>\n      <th>78</th>\n      <td>4.224007</td>\n      <td>5.750</td>\n      <td>1.525993</td>\n    </tr>\n    <tr>\n      <th>79</th>\n      <td>4.857377</td>\n      <td>4.050</td>\n      <td>0.807377</td>\n    </tr>\n  </tbody>\n</table>\n<p>80 rows × 3 columns</p>\n</div>"
     },
     "execution_count": 6,
     "metadata": {},
     "output_type": "execute_result"
    }
   ],
   "source": [
    "a = pd.DataFrame()\n",
    "a['predict'] = predict\n",
    "a['true'] = test_y\n",
    "a['differnet'] = abs(test_y - predict)\n",
    "a"
   ],
   "metadata": {
    "collapsed": false,
    "pycharm": {
     "name": "#%%\n"
    }
   }
  },
  {
   "cell_type": "code",
   "execution_count": 7,
   "outputs": [
    {
     "data": {
      "text/plain": "0.7"
     },
     "execution_count": 7,
     "metadata": {},
     "output_type": "execute_result"
    }
   ],
   "source": [
    "predict_class_list = []\n",
    "true_class_list = []\n",
    "for i in range(len(a)):\n",
    "    predict_class, true_class = classify(a.predict[i], a.true[i])\n",
    "    predict_class_list.append(predict_class)\n",
    "    true_class_list.append(true_class)\n",
    "\n",
    "acc = accuracy(predict_class_list, true_class_list)\n",
    "acc"
   ],
   "metadata": {
    "collapsed": false,
    "pycharm": {
     "name": "#%%\n"
    }
   }
  },
  {
   "cell_type": "code",
   "execution_count": 8,
   "outputs": [],
   "source": [
    "a['predict_class'] = predict_class_list\n",
    "a['true_class'] = true_class_list\n",
    "a['class_differnet'] = abs(a['predict_class'] - a['true_class'])"
   ],
   "metadata": {
    "collapsed": false,
    "pycharm": {
     "name": "#%%\n"
    }
   }
  },
  {
   "cell_type": "code",
   "execution_count": 9,
   "outputs": [
    {
     "data": {
      "text/plain": "     predict   true  differnet  predict_class  true_class  class_differnet\n0   4.512452  4.575   0.062548              2           2                0\n1   3.999046  5.100   1.100954              3           3                0\n2   4.538295  5.150   0.611705              2           2                0\n3   4.108770  3.150   0.958770              4           4                0\n4   4.750796  5.125   0.374204              2           2                0\n..       ...    ...        ...            ...         ...              ...\n75  5.005611  5.925   0.919389              2           2                0\n76  5.580925  5.200   0.380925              2           2                0\n77  5.638513  4.250   1.388513              1           3                2\n78  4.224007  5.750   1.525993              3           1                2\n79  4.857377  4.050   0.807377              3           3                0\n\n[80 rows x 6 columns]",
      "text/html": "<div>\n<style scoped>\n    .dataframe tbody tr th:only-of-type {\n        vertical-align: middle;\n    }\n\n    .dataframe tbody tr th {\n        vertical-align: top;\n    }\n\n    .dataframe thead th {\n        text-align: right;\n    }\n</style>\n<table border=\"1\" class=\"dataframe\">\n  <thead>\n    <tr style=\"text-align: right;\">\n      <th></th>\n      <th>predict</th>\n      <th>true</th>\n      <th>differnet</th>\n      <th>predict_class</th>\n      <th>true_class</th>\n      <th>class_differnet</th>\n    </tr>\n  </thead>\n  <tbody>\n    <tr>\n      <th>0</th>\n      <td>4.512452</td>\n      <td>4.575</td>\n      <td>0.062548</td>\n      <td>2</td>\n      <td>2</td>\n      <td>0</td>\n    </tr>\n    <tr>\n      <th>1</th>\n      <td>3.999046</td>\n      <td>5.100</td>\n      <td>1.100954</td>\n      <td>3</td>\n      <td>3</td>\n      <td>0</td>\n    </tr>\n    <tr>\n      <th>2</th>\n      <td>4.538295</td>\n      <td>5.150</td>\n      <td>0.611705</td>\n      <td>2</td>\n      <td>2</td>\n      <td>0</td>\n    </tr>\n    <tr>\n      <th>3</th>\n      <td>4.108770</td>\n      <td>3.150</td>\n      <td>0.958770</td>\n      <td>4</td>\n      <td>4</td>\n      <td>0</td>\n    </tr>\n    <tr>\n      <th>4</th>\n      <td>4.750796</td>\n      <td>5.125</td>\n      <td>0.374204</td>\n      <td>2</td>\n      <td>2</td>\n      <td>0</td>\n    </tr>\n    <tr>\n      <th>...</th>\n      <td>...</td>\n      <td>...</td>\n      <td>...</td>\n      <td>...</td>\n      <td>...</td>\n      <td>...</td>\n    </tr>\n    <tr>\n      <th>75</th>\n      <td>5.005611</td>\n      <td>5.925</td>\n      <td>0.919389</td>\n      <td>2</td>\n      <td>2</td>\n      <td>0</td>\n    </tr>\n    <tr>\n      <th>76</th>\n      <td>5.580925</td>\n      <td>5.200</td>\n      <td>0.380925</td>\n      <td>2</td>\n      <td>2</td>\n      <td>0</td>\n    </tr>\n    <tr>\n      <th>77</th>\n      <td>5.638513</td>\n      <td>4.250</td>\n      <td>1.388513</td>\n      <td>1</td>\n      <td>3</td>\n      <td>2</td>\n    </tr>\n    <tr>\n      <th>78</th>\n      <td>4.224007</td>\n      <td>5.750</td>\n      <td>1.525993</td>\n      <td>3</td>\n      <td>1</td>\n      <td>2</td>\n    </tr>\n    <tr>\n      <th>79</th>\n      <td>4.857377</td>\n      <td>4.050</td>\n      <td>0.807377</td>\n      <td>3</td>\n      <td>3</td>\n      <td>0</td>\n    </tr>\n  </tbody>\n</table>\n<p>80 rows × 6 columns</p>\n</div>"
     },
     "execution_count": 9,
     "metadata": {},
     "output_type": "execute_result"
    }
   ],
   "source": [
    "a"
   ],
   "metadata": {
    "collapsed": false,
    "pycharm": {
     "name": "#%%\n"
    }
   }
  },
  {
   "cell_type": "code",
   "execution_count": 10,
   "outputs": [],
   "source": [
    "a.to_csv(r'./validation/yulei_result.csv')"
   ],
   "metadata": {
    "collapsed": false,
    "pycharm": {
     "name": "#%%\n"
    }
   }
  },
  {
   "cell_type": "code",
   "execution_count": 10,
   "outputs": [],
   "source": [],
   "metadata": {
    "collapsed": false,
    "pycharm": {
     "name": "#%%\n"
    }
   }
  }
 ],
 "metadata": {
  "kernelspec": {
   "display_name": "Python 3",
   "language": "python",
   "name": "python3"
  },
  "language_info": {
   "codemirror_mode": {
    "name": "ipython",
    "version": 2
   },
   "file_extension": ".py",
   "mimetype": "text/x-python",
   "name": "python",
   "nbconvert_exporter": "python",
   "pygments_lexer": "ipython2",
   "version": "2.7.6"
  }
 },
 "nbformat": 4,
 "nbformat_minor": 0
}
{
 "cells": [
  {
   "cell_type": "code",
   "execution_count": 1,
   "metadata": {
    "collapsed": true
   },
   "outputs": [],
   "source": [
    "import pandas as pd\n",
    "import numpy as np\n",
    "from load_data import *\n",
    "from sklearn.model_selection import GridSearchCV\n",
    "from sklearn.svm import SVR\n",
    "from cal_accuracy import *\n",
    "\n",
    "# train_path = r'./input/feature_83 _delete_80.csv'\n",
    "train_path = r'./input/feature_83.csv'\n",
    "test_path = r'./test/new_80/test_40_people.csv'\n",
    "\n",
    "train_X, train_y = load_train(train_path)\n",
    "test_X, test_y = load_test(test_path)\n",
    "\n",
    "# 7--36_columns--0.8\n",
    "# 7--all_columns--0.8125\n",
    "np.random.seed(7)"
   ]
  },
  {
   "cell_type": "code",
   "execution_count": 2,
   "outputs": [
    {
     "data": {
      "text/plain": "0     4.575\n1     5.150\n2     5.475\n3     6.025\n4     5.675\n      ...  \n75    3.450\n76    4.875\n77    4.650\n78    5.575\n79    5.925\nName: score, Length: 80, dtype: float64"
     },
     "execution_count": 2,
     "metadata": {},
     "output_type": "execute_result"
    }
   ],
   "source": [
    "test_y"
   ],
   "metadata": {
    "collapsed": false,
    "pycharm": {
     "name": "#%%\n"
    }
   }
  },
  {
   "cell_type": "code",
   "execution_count": 3,
   "outputs": [],
   "source": [
    "# 设置svr模型参数\n",
    "param_grid = {\n",
    "    'C': np.logspace(-3, 3, 7),\n",
    "    'gamma': np.logspace(-3, 3, 7),\n",
    "    'epsilon': np.linspace(0.01, 1.5, 20)\n",
    "}"
   ],
   "metadata": {
    "collapsed": false,
    "pycharm": {
     "name": "#%%\n"
    }
   }
  },
  {
   "cell_type": "code",
   "execution_count": 4,
   "outputs": [],
   "source": [
    "# # 创建SVR模型\n",
    "# svr = SVR(kernel='rbf')\n",
    "#\n",
    "# # 使用GridSearchCV进行交叉验证\n",
    "# grid_search = GridSearchCV(estimator=svr, param_grid=param_grid, cv=5, n_jobs=-1)\n",
    "# grid_search.fit(train_X, train_y)\n",
    "#\n",
    "# # 输出最佳参数组合\n",
    "# print(\"Best parameters: \", grid_search.best_params_)"
   ],
   "metadata": {
    "collapsed": false,
    "pycharm": {
     "name": "#%%\n"
    }
   }
  },
  {
   "cell_type": "code",
   "execution_count": 5,
   "outputs": [
    {
     "data": {
      "text/plain": "array([4.69771386, 5.13860749, 4.70595981, 6.27808709, 4.86367463,\n       5.63654772, 6.23328144, 4.80918232, 4.55183277, 4.53107925,\n       5.33804771, 5.47091083, 4.32470458, 3.51058467, 3.8618465 ,\n       4.26088137, 5.09387558, 4.60666694, 4.2150597 , 4.32036926,\n       3.64414302, 5.13502837, 3.84390833, 5.06210093, 4.70747223,\n       5.74001917, 4.74585857, 6.19867379, 4.48866215, 4.30039309,\n       6.46219742, 5.94209353, 4.11999072, 3.4843676 , 4.41118393,\n       5.12691086, 4.54844013, 4.27119062, 4.80026646, 4.72235557,\n       5.35277808, 5.92627257, 4.36696405, 5.00217041, 6.39121248,\n       4.52389978, 4.96680198, 3.89394527, 4.31271312, 5.98180061,\n       4.48254979, 5.78995243, 3.38464185, 3.53210829, 4.2827674 ,\n       3.99333944, 4.74276166, 5.91062597, 4.44644858, 5.11226505,\n       3.01860718, 5.61888282, 4.51842276, 3.85690512, 4.4686396 ,\n       5.42515248, 5.30894788, 4.76994189, 4.38003306, 4.46074854,\n       3.54511113, 2.41049535, 5.70462615, 4.30417019, 4.31461575,\n       4.22474992, 5.24089441, 4.59714202, 4.22640416, 5.23865042])"
     },
     "execution_count": 5,
     "metadata": {},
     "output_type": "execute_result"
    }
   ],
   "source": [
    "svr = SVR(kernel='rbf', C=10, gamma=0.06)\n",
    "# svr = SVR(kernel='rbf', C=10, gamma=0.25)\n",
    "# svr = SVR(kernel='poly', C=10, epsilon=0.1, gamma=0.1, degree=5)\n",
    "# svr = SVR(kernel='linear', C=1, gamma=0.5)\n",
    "svr.fit(train_X, train_y)\n",
    "predict = svr.predict(test_X)\n",
    "predict"
   ],
   "metadata": {
    "collapsed": false,
    "pycharm": {
     "name": "#%%\n"
    }
   }
  },
  {
   "cell_type": "markdown",
   "source": [],
   "metadata": {
    "collapsed": false,
    "pycharm": {
     "name": "#%% md\n"
    }
   }
  },
  {
   "cell_type": "code",
   "execution_count": 6,
   "outputs": [
    {
     "data": {
      "text/plain": "     predict   true  differnet\n0   4.697714  4.575   0.122714\n1   5.138607  5.150   0.011393\n2   4.705960  5.475   0.769040\n3   6.278087  6.025   0.253087\n4   4.863675  5.675   0.811325\n..       ...    ...        ...\n75  4.224750  3.450   0.774750\n76  5.240894  4.875   0.365894\n77  4.597142  4.650   0.052858\n78  4.226404  5.575   1.348596\n79  5.238650  5.925   0.686350\n\n[80 rows x 3 columns]",
      "text/html": "<div>\n<style scoped>\n    .dataframe tbody tr th:only-of-type {\n        vertical-align: middle;\n    }\n\n    .dataframe tbody tr th {\n        vertical-align: top;\n    }\n\n    .dataframe thead th {\n        text-align: right;\n    }\n</style>\n<table border=\"1\" class=\"dataframe\">\n  <thead>\n    <tr style=\"text-align: right;\">\n      <th></th>\n      <th>predict</th>\n      <th>true</th>\n      <th>differnet</th>\n    </tr>\n  </thead>\n  <tbody>\n    <tr>\n      <th>0</th>\n      <td>4.697714</td>\n      <td>4.575</td>\n      <td>0.122714</td>\n    </tr>\n    <tr>\n      <th>1</th>\n      <td>5.138607</td>\n      <td>5.150</td>\n      <td>0.011393</td>\n    </tr>\n    <tr>\n      <th>2</th>\n      <td>4.705960</td>\n      <td>5.475</td>\n      <td>0.769040</td>\n    </tr>\n    <tr>\n      <th>3</th>\n      <td>6.278087</td>\n      <td>6.025</td>\n      <td>0.253087</td>\n    </tr>\n    <tr>\n      <th>4</th>\n      <td>4.863675</td>\n      <td>5.675</td>\n      <td>0.811325</td>\n    </tr>\n    <tr>\n      <th>...</th>\n      <td>...</td>\n      <td>...</td>\n      <td>...</td>\n    </tr>\n    <tr>\n      <th>75</th>\n      <td>4.224750</td>\n      <td>3.450</td>\n      <td>0.774750</td>\n    </tr>\n    <tr>\n      <th>76</th>\n      <td>5.240894</td>\n      <td>4.875</td>\n      <td>0.365894</td>\n    </tr>\n    <tr>\n      <th>77</th>\n      <td>4.597142</td>\n      <td>4.650</td>\n      <td>0.052858</td>\n    </tr>\n    <tr>\n      <th>78</th>\n      <td>4.226404</td>\n      <td>5.575</td>\n      <td>1.348596</td>\n    </tr>\n    <tr>\n      <th>79</th>\n      <td>5.238650</td>\n      <td>5.925</td>\n      <td>0.686350</td>\n    </tr>\n  </tbody>\n</table>\n<p>80 rows × 3 columns</p>\n</div>"
     },
     "execution_count": 6,
     "metadata": {},
     "output_type": "execute_result"
    }
   ],
   "source": [
    "a = pd.DataFrame()\n",
    "a['predict'] = predict\n",
    "a['true'] = test_y\n",
    "a['differnet'] = abs(test_y - predict)\n",
    "a"
   ],
   "metadata": {
    "collapsed": false,
    "pycharm": {
     "name": "#%%\n"
    }
   }
  },
  {
   "cell_type": "code",
   "execution_count": 7,
   "outputs": [
    {
     "data": {
      "text/plain": "0.8625"
     },
     "execution_count": 7,
     "metadata": {},
     "output_type": "execute_result"
    }
   ],
   "source": [
    "predict_class_list = []\n",
    "true_class_list = []\n",
    "for i in range(len(a)):\n",
    "    predict_class, true_class = classify(a.predict[i], a.true[i])\n",
    "    predict_class_list.append(predict_class)\n",
    "    true_class_list.append(true_class)\n",
    "\n",
    "acc = accuracy(predict_class_list, true_class_list)\n",
    "acc"
   ],
   "metadata": {
    "collapsed": false,
    "pycharm": {
     "name": "#%%\n"
    }
   }
  },
  {
   "cell_type": "code",
   "execution_count": 8,
   "outputs": [],
   "source": [
    "a['predict_class'] = predict_class_list\n",
    "a['true_class'] = true_class_list\n",
    "a['class_differnet'] = abs(a['predict_class'] - a['true_class'])"
   ],
   "metadata": {
    "collapsed": false,
    "pycharm": {
     "name": "#%%\n"
    }
   }
  },
  {
   "cell_type": "code",
   "execution_count": 9,
   "outputs": [],
   "source": [
    "a.to_csv(r'./validation/result.csv')"
   ],
   "metadata": {
    "collapsed": false,
    "pycharm": {
     "name": "#%%\n"
    }
   }
  },
  {
   "cell_type": "code",
   "execution_count": 9,
   "outputs": [],
   "source": [],
   "metadata": {
    "collapsed": false,
    "pycharm": {
     "name": "#%%\n"
    }
   }
  }
 ],
 "metadata": {
  "kernelspec": {
   "display_name": "Python 3",
   "language": "python",
   "name": "python3"
  },
  "language_info": {
   "codemirror_mode": {
    "name": "ipython",
    "version": 2
   },
   "file_extension": ".py",
   "mimetype": "text/x-python",
   "name": "python",
   "nbconvert_exporter": "python",
   "pygments_lexer": "ipython2",
   "version": "2.7.6"
  }
 },
 "nbformat": 4,
 "nbformat_minor": 0
}
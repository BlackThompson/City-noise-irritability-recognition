{
 "cells": [
  {
   "cell_type": "code",
   "execution_count": 1,
   "metadata": {
    "collapsed": true
   },
   "outputs": [],
   "source": [
    "import pandas as pd\n",
    "import numpy as np\n",
    "from load_data import *\n",
    "from sklearn.model_selection import GridSearchCV\n",
    "from sklearn.svm import SVR\n",
    "from cal_accuracy import *\n",
    "\n",
    "train_path = r'./input/feature_83.csv'\n",
    "test_path = r'./test/new_80/test_3_people.csv'\n",
    "\n",
    "train_X, train_y = load_train(train_path)\n",
    "test_X, test_y = load_test(test_path)\n",
    "\n",
    "np.random.seed(7)"
   ]
  },
  {
   "cell_type": "code",
   "execution_count": 2,
   "outputs": [],
   "source": [
    "# 设置svr模型参数\n",
    "param_grid = {\n",
    "    'C': np.logspace(-3, 3, 7),\n",
    "    'gamma': np.logspace(-3, 3, 7),\n",
    "    'epsilon': np.linspace(0.01, 1.5, 20)\n",
    "}"
   ],
   "metadata": {
    "collapsed": false,
    "pycharm": {
     "name": "#%%\n"
    }
   }
  },
  {
   "cell_type": "code",
   "execution_count": 3,
   "outputs": [],
   "source": [
    "# # 创建SVR模型\n",
    "# svr = SVR(kernel='rbf')\n",
    "#\n",
    "# # 使用GridSearchCV进行交叉验证\n",
    "# grid_search = GridSearchCV(estimator=svr, param_grid=param_grid, cv=5, n_jobs=-1)\n",
    "# grid_search.fit(train_X, train_y)\n",
    "#\n",
    "# # 输出最佳参数组合\n",
    "# print(\"Best parameters: \", grid_search.best_params_)"
   ],
   "metadata": {
    "collapsed": false,
    "pycharm": {
     "name": "#%%\n"
    }
   }
  },
  {
   "cell_type": "code",
   "execution_count": 4,
   "outputs": [
    {
     "data": {
      "text/plain": "array([4.99998174, 5.1320433 , 4.91105159, 5.17721926, 4.72023561,\n       5.90733991, 5.75827824, 5.09064404, 4.70867906, 4.90364236,\n       5.11705893, 4.97029416, 5.21190634, 4.70446866, 4.96383388,\n       4.62687884, 5.23624612, 4.88079218, 4.87416022, 5.39694901,\n       4.72090854, 5.09710904, 4.8618098 , 4.93435146, 5.0534525 ,\n       5.50690233, 5.25774222, 5.33732734, 4.9027919 , 4.74899709,\n       5.24977648, 5.97244058, 4.61102053, 4.8902394 , 4.05836016,\n       5.14674392, 5.02054   , 5.22204993, 4.84719387, 4.92680876,\n       5.45040999, 5.45600937, 5.39683603, 5.17462292, 5.52205299,\n       5.46488457, 6.00102865, 5.13440463, 4.35605061, 5.28979623,\n       4.90938856, 5.49664921, 3.83698428, 4.76549749, 4.65436192,\n       4.51427978, 4.90978276, 5.80739378, 4.77174364, 5.69885971,\n       5.32157679, 5.42961888, 4.95280597, 4.44691756, 4.90053788,\n       6.11791531, 5.23033326, 5.84154328, 5.65285677, 4.88798769,\n       4.31781194, 4.16309185, 5.41163348, 4.39849299, 4.72980553,\n       4.74640026, 4.95990702, 5.09379641, 5.0620202 , 5.07677457])"
     },
     "execution_count": 4,
     "metadata": {},
     "output_type": "execute_result"
    }
   ],
   "source": [
    "svr = SVR(kernel='rbf', C=10, gamma=0.25)\n",
    "# svr = SVR(kernel='poly', C=10, epsilon=0.1, gamma=0.1, degree=5)\n",
    "# svr = SVR(kernel='linear', C=1, gamma=0.5)\n",
    "svr.fit(train_X, train_y)\n",
    "predict = svr.predict(test_X)\n",
    "predict"
   ],
   "metadata": {
    "collapsed": false,
    "pycharm": {
     "name": "#%%\n"
    }
   }
  },
  {
   "cell_type": "markdown",
   "source": [],
   "metadata": {
    "collapsed": false,
    "pycharm": {
     "name": "#%% md\n"
    }
   }
  },
  {
   "cell_type": "code",
   "execution_count": 5,
   "outputs": [
    {
     "data": {
      "text/plain": "     predict  true  differnet\n0   4.999982  5.00   0.000018\n1   5.132043  4.90   0.232043\n2   4.911052  5.40   0.488948\n3   5.177219  6.00   0.822781\n4   4.720236  5.60   0.879764\n..       ...   ...        ...\n75  4.746400  3.80   0.946400\n76  4.959907  4.75   0.209907\n77  5.093796  4.85   0.243796\n78  5.062020  5.60   0.537980\n79  5.076775  6.10   1.023225\n\n[80 rows x 3 columns]",
      "text/html": "<div>\n<style scoped>\n    .dataframe tbody tr th:only-of-type {\n        vertical-align: middle;\n    }\n\n    .dataframe tbody tr th {\n        vertical-align: top;\n    }\n\n    .dataframe thead th {\n        text-align: right;\n    }\n</style>\n<table border=\"1\" class=\"dataframe\">\n  <thead>\n    <tr style=\"text-align: right;\">\n      <th></th>\n      <th>predict</th>\n      <th>true</th>\n      <th>differnet</th>\n    </tr>\n  </thead>\n  <tbody>\n    <tr>\n      <th>0</th>\n      <td>4.999982</td>\n      <td>5.00</td>\n      <td>0.000018</td>\n    </tr>\n    <tr>\n      <th>1</th>\n      <td>5.132043</td>\n      <td>4.90</td>\n      <td>0.232043</td>\n    </tr>\n    <tr>\n      <th>2</th>\n      <td>4.911052</td>\n      <td>5.40</td>\n      <td>0.488948</td>\n    </tr>\n    <tr>\n      <th>3</th>\n      <td>5.177219</td>\n      <td>6.00</td>\n      <td>0.822781</td>\n    </tr>\n    <tr>\n      <th>4</th>\n      <td>4.720236</td>\n      <td>5.60</td>\n      <td>0.879764</td>\n    </tr>\n    <tr>\n      <th>...</th>\n      <td>...</td>\n      <td>...</td>\n      <td>...</td>\n    </tr>\n    <tr>\n      <th>75</th>\n      <td>4.746400</td>\n      <td>3.80</td>\n      <td>0.946400</td>\n    </tr>\n    <tr>\n      <th>76</th>\n      <td>4.959907</td>\n      <td>4.75</td>\n      <td>0.209907</td>\n    </tr>\n    <tr>\n      <th>77</th>\n      <td>5.093796</td>\n      <td>4.85</td>\n      <td>0.243796</td>\n    </tr>\n    <tr>\n      <th>78</th>\n      <td>5.062020</td>\n      <td>5.60</td>\n      <td>0.537980</td>\n    </tr>\n    <tr>\n      <th>79</th>\n      <td>5.076775</td>\n      <td>6.10</td>\n      <td>1.023225</td>\n    </tr>\n  </tbody>\n</table>\n<p>80 rows × 3 columns</p>\n</div>"
     },
     "execution_count": 5,
     "metadata": {},
     "output_type": "execute_result"
    }
   ],
   "source": [
    "a = pd.DataFrame()\n",
    "a['predict'] = predict\n",
    "a['true'] = test_y\n",
    "a['differnet'] = abs(test_y - predict)\n",
    "a"
   ],
   "metadata": {
    "collapsed": false,
    "pycharm": {
     "name": "#%%\n"
    }
   }
  },
  {
   "cell_type": "code",
   "execution_count": 6,
   "outputs": [
    {
     "data": {
      "text/plain": "0.8"
     },
     "execution_count": 6,
     "metadata": {},
     "output_type": "execute_result"
    }
   ],
   "source": [
    "predict_class_list = []\n",
    "true_class_list = []\n",
    "for i in range(len(a)):\n",
    "    predict_class, true_class = classify(a.predict[i], a.true[i])\n",
    "    predict_class_list.append(predict_class)\n",
    "    true_class_list.append(true_class)\n",
    "\n",
    "acc = accuracy(predict_class_list, true_class_list)\n",
    "acc"
   ],
   "metadata": {
    "collapsed": false,
    "pycharm": {
     "name": "#%%\n"
    }
   }
  },
  {
   "cell_type": "code",
   "execution_count": 7,
   "outputs": [],
   "source": [
    "a['predict_class'] = predict_class_list\n",
    "a['true_class'] = true_class_list\n",
    "a['class_differnet'] = abs(a['predict_class'] - a['true_class'])"
   ],
   "metadata": {
    "collapsed": false,
    "pycharm": {
     "name": "#%%\n"
    }
   }
  },
  {
   "cell_type": "code",
   "execution_count": 8,
   "outputs": [],
   "source": [
    "a.to_csv(r'./validation/result.csv')"
   ],
   "metadata": {
    "collapsed": false,
    "pycharm": {
     "name": "#%%\n"
    }
   }
  },
  {
   "cell_type": "code",
   "execution_count": 8,
   "outputs": [],
   "source": [],
   "metadata": {
    "collapsed": false,
    "pycharm": {
     "name": "#%%\n"
    }
   }
  }
 ],
 "metadata": {
  "kernelspec": {
   "display_name": "Python 3",
   "language": "python",
   "name": "python3"
  },
  "language_info": {
   "codemirror_mode": {
    "name": "ipython",
    "version": 2
   },
   "file_extension": ".py",
   "mimetype": "text/x-python",
   "name": "python",
   "nbconvert_exporter": "python",
   "pygments_lexer": "ipython2",
   "version": "2.7.6"
  }
 },
 "nbformat": 4,
 "nbformat_minor": 0
}
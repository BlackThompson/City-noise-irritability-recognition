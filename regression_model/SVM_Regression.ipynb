{
 "cells": [
  {
   "cell_type": "code",
   "execution_count": 161,
   "metadata": {
    "collapsed": true
   },
   "outputs": [],
   "source": [
    "import pandas as pd\n",
    "import numpy as np\n",
    "from load_data import *\n",
    "from sklearn.model_selection import GridSearchCV\n",
    "from sklearn.svm import SVR\n",
    "from cal_accuracy import *\n",
    "\n",
    "train_path = r'./input/feature_83.csv'\n",
    "test_path = r'./test/new_80/test_3_people.csv'\n",
    "\n",
    "train_X, train_y = load_train(train_path)\n",
    "test_X, test_y = load_test(test_path)\n",
    "\n",
    "# 7--36_columns--0.8\n",
    "# 7--all_columns--0.825\n",
    "np.random.seed(7)"
   ]
  },
  {
   "cell_type": "code",
   "execution_count": 162,
   "outputs": [],
   "source": [
    "# 设置svr模型参数\n",
    "param_grid = {\n",
    "    'C': np.logspace(-3, 3, 7),\n",
    "    'gamma': np.logspace(-3, 3, 7),\n",
    "    'epsilon': np.linspace(0.01, 1.5, 20)\n",
    "}"
   ],
   "metadata": {
    "collapsed": false,
    "pycharm": {
     "name": "#%%\n"
    }
   }
  },
  {
   "cell_type": "code",
   "execution_count": 163,
   "outputs": [],
   "source": [
    "# # 创建SVR模型\n",
    "# svr = SVR(kernel='rbf')\n",
    "#\n",
    "# # 使用GridSearchCV进行交叉验证\n",
    "# grid_search = GridSearchCV(estimator=svr, param_grid=param_grid, cv=5, n_jobs=-1)\n",
    "# grid_search.fit(train_X, train_y)\n",
    "#\n",
    "# # 输出最佳参数组合\n",
    "# print(\"Best parameters: \", grid_search.best_params_)"
   ],
   "metadata": {
    "collapsed": false,
    "pycharm": {
     "name": "#%%\n"
    }
   }
  },
  {
   "cell_type": "code",
   "execution_count": 164,
   "outputs": [
    {
     "data": {
      "text/plain": "array([4.77637668, 4.47472003, 4.75052569, 5.6243024 , 5.6086336 ,\n       5.85655335, 6.35582561, 4.70414483, 4.82781092, 4.685635  ,\n       5.32846763, 5.18471316, 5.10151809, 4.37205695, 5.17267766,\n       4.26032897, 5.57630902, 4.77868882, 4.99992062, 5.22627042,\n       4.34349916, 5.24583845, 4.82972828, 5.02401007, 5.50700451,\n       6.00099158, 5.15908172, 6.18654932, 4.75794107, 4.44642169,\n       6.12307229, 5.9877813 , 4.52479085, 4.37830332, 2.88497023,\n       5.14392029, 4.91409706, 5.12420074, 4.44411584, 5.17900034,\n       4.60512418, 5.22954816, 4.99652106, 5.16615772, 6.35336087,\n       5.31870171, 6.25099326, 5.21151496, 4.23813575, 5.74666315,\n       4.74207607, 6.20080194, 4.40958186, 4.90488488, 4.44306555,\n       4.11878231, 4.82867997, 5.87442696, 4.95571498, 5.71490324,\n       4.77088766, 5.3191876 , 4.8916058 , 4.01383362, 4.71840525,\n       6.27981828, 5.15353954, 6.49756224, 5.2422085 , 4.68980652,\n       4.46594393, 3.36221514, 5.31642342, 4.34415361, 4.71147689,\n       4.39230439, 5.42635448, 5.15811111, 5.46364629, 6.07056672])"
     },
     "execution_count": 164,
     "metadata": {},
     "output_type": "execute_result"
    }
   ],
   "source": [
    "svr = SVR(kernel='rbf', C=10, gamma=0.07)\n",
    "# svr = SVR(kernel='rbf', C=10, gamma=0.25)\n",
    "# svr = SVR(kernel='poly', C=10, epsilon=0.1, gamma=0.1, degree=5)\n",
    "# svr = SVR(kernel='linear', C=1, gamma=0.5)\n",
    "svr.fit(train_X, train_y)\n",
    "predict = svr.predict(test_X)\n",
    "predict"
   ],
   "metadata": {
    "collapsed": false,
    "pycharm": {
     "name": "#%%\n"
    }
   }
  },
  {
   "cell_type": "markdown",
   "source": [],
   "metadata": {
    "collapsed": false,
    "pycharm": {
     "name": "#%% md\n"
    }
   }
  },
  {
   "cell_type": "code",
   "execution_count": 165,
   "outputs": [
    {
     "data": {
      "text/plain": "     predict  true  differnet\n0   4.776377  5.00   0.223623\n1   4.474720  4.90   0.425280\n2   4.750526  5.40   0.649474\n3   5.624302  6.00   0.375698\n4   5.608634  5.60   0.008634\n..       ...   ...        ...\n75  4.392304  3.80   0.592304\n76  5.426354  4.75   0.676354\n77  5.158111  4.85   0.308111\n78  5.463646  5.60   0.136354\n79  6.070567  6.10   0.029433\n\n[80 rows x 3 columns]",
      "text/html": "<div>\n<style scoped>\n    .dataframe tbody tr th:only-of-type {\n        vertical-align: middle;\n    }\n\n    .dataframe tbody tr th {\n        vertical-align: top;\n    }\n\n    .dataframe thead th {\n        text-align: right;\n    }\n</style>\n<table border=\"1\" class=\"dataframe\">\n  <thead>\n    <tr style=\"text-align: right;\">\n      <th></th>\n      <th>predict</th>\n      <th>true</th>\n      <th>differnet</th>\n    </tr>\n  </thead>\n  <tbody>\n    <tr>\n      <th>0</th>\n      <td>4.776377</td>\n      <td>5.00</td>\n      <td>0.223623</td>\n    </tr>\n    <tr>\n      <th>1</th>\n      <td>4.474720</td>\n      <td>4.90</td>\n      <td>0.425280</td>\n    </tr>\n    <tr>\n      <th>2</th>\n      <td>4.750526</td>\n      <td>5.40</td>\n      <td>0.649474</td>\n    </tr>\n    <tr>\n      <th>3</th>\n      <td>5.624302</td>\n      <td>6.00</td>\n      <td>0.375698</td>\n    </tr>\n    <tr>\n      <th>4</th>\n      <td>5.608634</td>\n      <td>5.60</td>\n      <td>0.008634</td>\n    </tr>\n    <tr>\n      <th>...</th>\n      <td>...</td>\n      <td>...</td>\n      <td>...</td>\n    </tr>\n    <tr>\n      <th>75</th>\n      <td>4.392304</td>\n      <td>3.80</td>\n      <td>0.592304</td>\n    </tr>\n    <tr>\n      <th>76</th>\n      <td>5.426354</td>\n      <td>4.75</td>\n      <td>0.676354</td>\n    </tr>\n    <tr>\n      <th>77</th>\n      <td>5.158111</td>\n      <td>4.85</td>\n      <td>0.308111</td>\n    </tr>\n    <tr>\n      <th>78</th>\n      <td>5.463646</td>\n      <td>5.60</td>\n      <td>0.136354</td>\n    </tr>\n    <tr>\n      <th>79</th>\n      <td>6.070567</td>\n      <td>6.10</td>\n      <td>0.029433</td>\n    </tr>\n  </tbody>\n</table>\n<p>80 rows × 3 columns</p>\n</div>"
     },
     "execution_count": 165,
     "metadata": {},
     "output_type": "execute_result"
    }
   ],
   "source": [
    "a = pd.DataFrame()\n",
    "a['predict'] = predict\n",
    "a['true'] = test_y\n",
    "a['differnet'] = abs(test_y - predict)\n",
    "a"
   ],
   "metadata": {
    "collapsed": false,
    "pycharm": {
     "name": "#%%\n"
    }
   }
  },
  {
   "cell_type": "code",
   "execution_count": 166,
   "outputs": [
    {
     "data": {
      "text/plain": "0.825"
     },
     "execution_count": 166,
     "metadata": {},
     "output_type": "execute_result"
    }
   ],
   "source": [
    "predict_class_list = []\n",
    "true_class_list = []\n",
    "for i in range(len(a)):\n",
    "    predict_class, true_class = classify(a.predict[i], a.true[i])\n",
    "    predict_class_list.append(predict_class)\n",
    "    true_class_list.append(true_class)\n",
    "\n",
    "acc = accuracy(predict_class_list, true_class_list)\n",
    "acc"
   ],
   "metadata": {
    "collapsed": false,
    "pycharm": {
     "name": "#%%\n"
    }
   }
  },
  {
   "cell_type": "code",
   "execution_count": 167,
   "outputs": [],
   "source": [
    "a['predict_class'] = predict_class_list\n",
    "a['true_class'] = true_class_list\n",
    "a['class_differnet'] = abs(a['predict_class'] - a['true_class'])"
   ],
   "metadata": {
    "collapsed": false,
    "pycharm": {
     "name": "#%%\n"
    }
   }
  },
  {
   "cell_type": "code",
   "execution_count": 168,
   "outputs": [],
   "source": [
    "a.to_csv(r'./validation/result.csv')"
   ],
   "metadata": {
    "collapsed": false,
    "pycharm": {
     "name": "#%%\n"
    }
   }
  },
  {
   "cell_type": "code",
   "execution_count": 168,
   "outputs": [],
   "source": [],
   "metadata": {
    "collapsed": false,
    "pycharm": {
     "name": "#%%\n"
    }
   }
  }
 ],
 "metadata": {
  "kernelspec": {
   "display_name": "Python 3",
   "language": "python",
   "name": "python3"
  },
  "language_info": {
   "codemirror_mode": {
    "name": "ipython",
    "version": 2
   },
   "file_extension": ".py",
   "mimetype": "text/x-python",
   "name": "python",
   "nbconvert_exporter": "python",
   "pygments_lexer": "ipython2",
   "version": "2.7.6"
  }
 },
 "nbformat": 4,
 "nbformat_minor": 0
}
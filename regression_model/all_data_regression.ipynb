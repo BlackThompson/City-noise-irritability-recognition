{
 "cells": [
  {
   "cell_type": "code",
   "execution_count": 298,
   "metadata": {
    "collapsed": true
   },
   "outputs": [
    {
     "name": "stdout",
     "output_type": "stream",
     "text": [
      "./input/feature_44down.csv\n",
      "./input/feature_44up.csv\n",
      "./input/feature_83.csv\n",
      "./input/feature_machine.csv\n",
      "./input/feature_water.csv\n"
     ]
    },
    {
     "data": {
      "text/plain": "    index   leq_mean    leq_var   leq_std    leq_max     leq_10     leq_25  \\\n0       1  55.232130  28.291445  5.319207  69.071991  47.749233  50.331184   \n1      11  50.990445  14.365005  3.790288  58.287338  45.634531  47.271271   \n2      21  55.732233   6.655476  2.579936  65.177231  52.413189  53.848297   \n3      31  50.850839  10.522395  3.243968  68.293892  46.865599  48.294189   \n4      41  50.480544  21.698726  4.658396  72.954018  44.806261  47.364754   \n..    ...        ...        ...       ...        ...        ...        ...   \n70    706  51.684594   8.707221  2.950931  61.099491  48.240726  49.122250   \n71    717  56.086409  35.776243  5.981590  73.420624  47.991043  50.723267   \n72    727  50.047239   5.768942  2.401969  59.508881  47.118578  48.324600   \n73    737  50.874526   4.364191  2.089157  61.799881  48.986235  49.593983   \n74    753  51.327230   3.189279  1.785935  61.432575  49.293150  49.961189   \n\n    leq_median     leq_75     leq_90  ...  tonality_std  tonality_max  \\\n0    56.141373  59.358688  62.048265  ...      0.062262      0.338405   \n1    52.034287  54.249622  55.215694  ...      0.047247      0.212326   \n2    55.836800  57.593357  58.858231  ...      0.041625      0.231919   \n3    50.739494  52.977394  54.727055  ...      0.046005      0.344498   \n4    50.697357  53.007847  54.897829  ...      0.053735      0.324143   \n..         ...        ...        ...  ...           ...           ...   \n70   51.338657  53.338589  55.934734  ...      0.061495      0.533374   \n71   56.433147  59.950764  64.281902  ...      0.048654      0.317854   \n72   49.654362  51.642471  53.340521  ...      0.040539      0.205046   \n73   50.240971  51.657730  53.274920  ...      0.038538      0.238971   \n74   51.132454  52.213837  53.257622  ...      0.050873      0.264383   \n\n    tonality_10  tonality_25  tonality_median  tonality_75  tonality_90  \\\n0      0.000000     0.046919         0.084511     0.128971     0.176758   \n1      0.000000     0.000000         0.050423     0.085405     0.118994   \n2      0.000000     0.000000         0.039642     0.071143     0.102402   \n3      0.000000     0.023572         0.050706     0.084524     0.119571   \n4      0.000000     0.015611         0.052863     0.090540     0.131772   \n..          ...          ...              ...          ...          ...   \n70     0.057330     0.077229         0.106951     0.144127     0.194106   \n71     0.000105     0.024658         0.057933     0.093155     0.128309   \n72     0.000000     0.000000         0.036629     0.067197     0.097571   \n73     0.000000     0.000000         0.039179     0.065948     0.091092   \n74     0.000000     0.022004         0.057294     0.093313     0.130287   \n\n    tonality_10-tonality_90          name  noise_score  \n0                  0.176758   Record85826            3  \n1                  0.118994   Record86063            4  \n2                  0.102402   Record86146            2  \n3                  0.119571   Record86411            7  \n4                  0.131772   Record86571            5  \n..                      ...           ...          ...  \n70                 0.136776  Record108545            4  \n71                 0.128203  Record109142            3  \n72                 0.097571  Record109497            3  \n73                 0.091092  Record109524            3  \n74                 0.130287  Record109784            4  \n\n[75 rows x 63 columns]",
      "text/html": "<div>\n<style scoped>\n    .dataframe tbody tr th:only-of-type {\n        vertical-align: middle;\n    }\n\n    .dataframe tbody tr th {\n        vertical-align: top;\n    }\n\n    .dataframe thead th {\n        text-align: right;\n    }\n</style>\n<table border=\"1\" class=\"dataframe\">\n  <thead>\n    <tr style=\"text-align: right;\">\n      <th></th>\n      <th>index</th>\n      <th>leq_mean</th>\n      <th>leq_var</th>\n      <th>leq_std</th>\n      <th>leq_max</th>\n      <th>leq_10</th>\n      <th>leq_25</th>\n      <th>leq_median</th>\n      <th>leq_75</th>\n      <th>leq_90</th>\n      <th>...</th>\n      <th>tonality_std</th>\n      <th>tonality_max</th>\n      <th>tonality_10</th>\n      <th>tonality_25</th>\n      <th>tonality_median</th>\n      <th>tonality_75</th>\n      <th>tonality_90</th>\n      <th>tonality_10-tonality_90</th>\n      <th>name</th>\n      <th>noise_score</th>\n    </tr>\n  </thead>\n  <tbody>\n    <tr>\n      <th>0</th>\n      <td>1</td>\n      <td>55.232130</td>\n      <td>28.291445</td>\n      <td>5.319207</td>\n      <td>69.071991</td>\n      <td>47.749233</td>\n      <td>50.331184</td>\n      <td>56.141373</td>\n      <td>59.358688</td>\n      <td>62.048265</td>\n      <td>...</td>\n      <td>0.062262</td>\n      <td>0.338405</td>\n      <td>0.000000</td>\n      <td>0.046919</td>\n      <td>0.084511</td>\n      <td>0.128971</td>\n      <td>0.176758</td>\n      <td>0.176758</td>\n      <td>Record85826</td>\n      <td>3</td>\n    </tr>\n    <tr>\n      <th>1</th>\n      <td>11</td>\n      <td>50.990445</td>\n      <td>14.365005</td>\n      <td>3.790288</td>\n      <td>58.287338</td>\n      <td>45.634531</td>\n      <td>47.271271</td>\n      <td>52.034287</td>\n      <td>54.249622</td>\n      <td>55.215694</td>\n      <td>...</td>\n      <td>0.047247</td>\n      <td>0.212326</td>\n      <td>0.000000</td>\n      <td>0.000000</td>\n      <td>0.050423</td>\n      <td>0.085405</td>\n      <td>0.118994</td>\n      <td>0.118994</td>\n      <td>Record86063</td>\n      <td>4</td>\n    </tr>\n    <tr>\n      <th>2</th>\n      <td>21</td>\n      <td>55.732233</td>\n      <td>6.655476</td>\n      <td>2.579936</td>\n      <td>65.177231</td>\n      <td>52.413189</td>\n      <td>53.848297</td>\n      <td>55.836800</td>\n      <td>57.593357</td>\n      <td>58.858231</td>\n      <td>...</td>\n      <td>0.041625</td>\n      <td>0.231919</td>\n      <td>0.000000</td>\n      <td>0.000000</td>\n      <td>0.039642</td>\n      <td>0.071143</td>\n      <td>0.102402</td>\n      <td>0.102402</td>\n      <td>Record86146</td>\n      <td>2</td>\n    </tr>\n    <tr>\n      <th>3</th>\n      <td>31</td>\n      <td>50.850839</td>\n      <td>10.522395</td>\n      <td>3.243968</td>\n      <td>68.293892</td>\n      <td>46.865599</td>\n      <td>48.294189</td>\n      <td>50.739494</td>\n      <td>52.977394</td>\n      <td>54.727055</td>\n      <td>...</td>\n      <td>0.046005</td>\n      <td>0.344498</td>\n      <td>0.000000</td>\n      <td>0.023572</td>\n      <td>0.050706</td>\n      <td>0.084524</td>\n      <td>0.119571</td>\n      <td>0.119571</td>\n      <td>Record86411</td>\n      <td>7</td>\n    </tr>\n    <tr>\n      <th>4</th>\n      <td>41</td>\n      <td>50.480544</td>\n      <td>21.698726</td>\n      <td>4.658396</td>\n      <td>72.954018</td>\n      <td>44.806261</td>\n      <td>47.364754</td>\n      <td>50.697357</td>\n      <td>53.007847</td>\n      <td>54.897829</td>\n      <td>...</td>\n      <td>0.053735</td>\n      <td>0.324143</td>\n      <td>0.000000</td>\n      <td>0.015611</td>\n      <td>0.052863</td>\n      <td>0.090540</td>\n      <td>0.131772</td>\n      <td>0.131772</td>\n      <td>Record86571</td>\n      <td>5</td>\n    </tr>\n    <tr>\n      <th>...</th>\n      <td>...</td>\n      <td>...</td>\n      <td>...</td>\n      <td>...</td>\n      <td>...</td>\n      <td>...</td>\n      <td>...</td>\n      <td>...</td>\n      <td>...</td>\n      <td>...</td>\n      <td>...</td>\n      <td>...</td>\n      <td>...</td>\n      <td>...</td>\n      <td>...</td>\n      <td>...</td>\n      <td>...</td>\n      <td>...</td>\n      <td>...</td>\n      <td>...</td>\n      <td>...</td>\n    </tr>\n    <tr>\n      <th>70</th>\n      <td>706</td>\n      <td>51.684594</td>\n      <td>8.707221</td>\n      <td>2.950931</td>\n      <td>61.099491</td>\n      <td>48.240726</td>\n      <td>49.122250</td>\n      <td>51.338657</td>\n      <td>53.338589</td>\n      <td>55.934734</td>\n      <td>...</td>\n      <td>0.061495</td>\n      <td>0.533374</td>\n      <td>0.057330</td>\n      <td>0.077229</td>\n      <td>0.106951</td>\n      <td>0.144127</td>\n      <td>0.194106</td>\n      <td>0.136776</td>\n      <td>Record108545</td>\n      <td>4</td>\n    </tr>\n    <tr>\n      <th>71</th>\n      <td>717</td>\n      <td>56.086409</td>\n      <td>35.776243</td>\n      <td>5.981590</td>\n      <td>73.420624</td>\n      <td>47.991043</td>\n      <td>50.723267</td>\n      <td>56.433147</td>\n      <td>59.950764</td>\n      <td>64.281902</td>\n      <td>...</td>\n      <td>0.048654</td>\n      <td>0.317854</td>\n      <td>0.000105</td>\n      <td>0.024658</td>\n      <td>0.057933</td>\n      <td>0.093155</td>\n      <td>0.128309</td>\n      <td>0.128203</td>\n      <td>Record109142</td>\n      <td>3</td>\n    </tr>\n    <tr>\n      <th>72</th>\n      <td>727</td>\n      <td>50.047239</td>\n      <td>5.768942</td>\n      <td>2.401969</td>\n      <td>59.508881</td>\n      <td>47.118578</td>\n      <td>48.324600</td>\n      <td>49.654362</td>\n      <td>51.642471</td>\n      <td>53.340521</td>\n      <td>...</td>\n      <td>0.040539</td>\n      <td>0.205046</td>\n      <td>0.000000</td>\n      <td>0.000000</td>\n      <td>0.036629</td>\n      <td>0.067197</td>\n      <td>0.097571</td>\n      <td>0.097571</td>\n      <td>Record109497</td>\n      <td>3</td>\n    </tr>\n    <tr>\n      <th>73</th>\n      <td>737</td>\n      <td>50.874526</td>\n      <td>4.364191</td>\n      <td>2.089157</td>\n      <td>61.799881</td>\n      <td>48.986235</td>\n      <td>49.593983</td>\n      <td>50.240971</td>\n      <td>51.657730</td>\n      <td>53.274920</td>\n      <td>...</td>\n      <td>0.038538</td>\n      <td>0.238971</td>\n      <td>0.000000</td>\n      <td>0.000000</td>\n      <td>0.039179</td>\n      <td>0.065948</td>\n      <td>0.091092</td>\n      <td>0.091092</td>\n      <td>Record109524</td>\n      <td>3</td>\n    </tr>\n    <tr>\n      <th>74</th>\n      <td>753</td>\n      <td>51.327230</td>\n      <td>3.189279</td>\n      <td>1.785935</td>\n      <td>61.432575</td>\n      <td>49.293150</td>\n      <td>49.961189</td>\n      <td>51.132454</td>\n      <td>52.213837</td>\n      <td>53.257622</td>\n      <td>...</td>\n      <td>0.050873</td>\n      <td>0.264383</td>\n      <td>0.000000</td>\n      <td>0.022004</td>\n      <td>0.057294</td>\n      <td>0.093313</td>\n      <td>0.130287</td>\n      <td>0.130287</td>\n      <td>Record109784</td>\n      <td>4</td>\n    </tr>\n  </tbody>\n</table>\n<p>75 rows × 63 columns</p>\n</div>"
     },
     "execution_count": 298,
     "metadata": {},
     "output_type": "execute_result"
    }
   ],
   "source": [
    "import os\n",
    "from sklearn.linear_model import ElasticNet\n",
    "from sklearn.tree import DecisionTreeRegressor\n",
    "import pandas as pd\n",
    "import numpy as np\n",
    "from config import *\n",
    "import copy\n",
    "from cal_accuracy import *\n",
    "\n",
    "path = './input'\n",
    "# get whole dir name\n",
    "files = os.listdir(path)\n",
    "all_data = pd.DataFrame()\n",
    "\n",
    "# read train data\n",
    "for file in files:\n",
    "    # judge whether it is a directory\n",
    "    if not os.path.isdir(file):\n",
    "        csv_path = path + \"/\" + file\n",
    "        print(csv_path)\n",
    "        temp = pd.read_csv(csv_path)\n",
    "        if len(temp) == 0:\n",
    "            all_data = temp\n",
    "        else:\n",
    "            all_data = pd.concat([all_data, temp], axis=0)\n",
    "\n",
    "# read test data\n",
    "test_path = './test/杨凡1.csv'\n",
    "test_data = pd.read_csv(test_path)\n",
    "\n",
    "test_data"
   ]
  },
  {
   "cell_type": "code",
   "execution_count": 299,
   "outputs": [],
   "source": [
    "# 对数据进行标准化\n",
    "def feature_normalize(dataset):\n",
    "    mu = np.mean(dataset, axis=0)\n",
    "    sigma = np.std(dataset, axis=0)\n",
    "    return (dataset - mu) / sigma"
   ],
   "metadata": {
    "collapsed": false,
    "pycharm": {
     "name": "#%%\n"
    }
   }
  },
  {
   "cell_type": "code",
   "execution_count": 300,
   "outputs": [],
   "source": [
    "all_columns = all_data.columns\n",
    "feature_columns = all_columns[2:]\n",
    "feature_columns\n",
    "features = copy.deepcopy(all_data[feature_columns])"
   ],
   "metadata": {
    "collapsed": false,
    "pycharm": {
     "name": "#%%\n"
    }
   }
  },
  {
   "cell_type": "code",
   "execution_count": 301,
   "outputs": [],
   "source": [
    "train_X = feature_normalize(features[feature_columns])\n",
    "train_y = all_data['score']\n",
    "test_X = feature_normalize(test_data[feature_columns])\n",
    "test_y = test_data['noise_score']"
   ],
   "metadata": {
    "collapsed": false,
    "pycharm": {
     "name": "#%%\n"
    }
   }
  },
  {
   "cell_type": "code",
   "execution_count": 302,
   "outputs": [
    {
     "data": {
      "text/plain": "DecisionTreeRegressor()"
     },
     "execution_count": 302,
     "metadata": {},
     "output_type": "execute_result"
    }
   ],
   "source": [
    "# 弹性网回归\n",
    "# alpha = 0.1\n",
    "# enet = ElasticNet(alpha=alpha, l1_ratio=0)\n",
    "# enet.fit(train_X[column_36], train_y)\n",
    "\n",
    "# 决策树回归\n",
    "model = DecisionTreeRegressor()\n",
    "model.fit(train_X[column_36], train_y)"
   ],
   "metadata": {
    "collapsed": false,
    "pycharm": {
     "name": "#%%\n"
    }
   }
  },
  {
   "cell_type": "code",
   "execution_count": 303,
   "outputs": [],
   "source": [
    "# predict = enet.predict(test_X[column_36])\n",
    "predict = model.predict(test_X[column_36])"
   ],
   "metadata": {
    "collapsed": false,
    "pycharm": {
     "name": "#%%\n"
    }
   }
  },
  {
   "cell_type": "code",
   "execution_count": 304,
   "outputs": [],
   "source": [
    "test_result = pd.DataFrame()\n",
    "test_result['true_score'] = test_y\n",
    "test_result['true_class'] = 0\n",
    "test_result['predict_score'] = predict\n",
    "test_result['predict_class'] = 0"
   ],
   "metadata": {
    "collapsed": false,
    "pycharm": {
     "name": "#%%\n"
    }
   }
  },
  {
   "cell_type": "code",
   "execution_count": 305,
   "outputs": [
    {
     "data": {
      "text/plain": "    true_score  true_class  predict_score  predict_class\n0            3           0       3.840160              0\n1            4           0       4.969231              0\n2            2           0       5.909840              0\n3            7           0       4.114750              0\n4            5           0       4.721310              0\n..         ...         ...            ...            ...\n70           4           0       5.159840              0\n71           3           0       6.070336              0\n72           3           0       4.778690              0\n73           3           0       4.446720              0\n74           4           0       4.446720              0\n\n[75 rows x 4 columns]",
      "text/html": "<div>\n<style scoped>\n    .dataframe tbody tr th:only-of-type {\n        vertical-align: middle;\n    }\n\n    .dataframe tbody tr th {\n        vertical-align: top;\n    }\n\n    .dataframe thead th {\n        text-align: right;\n    }\n</style>\n<table border=\"1\" class=\"dataframe\">\n  <thead>\n    <tr style=\"text-align: right;\">\n      <th></th>\n      <th>true_score</th>\n      <th>true_class</th>\n      <th>predict_score</th>\n      <th>predict_class</th>\n    </tr>\n  </thead>\n  <tbody>\n    <tr>\n      <th>0</th>\n      <td>3</td>\n      <td>0</td>\n      <td>3.840160</td>\n      <td>0</td>\n    </tr>\n    <tr>\n      <th>1</th>\n      <td>4</td>\n      <td>0</td>\n      <td>4.969231</td>\n      <td>0</td>\n    </tr>\n    <tr>\n      <th>2</th>\n      <td>2</td>\n      <td>0</td>\n      <td>5.909840</td>\n      <td>0</td>\n    </tr>\n    <tr>\n      <th>3</th>\n      <td>7</td>\n      <td>0</td>\n      <td>4.114750</td>\n      <td>0</td>\n    </tr>\n    <tr>\n      <th>4</th>\n      <td>5</td>\n      <td>0</td>\n      <td>4.721310</td>\n      <td>0</td>\n    </tr>\n    <tr>\n      <th>...</th>\n      <td>...</td>\n      <td>...</td>\n      <td>...</td>\n      <td>...</td>\n    </tr>\n    <tr>\n      <th>70</th>\n      <td>4</td>\n      <td>0</td>\n      <td>5.159840</td>\n      <td>0</td>\n    </tr>\n    <tr>\n      <th>71</th>\n      <td>3</td>\n      <td>0</td>\n      <td>6.070336</td>\n      <td>0</td>\n    </tr>\n    <tr>\n      <th>72</th>\n      <td>3</td>\n      <td>0</td>\n      <td>4.778690</td>\n      <td>0</td>\n    </tr>\n    <tr>\n      <th>73</th>\n      <td>3</td>\n      <td>0</td>\n      <td>4.446720</td>\n      <td>0</td>\n    </tr>\n    <tr>\n      <th>74</th>\n      <td>4</td>\n      <td>0</td>\n      <td>4.446720</td>\n      <td>0</td>\n    </tr>\n  </tbody>\n</table>\n<p>75 rows × 4 columns</p>\n</div>"
     },
     "execution_count": 305,
     "metadata": {},
     "output_type": "execute_result"
    }
   ],
   "source": [
    "test_result"
   ],
   "metadata": {
    "collapsed": false,
    "pycharm": {
     "name": "#%%\n"
    }
   }
  },
  {
   "cell_type": "code",
   "execution_count": 306,
   "outputs": [],
   "source": [
    "for i in range(len(test_result)):\n",
    "    test_result.iloc[i, 3], test_result.iloc[i, 1] = classify(\n",
    "        test_result.iloc[i, 2], test_result.iloc[i, 0])"
   ],
   "metadata": {
    "collapsed": false,
    "pycharm": {
     "name": "#%%\n"
    }
   }
  },
  {
   "cell_type": "code",
   "execution_count": 307,
   "outputs": [
    {
     "data": {
      "text/plain": "    true_score  true_class  predict_score  predict_class\n0            3           4       3.840160              4\n1            4           4       4.969231              2\n2            2           4       5.909840              1\n3            7           1       4.114750              3\n4            5           2       4.721310              2\n..         ...         ...            ...            ...\n70           4           4       5.159840              2\n71           3           4       6.070336              1\n72           3           4       4.778690              3\n73           3           4       4.446720              3\n74           4           4       4.446720              3\n\n[75 rows x 4 columns]",
      "text/html": "<div>\n<style scoped>\n    .dataframe tbody tr th:only-of-type {\n        vertical-align: middle;\n    }\n\n    .dataframe tbody tr th {\n        vertical-align: top;\n    }\n\n    .dataframe thead th {\n        text-align: right;\n    }\n</style>\n<table border=\"1\" class=\"dataframe\">\n  <thead>\n    <tr style=\"text-align: right;\">\n      <th></th>\n      <th>true_score</th>\n      <th>true_class</th>\n      <th>predict_score</th>\n      <th>predict_class</th>\n    </tr>\n  </thead>\n  <tbody>\n    <tr>\n      <th>0</th>\n      <td>3</td>\n      <td>4</td>\n      <td>3.840160</td>\n      <td>4</td>\n    </tr>\n    <tr>\n      <th>1</th>\n      <td>4</td>\n      <td>4</td>\n      <td>4.969231</td>\n      <td>2</td>\n    </tr>\n    <tr>\n      <th>2</th>\n      <td>2</td>\n      <td>4</td>\n      <td>5.909840</td>\n      <td>1</td>\n    </tr>\n    <tr>\n      <th>3</th>\n      <td>7</td>\n      <td>1</td>\n      <td>4.114750</td>\n      <td>3</td>\n    </tr>\n    <tr>\n      <th>4</th>\n      <td>5</td>\n      <td>2</td>\n      <td>4.721310</td>\n      <td>2</td>\n    </tr>\n    <tr>\n      <th>...</th>\n      <td>...</td>\n      <td>...</td>\n      <td>...</td>\n      <td>...</td>\n    </tr>\n    <tr>\n      <th>70</th>\n      <td>4</td>\n      <td>4</td>\n      <td>5.159840</td>\n      <td>2</td>\n    </tr>\n    <tr>\n      <th>71</th>\n      <td>3</td>\n      <td>4</td>\n      <td>6.070336</td>\n      <td>1</td>\n    </tr>\n    <tr>\n      <th>72</th>\n      <td>3</td>\n      <td>4</td>\n      <td>4.778690</td>\n      <td>3</td>\n    </tr>\n    <tr>\n      <th>73</th>\n      <td>3</td>\n      <td>4</td>\n      <td>4.446720</td>\n      <td>3</td>\n    </tr>\n    <tr>\n      <th>74</th>\n      <td>4</td>\n      <td>4</td>\n      <td>4.446720</td>\n      <td>3</td>\n    </tr>\n  </tbody>\n</table>\n<p>75 rows × 4 columns</p>\n</div>"
     },
     "execution_count": 307,
     "metadata": {},
     "output_type": "execute_result"
    }
   ],
   "source": [
    "test_result"
   ],
   "metadata": {
    "collapsed": false,
    "pycharm": {
     "name": "#%%\n"
    }
   }
  },
  {
   "cell_type": "code",
   "execution_count": 308,
   "outputs": [
    {
     "data": {
      "text/plain": "0.44"
     },
     "execution_count": 308,
     "metadata": {},
     "output_type": "execute_result"
    }
   ],
   "source": [
    "acc = accuracy(test_result['true_class'], test_result['predict_class'])\n",
    "acc"
   ],
   "metadata": {
    "collapsed": false,
    "pycharm": {
     "name": "#%%\n"
    }
   }
  },
  {
   "cell_type": "code",
   "execution_count": 308,
   "outputs": [],
   "source": [],
   "metadata": {
    "collapsed": false,
    "pycharm": {
     "name": "#%%\n"
    }
   }
  }
 ],
 "metadata": {
  "kernelspec": {
   "display_name": "Python 3",
   "language": "python",
   "name": "python3"
  },
  "language_info": {
   "codemirror_mode": {
    "name": "ipython",
    "version": 2
   },
   "file_extension": ".py",
   "mimetype": "text/x-python",
   "name": "python",
   "nbconvert_exporter": "python",
   "pygments_lexer": "ipython2",
   "version": "2.7.6"
  }
 },
 "nbformat": 4,
 "nbformat_minor": 0
}
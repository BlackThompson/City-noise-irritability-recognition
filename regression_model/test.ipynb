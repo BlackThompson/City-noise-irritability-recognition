{
 "cells": [
  {
   "cell_type": "code",
   "execution_count": 18,
   "metadata": {
    "collapsed": true
   },
   "outputs": [
    {
     "data": {
      "text/plain": "0     2\n1     2\n2     2\n3     7\n4     6\n     ..\n70    3\n71    4\n72    5\n73    4\n74    3\nName: True, Length: 75, dtype: int64"
     },
     "execution_count": 18,
     "metadata": {},
     "output_type": "execute_result"
    }
   ],
   "source": [
    "import pandas as pd\n",
    "import numpy as np\n",
    "from cal_accuracy import *\n",
    "\n",
    "test_data = pd.read_excel('./test/test.xlsx')\n",
    "test_data.iloc[:, 0]"
   ]
  },
  {
   "cell_type": "code",
   "execution_count": 47,
   "outputs": [
    {
     "data": {
      "text/plain": "list"
     },
     "execution_count": 47,
     "metadata": {},
     "output_type": "execute_result"
    }
   ],
   "source": [
    "pre_class = []\n",
    "true_class = []\n",
    "type(true_class)"
   ],
   "metadata": {
    "collapsed": false,
    "pycharm": {
     "name": "#%%\n"
    }
   }
  },
  {
   "cell_type": "code",
   "execution_count": 48,
   "outputs": [
    {
     "name": "stdout",
     "output_type": "stream",
     "text": [
      "2 4\n",
      "2 4\n",
      "2 4\n",
      "4 1\n",
      "4 1\n",
      "4 2\n",
      "4 2\n",
      "2 4\n",
      "3 4\n",
      "4.0 4.0\n",
      "4.0 4.0\n",
      "2 4\n",
      "3 1\n",
      "3 4\n",
      "3 4\n",
      "4.0 4.0\n",
      "4.0 4.0\n",
      "4.0 4.0\n",
      "3 4\n",
      "3 4\n",
      "3 1\n",
      "4.0 4.0\n",
      "4.0 4.0\n",
      "4.0 4.0\n",
      "4.0 4.0\n",
      "4.0 4.0\n",
      "4.0 4.0\n",
      "4.0 4.0\n",
      "4.0 4.0\n",
      "4.0 4.0\n",
      "4.0 4.0\n",
      "4.0 4.0\n",
      "4.0 4.0\n",
      "4.0 4.0\n",
      "4.0 4.0\n",
      "4.0 4.0\n",
      "4.0 4.0\n",
      "4.0 4.0\n",
      "4.0 4.0\n",
      "4.0 4.0\n",
      "4.0 4.0\n",
      "4.0 4.0\n",
      "2 4\n",
      "2 4\n",
      "2 2\n",
      "2 2\n",
      "2 1\n",
      "3 4\n",
      "3 4\n",
      "3 4\n",
      "2 2\n",
      "2 2\n",
      "4.0 4.0\n",
      "4.0 4.0\n",
      "3 4\n",
      "3 4\n",
      "3 4\n",
      "3 4\n",
      "4.0 4.0\n",
      "2 2\n",
      "2.0 2.0\n",
      "3 4\n",
      "4.0 4.0\n",
      "4.0 4.0\n",
      "4.0 4.0\n",
      "4.0 4.0\n",
      "4.0 4.0\n",
      "4.0 4.0\n",
      "4.0 4.0\n",
      "4.0 4.0\n",
      "4.0 4.0\n",
      "3 4\n",
      "2.0 2.0\n",
      "4.0 4.0\n",
      "4.0 4.0\n"
     ]
    },
    {
     "data": {
      "text/plain": "list"
     },
     "execution_count": 48,
     "metadata": {},
     "output_type": "execute_result"
    }
   ],
   "source": [
    "for i in range(len(test_data)):\n",
    "    predict, true = classify(test_data.iloc[i, 1], test_data.iloc[i, 0])\n",
    "    pre_class.append(predict)\n",
    "    true_class.append(true)\n",
    "    print(predict,true)\n"
   ],
   "metadata": {
    "collapsed": false,
    "pycharm": {
     "name": "#%%\n"
    }
   }
  },
  {
   "cell_type": "code",
   "execution_count": 52,
   "outputs": [
    {
     "data": {
      "text/plain": "0.6266666666666667"
     },
     "execution_count": 52,
     "metadata": {},
     "output_type": "execute_result"
    }
   ],
   "source": [
    "acc = accuracy(pre_class, true_class)\n",
    "acc"
   ],
   "metadata": {
    "collapsed": false,
    "pycharm": {
     "name": "#%%\n"
    }
   }
  },
  {
   "cell_type": "code",
   "execution_count": 32,
   "outputs": [
    {
     "data": {
      "text/plain": "2"
     },
     "execution_count": 32,
     "metadata": {},
     "output_type": "execute_result"
    }
   ],
   "source": [
    "test_data.iloc[i, 0]"
   ],
   "metadata": {
    "collapsed": false,
    "pycharm": {
     "name": "#%%\n"
    }
   }
  },
  {
   "cell_type": "code",
   "execution_count": null,
   "outputs": [],
   "source": [],
   "metadata": {
    "collapsed": false,
    "pycharm": {
     "name": "#%%\n"
    }
   }
  }
 ],
 "metadata": {
  "kernelspec": {
   "display_name": "Python 3",
   "language": "python",
   "name": "python3"
  },
  "language_info": {
   "codemirror_mode": {
    "name": "ipython",
    "version": 2
   },
   "file_extension": ".py",
   "mimetype": "text/x-python",
   "name": "python",
   "nbconvert_exporter": "python",
   "pygments_lexer": "ipython2",
   "version": "2.7.6"
  }
 },
 "nbformat": 4,
 "nbformat_minor": 0
}
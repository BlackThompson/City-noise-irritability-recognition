{
 "cells": [
  {
   "cell_type": "code",
   "execution_count": 1,
   "metadata": {
    "collapsed": true
   },
   "outputs": [
    {
     "data": {
      "text/plain": "    Unnamed: 0   predict  TRUE\n0            0  4.009119  5.00\n1            1  4.009119  4.90\n2            2  6.040984  5.40\n3            3  5.206687  6.00\n4            4  5.356557  5.60\n..         ...       ...   ...\n75          75  5.356557  3.80\n76          76  4.495902  4.75\n77          77  5.340164  4.85\n78          78  5.676230  5.60\n79          79  6.594262  6.10\n\n[80 rows x 3 columns]",
      "text/html": "<div>\n<style scoped>\n    .dataframe tbody tr th:only-of-type {\n        vertical-align: middle;\n    }\n\n    .dataframe tbody tr th {\n        vertical-align: top;\n    }\n\n    .dataframe thead th {\n        text-align: right;\n    }\n</style>\n<table border=\"1\" class=\"dataframe\">\n  <thead>\n    <tr style=\"text-align: right;\">\n      <th></th>\n      <th>Unnamed: 0</th>\n      <th>predict</th>\n      <th>TRUE</th>\n    </tr>\n  </thead>\n  <tbody>\n    <tr>\n      <th>0</th>\n      <td>0</td>\n      <td>4.009119</td>\n      <td>5.00</td>\n    </tr>\n    <tr>\n      <th>1</th>\n      <td>1</td>\n      <td>4.009119</td>\n      <td>4.90</td>\n    </tr>\n    <tr>\n      <th>2</th>\n      <td>2</td>\n      <td>6.040984</td>\n      <td>5.40</td>\n    </tr>\n    <tr>\n      <th>3</th>\n      <td>3</td>\n      <td>5.206687</td>\n      <td>6.00</td>\n    </tr>\n    <tr>\n      <th>4</th>\n      <td>4</td>\n      <td>5.356557</td>\n      <td>5.60</td>\n    </tr>\n    <tr>\n      <th>...</th>\n      <td>...</td>\n      <td>...</td>\n      <td>...</td>\n    </tr>\n    <tr>\n      <th>75</th>\n      <td>75</td>\n      <td>5.356557</td>\n      <td>3.80</td>\n    </tr>\n    <tr>\n      <th>76</th>\n      <td>76</td>\n      <td>4.495902</td>\n      <td>4.75</td>\n    </tr>\n    <tr>\n      <th>77</th>\n      <td>77</td>\n      <td>5.340164</td>\n      <td>4.85</td>\n    </tr>\n    <tr>\n      <th>78</th>\n      <td>78</td>\n      <td>5.676230</td>\n      <td>5.60</td>\n    </tr>\n    <tr>\n      <th>79</th>\n      <td>79</td>\n      <td>6.594262</td>\n      <td>6.10</td>\n    </tr>\n  </tbody>\n</table>\n<p>80 rows × 3 columns</p>\n</div>"
     },
     "execution_count": 1,
     "metadata": {},
     "output_type": "execute_result"
    }
   ],
   "source": [
    "import pandas as pd\n",
    "import numpy as np\n",
    "from cal_accuracy import *\n",
    "\n",
    "path = r'./validation/score.csv'\n",
    "\n",
    "validation_data = pd.read_csv(path)\n",
    "validation_data"
   ]
  },
  {
   "cell_type": "code",
   "execution_count": 2,
   "outputs": [
    {
     "data": {
      "text/plain": "0.8"
     },
     "execution_count": 2,
     "metadata": {},
     "output_type": "execute_result"
    }
   ],
   "source": [
    "predict_class_list = []\n",
    "true_class_list = []\n",
    "for i in range(len(validation_data)):\n",
    "    predict_class, true_class = classify(validation_data.predict[i], validation_data.TRUE[i])\n",
    "    predict_class_list.append(predict_class)\n",
    "    true_class_list.append(true_class)\n",
    "\n",
    "accuracy(predict_class_list, true_class_list)"
   ],
   "metadata": {
    "collapsed": false,
    "pycharm": {
     "name": "#%%\n"
    }
   }
  },
  {
   "cell_type": "code",
   "execution_count": 3,
   "outputs": [],
   "source": [
    "contract = pd.DataFrame()\n",
    "contract['predict_class'] = predict_class_list\n",
    "contract['predict_score'] = validation_data.predict\n",
    "contract['true_class'] = true_class_list\n",
    "contract['true_score'] = validation_data.TRUE\n",
    "contract['score_different'] = abs(validation_data.TRUE - validation_data.predict)\n",
    "contract['class_different'] = [abs(predict_class_list[i] - true_class_list[i]) for i in range(len(predict_class_list))]"
   ],
   "metadata": {
    "collapsed": false,
    "pycharm": {
     "name": "#%%\n"
    }
   }
  },
  {
   "cell_type": "code",
   "execution_count": 4,
   "outputs": [
    {
     "data": {
      "text/plain": "    predict_class  predict_score  true_class  true_score  score_different  \\\n0               3       4.009119           3        5.00         0.990881   \n1               3       4.009119           3        4.90         0.890881   \n2               2       6.040984           2        5.40         0.640984   \n3               2       5.206687           2        6.00         0.793313   \n4               2       5.356557           2        5.60         0.243443   \n..            ...            ...         ...         ...              ...   \n75              3       5.356557           3        3.80         1.556557   \n76              3       4.495902           3        4.75         0.254098   \n77              2       5.340164           2        4.85         0.490164   \n78              2       5.676230           2        5.60         0.076230   \n79              1       6.594262           1        6.10         0.494262   \n\n    class_different  \n0                 0  \n1                 0  \n2                 0  \n3                 0  \n4                 0  \n..              ...  \n75                0  \n76                0  \n77                0  \n78                0  \n79                0  \n\n[80 rows x 6 columns]",
      "text/html": "<div>\n<style scoped>\n    .dataframe tbody tr th:only-of-type {\n        vertical-align: middle;\n    }\n\n    .dataframe tbody tr th {\n        vertical-align: top;\n    }\n\n    .dataframe thead th {\n        text-align: right;\n    }\n</style>\n<table border=\"1\" class=\"dataframe\">\n  <thead>\n    <tr style=\"text-align: right;\">\n      <th></th>\n      <th>predict_class</th>\n      <th>predict_score</th>\n      <th>true_class</th>\n      <th>true_score</th>\n      <th>score_different</th>\n      <th>class_different</th>\n    </tr>\n  </thead>\n  <tbody>\n    <tr>\n      <th>0</th>\n      <td>3</td>\n      <td>4.009119</td>\n      <td>3</td>\n      <td>5.00</td>\n      <td>0.990881</td>\n      <td>0</td>\n    </tr>\n    <tr>\n      <th>1</th>\n      <td>3</td>\n      <td>4.009119</td>\n      <td>3</td>\n      <td>4.90</td>\n      <td>0.890881</td>\n      <td>0</td>\n    </tr>\n    <tr>\n      <th>2</th>\n      <td>2</td>\n      <td>6.040984</td>\n      <td>2</td>\n      <td>5.40</td>\n      <td>0.640984</td>\n      <td>0</td>\n    </tr>\n    <tr>\n      <th>3</th>\n      <td>2</td>\n      <td>5.206687</td>\n      <td>2</td>\n      <td>6.00</td>\n      <td>0.793313</td>\n      <td>0</td>\n    </tr>\n    <tr>\n      <th>4</th>\n      <td>2</td>\n      <td>5.356557</td>\n      <td>2</td>\n      <td>5.60</td>\n      <td>0.243443</td>\n      <td>0</td>\n    </tr>\n    <tr>\n      <th>...</th>\n      <td>...</td>\n      <td>...</td>\n      <td>...</td>\n      <td>...</td>\n      <td>...</td>\n      <td>...</td>\n    </tr>\n    <tr>\n      <th>75</th>\n      <td>3</td>\n      <td>5.356557</td>\n      <td>3</td>\n      <td>3.80</td>\n      <td>1.556557</td>\n      <td>0</td>\n    </tr>\n    <tr>\n      <th>76</th>\n      <td>3</td>\n      <td>4.495902</td>\n      <td>3</td>\n      <td>4.75</td>\n      <td>0.254098</td>\n      <td>0</td>\n    </tr>\n    <tr>\n      <th>77</th>\n      <td>2</td>\n      <td>5.340164</td>\n      <td>2</td>\n      <td>4.85</td>\n      <td>0.490164</td>\n      <td>0</td>\n    </tr>\n    <tr>\n      <th>78</th>\n      <td>2</td>\n      <td>5.676230</td>\n      <td>2</td>\n      <td>5.60</td>\n      <td>0.076230</td>\n      <td>0</td>\n    </tr>\n    <tr>\n      <th>79</th>\n      <td>1</td>\n      <td>6.594262</td>\n      <td>1</td>\n      <td>6.10</td>\n      <td>0.494262</td>\n      <td>0</td>\n    </tr>\n  </tbody>\n</table>\n<p>80 rows × 6 columns</p>\n</div>"
     },
     "execution_count": 4,
     "metadata": {},
     "output_type": "execute_result"
    }
   ],
   "source": [
    "contract"
   ],
   "metadata": {
    "collapsed": false,
    "pycharm": {
     "name": "#%%\n"
    }
   }
  },
  {
   "cell_type": "code",
   "execution_count": 4,
   "outputs": [],
   "source": [],
   "metadata": {
    "collapsed": false,
    "pycharm": {
     "name": "#%%\n"
    }
   }
  }
 ],
 "metadata": {
  "kernelspec": {
   "display_name": "Python 3",
   "language": "python",
   "name": "python3"
  },
  "language_info": {
   "codemirror_mode": {
    "name": "ipython",
    "version": 2
   },
   "file_extension": ".py",
   "mimetype": "text/x-python",
   "name": "python",
   "nbconvert_exporter": "python",
   "pygments_lexer": "ipython2",
   "version": "2.7.6"
  }
 },
 "nbformat": 4,
 "nbformat_minor": 0
}
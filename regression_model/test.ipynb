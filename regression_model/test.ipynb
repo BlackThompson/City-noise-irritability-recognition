{
 "cells": [
  {
   "cell_type": "code",
   "execution_count": 5,
   "metadata": {
    "collapsed": true
   },
   "outputs": [
    {
     "data": {
      "text/plain": "0     3\n1     4\n2     2\n3     7\n4     5\n     ..\n70    4\n71    3\n72    3\n73    3\n74    4\nName: noise_score, Length: 75, dtype: int64"
     },
     "execution_count": 5,
     "metadata": {},
     "output_type": "execute_result"
    }
   ],
   "source": [
    "import pandas as pd\n",
    "import numpy as np\n",
    "from cal_accuracy import *\n",
    "\n",
    "result_path = r'./test/use_result.csv'\n",
    "# test_data = pd.read_excel('./test/test.xlsx')\n",
    "# test_data.iloc[:, 0]\n",
    "test_data = pd.read_csv(result_path)\n",
    "test_data.iloc[:, 1]"
   ]
  },
  {
   "cell_type": "code",
   "execution_count": 6,
   "outputs": [],
   "source": [
    "# pre_class = []\n",
    "# true_class = []\n",
    "# type(true_class)"
   ],
   "metadata": {
    "collapsed": false,
    "pycharm": {
     "name": "#%%\n"
    }
   }
  },
  {
   "cell_type": "code",
   "execution_count": 7,
   "outputs": [],
   "source": [
    "# for i in range(len(test_data)):\n",
    "#     predict, true = classify(test_data.iloc[i, 2], test_data.iloc[i, 1])\n",
    "#     pre_class.append(predict)\n",
    "#     true_class.append(true)\n",
    "#     print(predict, true)\n"
   ],
   "metadata": {
    "collapsed": false,
    "pycharm": {
     "name": "#%%\n"
    }
   }
  },
  {
   "cell_type": "code",
   "execution_count": 8,
   "outputs": [
    {
     "data": {
      "text/plain": "0.4533333333333333"
     },
     "execution_count": 8,
     "metadata": {},
     "output_type": "execute_result"
    }
   ],
   "source": [
    "pre_class, true_class = return_predict_and_true_class(test_data['model_score'], test_data['noise_score'])\n",
    "\n",
    "acc = accuracy(pre_class, true_class)\n",
    "acc"
   ],
   "metadata": {
    "collapsed": false,
    "pycharm": {
     "name": "#%%\n"
    }
   }
  },
  {
   "cell_type": "code",
   "execution_count": 8,
   "outputs": [],
   "source": [],
   "metadata": {
    "collapsed": false,
    "pycharm": {
     "name": "#%%\n"
    }
   }
  }
 ],
 "metadata": {
  "kernelspec": {
   "display_name": "Python 3",
   "language": "python",
   "name": "python3"
  },
  "language_info": {
   "codemirror_mode": {
    "name": "ipython",
    "version": 2
   },
   "file_extension": ".py",
   "mimetype": "text/x-python",
   "name": "python",
   "nbconvert_exporter": "python",
   "pygments_lexer": "ipython2",
   "version": "2.7.6"
  }
 },
 "nbformat": 4,
 "nbformat_minor": 0
}
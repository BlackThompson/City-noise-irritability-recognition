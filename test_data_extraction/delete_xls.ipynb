{
 "cells": [
  {
   "cell_type": "code",
   "execution_count": 12,
   "metadata": {
    "collapsed": true
   },
   "outputs": [],
   "source": [
    "import pandas as pd\n",
    "\n",
    "kyllin_data_path = r'./input/qilin_features.csv'\n",
    "kyllin_data = pd.read_csv(kyllin_data_path)"
   ]
  },
  {
   "cell_type": "code",
   "execution_count": 13,
   "outputs": [
    {
     "data": {
      "text/plain": "     index   leq_mean    leq_var   leq_std    leq_max     leq_10     leq_25  \\\n0        0  54.312528  53.647026  7.324739  69.625366  44.742218  46.711838   \n1        1  55.232130  28.291445  5.319207  69.071991  47.749233  50.331184   \n2        2  50.533419  16.909742  4.112328  61.366192  44.896023  47.537155   \n3        3  50.206056  10.631503  3.260744  62.288425  46.105684  47.749138   \n4        4  50.892217  29.397366  5.422175  62.937305  42.569418  46.039944   \n..     ...        ...        ...       ...        ...        ...        ...   \n751    751  50.024887   0.921990  0.960246  60.606106  49.306311  49.514557   \n752    752  57.370135  26.701392  5.167569  67.176895  48.360319  54.507286   \n753    753  51.327230   3.189279  1.785935  61.432575  49.293150  49.961189   \n754    754  55.527740  40.705632  6.380380  69.133560  47.716015  48.599403   \n755    755  55.996762  21.450448  4.631669  68.200005  49.953733  52.022823   \n\n     leq_median     leq_75     leq_90  ...  tonality_var  tonality_std  \\\n0     55.229630  60.548046  64.009647  ...      0.003439      0.058662   \n1     56.141373  59.358688  62.048265  ...      0.003874      0.062262   \n2     50.347477  53.674778  55.721466  ...      0.004035      0.063543   \n3     49.969536  52.371662  54.487446  ...      0.002846      0.053369   \n4     52.623150  55.334427  57.264042  ...      0.006525      0.080808   \n..          ...        ...        ...  ...           ...           ...   \n751   49.829697  50.255989  50.816889  ...      0.000993      0.031517   \n752   58.689892  61.229809  62.964729  ...      0.004562      0.067565   \n753   51.132454  52.213837  53.257622  ...      0.002586      0.050873   \n754   56.505791  61.127293  63.526405  ...      0.002881      0.053694   \n755   55.898090  59.538589  62.553637  ...      0.003738      0.061163   \n\n     tonality_max  tonality_10  tonality_25  tonality_median  tonality_75  \\\n0        0.291835          0.0     0.019539         0.063939     0.109481   \n1        0.338405          0.0     0.046919         0.084511     0.128971   \n2        0.352343          0.0     0.028660         0.067247     0.114759   \n3        0.345522          0.0     0.010537         0.050323     0.090587   \n4        0.520856          0.0     0.035899         0.081288     0.134716   \n..            ...          ...          ...              ...          ...   \n751      0.163329          0.0     0.000000         0.027650     0.051968   \n752      0.336235          0.0     0.042409         0.089499     0.137646   \n753      0.264383          0.0     0.022004         0.057294     0.093313   \n754      0.296857          0.0     0.027664         0.058366     0.097927   \n755      0.288618          0.0     0.027600         0.067635     0.114697   \n\n     tonality_90  tonality_10-tonality_90              name  \n0       0.149417                 0.149417   Record85823.xls  \n1       0.176758                 0.176758   Record85826.xls  \n2       0.162089                 0.162089   Record85828.xls  \n3       0.129303                 0.129303   Record85897.xls  \n4       0.191422                 0.191422   Record85955.xls  \n..           ...                      ...               ...  \n751     0.072974                 0.072974  Record109726.xls  \n752     0.188131                 0.188131  Record109758.xls  \n753     0.130287                 0.130287  Record109784.xls  \n754     0.139450                 0.139450  Record109802.xls  \n755     0.158793                 0.158793  Record109808.xls  \n\n[756 rows x 62 columns]",
      "text/html": "<div>\n<style scoped>\n    .dataframe tbody tr th:only-of-type {\n        vertical-align: middle;\n    }\n\n    .dataframe tbody tr th {\n        vertical-align: top;\n    }\n\n    .dataframe thead th {\n        text-align: right;\n    }\n</style>\n<table border=\"1\" class=\"dataframe\">\n  <thead>\n    <tr style=\"text-align: right;\">\n      <th></th>\n      <th>index</th>\n      <th>leq_mean</th>\n      <th>leq_var</th>\n      <th>leq_std</th>\n      <th>leq_max</th>\n      <th>leq_10</th>\n      <th>leq_25</th>\n      <th>leq_median</th>\n      <th>leq_75</th>\n      <th>leq_90</th>\n      <th>...</th>\n      <th>tonality_var</th>\n      <th>tonality_std</th>\n      <th>tonality_max</th>\n      <th>tonality_10</th>\n      <th>tonality_25</th>\n      <th>tonality_median</th>\n      <th>tonality_75</th>\n      <th>tonality_90</th>\n      <th>tonality_10-tonality_90</th>\n      <th>name</th>\n    </tr>\n  </thead>\n  <tbody>\n    <tr>\n      <th>0</th>\n      <td>0</td>\n      <td>54.312528</td>\n      <td>53.647026</td>\n      <td>7.324739</td>\n      <td>69.625366</td>\n      <td>44.742218</td>\n      <td>46.711838</td>\n      <td>55.229630</td>\n      <td>60.548046</td>\n      <td>64.009647</td>\n      <td>...</td>\n      <td>0.003439</td>\n      <td>0.058662</td>\n      <td>0.291835</td>\n      <td>0.0</td>\n      <td>0.019539</td>\n      <td>0.063939</td>\n      <td>0.109481</td>\n      <td>0.149417</td>\n      <td>0.149417</td>\n      <td>Record85823.xls</td>\n    </tr>\n    <tr>\n      <th>1</th>\n      <td>1</td>\n      <td>55.232130</td>\n      <td>28.291445</td>\n      <td>5.319207</td>\n      <td>69.071991</td>\n      <td>47.749233</td>\n      <td>50.331184</td>\n      <td>56.141373</td>\n      <td>59.358688</td>\n      <td>62.048265</td>\n      <td>...</td>\n      <td>0.003874</td>\n      <td>0.062262</td>\n      <td>0.338405</td>\n      <td>0.0</td>\n      <td>0.046919</td>\n      <td>0.084511</td>\n      <td>0.128971</td>\n      <td>0.176758</td>\n      <td>0.176758</td>\n      <td>Record85826.xls</td>\n    </tr>\n    <tr>\n      <th>2</th>\n      <td>2</td>\n      <td>50.533419</td>\n      <td>16.909742</td>\n      <td>4.112328</td>\n      <td>61.366192</td>\n      <td>44.896023</td>\n      <td>47.537155</td>\n      <td>50.347477</td>\n      <td>53.674778</td>\n      <td>55.721466</td>\n      <td>...</td>\n      <td>0.004035</td>\n      <td>0.063543</td>\n      <td>0.352343</td>\n      <td>0.0</td>\n      <td>0.028660</td>\n      <td>0.067247</td>\n      <td>0.114759</td>\n      <td>0.162089</td>\n      <td>0.162089</td>\n      <td>Record85828.xls</td>\n    </tr>\n    <tr>\n      <th>3</th>\n      <td>3</td>\n      <td>50.206056</td>\n      <td>10.631503</td>\n      <td>3.260744</td>\n      <td>62.288425</td>\n      <td>46.105684</td>\n      <td>47.749138</td>\n      <td>49.969536</td>\n      <td>52.371662</td>\n      <td>54.487446</td>\n      <td>...</td>\n      <td>0.002846</td>\n      <td>0.053369</td>\n      <td>0.345522</td>\n      <td>0.0</td>\n      <td>0.010537</td>\n      <td>0.050323</td>\n      <td>0.090587</td>\n      <td>0.129303</td>\n      <td>0.129303</td>\n      <td>Record85897.xls</td>\n    </tr>\n    <tr>\n      <th>4</th>\n      <td>4</td>\n      <td>50.892217</td>\n      <td>29.397366</td>\n      <td>5.422175</td>\n      <td>62.937305</td>\n      <td>42.569418</td>\n      <td>46.039944</td>\n      <td>52.623150</td>\n      <td>55.334427</td>\n      <td>57.264042</td>\n      <td>...</td>\n      <td>0.006525</td>\n      <td>0.080808</td>\n      <td>0.520856</td>\n      <td>0.0</td>\n      <td>0.035899</td>\n      <td>0.081288</td>\n      <td>0.134716</td>\n      <td>0.191422</td>\n      <td>0.191422</td>\n      <td>Record85955.xls</td>\n    </tr>\n    <tr>\n      <th>...</th>\n      <td>...</td>\n      <td>...</td>\n      <td>...</td>\n      <td>...</td>\n      <td>...</td>\n      <td>...</td>\n      <td>...</td>\n      <td>...</td>\n      <td>...</td>\n      <td>...</td>\n      <td>...</td>\n      <td>...</td>\n      <td>...</td>\n      <td>...</td>\n      <td>...</td>\n      <td>...</td>\n      <td>...</td>\n      <td>...</td>\n      <td>...</td>\n      <td>...</td>\n      <td>...</td>\n    </tr>\n    <tr>\n      <th>751</th>\n      <td>751</td>\n      <td>50.024887</td>\n      <td>0.921990</td>\n      <td>0.960246</td>\n      <td>60.606106</td>\n      <td>49.306311</td>\n      <td>49.514557</td>\n      <td>49.829697</td>\n      <td>50.255989</td>\n      <td>50.816889</td>\n      <td>...</td>\n      <td>0.000993</td>\n      <td>0.031517</td>\n      <td>0.163329</td>\n      <td>0.0</td>\n      <td>0.000000</td>\n      <td>0.027650</td>\n      <td>0.051968</td>\n      <td>0.072974</td>\n      <td>0.072974</td>\n      <td>Record109726.xls</td>\n    </tr>\n    <tr>\n      <th>752</th>\n      <td>752</td>\n      <td>57.370135</td>\n      <td>26.701392</td>\n      <td>5.167569</td>\n      <td>67.176895</td>\n      <td>48.360319</td>\n      <td>54.507286</td>\n      <td>58.689892</td>\n      <td>61.229809</td>\n      <td>62.964729</td>\n      <td>...</td>\n      <td>0.004562</td>\n      <td>0.067565</td>\n      <td>0.336235</td>\n      <td>0.0</td>\n      <td>0.042409</td>\n      <td>0.089499</td>\n      <td>0.137646</td>\n      <td>0.188131</td>\n      <td>0.188131</td>\n      <td>Record109758.xls</td>\n    </tr>\n    <tr>\n      <th>753</th>\n      <td>753</td>\n      <td>51.327230</td>\n      <td>3.189279</td>\n      <td>1.785935</td>\n      <td>61.432575</td>\n      <td>49.293150</td>\n      <td>49.961189</td>\n      <td>51.132454</td>\n      <td>52.213837</td>\n      <td>53.257622</td>\n      <td>...</td>\n      <td>0.002586</td>\n      <td>0.050873</td>\n      <td>0.264383</td>\n      <td>0.0</td>\n      <td>0.022004</td>\n      <td>0.057294</td>\n      <td>0.093313</td>\n      <td>0.130287</td>\n      <td>0.130287</td>\n      <td>Record109784.xls</td>\n    </tr>\n    <tr>\n      <th>754</th>\n      <td>754</td>\n      <td>55.527740</td>\n      <td>40.705632</td>\n      <td>6.380380</td>\n      <td>69.133560</td>\n      <td>47.716015</td>\n      <td>48.599403</td>\n      <td>56.505791</td>\n      <td>61.127293</td>\n      <td>63.526405</td>\n      <td>...</td>\n      <td>0.002881</td>\n      <td>0.053694</td>\n      <td>0.296857</td>\n      <td>0.0</td>\n      <td>0.027664</td>\n      <td>0.058366</td>\n      <td>0.097927</td>\n      <td>0.139450</td>\n      <td>0.139450</td>\n      <td>Record109802.xls</td>\n    </tr>\n    <tr>\n      <th>755</th>\n      <td>755</td>\n      <td>55.996762</td>\n      <td>21.450448</td>\n      <td>4.631669</td>\n      <td>68.200005</td>\n      <td>49.953733</td>\n      <td>52.022823</td>\n      <td>55.898090</td>\n      <td>59.538589</td>\n      <td>62.553637</td>\n      <td>...</td>\n      <td>0.003738</td>\n      <td>0.061163</td>\n      <td>0.288618</td>\n      <td>0.0</td>\n      <td>0.027600</td>\n      <td>0.067635</td>\n      <td>0.114697</td>\n      <td>0.158793</td>\n      <td>0.158793</td>\n      <td>Record109808.xls</td>\n    </tr>\n  </tbody>\n</table>\n<p>756 rows × 62 columns</p>\n</div>"
     },
     "execution_count": 13,
     "metadata": {},
     "output_type": "execute_result"
    }
   ],
   "source": [
    "kyllin_data"
   ],
   "metadata": {
    "collapsed": false,
    "pycharm": {
     "name": "#%%\n"
    }
   }
  },
  {
   "cell_type": "code",
   "execution_count": 14,
   "outputs": [
    {
     "data": {
      "text/plain": "0       Record85823.xls\n1       Record85826.xls\n2       Record85828.xls\n3       Record85897.xls\n4       Record85955.xls\n             ...       \n751    Record109726.xls\n752    Record109758.xls\n753    Record109784.xls\n754    Record109802.xls\n755    Record109808.xls\nName: name, Length: 756, dtype: object"
     },
     "execution_count": 14,
     "metadata": {},
     "output_type": "execute_result"
    }
   ],
   "source": [
    "name = kyllin_data['name']\n",
    "name"
   ],
   "metadata": {
    "collapsed": false,
    "pycharm": {
     "name": "#%%\n"
    }
   }
  },
  {
   "cell_type": "code",
   "execution_count": 15,
   "outputs": [
    {
     "name": "stderr",
     "output_type": "stream",
     "text": [
      "C:\\Users\\Black\\AppData\\Local\\Temp\\ipykernel_19068\\4210374407.py:3: SettingWithCopyWarning: \n",
      "A value is trying to be set on a copy of a slice from a DataFrame\n",
      "\n",
      "See the caveats in the documentation: https://pandas.pydata.org/pandas-docs/stable/user_guide/indexing.html#returning-a-view-versus-a-copy\n",
      "  name[i] = temp[0]\n"
     ]
    },
    {
     "data": {
      "text/plain": "     index   leq_mean    leq_var   leq_std    leq_max     leq_10     leq_25  \\\n0        0  54.312528  53.647026  7.324739  69.625366  44.742218  46.711838   \n1        1  55.232130  28.291445  5.319207  69.071991  47.749233  50.331184   \n2        2  50.533419  16.909742  4.112328  61.366192  44.896023  47.537155   \n3        3  50.206056  10.631503  3.260744  62.288425  46.105684  47.749138   \n4        4  50.892217  29.397366  5.422175  62.937305  42.569418  46.039944   \n..     ...        ...        ...       ...        ...        ...        ...   \n751    751  50.024887   0.921990  0.960246  60.606106  49.306311  49.514557   \n752    752  57.370135  26.701392  5.167569  67.176895  48.360319  54.507286   \n753    753  51.327230   3.189279  1.785935  61.432575  49.293150  49.961189   \n754    754  55.527740  40.705632  6.380380  69.133560  47.716015  48.599403   \n755    755  55.996762  21.450448  4.631669  68.200005  49.953733  52.022823   \n\n     leq_median     leq_75     leq_90  ...  tonality_var  tonality_std  \\\n0     55.229630  60.548046  64.009647  ...      0.003439      0.058662   \n1     56.141373  59.358688  62.048265  ...      0.003874      0.062262   \n2     50.347477  53.674778  55.721466  ...      0.004035      0.063543   \n3     49.969536  52.371662  54.487446  ...      0.002846      0.053369   \n4     52.623150  55.334427  57.264042  ...      0.006525      0.080808   \n..          ...        ...        ...  ...           ...           ...   \n751   49.829697  50.255989  50.816889  ...      0.000993      0.031517   \n752   58.689892  61.229809  62.964729  ...      0.004562      0.067565   \n753   51.132454  52.213837  53.257622  ...      0.002586      0.050873   \n754   56.505791  61.127293  63.526405  ...      0.002881      0.053694   \n755   55.898090  59.538589  62.553637  ...      0.003738      0.061163   \n\n     tonality_max  tonality_10  tonality_25  tonality_median  tonality_75  \\\n0        0.291835          0.0     0.019539         0.063939     0.109481   \n1        0.338405          0.0     0.046919         0.084511     0.128971   \n2        0.352343          0.0     0.028660         0.067247     0.114759   \n3        0.345522          0.0     0.010537         0.050323     0.090587   \n4        0.520856          0.0     0.035899         0.081288     0.134716   \n..            ...          ...          ...              ...          ...   \n751      0.163329          0.0     0.000000         0.027650     0.051968   \n752      0.336235          0.0     0.042409         0.089499     0.137646   \n753      0.264383          0.0     0.022004         0.057294     0.093313   \n754      0.296857          0.0     0.027664         0.058366     0.097927   \n755      0.288618          0.0     0.027600         0.067635     0.114697   \n\n     tonality_90  tonality_10-tonality_90          name  \n0       0.149417                 0.149417   Record85823  \n1       0.176758                 0.176758   Record85826  \n2       0.162089                 0.162089   Record85828  \n3       0.129303                 0.129303   Record85897  \n4       0.191422                 0.191422   Record85955  \n..           ...                      ...           ...  \n751     0.072974                 0.072974  Record109726  \n752     0.188131                 0.188131  Record109758  \n753     0.130287                 0.130287  Record109784  \n754     0.139450                 0.139450  Record109802  \n755     0.158793                 0.158793  Record109808  \n\n[756 rows x 62 columns]",
      "text/html": "<div>\n<style scoped>\n    .dataframe tbody tr th:only-of-type {\n        vertical-align: middle;\n    }\n\n    .dataframe tbody tr th {\n        vertical-align: top;\n    }\n\n    .dataframe thead th {\n        text-align: right;\n    }\n</style>\n<table border=\"1\" class=\"dataframe\">\n  <thead>\n    <tr style=\"text-align: right;\">\n      <th></th>\n      <th>index</th>\n      <th>leq_mean</th>\n      <th>leq_var</th>\n      <th>leq_std</th>\n      <th>leq_max</th>\n      <th>leq_10</th>\n      <th>leq_25</th>\n      <th>leq_median</th>\n      <th>leq_75</th>\n      <th>leq_90</th>\n      <th>...</th>\n      <th>tonality_var</th>\n      <th>tonality_std</th>\n      <th>tonality_max</th>\n      <th>tonality_10</th>\n      <th>tonality_25</th>\n      <th>tonality_median</th>\n      <th>tonality_75</th>\n      <th>tonality_90</th>\n      <th>tonality_10-tonality_90</th>\n      <th>name</th>\n    </tr>\n  </thead>\n  <tbody>\n    <tr>\n      <th>0</th>\n      <td>0</td>\n      <td>54.312528</td>\n      <td>53.647026</td>\n      <td>7.324739</td>\n      <td>69.625366</td>\n      <td>44.742218</td>\n      <td>46.711838</td>\n      <td>55.229630</td>\n      <td>60.548046</td>\n      <td>64.009647</td>\n      <td>...</td>\n      <td>0.003439</td>\n      <td>0.058662</td>\n      <td>0.291835</td>\n      <td>0.0</td>\n      <td>0.019539</td>\n      <td>0.063939</td>\n      <td>0.109481</td>\n      <td>0.149417</td>\n      <td>0.149417</td>\n      <td>Record85823</td>\n    </tr>\n    <tr>\n      <th>1</th>\n      <td>1</td>\n      <td>55.232130</td>\n      <td>28.291445</td>\n      <td>5.319207</td>\n      <td>69.071991</td>\n      <td>47.749233</td>\n      <td>50.331184</td>\n      <td>56.141373</td>\n      <td>59.358688</td>\n      <td>62.048265</td>\n      <td>...</td>\n      <td>0.003874</td>\n      <td>0.062262</td>\n      <td>0.338405</td>\n      <td>0.0</td>\n      <td>0.046919</td>\n      <td>0.084511</td>\n      <td>0.128971</td>\n      <td>0.176758</td>\n      <td>0.176758</td>\n      <td>Record85826</td>\n    </tr>\n    <tr>\n      <th>2</th>\n      <td>2</td>\n      <td>50.533419</td>\n      <td>16.909742</td>\n      <td>4.112328</td>\n      <td>61.366192</td>\n      <td>44.896023</td>\n      <td>47.537155</td>\n      <td>50.347477</td>\n      <td>53.674778</td>\n      <td>55.721466</td>\n      <td>...</td>\n      <td>0.004035</td>\n      <td>0.063543</td>\n      <td>0.352343</td>\n      <td>0.0</td>\n      <td>0.028660</td>\n      <td>0.067247</td>\n      <td>0.114759</td>\n      <td>0.162089</td>\n      <td>0.162089</td>\n      <td>Record85828</td>\n    </tr>\n    <tr>\n      <th>3</th>\n      <td>3</td>\n      <td>50.206056</td>\n      <td>10.631503</td>\n      <td>3.260744</td>\n      <td>62.288425</td>\n      <td>46.105684</td>\n      <td>47.749138</td>\n      <td>49.969536</td>\n      <td>52.371662</td>\n      <td>54.487446</td>\n      <td>...</td>\n      <td>0.002846</td>\n      <td>0.053369</td>\n      <td>0.345522</td>\n      <td>0.0</td>\n      <td>0.010537</td>\n      <td>0.050323</td>\n      <td>0.090587</td>\n      <td>0.129303</td>\n      <td>0.129303</td>\n      <td>Record85897</td>\n    </tr>\n    <tr>\n      <th>4</th>\n      <td>4</td>\n      <td>50.892217</td>\n      <td>29.397366</td>\n      <td>5.422175</td>\n      <td>62.937305</td>\n      <td>42.569418</td>\n      <td>46.039944</td>\n      <td>52.623150</td>\n      <td>55.334427</td>\n      <td>57.264042</td>\n      <td>...</td>\n      <td>0.006525</td>\n      <td>0.080808</td>\n      <td>0.520856</td>\n      <td>0.0</td>\n      <td>0.035899</td>\n      <td>0.081288</td>\n      <td>0.134716</td>\n      <td>0.191422</td>\n      <td>0.191422</td>\n      <td>Record85955</td>\n    </tr>\n    <tr>\n      <th>...</th>\n      <td>...</td>\n      <td>...</td>\n      <td>...</td>\n      <td>...</td>\n      <td>...</td>\n      <td>...</td>\n      <td>...</td>\n      <td>...</td>\n      <td>...</td>\n      <td>...</td>\n      <td>...</td>\n      <td>...</td>\n      <td>...</td>\n      <td>...</td>\n      <td>...</td>\n      <td>...</td>\n      <td>...</td>\n      <td>...</td>\n      <td>...</td>\n      <td>...</td>\n      <td>...</td>\n    </tr>\n    <tr>\n      <th>751</th>\n      <td>751</td>\n      <td>50.024887</td>\n      <td>0.921990</td>\n      <td>0.960246</td>\n      <td>60.606106</td>\n      <td>49.306311</td>\n      <td>49.514557</td>\n      <td>49.829697</td>\n      <td>50.255989</td>\n      <td>50.816889</td>\n      <td>...</td>\n      <td>0.000993</td>\n      <td>0.031517</td>\n      <td>0.163329</td>\n      <td>0.0</td>\n      <td>0.000000</td>\n      <td>0.027650</td>\n      <td>0.051968</td>\n      <td>0.072974</td>\n      <td>0.072974</td>\n      <td>Record109726</td>\n    </tr>\n    <tr>\n      <th>752</th>\n      <td>752</td>\n      <td>57.370135</td>\n      <td>26.701392</td>\n      <td>5.167569</td>\n      <td>67.176895</td>\n      <td>48.360319</td>\n      <td>54.507286</td>\n      <td>58.689892</td>\n      <td>61.229809</td>\n      <td>62.964729</td>\n      <td>...</td>\n      <td>0.004562</td>\n      <td>0.067565</td>\n      <td>0.336235</td>\n      <td>0.0</td>\n      <td>0.042409</td>\n      <td>0.089499</td>\n      <td>0.137646</td>\n      <td>0.188131</td>\n      <td>0.188131</td>\n      <td>Record109758</td>\n    </tr>\n    <tr>\n      <th>753</th>\n      <td>753</td>\n      <td>51.327230</td>\n      <td>3.189279</td>\n      <td>1.785935</td>\n      <td>61.432575</td>\n      <td>49.293150</td>\n      <td>49.961189</td>\n      <td>51.132454</td>\n      <td>52.213837</td>\n      <td>53.257622</td>\n      <td>...</td>\n      <td>0.002586</td>\n      <td>0.050873</td>\n      <td>0.264383</td>\n      <td>0.0</td>\n      <td>0.022004</td>\n      <td>0.057294</td>\n      <td>0.093313</td>\n      <td>0.130287</td>\n      <td>0.130287</td>\n      <td>Record109784</td>\n    </tr>\n    <tr>\n      <th>754</th>\n      <td>754</td>\n      <td>55.527740</td>\n      <td>40.705632</td>\n      <td>6.380380</td>\n      <td>69.133560</td>\n      <td>47.716015</td>\n      <td>48.599403</td>\n      <td>56.505791</td>\n      <td>61.127293</td>\n      <td>63.526405</td>\n      <td>...</td>\n      <td>0.002881</td>\n      <td>0.053694</td>\n      <td>0.296857</td>\n      <td>0.0</td>\n      <td>0.027664</td>\n      <td>0.058366</td>\n      <td>0.097927</td>\n      <td>0.139450</td>\n      <td>0.139450</td>\n      <td>Record109802</td>\n    </tr>\n    <tr>\n      <th>755</th>\n      <td>755</td>\n      <td>55.996762</td>\n      <td>21.450448</td>\n      <td>4.631669</td>\n      <td>68.200005</td>\n      <td>49.953733</td>\n      <td>52.022823</td>\n      <td>55.898090</td>\n      <td>59.538589</td>\n      <td>62.553637</td>\n      <td>...</td>\n      <td>0.003738</td>\n      <td>0.061163</td>\n      <td>0.288618</td>\n      <td>0.0</td>\n      <td>0.027600</td>\n      <td>0.067635</td>\n      <td>0.114697</td>\n      <td>0.158793</td>\n      <td>0.158793</td>\n      <td>Record109808</td>\n    </tr>\n  </tbody>\n</table>\n<p>756 rows × 62 columns</p>\n</div>"
     },
     "execution_count": 15,
     "metadata": {},
     "output_type": "execute_result"
    }
   ],
   "source": [
    "for i in range(len(name)):\n",
    "    temp = name[i].split('.')\n",
    "    name[i] = temp[0]\n",
    "\n",
    "kyllin_data"
   ],
   "metadata": {
    "collapsed": false,
    "pycharm": {
     "name": "#%%\n"
    }
   }
  },
  {
   "cell_type": "code",
   "execution_count": 17,
   "outputs": [],
   "source": [
    "kyllin_data.to_csv(r'./output/kyllin_data.csv', index=False)"
   ],
   "metadata": {
    "collapsed": false,
    "pycharm": {
     "name": "#%%\n"
    }
   }
  },
  {
   "cell_type": "code",
   "execution_count": null,
   "outputs": [],
   "source": [],
   "metadata": {
    "collapsed": false,
    "pycharm": {
     "name": "#%%\n"
    }
   }
  }
 ],
 "metadata": {
  "kernelspec": {
   "display_name": "Python 3",
   "language": "python",
   "name": "python3"
  },
  "language_info": {
   "codemirror_mode": {
    "name": "ipython",
    "version": 2
   },
   "file_extension": ".py",
   "mimetype": "text/x-python",
   "name": "python",
   "nbconvert_exporter": "python",
   "pygments_lexer": "ipython2",
   "version": "2.7.6"
  }
 },
 "nbformat": 4,
 "nbformat_minor": 0
}
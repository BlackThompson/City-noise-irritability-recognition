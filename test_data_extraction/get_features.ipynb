{
 "cells": [
  {
   "cell_type": "code",
   "execution_count": 15,
   "metadata": {
    "collapsed": true
   },
   "outputs": [
    {
     "data": {
      "text/plain": "     index   leq_mean    leq_var   leq_std    leq_max     leq_10     leq_25  \\\n0        0  54.312528  53.647026  7.324739  69.625366  44.742218  46.711838   \n1        1  55.232130  28.291445  5.319207  69.071991  47.749233  50.331184   \n2        2  50.533419  16.909742  4.112328  61.366192  44.896023  47.537155   \n3        3  50.206056  10.631503  3.260744  62.288425  46.105684  47.749138   \n4        4  50.892217  29.397366  5.422175  62.937305  42.569418  46.039944   \n..     ...        ...        ...       ...        ...        ...        ...   \n751    751  50.024887   0.921990  0.960246  60.606106  49.306311  49.514557   \n752    752  57.370135  26.701392  5.167569  67.176895  48.360319  54.507286   \n753    753  51.327230   3.189279  1.785935  61.432575  49.293150  49.961189   \n754    754  55.527740  40.705632  6.380380  69.133560  47.716015  48.599403   \n755    755  55.996762  21.450448  4.631669  68.200005  49.953733  52.022823   \n\n     leq_median     leq_75     leq_90  ...  tonality_var  tonality_std  \\\n0     55.229630  60.548046  64.009647  ...      0.003439      0.058662   \n1     56.141373  59.358688  62.048265  ...      0.003874      0.062262   \n2     50.347477  53.674778  55.721466  ...      0.004035      0.063543   \n3     49.969536  52.371662  54.487446  ...      0.002846      0.053369   \n4     52.623150  55.334427  57.264042  ...      0.006525      0.080808   \n..          ...        ...        ...  ...           ...           ...   \n751   49.829697  50.255989  50.816889  ...      0.000993      0.031517   \n752   58.689892  61.229809  62.964729  ...      0.004562      0.067565   \n753   51.132454  52.213837  53.257622  ...      0.002586      0.050873   \n754   56.505791  61.127293  63.526405  ...      0.002881      0.053694   \n755   55.898090  59.538589  62.553637  ...      0.003738      0.061163   \n\n     tonality_max  tonality_10  tonality_25  tonality_median  tonality_75  \\\n0        0.291835          0.0     0.019539         0.063939     0.109481   \n1        0.338405          0.0     0.046919         0.084511     0.128971   \n2        0.352343          0.0     0.028660         0.067247     0.114759   \n3        0.345522          0.0     0.010537         0.050323     0.090587   \n4        0.520856          0.0     0.035899         0.081288     0.134716   \n..            ...          ...          ...              ...          ...   \n751      0.163329          0.0     0.000000         0.027650     0.051968   \n752      0.336235          0.0     0.042409         0.089499     0.137646   \n753      0.264383          0.0     0.022004         0.057294     0.093313   \n754      0.296857          0.0     0.027664         0.058366     0.097927   \n755      0.288618          0.0     0.027600         0.067635     0.114697   \n\n     tonality_90  tonality_10-tonality_90          name  \n0       0.149417                 0.149417   Record85823  \n1       0.176758                 0.176758   Record85826  \n2       0.162089                 0.162089   Record85828  \n3       0.129303                 0.129303   Record85897  \n4       0.191422                 0.191422   Record85955  \n..           ...                      ...           ...  \n751     0.072974                 0.072974  Record109726  \n752     0.188131                 0.188131  Record109758  \n753     0.130287                 0.130287  Record109784  \n754     0.139450                 0.139450  Record109802  \n755     0.158793                 0.158793  Record109808  \n\n[756 rows x 62 columns]",
      "text/html": "<div>\n<style scoped>\n    .dataframe tbody tr th:only-of-type {\n        vertical-align: middle;\n    }\n\n    .dataframe tbody tr th {\n        vertical-align: top;\n    }\n\n    .dataframe thead th {\n        text-align: right;\n    }\n</style>\n<table border=\"1\" class=\"dataframe\">\n  <thead>\n    <tr style=\"text-align: right;\">\n      <th></th>\n      <th>index</th>\n      <th>leq_mean</th>\n      <th>leq_var</th>\n      <th>leq_std</th>\n      <th>leq_max</th>\n      <th>leq_10</th>\n      <th>leq_25</th>\n      <th>leq_median</th>\n      <th>leq_75</th>\n      <th>leq_90</th>\n      <th>...</th>\n      <th>tonality_var</th>\n      <th>tonality_std</th>\n      <th>tonality_max</th>\n      <th>tonality_10</th>\n      <th>tonality_25</th>\n      <th>tonality_median</th>\n      <th>tonality_75</th>\n      <th>tonality_90</th>\n      <th>tonality_10-tonality_90</th>\n      <th>name</th>\n    </tr>\n  </thead>\n  <tbody>\n    <tr>\n      <th>0</th>\n      <td>0</td>\n      <td>54.312528</td>\n      <td>53.647026</td>\n      <td>7.324739</td>\n      <td>69.625366</td>\n      <td>44.742218</td>\n      <td>46.711838</td>\n      <td>55.229630</td>\n      <td>60.548046</td>\n      <td>64.009647</td>\n      <td>...</td>\n      <td>0.003439</td>\n      <td>0.058662</td>\n      <td>0.291835</td>\n      <td>0.0</td>\n      <td>0.019539</td>\n      <td>0.063939</td>\n      <td>0.109481</td>\n      <td>0.149417</td>\n      <td>0.149417</td>\n      <td>Record85823</td>\n    </tr>\n    <tr>\n      <th>1</th>\n      <td>1</td>\n      <td>55.232130</td>\n      <td>28.291445</td>\n      <td>5.319207</td>\n      <td>69.071991</td>\n      <td>47.749233</td>\n      <td>50.331184</td>\n      <td>56.141373</td>\n      <td>59.358688</td>\n      <td>62.048265</td>\n      <td>...</td>\n      <td>0.003874</td>\n      <td>0.062262</td>\n      <td>0.338405</td>\n      <td>0.0</td>\n      <td>0.046919</td>\n      <td>0.084511</td>\n      <td>0.128971</td>\n      <td>0.176758</td>\n      <td>0.176758</td>\n      <td>Record85826</td>\n    </tr>\n    <tr>\n      <th>2</th>\n      <td>2</td>\n      <td>50.533419</td>\n      <td>16.909742</td>\n      <td>4.112328</td>\n      <td>61.366192</td>\n      <td>44.896023</td>\n      <td>47.537155</td>\n      <td>50.347477</td>\n      <td>53.674778</td>\n      <td>55.721466</td>\n      <td>...</td>\n      <td>0.004035</td>\n      <td>0.063543</td>\n      <td>0.352343</td>\n      <td>0.0</td>\n      <td>0.028660</td>\n      <td>0.067247</td>\n      <td>0.114759</td>\n      <td>0.162089</td>\n      <td>0.162089</td>\n      <td>Record85828</td>\n    </tr>\n    <tr>\n      <th>3</th>\n      <td>3</td>\n      <td>50.206056</td>\n      <td>10.631503</td>\n      <td>3.260744</td>\n      <td>62.288425</td>\n      <td>46.105684</td>\n      <td>47.749138</td>\n      <td>49.969536</td>\n      <td>52.371662</td>\n      <td>54.487446</td>\n      <td>...</td>\n      <td>0.002846</td>\n      <td>0.053369</td>\n      <td>0.345522</td>\n      <td>0.0</td>\n      <td>0.010537</td>\n      <td>0.050323</td>\n      <td>0.090587</td>\n      <td>0.129303</td>\n      <td>0.129303</td>\n      <td>Record85897</td>\n    </tr>\n    <tr>\n      <th>4</th>\n      <td>4</td>\n      <td>50.892217</td>\n      <td>29.397366</td>\n      <td>5.422175</td>\n      <td>62.937305</td>\n      <td>42.569418</td>\n      <td>46.039944</td>\n      <td>52.623150</td>\n      <td>55.334427</td>\n      <td>57.264042</td>\n      <td>...</td>\n      <td>0.006525</td>\n      <td>0.080808</td>\n      <td>0.520856</td>\n      <td>0.0</td>\n      <td>0.035899</td>\n      <td>0.081288</td>\n      <td>0.134716</td>\n      <td>0.191422</td>\n      <td>0.191422</td>\n      <td>Record85955</td>\n    </tr>\n    <tr>\n      <th>...</th>\n      <td>...</td>\n      <td>...</td>\n      <td>...</td>\n      <td>...</td>\n      <td>...</td>\n      <td>...</td>\n      <td>...</td>\n      <td>...</td>\n      <td>...</td>\n      <td>...</td>\n      <td>...</td>\n      <td>...</td>\n      <td>...</td>\n      <td>...</td>\n      <td>...</td>\n      <td>...</td>\n      <td>...</td>\n      <td>...</td>\n      <td>...</td>\n      <td>...</td>\n      <td>...</td>\n    </tr>\n    <tr>\n      <th>751</th>\n      <td>751</td>\n      <td>50.024887</td>\n      <td>0.921990</td>\n      <td>0.960246</td>\n      <td>60.606106</td>\n      <td>49.306311</td>\n      <td>49.514557</td>\n      <td>49.829697</td>\n      <td>50.255989</td>\n      <td>50.816889</td>\n      <td>...</td>\n      <td>0.000993</td>\n      <td>0.031517</td>\n      <td>0.163329</td>\n      <td>0.0</td>\n      <td>0.000000</td>\n      <td>0.027650</td>\n      <td>0.051968</td>\n      <td>0.072974</td>\n      <td>0.072974</td>\n      <td>Record109726</td>\n    </tr>\n    <tr>\n      <th>752</th>\n      <td>752</td>\n      <td>57.370135</td>\n      <td>26.701392</td>\n      <td>5.167569</td>\n      <td>67.176895</td>\n      <td>48.360319</td>\n      <td>54.507286</td>\n      <td>58.689892</td>\n      <td>61.229809</td>\n      <td>62.964729</td>\n      <td>...</td>\n      <td>0.004562</td>\n      <td>0.067565</td>\n      <td>0.336235</td>\n      <td>0.0</td>\n      <td>0.042409</td>\n      <td>0.089499</td>\n      <td>0.137646</td>\n      <td>0.188131</td>\n      <td>0.188131</td>\n      <td>Record109758</td>\n    </tr>\n    <tr>\n      <th>753</th>\n      <td>753</td>\n      <td>51.327230</td>\n      <td>3.189279</td>\n      <td>1.785935</td>\n      <td>61.432575</td>\n      <td>49.293150</td>\n      <td>49.961189</td>\n      <td>51.132454</td>\n      <td>52.213837</td>\n      <td>53.257622</td>\n      <td>...</td>\n      <td>0.002586</td>\n      <td>0.050873</td>\n      <td>0.264383</td>\n      <td>0.0</td>\n      <td>0.022004</td>\n      <td>0.057294</td>\n      <td>0.093313</td>\n      <td>0.130287</td>\n      <td>0.130287</td>\n      <td>Record109784</td>\n    </tr>\n    <tr>\n      <th>754</th>\n      <td>754</td>\n      <td>55.527740</td>\n      <td>40.705632</td>\n      <td>6.380380</td>\n      <td>69.133560</td>\n      <td>47.716015</td>\n      <td>48.599403</td>\n      <td>56.505791</td>\n      <td>61.127293</td>\n      <td>63.526405</td>\n      <td>...</td>\n      <td>0.002881</td>\n      <td>0.053694</td>\n      <td>0.296857</td>\n      <td>0.0</td>\n      <td>0.027664</td>\n      <td>0.058366</td>\n      <td>0.097927</td>\n      <td>0.139450</td>\n      <td>0.139450</td>\n      <td>Record109802</td>\n    </tr>\n    <tr>\n      <th>755</th>\n      <td>755</td>\n      <td>55.996762</td>\n      <td>21.450448</td>\n      <td>4.631669</td>\n      <td>68.200005</td>\n      <td>49.953733</td>\n      <td>52.022823</td>\n      <td>55.898090</td>\n      <td>59.538589</td>\n      <td>62.553637</td>\n      <td>...</td>\n      <td>0.003738</td>\n      <td>0.061163</td>\n      <td>0.288618</td>\n      <td>0.0</td>\n      <td>0.027600</td>\n      <td>0.067635</td>\n      <td>0.114697</td>\n      <td>0.158793</td>\n      <td>0.158793</td>\n      <td>Record109808</td>\n    </tr>\n  </tbody>\n</table>\n<p>756 rows × 62 columns</p>\n</div>"
     },
     "execution_count": 15,
     "metadata": {},
     "output_type": "execute_result"
    }
   ],
   "source": [
    "import pandas as pd\n",
    "\n",
    "kyllin_data_path = r'./input/kyllin_data.csv'\n",
    "yf_data_path = r'./input/杨凡1.xlsx'\n",
    "\n",
    "kyllin_data = pd.read_csv(kyllin_data_path)\n",
    "yf_data = pd.read_excel(yf_data_path)\n",
    "\n",
    "kyllin_data"
   ]
  },
  {
   "cell_type": "code",
   "execution_count": 8,
   "outputs": [
    {
     "data": {
      "text/plain": "       id     file_name      Leq      Pctn  吵闹度\n0       4   Record85826  55.2321  0.205802    3\n1     216   Record86063  50.9904  0.394341    4\n2     297   Record86146  55.7322  0.292217    2\n3     534   Record86411  50.8508  0.683320    7\n4     683   Record86571  50.4805  0.535312    5\n..    ...           ...      ...       ...  ...\n70  15900  Record108545  51.6846  0.120519    4\n71  16476  Record109142  56.0864  0.319093    3\n72  16813  Record109497  50.0472  0.275099    3\n73  16839  Record109524  50.8745  0.085303    3\n74  17086  Record109784  51.3272  0.266403    4\n\n[75 rows x 5 columns]",
      "text/html": "<div>\n<style scoped>\n    .dataframe tbody tr th:only-of-type {\n        vertical-align: middle;\n    }\n\n    .dataframe tbody tr th {\n        vertical-align: top;\n    }\n\n    .dataframe thead th {\n        text-align: right;\n    }\n</style>\n<table border=\"1\" class=\"dataframe\">\n  <thead>\n    <tr style=\"text-align: right;\">\n      <th></th>\n      <th>id</th>\n      <th>file_name</th>\n      <th>Leq</th>\n      <th>Pctn</th>\n      <th>吵闹度</th>\n    </tr>\n  </thead>\n  <tbody>\n    <tr>\n      <th>0</th>\n      <td>4</td>\n      <td>Record85826</td>\n      <td>55.2321</td>\n      <td>0.205802</td>\n      <td>3</td>\n    </tr>\n    <tr>\n      <th>1</th>\n      <td>216</td>\n      <td>Record86063</td>\n      <td>50.9904</td>\n      <td>0.394341</td>\n      <td>4</td>\n    </tr>\n    <tr>\n      <th>2</th>\n      <td>297</td>\n      <td>Record86146</td>\n      <td>55.7322</td>\n      <td>0.292217</td>\n      <td>2</td>\n    </tr>\n    <tr>\n      <th>3</th>\n      <td>534</td>\n      <td>Record86411</td>\n      <td>50.8508</td>\n      <td>0.683320</td>\n      <td>7</td>\n    </tr>\n    <tr>\n      <th>4</th>\n      <td>683</td>\n      <td>Record86571</td>\n      <td>50.4805</td>\n      <td>0.535312</td>\n      <td>5</td>\n    </tr>\n    <tr>\n      <th>...</th>\n      <td>...</td>\n      <td>...</td>\n      <td>...</td>\n      <td>...</td>\n      <td>...</td>\n    </tr>\n    <tr>\n      <th>70</th>\n      <td>15900</td>\n      <td>Record108545</td>\n      <td>51.6846</td>\n      <td>0.120519</td>\n      <td>4</td>\n    </tr>\n    <tr>\n      <th>71</th>\n      <td>16476</td>\n      <td>Record109142</td>\n      <td>56.0864</td>\n      <td>0.319093</td>\n      <td>3</td>\n    </tr>\n    <tr>\n      <th>72</th>\n      <td>16813</td>\n      <td>Record109497</td>\n      <td>50.0472</td>\n      <td>0.275099</td>\n      <td>3</td>\n    </tr>\n    <tr>\n      <th>73</th>\n      <td>16839</td>\n      <td>Record109524</td>\n      <td>50.8745</td>\n      <td>0.085303</td>\n      <td>3</td>\n    </tr>\n    <tr>\n      <th>74</th>\n      <td>17086</td>\n      <td>Record109784</td>\n      <td>51.3272</td>\n      <td>0.266403</td>\n      <td>4</td>\n    </tr>\n  </tbody>\n</table>\n<p>75 rows × 5 columns</p>\n</div>"
     },
     "execution_count": 8,
     "metadata": {},
     "output_type": "execute_result"
    }
   ],
   "source": [
    "yf_data"
   ],
   "metadata": {
    "collapsed": false,
    "pycharm": {
     "name": "#%%\n"
    }
   }
  },
  {
   "cell_type": "code",
   "execution_count": 25,
   "outputs": [],
   "source": [
    "yf_data_features = pd.DataFrame()\n",
    "file_name = yf_data['file_name']\n",
    "\n",
    "for i in range(len(file_name)):\n",
    "    name = file_name[i]\n",
    "    data_features = kyllin_data[kyllin_data['name'] == name]\n",
    "    if len(yf_data_features) == 0 :\n",
    "        yf_data_features = data_features\n",
    "    else:\n",
    "        yf_data_features = yf_data_features.append(data_features)\n",
    "\n"
   ],
   "metadata": {
    "collapsed": false,
    "pycharm": {
     "name": "#%%\n"
    }
   }
  },
  {
   "cell_type": "code",
   "execution_count": 29,
   "outputs": [
    {
     "data": {
      "text/plain": "     index   leq_mean    leq_var   leq_std    leq_max     leq_10     leq_25  \\\n1        1  55.232130  28.291445  5.319207  69.071991  47.749233  50.331184   \n11      11  50.990445  14.365005  3.790288  58.287338  45.634531  47.271271   \n21      21  55.732233   6.655476  2.579936  65.177231  52.413189  53.848297   \n31      31  50.850839  10.522395  3.243968  68.293892  46.865599  48.294189   \n41      41  50.480544  21.698726  4.658396  72.954018  44.806261  47.364754   \n..     ...        ...        ...       ...        ...        ...        ...   \n706    706  51.684594   8.707221  2.950931  61.099491  48.240726  49.122250   \n717    717  56.086409  35.776243  5.981590  73.420624  47.991043  50.723267   \n727    727  50.047239   5.768942  2.401969  59.508881  47.118578  48.324600   \n737    737  50.874526   4.364191  2.089157  61.799881  48.986235  49.593983   \n753    753  51.327230   3.189279  1.785935  61.432575  49.293150  49.961189   \n\n     leq_median     leq_75     leq_90  ...  tonality_std  tonality_max  \\\n1     56.141373  59.358688  62.048265  ...      0.062262      0.338405   \n11    52.034287  54.249622  55.215694  ...      0.047247      0.212326   \n21    55.836800  57.593357  58.858231  ...      0.041625      0.231919   \n31    50.739494  52.977394  54.727055  ...      0.046005      0.344498   \n41    50.697357  53.007847  54.897829  ...      0.053735      0.324143   \n..          ...        ...        ...  ...           ...           ...   \n706   51.338657  53.338589  55.934734  ...      0.061495      0.533374   \n717   56.433147  59.950764  64.281902  ...      0.048654      0.317854   \n727   49.654362  51.642471  53.340521  ...      0.040539      0.205046   \n737   50.240971  51.657730  53.274920  ...      0.038538      0.238971   \n753   51.132454  52.213837  53.257622  ...      0.050873      0.264383   \n\n     tonality_10  tonality_25  tonality_median  tonality_75  tonality_90  \\\n1       0.000000     0.046919         0.084511     0.128971     0.176758   \n11      0.000000     0.000000         0.050423     0.085405     0.118994   \n21      0.000000     0.000000         0.039642     0.071143     0.102402   \n31      0.000000     0.023572         0.050706     0.084524     0.119571   \n41      0.000000     0.015611         0.052863     0.090540     0.131772   \n..           ...          ...              ...          ...          ...   \n706     0.057330     0.077229         0.106951     0.144127     0.194106   \n717     0.000105     0.024658         0.057933     0.093155     0.128309   \n727     0.000000     0.000000         0.036629     0.067197     0.097571   \n737     0.000000     0.000000         0.039179     0.065948     0.091092   \n753     0.000000     0.022004         0.057294     0.093313     0.130287   \n\n     tonality_10-tonality_90          name  noise_score  \n1                   0.176758   Record85826            3  \n11                  0.118994   Record86063            4  \n21                  0.102402   Record86146            2  \n31                  0.119571   Record86411            7  \n41                  0.131772   Record86571            5  \n..                       ...           ...          ...  \n706                 0.136776  Record108545            4  \n717                 0.128203  Record109142            3  \n727                 0.097571  Record109497            3  \n737                 0.091092  Record109524            3  \n753                 0.130287  Record109784            4  \n\n[75 rows x 63 columns]",
      "text/html": "<div>\n<style scoped>\n    .dataframe tbody tr th:only-of-type {\n        vertical-align: middle;\n    }\n\n    .dataframe tbody tr th {\n        vertical-align: top;\n    }\n\n    .dataframe thead th {\n        text-align: right;\n    }\n</style>\n<table border=\"1\" class=\"dataframe\">\n  <thead>\n    <tr style=\"text-align: right;\">\n      <th></th>\n      <th>index</th>\n      <th>leq_mean</th>\n      <th>leq_var</th>\n      <th>leq_std</th>\n      <th>leq_max</th>\n      <th>leq_10</th>\n      <th>leq_25</th>\n      <th>leq_median</th>\n      <th>leq_75</th>\n      <th>leq_90</th>\n      <th>...</th>\n      <th>tonality_std</th>\n      <th>tonality_max</th>\n      <th>tonality_10</th>\n      <th>tonality_25</th>\n      <th>tonality_median</th>\n      <th>tonality_75</th>\n      <th>tonality_90</th>\n      <th>tonality_10-tonality_90</th>\n      <th>name</th>\n      <th>noise_score</th>\n    </tr>\n  </thead>\n  <tbody>\n    <tr>\n      <th>1</th>\n      <td>1</td>\n      <td>55.232130</td>\n      <td>28.291445</td>\n      <td>5.319207</td>\n      <td>69.071991</td>\n      <td>47.749233</td>\n      <td>50.331184</td>\n      <td>56.141373</td>\n      <td>59.358688</td>\n      <td>62.048265</td>\n      <td>...</td>\n      <td>0.062262</td>\n      <td>0.338405</td>\n      <td>0.000000</td>\n      <td>0.046919</td>\n      <td>0.084511</td>\n      <td>0.128971</td>\n      <td>0.176758</td>\n      <td>0.176758</td>\n      <td>Record85826</td>\n      <td>3</td>\n    </tr>\n    <tr>\n      <th>11</th>\n      <td>11</td>\n      <td>50.990445</td>\n      <td>14.365005</td>\n      <td>3.790288</td>\n      <td>58.287338</td>\n      <td>45.634531</td>\n      <td>47.271271</td>\n      <td>52.034287</td>\n      <td>54.249622</td>\n      <td>55.215694</td>\n      <td>...</td>\n      <td>0.047247</td>\n      <td>0.212326</td>\n      <td>0.000000</td>\n      <td>0.000000</td>\n      <td>0.050423</td>\n      <td>0.085405</td>\n      <td>0.118994</td>\n      <td>0.118994</td>\n      <td>Record86063</td>\n      <td>4</td>\n    </tr>\n    <tr>\n      <th>21</th>\n      <td>21</td>\n      <td>55.732233</td>\n      <td>6.655476</td>\n      <td>2.579936</td>\n      <td>65.177231</td>\n      <td>52.413189</td>\n      <td>53.848297</td>\n      <td>55.836800</td>\n      <td>57.593357</td>\n      <td>58.858231</td>\n      <td>...</td>\n      <td>0.041625</td>\n      <td>0.231919</td>\n      <td>0.000000</td>\n      <td>0.000000</td>\n      <td>0.039642</td>\n      <td>0.071143</td>\n      <td>0.102402</td>\n      <td>0.102402</td>\n      <td>Record86146</td>\n      <td>2</td>\n    </tr>\n    <tr>\n      <th>31</th>\n      <td>31</td>\n      <td>50.850839</td>\n      <td>10.522395</td>\n      <td>3.243968</td>\n      <td>68.293892</td>\n      <td>46.865599</td>\n      <td>48.294189</td>\n      <td>50.739494</td>\n      <td>52.977394</td>\n      <td>54.727055</td>\n      <td>...</td>\n      <td>0.046005</td>\n      <td>0.344498</td>\n      <td>0.000000</td>\n      <td>0.023572</td>\n      <td>0.050706</td>\n      <td>0.084524</td>\n      <td>0.119571</td>\n      <td>0.119571</td>\n      <td>Record86411</td>\n      <td>7</td>\n    </tr>\n    <tr>\n      <th>41</th>\n      <td>41</td>\n      <td>50.480544</td>\n      <td>21.698726</td>\n      <td>4.658396</td>\n      <td>72.954018</td>\n      <td>44.806261</td>\n      <td>47.364754</td>\n      <td>50.697357</td>\n      <td>53.007847</td>\n      <td>54.897829</td>\n      <td>...</td>\n      <td>0.053735</td>\n      <td>0.324143</td>\n      <td>0.000000</td>\n      <td>0.015611</td>\n      <td>0.052863</td>\n      <td>0.090540</td>\n      <td>0.131772</td>\n      <td>0.131772</td>\n      <td>Record86571</td>\n      <td>5</td>\n    </tr>\n    <tr>\n      <th>...</th>\n      <td>...</td>\n      <td>...</td>\n      <td>...</td>\n      <td>...</td>\n      <td>...</td>\n      <td>...</td>\n      <td>...</td>\n      <td>...</td>\n      <td>...</td>\n      <td>...</td>\n      <td>...</td>\n      <td>...</td>\n      <td>...</td>\n      <td>...</td>\n      <td>...</td>\n      <td>...</td>\n      <td>...</td>\n      <td>...</td>\n      <td>...</td>\n      <td>...</td>\n      <td>...</td>\n    </tr>\n    <tr>\n      <th>706</th>\n      <td>706</td>\n      <td>51.684594</td>\n      <td>8.707221</td>\n      <td>2.950931</td>\n      <td>61.099491</td>\n      <td>48.240726</td>\n      <td>49.122250</td>\n      <td>51.338657</td>\n      <td>53.338589</td>\n      <td>55.934734</td>\n      <td>...</td>\n      <td>0.061495</td>\n      <td>0.533374</td>\n      <td>0.057330</td>\n      <td>0.077229</td>\n      <td>0.106951</td>\n      <td>0.144127</td>\n      <td>0.194106</td>\n      <td>0.136776</td>\n      <td>Record108545</td>\n      <td>4</td>\n    </tr>\n    <tr>\n      <th>717</th>\n      <td>717</td>\n      <td>56.086409</td>\n      <td>35.776243</td>\n      <td>5.981590</td>\n      <td>73.420624</td>\n      <td>47.991043</td>\n      <td>50.723267</td>\n      <td>56.433147</td>\n      <td>59.950764</td>\n      <td>64.281902</td>\n      <td>...</td>\n      <td>0.048654</td>\n      <td>0.317854</td>\n      <td>0.000105</td>\n      <td>0.024658</td>\n      <td>0.057933</td>\n      <td>0.093155</td>\n      <td>0.128309</td>\n      <td>0.128203</td>\n      <td>Record109142</td>\n      <td>3</td>\n    </tr>\n    <tr>\n      <th>727</th>\n      <td>727</td>\n      <td>50.047239</td>\n      <td>5.768942</td>\n      <td>2.401969</td>\n      <td>59.508881</td>\n      <td>47.118578</td>\n      <td>48.324600</td>\n      <td>49.654362</td>\n      <td>51.642471</td>\n      <td>53.340521</td>\n      <td>...</td>\n      <td>0.040539</td>\n      <td>0.205046</td>\n      <td>0.000000</td>\n      <td>0.000000</td>\n      <td>0.036629</td>\n      <td>0.067197</td>\n      <td>0.097571</td>\n      <td>0.097571</td>\n      <td>Record109497</td>\n      <td>3</td>\n    </tr>\n    <tr>\n      <th>737</th>\n      <td>737</td>\n      <td>50.874526</td>\n      <td>4.364191</td>\n      <td>2.089157</td>\n      <td>61.799881</td>\n      <td>48.986235</td>\n      <td>49.593983</td>\n      <td>50.240971</td>\n      <td>51.657730</td>\n      <td>53.274920</td>\n      <td>...</td>\n      <td>0.038538</td>\n      <td>0.238971</td>\n      <td>0.000000</td>\n      <td>0.000000</td>\n      <td>0.039179</td>\n      <td>0.065948</td>\n      <td>0.091092</td>\n      <td>0.091092</td>\n      <td>Record109524</td>\n      <td>3</td>\n    </tr>\n    <tr>\n      <th>753</th>\n      <td>753</td>\n      <td>51.327230</td>\n      <td>3.189279</td>\n      <td>1.785935</td>\n      <td>61.432575</td>\n      <td>49.293150</td>\n      <td>49.961189</td>\n      <td>51.132454</td>\n      <td>52.213837</td>\n      <td>53.257622</td>\n      <td>...</td>\n      <td>0.050873</td>\n      <td>0.264383</td>\n      <td>0.000000</td>\n      <td>0.022004</td>\n      <td>0.057294</td>\n      <td>0.093313</td>\n      <td>0.130287</td>\n      <td>0.130287</td>\n      <td>Record109784</td>\n      <td>4</td>\n    </tr>\n  </tbody>\n</table>\n<p>75 rows × 63 columns</p>\n</div>"
     },
     "execution_count": 29,
     "metadata": {},
     "output_type": "execute_result"
    }
   ],
   "source": [
    "yf_data_features['noise_score'] = yf_data['吵闹度'].values\n",
    "yf_data_features"
   ],
   "metadata": {
    "collapsed": false,
    "pycharm": {
     "name": "#%%\n"
    }
   }
  },
  {
   "cell_type": "code",
   "execution_count": 30,
   "outputs": [],
   "source": [
    "yf_data_features.to_csv(r'./output/杨凡1.csv', index= False)"
   ],
   "metadata": {
    "collapsed": false,
    "pycharm": {
     "name": "#%%\n"
    }
   }
  },
  {
   "cell_type": "code",
   "execution_count": null,
   "outputs": [],
   "source": [],
   "metadata": {
    "collapsed": false,
    "pycharm": {
     "name": "#%%\n"
    }
   }
  }
 ],
 "metadata": {
  "kernelspec": {
   "display_name": "Python 3",
   "language": "python",
   "name": "python3"
  },
  "language_info": {
   "codemirror_mode": {
    "name": "ipython",
    "version": 2
   },
   "file_extension": ".py",
   "mimetype": "text/x-python",
   "name": "python",
   "nbconvert_exporter": "python",
   "pygments_lexer": "ipython2",
   "version": "2.7.6"
  }
 },
 "nbformat": 4,
 "nbformat_minor": 0
}